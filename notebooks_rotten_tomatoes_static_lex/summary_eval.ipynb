{
 "cells": [
  {
   "cell_type": "code",
   "execution_count": 42,
   "metadata": {},
   "outputs": [],
   "source": [
    "import pandas as pd\n",
    "import os"
   ]
  },
  {
   "cell_type": "markdown",
   "metadata": {},
   "source": [
    "### rotten tomatoes"
   ]
  },
  {
   "cell_type": "code",
   "execution_count": 43,
   "metadata": {},
   "outputs": [],
   "source": [
    "# DIR_NAME = \"./test_cases_rotten_tomatoes_rotulated_NO\"\n",
    "# DIR_NAME = \"./test_cases_rotten_tomatoes_adson\"\n",
    "DIR_NAME = \"../notebooks_amazon/test_cases_amazon_rotulated/test_cases_amazon_rotulated_NO\"\n",
    "# DIR_NAME = \"../notebooks_imdb/test_cases_imdb_rotulated_with_NO/\"\n",
    "\n",
    "rotulated_approachs = os.listdir(DIR_NAME)\n",
    "try:\n",
    "    rotulated_approachs.remove(\"summary.xlsx\")\n",
    "except Exception:\n",
    "    pass"
   ]
  },
  {
   "cell_type": "code",
   "execution_count": 44,
   "metadata": {},
   "outputs": [],
   "source": [
    "def fill_classification(row):\n",
    "    if len(row[\"classification\"]) == 1:\n",
    "        if row[\"succeed\"] == 1:\n",
    "            row[\"classification\"] += \"N\"\n",
    "        elif row[\"succeed\"] == 0:\n",
    "            row[\"classification\"] += \"P\"\n",
    "    return row"
   ]
  },
  {
   "cell_type": "code",
   "execution_count": 45,
   "metadata": {},
   "outputs": [],
   "source": [
    "def get_summary_row(_df, t_name):\n",
    "    length = len(_df)\n",
    "    passing = len(_df.query(\"succeed == 1\"))\n",
    "    failing = len(_df.query(\"succeed == 0\"))\n",
    "    fn = len(_df.query(\"classification == 'FN'\"))\n",
    "    fp = len(_df.query(\"classification == 'FP'\"))\n",
    "    vn = len(_df.query(\"classification == 'VN'\"))\n",
    "    vp = len(_df.query(\"classification == 'VP'\"))\n",
    "    fn_no = len(_df.query(\"classification == 'FN' and subclassification == 'NO'\"))\n",
    "    fn_le = len(_df.query(\"classification == 'FN' and subclassification == 'LE'\"))\n",
    "    fn_te = len(_df.query(\"classification == 'FN' and subclassification == 'TE'\"))\n",
    "    fp_no = len(_df.query(\"classification == 'FP' and subclassification == 'NO'\"))\n",
    "    fp_le = len(_df.query(\"classification == 'FP' and subclassification == 'LE'\"))\n",
    "    fp_te = len(_df.query(\"classification == 'FP' and subclassification == 'TE'\"))\n",
    "    return [t_name, length, passing, failing, fn, fp, vn, vp, fn_no, fn_le, fn_te, fp_no, fp_le, fp_te]"
   ]
  },
  {
   "cell_type": "code",
   "execution_count": 46,
   "metadata": {},
   "outputs": [],
   "source": [
    "new_columns = [\n",
    "    \"template_name\", \"amostras\", \"passando\", \"falhando\", \"FN\", \"FP\", \"VN\", \"VP\", \"FN_NO\", \"FN_LE\", \"FN_TE\", \"FP_NO\", \"FP_LE\", \"FP_TE\"\n",
    "]"
   ]
  },
  {
   "cell_type": "code",
   "execution_count": 47,
   "metadata": {},
   "outputs": [],
   "source": [
    "with pd.ExcelWriter(os.path.join(DIR_NAME, \"summary.xlsx\")) as writer:\n",
    "\n",
    "    apps_summary_rows = []\n",
    "    for app in sorted(rotulated_approachs):\n",
    "        templates = pd.read_excel(os.path.join(DIR_NAME, app), sheet_name=None)\n",
    "        app_summary_rows = []\n",
    "        for t in list(templates.keys()):\n",
    "            if t==\"templates\":\n",
    "                continue\n",
    "            try:\n",
    "                templates[t].columns = [\"text\", \"label\", \"pred\", \"succeed\", \"classification\", \"subclassification\", \"obs\"]\n",
    "            except ValueError as e:\n",
    "                print(app, t)\n",
    "                continue\n",
    "            \n",
    "            templates[t] = templates[t].apply(fill_classification, axis=1)\n",
    "\n",
    "            app_summ_row = get_summary_row(templates[t], t_name=t)\n",
    "            app_summary_rows.append(app_summ_row)\n",
    "        app_summary_df = pd.DataFrame(data=app_summary_rows, columns=new_columns)\n",
    "        app_summary_df.to_excel(writer, sheet_name=app, index=False)\n",
    "\n",
    "        apps_summary_rows.append([app] + app_summary_df.drop(columns=\"template_name\").sum().to_list())\n",
    "\n",
    "    apps_columns = [\"approach\"] + new_columns[1:]\n",
    "    apps_summary_df = pd.DataFrame(data=apps_summary_rows, columns=apps_columns).sort_values(\"approach\")\n",
    "    cols_to_perc = [\"passando\", \"falhando\", \"FN\", \"FP\", \"VN\",\"VP\"]\n",
    "    cols_to_perc.reverse()\n",
    "    for col, loc in zip(cols_to_perc, range(len(cols_to_perc) + 2, 2, -1)):\n",
    "        new_col = col + \"(%)\"\n",
    "\n",
    "        total_percentage = apps_summary_df[\"amostras\"]\n",
    "        if col in [\"FN\", \"FP\", \"VN\",\"VP\"]:\n",
    "            if col[-1] == \"N\":\n",
    "                total_percentage = apps_summary_df[\"passando\"]\n",
    "            elif col[-1] == \"P\":\n",
    "                total_percentage = apps_summary_df[\"falhando\"]\n",
    "            else:\n",
    "                raise \"Impossible\"\n",
    "        \n",
    "        apps_summary_df.insert(loc, new_col, (apps_summary_df[col]/total_percentage*100).map(lambda x: f\"{x:.1f}\"))\n",
    "        \n",
    "\n",
    "    apps_summary_df.to_excel(writer, sheet_name=\"general_summary\", index=False)"
   ]
  }
 ],
 "metadata": {
  "kernelspec": {
   "display_name": "checklist-templates",
   "language": "python",
   "name": "python3"
  },
  "language_info": {
   "codemirror_mode": {
    "name": "ipython",
    "version": 3
   },
   "file_extension": ".py",
   "mimetype": "text/x-python",
   "name": "python",
   "nbconvert_exporter": "python",
   "pygments_lexer": "ipython3",
   "version": "3.11.3"
  },
  "orig_nbformat": 4
 },
 "nbformat": 4,
 "nbformat_minor": 2
}
