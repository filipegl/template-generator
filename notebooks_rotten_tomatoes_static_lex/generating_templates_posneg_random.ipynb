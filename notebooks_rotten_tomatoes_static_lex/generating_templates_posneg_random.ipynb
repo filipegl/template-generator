{
 "cells": [
  {
   "cell_type": "markdown",
   "id": "d0e2c728",
   "metadata": {},
   "source": [
    "# Abordagem randômica\n",
    "\n",
    "Usando a abordagem randômica para gerar templates com foco em templates positivos e negativos. Uma possível aplicação seria testar a capacidade linguística *Vocabullary* com o teste **MFT**.\n",
    "\n",
    "As etapas desta abordagem são:\n",
    "\n",
    "1. Quebrar as instâncias em sentenças\n",
    "2. Selecionar uma amostra de *K* sentenças de forma aleatória\n",
    "3. Rankear as palavras de cada sentença\n",
    "4. Realizar as predições de cada sentença usando o *Oráculo*\n",
    "5. Substituir as palavras relevantes por máscaras"
   ]
  },
  {
   "cell_type": "code",
   "execution_count": 1,
   "id": "897c3a05",
   "metadata": {},
   "outputs": [],
   "source": [
    "%config Completer.use_jedi = False\n",
    "import sys\n",
    "import random\n",
    "\n",
    "sys.path.append('../')\n",
    "random.seed(220)"
   ]
  },
  {
   "cell_type": "markdown",
   "id": "6da847fc",
   "metadata": {},
   "source": [
    "## Carregando o dataset, o modelo alvo e os modelos auxiliares"
   ]
  },
  {
   "cell_type": "code",
   "execution_count": 2,
   "id": "f6e018fa",
   "metadata": {},
   "outputs": [
    {
     "data": {
      "text/html": [
       "<div>\n",
       "<style scoped>\n",
       "    .dataframe tbody tr th:only-of-type {\n",
       "        vertical-align: middle;\n",
       "    }\n",
       "\n",
       "    .dataframe tbody tr th {\n",
       "        vertical-align: top;\n",
       "    }\n",
       "\n",
       "    .dataframe thead th {\n",
       "        text-align: right;\n",
       "    }\n",
       "</style>\n",
       "<table border=\"1\" class=\"dataframe\">\n",
       "  <thead>\n",
       "    <tr style=\"text-align: right;\">\n",
       "      <th></th>\n",
       "      <th>text</th>\n",
       "      <th>label</th>\n",
       "    </tr>\n",
       "  </thead>\n",
       "  <tbody>\n",
       "    <tr>\n",
       "      <th>0</th>\n",
       "      <td>unpretentious , charming , quirky , original</td>\n",
       "      <td>1</td>\n",
       "    </tr>\n",
       "    <tr>\n",
       "      <th>1</th>\n",
       "      <td>a film really has to be exceptional to justify a three hour running time , and this isn't .</td>\n",
       "      <td>0</td>\n",
       "    </tr>\n",
       "    <tr>\n",
       "      <th>2</th>\n",
       "      <td>working from a surprisingly sensitive script co-written by gianni romoli . . . ozpetek avoids most of the pitfalls you'd expect in such a potentially sudsy set-up .</td>\n",
       "      <td>1</td>\n",
       "    </tr>\n",
       "    <tr>\n",
       "      <th>3</th>\n",
       "      <td>it may not be particularly innovative , but the film's crisp , unaffected style and air of gentle longing make it unexpectedly rewarding .</td>\n",
       "      <td>1</td>\n",
       "    </tr>\n",
       "    <tr>\n",
       "      <th>4</th>\n",
       "      <td>such a premise is ripe for all manner of lunacy , but kaufman and gondry rarely seem sure of where it should go .</td>\n",
       "      <td>0</td>\n",
       "    </tr>\n",
       "    <tr>\n",
       "      <th>...</th>\n",
       "      <td>...</td>\n",
       "      <td>...</td>\n",
       "    </tr>\n",
       "    <tr>\n",
       "      <th>95</th>\n",
       "      <td>ice age is the first computer-generated feature cartoon to feel like other movies , and that makes for some glacial pacing early on .</td>\n",
       "      <td>0</td>\n",
       "    </tr>\n",
       "    <tr>\n",
       "      <th>96</th>\n",
       "      <td>there's no denying that burns is a filmmaker with a bright future ahead of him .</td>\n",
       "      <td>1</td>\n",
       "    </tr>\n",
       "    <tr>\n",
       "      <th>97</th>\n",
       "      <td>it collapses when mr . taylor tries to shift the tone to a thriller's rush .</td>\n",
       "      <td>0</td>\n",
       "    </tr>\n",
       "    <tr>\n",
       "      <th>98</th>\n",
       "      <td>there's a great deal of corny dialogue and preposterous moments . and yet , it still works .</td>\n",
       "      <td>1</td>\n",
       "    </tr>\n",
       "    <tr>\n",
       "      <th>99</th>\n",
       "      <td>ah , the travails of metropolitan life ! alas , another breathless movie about same !</td>\n",
       "      <td>0</td>\n",
       "    </tr>\n",
       "  </tbody>\n",
       "</table>\n",
       "<p>100 rows × 2 columns</p>\n",
       "</div>"
      ],
      "text/plain": [
       "                                                                                                                                                                    text  \\\n",
       "0                                                                                                                           unpretentious , charming , quirky , original   \n",
       "1                                                                            a film really has to be exceptional to justify a three hour running time , and this isn't .   \n",
       "2   working from a surprisingly sensitive script co-written by gianni romoli . . . ozpetek avoids most of the pitfalls you'd expect in such a potentially sudsy set-up .   \n",
       "3                             it may not be particularly innovative , but the film's crisp , unaffected style and air of gentle longing make it unexpectedly rewarding .   \n",
       "4                                                      such a premise is ripe for all manner of lunacy , but kaufman and gondry rarely seem sure of where it should go .   \n",
       "..                                                                                                                                                                   ...   \n",
       "95                                 ice age is the first computer-generated feature cartoon to feel like other movies , and that makes for some glacial pacing early on .   \n",
       "96                                                                                      there's no denying that burns is a filmmaker with a bright future ahead of him .   \n",
       "97                                                                                          it collapses when mr . taylor tries to shift the tone to a thriller's rush .   \n",
       "98                                                                          there's a great deal of corny dialogue and preposterous moments . and yet , it still works .   \n",
       "99                                                                                 ah , the travails of metropolitan life ! alas , another breathless movie about same !   \n",
       "\n",
       "    label  \n",
       "0       1  \n",
       "1       0  \n",
       "2       1  \n",
       "3       1  \n",
       "4       0  \n",
       "..    ...  \n",
       "95      0  \n",
       "96      1  \n",
       "97      0  \n",
       "98      1  \n",
       "99      0  \n",
       "\n",
       "[100 rows x 2 columns]"
      ]
     },
     "execution_count": 2,
     "metadata": {},
     "output_type": "execute_result"
    }
   ],
   "source": [
    "import pandas as pd\n",
    "from datasets import load_dataset\n",
    "\n",
    "pd.set_option('display.max_colwidth', None)\n",
    "\n",
    "dataset = load_dataset(\"rotten_tomatoes\")\n",
    "dataset.set_format(\"pandas\")\n",
    "df = dataset[\"test\"].shuffle(seed=42)[:100]\n",
    "df"
   ]
  },
  {
   "cell_type": "code",
   "execution_count": 3,
   "id": "264d0dcd",
   "metadata": {},
   "outputs": [],
   "source": [
    "import re\n",
    "import numpy as np\n",
    "from torch.nn.functional import softmax\n",
    "from transformers import AutoTokenizer, AutoModelForSequenceClassification\n",
    "\n",
    "def pre_proccess(text):\n",
    "    text = text.lower()\n",
    "    text = re.sub('[\"\\',!-.:-@0-9/]()', ' ', text)\n",
    "    return text\n",
    "\n",
    "# Wrapper to adapt output format\n",
    "class SentimentAnalisysModelWrapper:\n",
    "    def __init__(self, model, tokenizer):\n",
    "        self.model = model\n",
    "        self.tokenizer = tokenizer\n",
    "        \n",
    "    def __predict(self, text_input):\n",
    "        text_preprocessed = pre_proccess(text_input)\n",
    "        tokenized = self.tokenizer(text_preprocessed, padding=True, truncation=True, max_length=512, \n",
    "                                    add_special_tokens = True, return_tensors=\"pt\")\n",
    "        \n",
    "        tensor_logits = self.model(**tokenized)\n",
    "        prob = softmax(tensor_logits[0]).detach().numpy()\n",
    "        pred = np.argmax(prob)\n",
    "        \n",
    "        return pred, prob\n",
    "    \n",
    "    def predict_label(self, text_inputs):\n",
    "        return self.predict(text_inputs)[0]\n",
    "        \n",
    "    def predict_proba(self, text_inputs):\n",
    "        return self.predict(text_inputs)[1]\n",
    "        \n",
    "    def predict(self, text_inputs):\n",
    "        if isinstance(text_inputs, str):\n",
    "            text_inputs = [text_inputs]\n",
    "        \n",
    "        preds = []\n",
    "        probs = []\n",
    "\n",
    "        for text_input in text_inputs:\n",
    "            pred, prob = self.__predict(text_input)\n",
    "            preds.append(pred)\n",
    "            probs.append(prob[0])\n",
    "\n",
    "        return np.array(preds), np.array(probs) # ([0, 1], [[0.99, 0.01], [0.03, 0.97]])\n",
    "\n",
    "# Auxiliar function to load and wrap a model from Hugging Face\n",
    "def load_model(model_name):\n",
    "    print(f'Loading model {model_name}...')\n",
    "    model = AutoModelForSequenceClassification.from_pretrained(model_name)\n",
    "    tokenizer = AutoTokenizer.from_pretrained(model_name)\n",
    "    \n",
    "    return SentimentAnalisysModelWrapper(model, tokenizer)\n",
    "\n",
    "# Hugging Face hosted model names \n",
    "rotten_tomatoes_models = {\n",
    "    'bert': 'textattack/bert-base-uncased-rotten-tomatoes', \n",
    "    'albert': 'textattack/albert-base-v2-rotten-tomatoes', \n",
    "    'distilbert': 'textattack/distilbert-base-uncased-rotten-tomatoes', \n",
    "    'roberta': 'textattack/roberta-base-rotten-tomatoes', \n",
    "    'xlnet': 'textattack/xlnet-base-cased-rotten-tomatoes', \n",
    "    \n",
    "}"
   ]
  },
  {
   "cell_type": "code",
   "execution_count": 4,
   "id": "2f271eae",
   "metadata": {},
   "outputs": [
    {
     "name": "stdout",
     "output_type": "stream",
     "text": [
      "Loading model textattack/albert-base-v2-rotten-tomatoes...\n",
      "Loading model textattack/distilbert-base-uncased-rotten-tomatoes...\n",
      "Loading model textattack/roberta-base-rotten-tomatoes...\n"
     ]
    },
    {
     "name": "stderr",
     "output_type": "stream",
     "text": [
      "Some weights of the model checkpoint at textattack/roberta-base-rotten-tomatoes were not used when initializing RobertaForSequenceClassification: ['roberta.pooler.dense.bias', 'roberta.pooler.dense.weight']\n",
      "- This IS expected if you are initializing RobertaForSequenceClassification from the checkpoint of a model trained on another task or with another architecture (e.g. initializing a BertForSequenceClassification model from a BertForPreTraining model).\n",
      "- This IS NOT expected if you are initializing RobertaForSequenceClassification from the checkpoint of a model that you expect to be exactly identical (initializing a BertForSequenceClassification model from a BertForSequenceClassification model).\n"
     ]
    },
    {
     "name": "stdout",
     "output_type": "stream",
     "text": [
      "Loading model textattack/xlnet-base-cased-rotten-tomatoes...\n",
      "Loading model textattack/bert-base-uncased-rotten-tomatoes...\n"
     ]
    }
   ],
   "source": [
    "m1 = load_model(rotten_tomatoes_models['albert'])\n",
    "m2 = load_model(rotten_tomatoes_models['distilbert'])\n",
    "m3 = load_model(rotten_tomatoes_models['roberta'])\n",
    "m4 = load_model(rotten_tomatoes_models['xlnet'])\n",
    "\n",
    "# Models to be used as oracle\n",
    "models = [m1, m2, m3, m4]\n",
    "# Target model\n",
    "model = load_model(rotten_tomatoes_models['bert'])"
   ]
  },
  {
   "cell_type": "markdown",
   "id": "caae89b5",
   "metadata": {},
   "source": [
    "# Gerando os templates\n",
    "O método de rankeamento das palavras usado no PosNegTemplateGenerator é o Replace-1 Score"
   ]
  },
  {
   "cell_type": "code",
   "execution_count": 5,
   "id": "60dc1af3",
   "metadata": {},
   "outputs": [],
   "source": [
    "from template_generator_static_lex.tasks.sentiment_analisys import PosNegTemplateGeneratorRandom\n",
    "\n",
    "tg = PosNegTemplateGeneratorRandom(model, models)"
   ]
  },
  {
   "cell_type": "markdown",
   "id": "4f595e69",
   "metadata": {},
   "source": [
    "### Número inicial de instâncias: 5"
   ]
  },
  {
   "cell_type": "code",
   "execution_count": 6,
   "id": "a6261506",
   "metadata": {},
   "outputs": [],
   "source": [
    "# Sampling instances\n",
    "np.random.seed(220)\n",
    "n_instances = 5\n",
    "df_sampled = df.sample(n_instances)\n",
    "\n",
    "instances = [x for x in df_sampled['text'].values]"
   ]
  },
  {
   "cell_type": "code",
   "execution_count": 7,
   "id": "660add17",
   "metadata": {},
   "outputs": [
    {
     "name": "stdout",
     "output_type": "stream",
     "text": [
      "Converting texts to sentences...\n",
      ":: 5 sentences were generated.\n",
      "Ranking words using Replace-1 Score...\n"
     ]
    },
    {
     "name": "stderr",
     "output_type": "stream",
     "text": [
      "/tmp/ipykernel_20206/4227237112.py:23: UserWarning: Implicit dimension choice for softmax has been deprecated. Change the call to include dim=X as an argument.\n",
      "  prob = softmax(tensor_logits[0]).detach().numpy()\n"
     ]
    },
    {
     "name": "stdout",
     "output_type": "stream",
     "text": [
      ":: Word ranking done.\n",
      "Predicting inputs...\n",
      ":: Sentence predictions done.\n"
     ]
    }
   ],
   "source": [
    "templates = tg.generate_templates(instances, n_masks=2, k_templates=1)"
   ]
  },
  {
   "cell_type": "markdown",
   "id": "0ff5c8cb",
   "metadata": {},
   "source": [
    "#### Tempo de execução para 5 instâncias: 0m 3.1s"
   ]
  },
  {
   "cell_type": "code",
   "execution_count": 8,
   "id": "193f1b65",
   "metadata": {},
   "outputs": [
    {
     "data": {
      "text/html": [
       "<div>\n",
       "<style scoped>\n",
       "    .dataframe tbody tr th:only-of-type {\n",
       "        vertical-align: middle;\n",
       "    }\n",
       "\n",
       "    .dataframe tbody tr th {\n",
       "        vertical-align: top;\n",
       "    }\n",
       "\n",
       "    .dataframe thead th {\n",
       "        text-align: right;\n",
       "    }\n",
       "</style>\n",
       "<table border=\"1\" class=\"dataframe\">\n",
       "  <thead>\n",
       "    <tr style=\"text-align: right;\">\n",
       "      <th></th>\n",
       "      <th>label</th>\n",
       "      <th>original_text</th>\n",
       "      <th>masked_text</th>\n",
       "      <th>template_text</th>\n",
       "    </tr>\n",
       "  </thead>\n",
       "  <tbody>\n",
       "    <tr>\n",
       "      <th>0</th>\n",
       "      <td>0</td>\n",
       "      <td>cherry orchard is badly edited , often awkwardly directed and suffers from the addition of a wholly unnecessary pre-credit sequence designed to give some of the characters a 'back story . '</td>\n",
       "      <td>cherry orchard is badly edited , often awkwardly {mask} and {mask} from the addition of a wholly unnecessary pre - credit sequence designed to give some of the characters a ' back story . '</td>\n",
       "      <td>cherry orchard is badly edited , often awkwardly {neg_verb} and {neg_verb} from the addition of a wholly unnecessary pre - credit sequence designed to give some of the characters a ' back story . '</td>\n",
       "    </tr>\n",
       "  </tbody>\n",
       "</table>\n",
       "</div>"
      ],
      "text/plain": [
       "   label  \\\n",
       "0      0   \n",
       "\n",
       "                                                                                                                                                                                   original_text  \\\n",
       "0  cherry orchard is badly edited , often awkwardly directed and suffers from the addition of a wholly unnecessary pre-credit sequence designed to give some of the characters a 'back story . '   \n",
       "\n",
       "                                                                                                                                                                                     masked_text  \\\n",
       "0  cherry orchard is badly edited , often awkwardly {mask} and {mask} from the addition of a wholly unnecessary pre - credit sequence designed to give some of the characters a ' back story . '   \n",
       "\n",
       "                                                                                                                                                                                           template_text  \n",
       "0  cherry orchard is badly edited , often awkwardly {neg_verb} and {neg_verb} from the addition of a wholly unnecessary pre - credit sequence designed to give some of the characters a ' back story . '  "
      ]
     },
     "execution_count": 8,
     "metadata": {},
     "output_type": "execute_result"
    }
   ],
   "source": [
    "tg.to_dataframe()\n"
   ]
  },
  {
   "cell_type": "code",
   "execution_count": 9,
   "id": "c03851be",
   "metadata": {},
   "outputs": [
    {
     "data": {
      "text/plain": [
       "{'pos_verb': ['enjoy', 'carries', 'evoked', 'loved', 'shares', 'celebrating'],\n",
       " 'neg_verb': ['suffers',\n",
       "  'dismissed',\n",
       "  'avoids',\n",
       "  'squanders',\n",
       "  'undermines',\n",
       "  'removed',\n",
       "  'directed',\n",
       "  'withered',\n",
       "  'simpering'],\n",
       " 'pos_adj': ['timeless',\n",
       "  'wonderful',\n",
       "  'tender',\n",
       "  'powerful',\n",
       "  'engrossing',\n",
       "  'brilliant',\n",
       "  'funny',\n",
       "  'terrific',\n",
       "  'breathtaking',\n",
       "  'successful',\n",
       "  'passionate',\n",
       "  'phenomenal',\n",
       "  'notch',\n",
       "  'worth'],\n",
       " 'neg_adj': ['bad',\n",
       "  'undeterminable',\n",
       "  'drunk',\n",
       "  'cumbersome',\n",
       "  'nasty',\n",
       "  'dumb',\n",
       "  'psychopathic',\n",
       "  'manipulative',\n",
       "  'off',\n",
       "  'preposterous',\n",
       "  'tiresome',\n",
       "  'stupid',\n",
       "  'sensitive',\n",
       "  'unpretentious']}"
      ]
     },
     "execution_count": 9,
     "metadata": {},
     "output_type": "execute_result"
    }
   ],
   "source": [
    "tg.lexicons"
   ]
  },
  {
   "cell_type": "markdown",
   "id": "01a27f1f",
   "metadata": {},
   "source": [
    "### Número inicial de instâncias: 100"
   ]
  },
  {
   "cell_type": "code",
   "execution_count": 10,
   "id": "cd4a7fe3",
   "metadata": {},
   "outputs": [],
   "source": [
    "# Using all 100 instances\n",
    "instances = [x for x in df['text'].values]"
   ]
  },
  {
   "cell_type": "code",
   "execution_count": 11,
   "id": "f1f3f383",
   "metadata": {},
   "outputs": [
    {
     "name": "stdout",
     "output_type": "stream",
     "text": [
      "Converting texts to sentences...\n",
      ":: 103 sentences were generated.\n",
      "Ranking words using Replace-1 Score...\n"
     ]
    },
    {
     "name": "stderr",
     "output_type": "stream",
     "text": [
      "/tmp/ipykernel_20206/4227237112.py:23: UserWarning: Implicit dimension choice for softmax has been deprecated. Change the call to include dim=X as an argument.\n",
      "  prob = softmax(tensor_logits[0]).detach().numpy()\n"
     ]
    },
    {
     "name": "stdout",
     "output_type": "stream",
     "text": [
      ":: Word ranking done.\n",
      "Predicting inputs...\n",
      ":: Sentence predictions done.\n",
      "CPU times: user 3min 41s, sys: 601 ms, total: 3min 41s\n",
      "Wall time: 23.5 s\n"
     ]
    }
   ],
   "source": [
    "%%time\n",
    "# 35.4s\n",
    "tg = PosNegTemplateGeneratorRandom(model, models)\n",
    "templates = tg.generate_templates(instances, n_masks=2, k_templates=18)"
   ]
  },
  {
   "cell_type": "markdown",
   "id": "677154d8",
   "metadata": {},
   "source": [
    "#### Tempo de execução para 100 instâncias: 11.4s"
   ]
  },
  {
   "cell_type": "code",
   "execution_count": 12,
   "id": "5c3c1541",
   "metadata": {},
   "outputs": [
    {
     "data": {
      "text/html": [
       "<div>\n",
       "<style scoped>\n",
       "    .dataframe tbody tr th:only-of-type {\n",
       "        vertical-align: middle;\n",
       "    }\n",
       "\n",
       "    .dataframe tbody tr th {\n",
       "        vertical-align: top;\n",
       "    }\n",
       "\n",
       "    .dataframe thead th {\n",
       "        text-align: right;\n",
       "    }\n",
       "</style>\n",
       "<table border=\"1\" class=\"dataframe\">\n",
       "  <thead>\n",
       "    <tr style=\"text-align: right;\">\n",
       "      <th></th>\n",
       "      <th>label</th>\n",
       "      <th>original_text</th>\n",
       "      <th>masked_text</th>\n",
       "      <th>template_text</th>\n",
       "    </tr>\n",
       "  </thead>\n",
       "  <tbody>\n",
       "    <tr>\n",
       "      <th>0</th>\n",
       "      <td>0</td>\n",
       "      <td>leaves viewers out in the cold and undermines some phenomenal performances .</td>\n",
       "      <td>leaves viewers out in the cold and {mask} some {mask} performances .</td>\n",
       "      <td>leaves viewers out in the cold and {neg_verb} some {pos_adj} performances .</td>\n",
       "    </tr>\n",
       "    <tr>\n",
       "      <th>1</th>\n",
       "      <td>0</td>\n",
       "      <td>one gets the impression the creators of don't ask don't tell laughed a hell of a lot at their own jokes . too bad none of it is funny .</td>\n",
       "      <td>one {mask} the impression the creators of do n't ask do n't tell laughed a hell of a lot at their own jokes . too {mask} none of it is funny .</td>\n",
       "      <td>one {pos_verb} the impression the creators of do n't ask do n't tell laughed a hell of a lot at their own jokes . too {neg_adj} none of it is funny .</td>\n",
       "    </tr>\n",
       "    <tr>\n",
       "      <th>2</th>\n",
       "      <td>1</td>\n",
       "      <td>connoisseurs of chinese film will be pleased to discover that tian's meticulous talent has not withered during his enforced hiatus .</td>\n",
       "      <td>connoisseurs of chinese film will be pleased to {mask} that tian 's meticulous talent has not {mask} during his enforced hiatus .</td>\n",
       "      <td>connoisseurs of chinese film will be pleased to {pos_verb} that tian 's meticulous talent has not {neg_verb} during his enforced hiatus .</td>\n",
       "    </tr>\n",
       "    <tr>\n",
       "      <th>3</th>\n",
       "      <td>1</td>\n",
       "      <td>a moving and not infrequently breathtaking film .</td>\n",
       "      <td>a {mask} and not infrequently {mask} film .</td>\n",
       "      <td>a {pos_adj} and not infrequently {pos_adj} film .</td>\n",
       "    </tr>\n",
       "    <tr>\n",
       "      <th>4</th>\n",
       "      <td>1</td>\n",
       "      <td>caine makes us watch as his character awakens to the notion that to be human is eventually to have to choose .</td>\n",
       "      <td>caine makes us watch as his character {mask} to the notion that to be human is eventually to {mask} to choose .</td>\n",
       "      <td>caine makes us watch as his character {pos_verb} to the notion that to be human is eventually to {neg_verb} to choose .</td>\n",
       "    </tr>\n",
       "    <tr>\n",
       "      <th>5</th>\n",
       "      <td>0</td>\n",
       "      <td>nothing but an episode of smackdown ! in period costume and with a bigger budget .</td>\n",
       "      <td>nothing but an episode of smackdown ! in period costume and with a {mask} budget .</td>\n",
       "      <td>nothing but an episode of smackdown ! in period costume and with a {pos_adj} budget .</td>\n",
       "    </tr>\n",
       "    <tr>\n",
       "      <th>6</th>\n",
       "      <td>0</td>\n",
       "      <td>yes they can swim , the title is merely anne-sophie birot's off-handed way of saying girls find adolescence difficult to wade through .</td>\n",
       "      <td>yes they can swim , the title is merely anne - sophie birot 's {mask} - {mask} way of saying girls find adolescence difficult to wade through .</td>\n",
       "      <td>yes they can swim , the title is merely anne - sophie birot 's {neg_adj} - {neg_adj} way of saying girls find adolescence difficult to wade through .</td>\n",
       "    </tr>\n",
       "    <tr>\n",
       "      <th>7</th>\n",
       "      <td>0</td>\n",
       "      <td>a rip-off twice removed , modeled after [seagal's] earlier copycat under siege , sometimes referred to as die hard on a boat .</td>\n",
       "      <td>a rip - off twice {mask} , {mask} after [ seagal 's ] earlier copycat under siege , sometimes referred to as die hard on a boat .</td>\n",
       "      <td>a rip - off twice {neg_verb} , {neg_verb} after [ seagal 's ] earlier copycat under siege , sometimes referred to as die hard on a boat .</td>\n",
       "    </tr>\n",
       "    <tr>\n",
       "      <th>8</th>\n",
       "      <td>1</td>\n",
       "      <td>jolie gives it that extra little something that makes it worth checking out at theaters , especially if you're in the mood for something more comfortable than challenging .</td>\n",
       "      <td>jolie {mask} it that extra little something that makes it worth checking out at theaters , especially if you 're in the mood for something more comfortable than {mask} .</td>\n",
       "      <td>jolie {pos_verb} it that extra little something that makes it worth checking out at theaters , especially if you 're in the mood for something more comfortable than {pos_adj} .</td>\n",
       "    </tr>\n",
       "    <tr>\n",
       "      <th>9</th>\n",
       "      <td>1</td>\n",
       "      <td>a dreadful day in irish history is given passionate , if somewhat flawed , treatment .</td>\n",
       "      <td>a dreadful day in irish history is {mask} {mask} , if somewhat flawed , treatment .</td>\n",
       "      <td>a dreadful day in irish history is {neg_verb} {pos_adj} , if somewhat flawed , treatment .</td>\n",
       "    </tr>\n",
       "    <tr>\n",
       "      <th>10</th>\n",
       "      <td>1</td>\n",
       "      <td>what might have been readily dismissed as the tiresome rant of an aging filmmaker still thumbing his nose at convention takes a surprising , subtle turn at the midway point .</td>\n",
       "      <td>what might have been readily {mask} as the {mask} rant of an aging filmmaker still thumbing his nose at convention takes a surprising , subtle turn at the midway point .</td>\n",
       "      <td>what might have been readily {neg_verb} as the {neg_adj} rant of an aging filmmaker still thumbing his nose at convention takes a surprising , subtle turn at the midway point .</td>\n",
       "    </tr>\n",
       "    <tr>\n",
       "      <th>11</th>\n",
       "      <td>0</td>\n",
       "      <td>\" one look at a girl in tight pants and big tits and you turn stupid ? \" um . . isn't that the basis for the entire plot ?</td>\n",
       "      <td>\" one look at a girl in tight pants and big tits and you turn {mask} ? \" um   . . is n't that the basis for the {mask} plot ?</td>\n",
       "      <td>\" one look at a girl in tight pants and big tits and you turn {neg_adj} ? \" um   . . is n't that the basis for the {neg_adj} plot ?</td>\n",
       "    </tr>\n",
       "    <tr>\n",
       "      <th>12</th>\n",
       "      <td>1</td>\n",
       "      <td>the stunt work is top-notch ; the dialogue and drama often food-spittingly funny .</td>\n",
       "      <td>the stunt work is top - {mask} ; the dialogue and drama often food - spittingly {mask} .</td>\n",
       "      <td>the stunt work is top - {pos_adj} ; the dialogue and drama often food - spittingly {pos_adj} .</td>\n",
       "    </tr>\n",
       "    <tr>\n",
       "      <th>13</th>\n",
       "      <td>1</td>\n",
       "      <td>a film of delicate interpersonal dances .</td>\n",
       "      <td>a film of {mask} {mask} dances .</td>\n",
       "      <td>a film of {pos_adj} {pos_adj} dances .</td>\n",
       "    </tr>\n",
       "    <tr>\n",
       "      <th>14</th>\n",
       "      <td>0</td>\n",
       "      <td>the rules of attraction gets us too drunk on the party favors to sober us up with the transparent attempts at moralizing .</td>\n",
       "      <td>the rules of attraction {mask} us too {mask} on the party favors to sober us up with the transparent attempts at moralizing .</td>\n",
       "      <td>the rules of attraction {pos_verb} us too {neg_adj} on the party favors to sober us up with the transparent attempts at moralizing .</td>\n",
       "    </tr>\n",
       "    <tr>\n",
       "      <th>15</th>\n",
       "      <td>1</td>\n",
       "      <td>twohy knows how to inflate the mundane into the scarifying , and gets full mileage out of the rolling of a stray barrel or the unexpected blast of a phonograph record .</td>\n",
       "      <td>twohy {mask} how to inflate the mundane into the scarifying , and {mask} full mileage out of the rolling of a stray barrel or the unexpected blast of a phonograph record .</td>\n",
       "      <td>twohy {pos_verb} how to inflate the mundane into the scarifying , and {pos_verb} full mileage out of the rolling of a stray barrel or the unexpected blast of a phonograph record .</td>\n",
       "    </tr>\n",
       "    <tr>\n",
       "      <th>16</th>\n",
       "      <td>0</td>\n",
       "      <td>this new zealand coming-of-age movie isn't really about anything .</td>\n",
       "      <td>this new zealand {mask} - of - age movie is n't really about anything .</td>\n",
       "      <td>this new zealand {pos_verb} - of - age movie is n't really about anything .</td>\n",
       "    </tr>\n",
       "    <tr>\n",
       "      <th>17</th>\n",
       "      <td>0</td>\n",
       "      <td>death to smoochy tells a moldy-oldie , not-nearly -as-nasty -as-it- thinks-it-is joke . over and over again .</td>\n",
       "      <td>death to smoochy {mask} a moldy - oldie , not - nearly -as - {mask} -as - it- thinks - it - is joke . over and over again .</td>\n",
       "      <td>death to smoochy {neg_verb} a moldy - oldie , not - nearly -as - {neg_adj} -as - it- thinks - it - is joke . over and over again .</td>\n",
       "    </tr>\n",
       "  </tbody>\n",
       "</table>\n",
       "</div>"
      ],
      "text/plain": [
       "    label  \\\n",
       "0       0   \n",
       "1       0   \n",
       "2       1   \n",
       "3       1   \n",
       "4       1   \n",
       "5       0   \n",
       "6       0   \n",
       "7       0   \n",
       "8       1   \n",
       "9       1   \n",
       "10      1   \n",
       "11      0   \n",
       "12      1   \n",
       "13      1   \n",
       "14      0   \n",
       "15      1   \n",
       "16      0   \n",
       "17      0   \n",
       "\n",
       "                                                                                                                                                                     original_text  \\\n",
       "0                                                                                                     leaves viewers out in the cold and undermines some phenomenal performances .   \n",
       "1                                          one gets the impression the creators of don't ask don't tell laughed a hell of a lot at their own jokes . too bad none of it is funny .   \n",
       "2                                             connoisseurs of chinese film will be pleased to discover that tian's meticulous talent has not withered during his enforced hiatus .   \n",
       "3                                                                                                                                a moving and not infrequently breathtaking film .   \n",
       "4                                                                   caine makes us watch as his character awakens to the notion that to be human is eventually to have to choose .   \n",
       "5                                                                                               nothing but an episode of smackdown ! in period costume and with a bigger budget .   \n",
       "6                                          yes they can swim , the title is merely anne-sophie birot's off-handed way of saying girls find adolescence difficult to wade through .   \n",
       "7                                                   a rip-off twice removed , modeled after [seagal's] earlier copycat under siege , sometimes referred to as die hard on a boat .   \n",
       "8     jolie gives it that extra little something that makes it worth checking out at theaters , especially if you're in the mood for something more comfortable than challenging .   \n",
       "9                                                                                           a dreadful day in irish history is given passionate , if somewhat flawed , treatment .   \n",
       "10  what might have been readily dismissed as the tiresome rant of an aging filmmaker still thumbing his nose at convention takes a surprising , subtle turn at the midway point .   \n",
       "11                                                     \" one look at a girl in tight pants and big tits and you turn stupid ? \" um\n",
       " . . isn't that the basis for the entire plot ?   \n",
       "12                                                                                              the stunt work is top-notch ; the dialogue and drama often food-spittingly funny .   \n",
       "13                                                                                                                                       a film of delicate interpersonal dances .   \n",
       "14                                                      the rules of attraction gets us too drunk on the party favors to sober us up with the transparent attempts at moralizing .   \n",
       "15        twohy knows how to inflate the mundane into the scarifying , and gets full mileage out of the rolling of a stray barrel or the unexpected blast of a phonograph record .   \n",
       "16                                                                                                              this new zealand coming-of-age movie isn't really about anything .   \n",
       "17                                                                   death to smoochy tells a moldy-oldie , not-nearly -as-nasty -as-it- thinks-it-is joke . over and over again .   \n",
       "\n",
       "                                                                                                                                                                    masked_text  \\\n",
       "0                                                                                                          leaves viewers out in the cold and {mask} some {mask} performances .   \n",
       "1                                one {mask} the impression the creators of do n't ask do n't tell laughed a hell of a lot at their own jokes . too {mask} none of it is funny .   \n",
       "2                                             connoisseurs of chinese film will be pleased to {mask} that tian 's meticulous talent has not {mask} during his enforced hiatus .   \n",
       "3                                                                                                                                   a {mask} and not infrequently {mask} film .   \n",
       "4                                                               caine makes us watch as his character {mask} to the notion that to be human is eventually to {mask} to choose .   \n",
       "5                                                                                            nothing but an episode of smackdown ! in period costume and with a {mask} budget .   \n",
       "6                               yes they can swim , the title is merely anne - sophie birot 's {mask} - {mask} way of saying girls find adolescence difficult to wade through .   \n",
       "7                                             a rip - off twice {mask} , {mask} after [ seagal 's ] earlier copycat under siege , sometimes referred to as die hard on a boat .   \n",
       "8     jolie {mask} it that extra little something that makes it worth checking out at theaters , especially if you 're in the mood for something more comfortable than {mask} .   \n",
       "9                                                                                           a dreadful day in irish history is {mask} {mask} , if somewhat flawed , treatment .   \n",
       "10    what might have been readily {mask} as the {mask} rant of an aging filmmaker still thumbing his nose at convention takes a surprising , subtle turn at the midway point .   \n",
       "11                                               \" one look at a girl in tight pants and big tits and you turn {mask} ? \" um \n",
       "  . . is n't that the basis for the {mask} plot ?   \n",
       "12                                                                                     the stunt work is top - {mask} ; the dialogue and drama often food - spittingly {mask} .   \n",
       "13                                                                                                                                             a film of {mask} {mask} dances .   \n",
       "14                                                the rules of attraction {mask} us too {mask} on the party favors to sober us up with the transparent attempts at moralizing .   \n",
       "15  twohy {mask} how to inflate the mundane into the scarifying , and {mask} full mileage out of the rolling of a stray barrel or the unexpected blast of a phonograph record .   \n",
       "16                                                                                                      this new zealand {mask} - of - age movie is n't really about anything .   \n",
       "17                                                  death to smoochy {mask} a moldy - oldie , not - nearly -as - {mask} -as - it- thinks - it - is joke . over and over again .   \n",
       "\n",
       "                                                                                                                                                                          template_text  \n",
       "0                                                                                                           leaves viewers out in the cold and {neg_verb} some {pos_adj} performances .  \n",
       "1                                 one {pos_verb} the impression the creators of do n't ask do n't tell laughed a hell of a lot at their own jokes . too {neg_adj} none of it is funny .  \n",
       "2                                             connoisseurs of chinese film will be pleased to {pos_verb} that tian 's meticulous talent has not {neg_verb} during his enforced hiatus .  \n",
       "3                                                                                                                                     a {pos_adj} and not infrequently {pos_adj} film .  \n",
       "4                                                               caine makes us watch as his character {pos_verb} to the notion that to be human is eventually to {neg_verb} to choose .  \n",
       "5                                                                                                 nothing but an episode of smackdown ! in period costume and with a {pos_adj} budget .  \n",
       "6                                 yes they can swim , the title is merely anne - sophie birot 's {neg_adj} - {neg_adj} way of saying girls find adolescence difficult to wade through .  \n",
       "7                                             a rip - off twice {neg_verb} , {neg_verb} after [ seagal 's ] earlier copycat under siege , sometimes referred to as die hard on a boat .  \n",
       "8      jolie {pos_verb} it that extra little something that makes it worth checking out at theaters , especially if you 're in the mood for something more comfortable than {pos_adj} .  \n",
       "9                                                                                            a dreadful day in irish history is {neg_verb} {pos_adj} , if somewhat flawed , treatment .  \n",
       "10     what might have been readily {neg_verb} as the {neg_adj} rant of an aging filmmaker still thumbing his nose at convention takes a surprising , subtle turn at the midway point .  \n",
       "11                                                 \" one look at a girl in tight pants and big tits and you turn {neg_adj} ? \" um \n",
       "  . . is n't that the basis for the {neg_adj} plot ?  \n",
       "12                                                                                       the stunt work is top - {pos_adj} ; the dialogue and drama often food - spittingly {pos_adj} .  \n",
       "13                                                                                                                                               a film of {pos_adj} {pos_adj} dances .  \n",
       "14                                                 the rules of attraction {pos_verb} us too {neg_adj} on the party favors to sober us up with the transparent attempts at moralizing .  \n",
       "15  twohy {pos_verb} how to inflate the mundane into the scarifying , and {pos_verb} full mileage out of the rolling of a stray barrel or the unexpected blast of a phonograph record .  \n",
       "16                                                                                                          this new zealand {pos_verb} - of - age movie is n't really about anything .  \n",
       "17                                                   death to smoochy {neg_verb} a moldy - oldie , not - nearly -as - {neg_adj} -as - it- thinks - it - is joke . over and over again .  "
      ]
     },
     "execution_count": 12,
     "metadata": {},
     "output_type": "execute_result"
    }
   ],
   "source": [
    "tg.to_dataframe()\n"
   ]
  },
  {
   "cell_type": "code",
   "execution_count": 13,
   "id": "0b26cf4e",
   "metadata": {},
   "outputs": [
    {
     "name": "stdout",
     "output_type": "stream",
     "text": [
      "{'pos_verb': ['enjoy', 'coming', 'carries', 'evoked', 'knows', 'loved', 'gives', 'shares', 'awakens', 'discover', 'celebrating', 'gets'], 'neg_verb': ['modeled', 'have', 'dismissed', 'tells', 'avoids', 'squanders', 'given', 'undermines', 'removed', 'withered', 'simpering'], 'pos_adj': ['powerful', 'engrossing', 'brilliant', 'funny', 'challenging', 'terrific', 'successful', 'notch', 'worth', 'moving', 'bigger', 'interpersonal', 'wonderful', 'passionate', 'timeless', 'delicate', 'tender', 'breathtaking', 'phenomenal'], 'neg_adj': ['entire', 'bad', 'undeterminable', 'drunk', 'cumbersome', 'nasty', 'dumb', 'psychopathic', 'manipulative', 'off', 'preposterous', 'handed', 'tiresome', 'stupid', 'sensitive', 'unpretentious']}\n"
     ]
    }
   ],
   "source": [
    "print(tg.lexicons)"
   ]
  },
  {
   "cell_type": "markdown",
   "id": "9b218563",
   "metadata": {},
   "source": [
    "# Usando os templates gerados pelo TemplateGenerator no CheckList"
   ]
  },
  {
   "cell_type": "code",
   "execution_count": 14,
   "id": "535bea1b",
   "metadata": {},
   "outputs": [],
   "source": [
    "from checklist.editor import Editor\n",
    "from checklist.test_suite import TestSuite\n",
    "from checklist.test_types import MFT"
   ]
  },
  {
   "cell_type": "code",
   "execution_count": 15,
   "id": "247a1227",
   "metadata": {},
   "outputs": [],
   "source": [
    "lexicons = tg.lexicons\n",
    "templates = tg.template_texts\n",
    "masked = tg.masked_texts\n",
    "labels = [sent.prediction.label for sent in tg.sentences]\n",
    "\n",
    "editor = Editor()\n",
    "editor.add_lexicon('pos_verb', lexicons['pos_verb'])\n",
    "editor.add_lexicon('neg_verb', lexicons['neg_verb'])\n",
    "editor.add_lexicon('pos_adj', lexicons['pos_adj'])\n",
    "editor.add_lexicon('neg_adj', lexicons['neg_adj'])\n",
    "\n",
    "suite = TestSuite()"
   ]
  },
  {
   "cell_type": "code",
   "execution_count": 16,
   "id": "0266d01e",
   "metadata": {},
   "outputs": [],
   "source": [
    "for template, label, i in zip(templates, labels, range(len(templates))):\n",
    "    t = editor.template(template, remove_duplicates=True, labels=int(label))\n",
    "\n",
    "    suite.add(MFT(\n",
    "        data=t.data,\n",
    "        labels=label,\n",
    "        capability=\"Vocabullary\", \n",
    "        name=f\"Test: MFT with vocabullary - template{i+1}\",\n",
    "        description=\"Checking if the model can handle vocabullary\"))"
   ]
  },
  {
   "cell_type": "code",
   "execution_count": 17,
   "id": "latter-vertical",
   "metadata": {},
   "outputs": [
    {
     "name": "stdout",
     "output_type": "stream",
     "text": [
      "Running Test: MFT with vocabullary - template1\n",
      "Predicting 209 examples\n"
     ]
    },
    {
     "name": "stderr",
     "output_type": "stream",
     "text": [
      "/tmp/ipykernel_20206/4227237112.py:23: UserWarning: Implicit dimension choice for softmax has been deprecated. Change the call to include dim=X as an argument.\n",
      "  prob = softmax(tensor_logits[0]).detach().numpy()\n"
     ]
    },
    {
     "name": "stdout",
     "output_type": "stream",
     "text": [
      "Running Test: MFT with vocabullary - template2\n",
      "Predicting 192 examples\n",
      "Running Test: MFT with vocabullary - template3\n",
      "Predicting 132 examples\n",
      "Running Test: MFT with vocabullary - template4\n",
      "Predicting 19 examples\n",
      "Running Test: MFT with vocabullary - template5\n",
      "Predicting 132 examples\n",
      "Running Test: MFT with vocabullary - template6\n",
      "Predicting 19 examples\n",
      "Running Test: MFT with vocabullary - template7\n",
      "Predicting 16 examples\n",
      "Running Test: MFT with vocabullary - template8\n",
      "Predicting 11 examples\n",
      "Running Test: MFT with vocabullary - template9\n",
      "Predicting 228 examples\n",
      "Running Test: MFT with vocabullary - template10\n",
      "Predicting 209 examples\n",
      "Running Test: MFT with vocabullary - template11\n",
      "Predicting 176 examples\n",
      "Running Test: MFT with vocabullary - template12\n",
      "Predicting 16 examples\n",
      "Running Test: MFT with vocabullary - template13\n",
      "Predicting 19 examples\n",
      "Running Test: MFT with vocabullary - template14\n",
      "Predicting 19 examples\n",
      "Running Test: MFT with vocabullary - template15\n",
      "Predicting 192 examples\n",
      "Running Test: MFT with vocabullary - template16\n",
      "Predicting 12 examples\n",
      "Running Test: MFT with vocabullary - template17\n",
      "Predicting 12 examples\n",
      "Running Test: MFT with vocabullary - template18\n",
      "Predicting 176 examples\n"
     ]
    }
   ],
   "source": [
    "suite.run(model.predict, overwrite=True)\n",
    "suite.save('./suites/posneg-random.suite')"
   ]
  },
  {
   "cell_type": "markdown",
   "id": "exciting-comedy",
   "metadata": {},
   "source": [
    "# Carregando suite de teste"
   ]
  },
  {
   "cell_type": "code",
   "execution_count": 18,
   "id": "rocky-beaver",
   "metadata": {},
   "outputs": [],
   "source": [
    "from checklist.test_suite import TestSuite\n",
    "suite = TestSuite.from_file('./suites/posneg-random.suite')\n",
    "\n",
    "# suite.visual_summary_table()"
   ]
  },
  {
   "cell_type": "code",
   "execution_count": 19,
   "metadata": {},
   "outputs": [
    {
     "name": "stdout",
     "output_type": "stream",
     "text": [
      "failed = 337 (18.84%)\n",
      "passed = 1452 (81.16%)\n",
      "total = 1789\n",
      "templates: 18\n"
     ]
    }
   ],
   "source": [
    "passed = 0\n",
    "failed = 0\n",
    "for test_name in suite.tests:\n",
    "    table = suite.visual_summary_by_test(test_name)\n",
    "    \n",
    "    failed += table.stats['nfailed']    \n",
    "    passed += table.stats['npassed']\n",
    "    assert table.stats['nfailed'] + table.stats['npassed'] == len(table.filtered_testcases)\n",
    "\n",
    "print(f\"{failed = } ({(failed/(passed+failed))*100:.2f}%)\")\n",
    "print(f\"{passed = } ({(passed/(passed+failed))*100:.2f}%)\")\n",
    "print(f\"total = {passed+failed}\")\n",
    "print(\"templates:\", len(suite.tests))"
   ]
  },
  {
   "cell_type": "code",
   "execution_count": 20,
   "id": "confidential-france",
   "metadata": {},
   "outputs": [],
   "source": [
    "table = suite.visual_summary_by_test('Test: MFT with vocabullary - template2')\n",
    "\n",
    "for item in table.candidate_testcases:\n",
    "    print(item['examples'][0]['new']['text'])"
   ]
  }
 ],
 "metadata": {
  "interpreter": {
   "hash": "335f8eac43d2678591a8076d8dfd5de078961fe9395efec4dfbbe61965ca9377"
  },
  "kernelspec": {
   "display_name": "Python 3",
   "language": "python",
   "name": "python3"
  },
  "language_info": {
   "codemirror_mode": {
    "name": "ipython",
    "version": 3
   },
   "file_extension": ".py",
   "mimetype": "text/x-python",
   "name": "python",
   "nbconvert_exporter": "python",
   "pygments_lexer": "ipython3",
   "version": "3.11.5"
  }
 },
 "nbformat": 4,
 "nbformat_minor": 5
}
