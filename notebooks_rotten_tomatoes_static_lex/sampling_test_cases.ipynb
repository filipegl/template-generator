{
 "cells": [
  {
   "cell_type": "code",
   "execution_count": 1,
   "id": "hundred-lending",
   "metadata": {},
   "outputs": [],
   "source": [
    "%config Completer.use_jedi = False\n",
    "import sys\n",
    "sys.path.append('../')"
   ]
  },
  {
   "cell_type": "code",
   "execution_count": 2,
   "id": "dramatic-tobago",
   "metadata": {},
   "outputs": [],
   "source": [
    "from checklist.test_suite import TestSuite\n",
    "import pandas as pd\n",
    "from math import ceil\n",
    "\n",
    "pd.set_option('display.max_colwidth', None)\n",
    "\n",
    "def load_suite(path):\n",
    "    suite = TestSuite.from_file(path)\n",
    "    summary_table = suite.visual_summary_table()\n",
    "    \n",
    "    return suite, summary_table\n",
    "\n",
    "\n",
    "def proccess_summary_do_dataframe(suite, summary_table):\n",
    "    test_templates = summary_table.get_state()['test_infos']\n",
    "\n",
    "    items = []\n",
    "    templates = []\n",
    "    \n",
    "    for test_template in test_templates:\n",
    "        test_template_name = test_template['name']\n",
    "        template_name = test_template_name.split(' - ')[1]\n",
    "        test_cases = suite.visual_summary_by_test(test_template_name).filtered_testcases\n",
    "\n",
    "        templates.append(template_name)\n",
    "\n",
    "        for item in test_cases:\n",
    "            text = item['examples'][0]['new']['text']\n",
    "            pred = item['examples'][0]['new']['pred']\n",
    "            label = item['examples'][0]['label']\n",
    "            succeed = item['examples'][0]['succeed']\n",
    "\n",
    "            items.append([text, label, pred, succeed, template_name])\n",
    "\n",
    "    df = pd.DataFrame(items, columns=['text', 'label', 'pred', 'succeed', 'template'])\n",
    "    \n",
    "    return df, templates\n",
    "    \n",
    "\n",
    "\n",
    "def sample_size(n, dp=0.8, e=0.05, z=1.96):\n",
    "    p0 = dp*(1-dp)\n",
    "    numerador = ((z**2) * p0)/(e**2)\n",
    "    denominador = 1 + (((z**2) * p0)/((e**2)*n))\n",
    "    return ceil(numerador/denominador)\n",
    "\n",
    "def sample_df(df_template, df_total_size):\n",
    "    total_samples = sample_size(df_total_size)\n",
    "    total = ceil(total_samples * (len(df_template) / df_total_size))\n",
    "\n",
    "    if len(df_template) > 0:\n",
    "        total = max(1, total)\n",
    "\n",
    "    return df_template.sample(total, random_state=42)    "
   ]
  },
  {
   "cell_type": "code",
   "execution_count": 3,
   "id": "a8940417",
   "metadata": {},
   "outputs": [
    {
     "data": {
      "text/html": [
       "<div>\n",
       "<style scoped>\n",
       "    .dataframe tbody tr th:only-of-type {\n",
       "        vertical-align: middle;\n",
       "    }\n",
       "\n",
       "    .dataframe tbody tr th {\n",
       "        vertical-align: top;\n",
       "    }\n",
       "\n",
       "    .dataframe thead th {\n",
       "        text-align: right;\n",
       "    }\n",
       "</style>\n",
       "<table border=\"1\" class=\"dataframe\">\n",
       "  <thead>\n",
       "    <tr style=\"text-align: right;\">\n",
       "      <th></th>\n",
       "      <th>Unnamed: 0</th>\n",
       "      <th>template_index</th>\n",
       "      <th>label</th>\n",
       "      <th>original_text</th>\n",
       "      <th>masked_text</th>\n",
       "      <th>template_text</th>\n",
       "    </tr>\n",
       "  </thead>\n",
       "  <tbody>\n",
       "  </tbody>\n",
       "</table>\n",
       "</div>"
      ],
      "text/plain": [
       "Empty DataFrame\n",
       "Columns: [Unnamed: 0, template_index, label, original_text, masked_text, template_text]\n",
       "Index: []"
      ]
     },
     "execution_count": 3,
     "metadata": {},
     "output_type": "execute_result"
    }
   ],
   "source": [
    "templates_df = pd.read_csv(\"generated_templates/generated_templates_approach2.csv\")\n",
    "templates_df"
   ]
  },
  {
   "cell_type": "code",
   "execution_count": 4,
   "id": "floating-convergence",
   "metadata": {},
   "outputs": [
    {
     "name": "stdout",
     "output_type": "stream",
     "text": [
      "Please wait as we prepare the table data...\n",
      "Proccessing approach1...\n",
      "approach1 samples: (class 0: 0, class 1: 0)\n",
      "Please wait as we prepare the table data...\n",
      "Proccessing approach2...\n",
      "approach2 samples: (class 0: 0, class 1: 0)\n",
      "Please wait as we prepare the table data...\n",
      "Proccessing approach3...\n",
      "approach3 samples: (class 0: 121, class 1: 222)\n",
      "Please wait as we prepare the table data...\n",
      "Proccessing approach4...\n",
      "approach4 samples: (class 0: 169, class 1: 234)\n",
      "Please wait as we prepare the table data...\n",
      "Proccessing approach5...\n",
      "approach5 samples: (class 0: 207, class 1: 243)\n",
      "Please wait as we prepare the table data...\n",
      "Proccessing random...\n",
      "random samples: (class 0: 147, class 1: 220)\n"
     ]
    }
   ],
   "source": [
    "from math import ceil\n",
    "\n",
    "# !rmdir /s /q test_cases\n",
    "# !mkdir test_cases\n",
    "\n",
    "approachs = ['approach1','approach2','approach3','approach4','approach5','random']\n",
    "\n",
    "\n",
    "for appr in approachs:\n",
    "    suite, summary_table = load_suite(f'./suites/posneg-{appr}.suite')\n",
    "    df, template_names = proccess_summary_do_dataframe(suite, summary_table)\n",
    "    print(f'Proccessing {appr}...')\n",
    "\n",
    "    filename = f'test_cases/{appr}.xlsx'\n",
    "    \n",
    "    df0 = df[df['succeed'] == 0]\n",
    "    df1 = df[df['succeed'] == 1]\n",
    "    \n",
    "    sample0_count = 0\n",
    "    sample1_count = 0\n",
    "    with pd.ExcelWriter(filename) as writer:\n",
    "        templates_df = pd.read_csv(f\"generated_templates/generated_templates_{appr}.csv\")\n",
    "        templates_df.to_excel(writer, sheet_name=\"templates\", index=False)\n",
    "        for template_name in template_names:\n",
    "            df_template0 = df0[df0['template'] == template_name]\n",
    "            df_template1 = df1[df1['template'] == template_name]\n",
    "\n",
    "            df_sampled0 = sample_df(df_template0, len(df0))\n",
    "            df_sampled1 = sample_df(df_template1, len(df1))\n",
    "            \n",
    "            df_filtered = pd.concat([df_sampled0, df_sampled1], axis=0)\n",
    "            columns = ['text', 'label', 'pred', 'succeed']\n",
    "\n",
    "            df_filtered.to_excel(writer, sheet_name=template_name, index=False, columns=columns)\n",
    "            sample0_count += len(df_sampled0)\n",
    "            sample1_count += len(df_sampled1)\n",
    "\n",
    "    print(appr, f'samples: (class 0: {sample0_count}, class 1: {sample1_count})')"
   ]
  },
  {
   "cell_type": "code",
   "execution_count": null,
   "id": "patent-spanish",
   "metadata": {},
   "outputs": [],
   "source": []
  }
 ],
 "metadata": {
  "kernelspec": {
   "display_name": "Python 3",
   "language": "python",
   "name": "python3"
  },
  "language_info": {
   "codemirror_mode": {
    "name": "ipython",
    "version": 3
   },
   "file_extension": ".py",
   "mimetype": "text/x-python",
   "name": "python",
   "nbconvert_exporter": "python",
   "pygments_lexer": "ipython3",
   "version": "3.11.5"
  }
 },
 "nbformat": 4,
 "nbformat_minor": 5
}
