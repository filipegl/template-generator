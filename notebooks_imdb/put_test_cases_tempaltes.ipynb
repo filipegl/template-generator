{
 "cells": [
  {
   "cell_type": "code",
   "execution_count": 1,
   "metadata": {},
   "outputs": [],
   "source": [
    "import pandas as pd\n",
    "import os"
   ]
  },
  {
   "cell_type": "code",
   "execution_count": 2,
   "metadata": {},
   "outputs": [
    {
     "data": {
      "text/plain": [
       "['approach1', 'approach2', 'approach3', 'approach4', 'approach5', 'random']"
      ]
     },
     "execution_count": 2,
     "metadata": {},
     "output_type": "execute_result"
    }
   ],
   "source": [
    "sorted([x[:-5] for x in os.listdir(\"test_cases\")])"
   ]
  },
  {
   "cell_type": "code",
   "execution_count": 5,
   "metadata": {},
   "outputs": [],
   "source": [
    "for appr in sorted([x[:-5] for x in os.listdir(\"test_cases\")]):\n",
    "    filename = f\"test_cases/{appr}.xlsx\"\n",
    "    dfs = pd.read_excel(filename, sheet_name=None)\n",
    "\n",
    "    with pd.ExcelWriter(filename) as writer:\n",
    "        templates_df = pd.read_csv(f\"generated_templates/generated_templates_{appr}.csv\")\n",
    "        templates_df.to_excel(writer, sheet_name=\"templates\", index=False)\n",
    "    \n",
    "        for t_name, df in dfs.items():\n",
    "            df.to_excel(writer, sheet_name=t_name, index=False)\n",
    "    \n",
    "    "
   ]
  }
 ],
 "metadata": {
  "kernelspec": {
   "display_name": "checklist-templates",
   "language": "python",
   "name": "python3"
  },
  "language_info": {
   "codemirror_mode": {
    "name": "ipython",
    "version": 3
   },
   "file_extension": ".py",
   "mimetype": "text/x-python",
   "name": "python",
   "nbconvert_exporter": "python",
   "pygments_lexer": "ipython3",
   "version": "3.11.3"
  },
  "orig_nbformat": 4
 },
 "nbformat": 4,
 "nbformat_minor": 2
}
