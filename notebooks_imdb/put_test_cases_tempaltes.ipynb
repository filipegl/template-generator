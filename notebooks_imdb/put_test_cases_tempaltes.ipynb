{
 "cells": [
  {
   "cell_type": "code",
   "execution_count": 1,
   "metadata": {},
   "outputs": [],
   "source": [
    "import pandas as pd\n",
    "import os"
   ]
  },
  {
   "cell_type": "code",
   "execution_count": 8,
   "metadata": {},
   "outputs": [
    {
     "data": {
      "text/plain": [
       "['approach1', 'approach2', 'approach3', 'approach4', 'approach5', 'random']"
      ]
     },
     "execution_count": 8,
     "metadata": {},
     "output_type": "execute_result"
    }
   ],
   "source": [
    "sorted([x[:-5] for x in os.listdir(\"test_cases_imdb\")])"
   ]
  },
  {
   "cell_type": "code",
   "execution_count": 13,
   "metadata": {},
   "outputs": [
    {
     "data": {
      "text/plain": [
       "{'template1':                                                 text  label  pred  succeed\n",
       " 0  There had all these people in the middle of th...      1     0        0\n",
       " 1  There was all these people in the middle of th...      1     0        0,\n",
       " 'template2':                                        text  label  pred  succeed\n",
       " 0          This were on TV juvenile night .      1     0        0\n",
       " 1             This means on TV last night .      1     0        0\n",
       " 2         This leave on TV helpless night .      1     0        0\n",
       " 3  This disappointed on TV juvenile night .      1     0        0\n",
       " 4               This be on TV Shoot night .      1     1        1\n",
       " 5                This be on TV last night .      1     1        1,\n",
       " 'template3':                                              text  label  pred  succeed\n",
       " 0  Literally , this phrase lacks `` juvenile ! ''      1     0        0\n",
       " 1       Literally , this phrase are `` Shoot ! ''      1     0        0\n",
       " 2    Literally , this phrase had `` juvenile ! ''      1     0        0\n",
       " 3    Literally , this phrase was `` helpless ! ''      1     0        0\n",
       " 4  Literally , this phrase means `` helpless ! ''      1     0        0\n",
       " 5        Literally , this phrase are `` last ! ''      1     1        1,\n",
       " 'template4':                       text  label  pred  succeed\n",
       " 0  You 'll not have have .      1     0        0\n",
       " 1      You 'll not be be .      1     1        1,\n",
       " 'template5':                                text  label  pred  succeed\n",
       " 0   which , of course , he 's n't .      1     0        0\n",
       " 1  which , of course , he had n't .      1     1        1,\n",
       " 'template6':                                                 text  label  pred  succeed\n",
       " 0  Many people ended out after about half an hour...      1     0        0\n",
       " 1  Many people ended out after about half an hour...      1     0        0\n",
       " 2  Many people cry out after about half an hour -...      1     0        0\n",
       " 3  Many people ended out after about half an hour...      1     0        0\n",
       " 4  Many people cry out after about half an hour -...      1     1        1,\n",
       " 'template7':                                        text  label  pred  succeed\n",
       " 0        The jokes themselves means Shoot .      0     1        0\n",
       " 1        The jokes themselves be juvenile .      0     1        0\n",
       " 2        The jokes themselves be helpless .      0     0        1\n",
       " 3           The jokes themselves 's Shoot .      0     0        1\n",
       " 4  The jokes themselves disappointed last .      0     0        1\n",
       " 5         The jokes themselves lacks last .      0     0        1,\n",
       " 'template8':           text  label  pred  succeed\n",
       " 0  Everygirl ?      1     1        1,\n",
       " 'template9':                text  label  pred  succeed\n",
       " 0  This precisely .      1     0        0,\n",
       " 'template10':                                           text  label  pred  succeed\n",
       " 0     Avoid , unless it be the MST3K version .      0     0        1\n",
       " 1  Avoid , unless it means the MST3K version .      0     0        1,\n",
       " 'template11':                                                 text  label  pred  succeed\n",
       " 0  You will laugh , you will ended , and when it ...      1     1        1\n",
       " 1  You will laugh , you will cry , and when it 's...      1     1        1\n",
       " 2  You will laugh , you will cry , and when it 's...      1     1        1\n",
       " 3  You will laugh , you will walked , and when it...      1     1        1,\n",
       " 'template12':                                          text  label  pred  succeed\n",
       " 0  It tries governmental - too governmental .      0     0        1,\n",
       " 'template13':                                                 text  label  pred  succeed\n",
       " 0  Yeung Fan as the physcho 's love interest 's u...      0     0        1\n",
       " 1  Yeung Fan as the physcho 's love interest 's u...      0     0        1\n",
       " 2  Yeung Fan as the physcho 's love interest 's u...      0     0        1\n",
       " 3  Yeung Fan as the physcho 's love interest 's u...      0     0        1\n",
       " 4  Yeung Fan as the physcho 's love interest 's u...      0     0        1\n",
       " 5  Yeung Fan as the physcho 's love interest 's u...      0     0        1,\n",
       " 'template14':                                                 text  label  pred  succeed\n",
       " 0  into its choruses , as they do in this particu...      0     1        0\n",
       " 1  into its choruses , as they do in this particu...      0     0        1\n",
       " 2  into its choruses , as they do in this particu...      0     0        1\n",
       " 3  into its choruses , as they do in this particu...      0     0        1\n",
       " 4  into its choruses , as they do in this particu...      0     0        1\n",
       " 5  into its choruses , as they do in this particu...      0     0        1\n",
       " 6  into its choruses , as they do in this particu...      0     0        1,\n",
       " 'template15':                                                 text  label  pred  succeed\n",
       " 0  If you was your news all tidy and governmental...      1     0        0\n",
       " 1  If you like your news all tidy and easy to con...      1     1        1\n",
       " 2  If you like your news all tidy and real to con...      1     1        1\n",
       " 3  If you disappointed your news all tidy and gov...      1     1        1\n",
       " 4  If you 's your news all tidy and easy to consu...      1     1        1\n",
       " 5  If you leave your news all tidy and real to co...      1     1        1,\n",
       " 'template16':                                                 text  label  pred  succeed\n",
       " 0  She walked the movie saying there have 34 mill...      0     0        1\n",
       " 1  She walked the movie saying there like 34 mill...      0     0        1\n",
       " 2  She walked the movie saying there 's 34 millio...      0     0        1\n",
       " 3  She cry the movie saying there disappointed 34...      0     0        1,\n",
       " 'template17':                                           text  label  pred  succeed\n",
       " 0      We are last against real wrong-doings .      1     1        1\n",
       " 1  We are helpless against real wrong-doings .      1     1        1,\n",
       " 'template18':        text  label  pred  succeed\n",
       " 0  Deadly ?      0     1        0}"
      ]
     },
     "execution_count": 13,
     "metadata": {},
     "output_type": "execute_result"
    }
   ],
   "source": [
    "df = pd.read_excel(filename, sheet_name=None)\n",
    "df"
   ]
  },
  {
   "cell_type": "code",
   "execution_count": 18,
   "metadata": {},
   "outputs": [
    {
     "data": {
      "text/plain": [
       "['approach1', 'approach2', 'approach5', 'random']"
      ]
     },
     "execution_count": 18,
     "metadata": {},
     "output_type": "execute_result"
    }
   ],
   "source": [
    "sorted([x[:-5] for x in os.listdir(\"test_cases_imdb\")])"
   ]
  },
  {
   "cell_type": "code",
   "execution_count": null,
   "metadata": {},
   "outputs": [],
   "source": []
  },
  {
   "cell_type": "code",
   "execution_count": 19,
   "metadata": {},
   "outputs": [],
   "source": [
    "for appr in [\"approach3\",\"approach4\"]:\n",
    "    filename = f\"test_cases_imdb/{appr}.xlsx\"\n",
    "    dfs = pd.read_excel(filename, sheet_name=None)\n",
    "\n",
    "    with pd.ExcelWriter(filename) as writer:\n",
    "        templates_df = pd.read_csv(f\"generated_templates/generated_templates_{appr}.csv\")\n",
    "        templates_df.to_excel(writer, sheet_name=\"templates\", index=False)\n",
    "    \n",
    "        for t_name, df in dfs.items():\n",
    "            df.to_excel(writer, sheet_name=t_name, index=False)\n",
    "    \n",
    "    "
   ]
  }
 ],
 "metadata": {
  "kernelspec": {
   "display_name": "checklist-templates",
   "language": "python",
   "name": "python3"
  },
  "language_info": {
   "codemirror_mode": {
    "name": "ipython",
    "version": 3
   },
   "file_extension": ".py",
   "mimetype": "text/x-python",
   "name": "python",
   "nbconvert_exporter": "python",
   "pygments_lexer": "ipython3",
   "version": "3.11.3"
  },
  "orig_nbformat": 4
 },
 "nbformat": 4,
 "nbformat_minor": 2
}
