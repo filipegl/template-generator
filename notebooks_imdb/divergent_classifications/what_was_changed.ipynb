{
 "cells": [
  {
   "cell_type": "code",
   "execution_count": 2,
   "metadata": {},
   "outputs": [],
   "source": [
    "import pandas as pd\n",
    "import os\n",
    "import numpy as np"
   ]
  },
  {
   "cell_type": "markdown",
   "metadata": {},
   "source": [
    "1. quantos rótulos eu troquei x quantos rótulos Adson trocou\n",
    "2. quantos rótulos nós discordávamos x quantos rótulos nós discordamos agora.\n",
    "3. gráfico antigo x gráfico atualizado de VP, VN, FP, FN\n",
    "\n"
   ]
  },
  {
   "cell_type": "code",
   "execution_count": 40,
   "metadata": {},
   "outputs": [
    {
     "name": "stdout",
     "output_type": "stream",
     "text": [
      "approach1.xlsx:\tcount_changed_by_approach = 51 from 212\n",
      "approach2.xlsx:\tcount_changed_by_approach = 11 from 204\n",
      "approach3.xlsx:\tcount_changed_by_approach = 13 from 101\n",
      "approach4.xlsx:\tcount_changed_by_approach = 16 from 101\n",
      "approach5.xlsx:\tcount_changed_by_approach = 27 from 178\n",
      "random.xlsx:\tcount_changed_by_approach = 12 from 53\n",
      "130 changed from 849\n"
     ]
    }
   ],
   "source": [
    "count_changed_total = 0\n",
    "test_cases_total = 0\n",
    "for approach in [\"approach1.xlsx\", \"approach2.xlsx\", \"approach3.xlsx\", \"approach4.xlsx\", \"approach5.xlsx\", \"random.xlsx\"]:\n",
    "    ann1_revised_dict = pd.read_excel(f\"ann1/revised/{approach}\", sheet_name=None)\n",
    "    ann1_divergent_dict = pd.read_excel(f\"ann1/{approach}\", sheet_name=None)\n",
    "    try:\n",
    "        del ann1_revised_dict[\"templates\"]\n",
    "        del ann1_divergent_dict[\"templates\"]\n",
    "    except KeyError:\n",
    "        pass\n",
    "    \n",
    "    assert ann1_revised_dict.keys() == ann1_divergent_dict.keys()\n",
    "    \n",
    "    count_changed_by_approach = 0\n",
    "    test_cases_by_approach = 0\n",
    "    \n",
    "    for t in ann1_revised_dict:\n",
    "        revised = ann1_revised_dict[t]['classification']\n",
    "        not_revised = ann1_divergent_dict[t]['classification']\n",
    "\n",
    "        count_changed_by_approach += sum(revised != not_revised)\n",
    "        test_cases_by_approach += len(revised)\n",
    "\n",
    "    count_changed_total += count_changed_by_approach\n",
    "    test_cases_total += test_cases_by_approach\n",
    "    print(f\"{approach}:\\t{count_changed_by_approach = } from {test_cases_by_approach}\")\n",
    "\n",
    "print(f\"{count_changed_total} changed from {test_cases_total}\")"
   ]
  },
  {
   "cell_type": "markdown",
   "metadata": {},
   "source": [
    "- Filipe:\n",
    "    - approach1.xlsx:\tcount_changed_by_approach = 51 from 212\n",
    "    - approach2.xlsx:\tcount_changed_by_approach = 11 from 204\n",
    "    - approach3.xlsx:\tcount_changed_by_approach = 13 from 101\n",
    "    - approach4.xlsx:\tcount_changed_by_approach = 16 from 101\n",
    "    - approach5.xlsx:\tcount_changed_by_approach = 27 from 178\n",
    "    - random.xlsx:\tcount_changed_by_approach = 12 from 53\n",
    "    - 130 changed from 849\n",
    "\n",
    "- Adson:"
   ]
  },
  {
   "cell_type": "code",
   "execution_count": 24,
   "metadata": {},
   "outputs": [
    {
     "data": {
      "text/plain": [
       "0"
      ]
     },
     "execution_count": 24,
     "metadata": {},
     "output_type": "execute_result"
    }
   ],
   "source": [
    "count_discordance_total = 0\n",
    "count_previous_discordance_total = 0\n",
    "for approach in [\"approach1.xlsx\", \"approach2.xlsx\", \"approach3.xlsx\", \"approach4.xlsx\", \"approach5.xlsx\", \"random.xlsx\"]:\n",
    "    ann1_revised_dict = pd.read_excel(f\"ann1/revised/{approach}\", sheet_name=None)\n",
    "    ann2_revised_dict = pd.read_excel(f\"ann2/revised/{approach}\", sheet_name=None)\n",
    "\n",
    "    try:\n",
    "        del ann1_revised_dict[\"templates\"]\n",
    "        del ann1_divergent_dict[\"templates\"]\n",
    "    except KeyError:\n",
    "        pass\n",
    "    count_discordance_by_approach = 0\n",
    "    count_previous_discordance_by_approach = 0\n",
    "    for t in ann1_revised_dict:\n",
    "        try:\n",
    "            discordance = ann1_revised_dict[t].classification != ann2_revised_dict[t].classification\n",
    "        except ValueError as ve:\n",
    "            print(approach)\n",
    "            print(t)\n",
    "            print(\"ann1\")\n",
    "            display(ann1_revised_dict[t].classification)\n",
    "            print(\"ann2\")\n",
    "            display(ann2_revised_dict[t].classification)\n",
    "            raise ve\n",
    "        count_discordance_by_approach += sum(discordance)\n",
    "        count_previous_discordance_by_approach += len(discordance)\n",
    "    ## What we still diverge?\n",
    "        # if annotator == \"ann1\":\n",
    "        #     df_divergent = ann1_revised_dict[t][discordance]\n",
    "        # elif annotator == \"ann2\":\n",
    "        #     df_divergent = ann2_revised_dict[t][discordance]\n",
    "            \n",
    "    count_discordance_total += count_discordance_by_approach\n",
    "    count_previous_discordance_total += count_previous_discordance_by_approach\n",
    "    print(f\"{approach=} \")\n",
    "    print(f\"divergence counting now/before: {count_discordance_by_approach}/{count_previous_discordance_by_approach}\")\n",
    "print(f\"total: {count_discordance_total}/{count_previous_discordance_total}\")\n",
    "        \n",
    "\n"
   ]
  }
 ],
 "metadata": {
  "kernelspec": {
   "display_name": "checklist-tg",
   "language": "python",
   "name": "python3"
  },
  "language_info": {
   "codemirror_mode": {
    "name": "ipython",
    "version": 3
   },
   "file_extension": ".py",
   "mimetype": "text/x-python",
   "name": "python",
   "nbconvert_exporter": "python",
   "pygments_lexer": "ipython3",
   "version": "3.11.5"
  }
 },
 "nbformat": 4,
 "nbformat_minor": 2
}
