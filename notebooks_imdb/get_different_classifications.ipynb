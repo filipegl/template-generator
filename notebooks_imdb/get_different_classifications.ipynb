{
 "cells": [
  {
   "cell_type": "code",
   "execution_count": 1,
   "metadata": {},
   "outputs": [],
   "source": [
    "import pandas as pd"
   ]
  },
  {
   "cell_type": "code",
   "execution_count": 27,
   "metadata": {},
   "outputs": [],
   "source": [
    "annotator = \"ann1\" # filipe\n",
    "# annotator = \"ann2\" # adson\n",
    "for approach in [\"approach1.xlsx\", \"approach2.xlsx\", \"approach3.xlsx\", \"approach4.xlsx\", \"approach5.xlsx\", \"random.xlsx\"]:\n",
    "    dfs_ann1 = pd.read_excel(f\"analise-amostragem-imdb-SRS/data_formated/data_with_templates/data_annotated/{approach}\", sheet_name=None)\n",
    "    dfs_ann2 = pd.read_excel(f\"analise-amostragem-imdb-SRS/data_formated/data_with_templates/{approach}\", sheet_name=None)\n",
    "    with pd.ExcelWriter(f\"different_classifications/{annotator}/{approach}\") as writer:\n",
    "        for t in list(dfs_ann1.keys())[1:]:\n",
    "            discordance = dfs_ann1[t].classification != dfs_ann2[t].classification\n",
    "            # change the variable dfs_annN to save a different annotation\n",
    "            if annotator == \"ann1\":\n",
    "                df_different = dfs_ann1[t][discordance]\n",
    "            elif annotator == \"ann2\":\n",
    "                df_different = dfs_ann2[t][discordance]\n",
    "            \n",
    "            df_different.to_excel(writer, sheet_name=t)\n",
    "\n"
   ]
  }
 ],
 "metadata": {
  "kernelspec": {
   "display_name": "checklist-tg",
   "language": "python",
   "name": "python3"
  },
  "language_info": {
   "codemirror_mode": {
    "name": "ipython",
    "version": 3
   },
   "file_extension": ".py",
   "mimetype": "text/x-python",
   "name": "python",
   "nbconvert_exporter": "python",
   "pygments_lexer": "ipython3",
   "version": "3.11.5"
  }
 },
 "nbformat": 4,
 "nbformat_minor": 2
}
