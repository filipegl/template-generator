{
 "cells": [
  {
   "cell_type": "code",
   "execution_count": 2,
   "metadata": {},
   "outputs": [],
   "source": [
    "import pandas as pd"
   ]
  },
  {
   "cell_type": "code",
   "execution_count": 3,
   "metadata": {},
   "outputs": [],
   "source": [
    "for approach in [\"approach1.xlsx\", \"approach2.xlsx\", \"approach3.xlsx\", \"approach4.xlsx\", \"approach5.xlsx\", \"random.xlsx\"]:\n",
    "    template_df = pd.read_excel(\"data_formated/data_with_templates/\" + approach, sheet_name=\"templates\")\n",
    "    template_df\n",
    "    adson_df = pd.read_excel(\"data_formated_label_adson/\" + approach, sheet_name=None)\n",
    "\n",
    "    with pd.ExcelWriter(\"data_formated_label_adson/\" + approach) as writer:\n",
    "        template_df.to_excel(writer, sheet_name=\"templates\", index=False)\n",
    "        for i, _df in adson_df.items():\n",
    "            _df.to_excel(writer, sheet_name=i, index=False)\n"
   ]
  }
 ],
 "metadata": {
  "kernelspec": {
   "display_name": "checklist-tg",
   "language": "python",
   "name": "python3"
  },
  "language_info": {
   "codemirror_mode": {
    "name": "ipython",
    "version": 3
   },
   "file_extension": ".py",
   "mimetype": "text/x-python",
   "name": "python",
   "nbconvert_exporter": "python",
   "pygments_lexer": "ipython3",
   "version": "3.11.5"
  }
 },
 "nbformat": 4,
 "nbformat_minor": 2
}
