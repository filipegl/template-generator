{
 "cells": [
  {
   "cell_type": "code",
   "execution_count": 1,
   "metadata": {},
   "outputs": [],
   "source": [
    "import pandas as pd\n",
    "import os\n",
    "from styleframe import StyleFrame"
   ]
  },
  {
   "cell_type": "markdown",
   "metadata": {},
   "source": [
    "Este notebook transforma os dados do formato original (`./analise-amostragem-imdb-SRS/data/`) para o formato suportado neste trabalho (`./data_formated/`)"
   ]
  },
  {
   "cell_type": "code",
   "execution_count": 2,
   "metadata": {},
   "outputs": [
    {
     "data": {
      "text/plain": [
       "['approach2.xlsx',\n",
       " 'approach1.xlsx',\n",
       " 'random.xlsx',\n",
       " 'approach4.xlsx',\n",
       " 'approach3.xlsx',\n",
       " 'approach5.xlsx']"
      ]
     },
     "execution_count": 2,
     "metadata": {},
     "output_type": "execute_result"
    }
   ],
   "source": [
    "approachs = os.listdir(\"data\")\n",
    "approachs"
   ]
  },
  {
   "cell_type": "markdown",
   "metadata": {},
   "source": [
    "Marca tudo como VP ou VN"
   ]
  },
  {
   "cell_type": "code",
   "execution_count": 54,
   "metadata": {},
   "outputs": [],
   "source": [
    "for approach in approachs:\n",
    "    df = pd.read_excel(\"data/\" + approach, sheet_name=None)\n",
    "    for t in df.keys():\n",
    "        if len(df[t].columns) > 4:\n",
    "            df[t] = df[t].rename(columns={'Unnamed: 4': \"subclassification\"})\n",
    "        else:\n",
    "            df[t][\"subclassification\"] = \"\"\n",
    "        df[t].insert(4, \"classification\", df[t][\"succeed\"].map(lambda x: \"VP\" if x==0 else \"VN\"))\n",
    "        df[t][\"obs\"] = \"\"\n",
    "\n",
    "    with pd.ExcelWriter(\"data_formated/\" + approach) as writer:\n",
    "        for i, _df in df.items():\n",
    "            _df.to_excel(writer, sheet_name=i, index=False)\n"
   ]
  },
  {
   "cell_type": "code",
   "execution_count": 4,
   "metadata": {},
   "outputs": [],
   "source": [
    "df = pd.read_excel(\"data/approach1.xlsx\", sheet_name=None)"
   ]
  },
  {
   "cell_type": "code",
   "execution_count": 8,
   "metadata": {},
   "outputs": [],
   "source": [
    "df[\"template1\"] = df[\"template1\"].rename(columns={'Unnamed: 4': \"subclassification\"})"
   ]
  },
  {
   "cell_type": "code",
   "execution_count": 13,
   "metadata": {},
   "outputs": [
    {
     "data": {
      "text/html": [
       "<div>\n",
       "<style scoped>\n",
       "    .dataframe tbody tr th:only-of-type {\n",
       "        vertical-align: middle;\n",
       "    }\n",
       "\n",
       "    .dataframe tbody tr th {\n",
       "        vertical-align: top;\n",
       "    }\n",
       "\n",
       "    .dataframe thead th {\n",
       "        text-align: right;\n",
       "    }\n",
       "</style>\n",
       "<table border=\"1\" class=\"dataframe\">\n",
       "  <thead>\n",
       "    <tr style=\"text-align: right;\">\n",
       "      <th></th>\n",
       "      <th>text</th>\n",
       "      <th>label</th>\n",
       "      <th>pred</th>\n",
       "      <th>succeed</th>\n",
       "      <th>subclassification</th>\n",
       "    </tr>\n",
       "  </thead>\n",
       "  <tbody>\n",
       "    <tr>\n",
       "      <th>0</th>\n",
       "      <td>Things do n't exactly expected out as expected .</td>\n",
       "      <td>0</td>\n",
       "      <td>1</td>\n",
       "      <td>0</td>\n",
       "      <td>NaN</td>\n",
       "    </tr>\n",
       "    <tr>\n",
       "      <th>1</th>\n",
       "      <td>Things do n't exactly keep out as keep .</td>\n",
       "      <td>0</td>\n",
       "      <td>1</td>\n",
       "      <td>0</td>\n",
       "      <td>LE</td>\n",
       "    </tr>\n",
       "    <tr>\n",
       "      <th>2</th>\n",
       "      <td>Things do n't exactly wears out as wears .</td>\n",
       "      <td>0</td>\n",
       "      <td>0</td>\n",
       "      <td>1</td>\n",
       "      <td>LE</td>\n",
       "    </tr>\n",
       "  </tbody>\n",
       "</table>\n",
       "</div>"
      ],
      "text/plain": [
       "                                               text  label  pred  succeed  \\\n",
       "0  Things do n't exactly expected out as expected .      0     1        0   \n",
       "1          Things do n't exactly keep out as keep .      0     1        0   \n",
       "2        Things do n't exactly wears out as wears .      0     0        1   \n",
       "\n",
       "  subclassification  \n",
       "0               NaN  \n",
       "1                LE  \n",
       "2                LE  "
      ]
     },
     "execution_count": 13,
     "metadata": {},
     "output_type": "execute_result"
    }
   ],
   "source": [
    "df[\"template1\"]"
   ]
  },
  {
   "cell_type": "code",
   "execution_count": 23,
   "metadata": {},
   "outputs": [],
   "source": [
    "import numpy as np"
   ]
  },
  {
   "cell_type": "markdown",
   "metadata": {},
   "source": [
    "Mantem os rótulos de Adson"
   ]
  },
  {
   "cell_type": "code",
   "execution_count": 61,
   "metadata": {},
   "outputs": [],
   "source": [
    "\"\"\"\n",
    "- verde escuro: verdadeiro positivo\n",
    "- verde claro: falso positivo\n",
    "- vermelho escuro: verdadeiro negativo\n",
    "- vermelho claro: falso negativo\n",
    "\"\"\"\n",
    "\n",
    "def is_VP(cell):\n",
    "    return cell.style.bg_color.upper() == \"FF93C47D\" # verde escuro\n",
    "def is_VN(cell):\n",
    "    return cell.style.bg_color.upper() == \"FFE06666\"  # vermelho escuro\n",
    "def is_FP(cell):\n",
    "    return cell.style.bg_color.upper() == \"FFD9EAD3\" # verde claro\n",
    "def is_FN(cell):\n",
    "    return cell.style.bg_color.upper() == \"FFF4CCCC\"  # vermelho claro\n",
    "\n",
    "def create_classification(cell):\n",
    "    classification = None\n",
    "    if is_FN(cell):\n",
    "        classification=\"FN\"\n",
    "    elif is_FP(cell):\n",
    "        classification=\"FP\"\n",
    "    elif is_VP(cell):\n",
    "        classification=\"VP\"    \n",
    "    elif is_VN(cell):\n",
    "        classification=\"VN\"\n",
    "\n",
    "    assert bool(classification), cell.style\n",
    "    \n",
    "    return classification"
   ]
  },
  {
   "cell_type": "code",
   "execution_count": 62,
   "metadata": {},
   "outputs": [
    {
     "name": "stdout",
     "output_type": "stream",
     "text": [
      "template1\n",
      "template2\n",
      "template5\n",
      "template3\n",
      "template4\n",
      "template6\n",
      "template7\n",
      "template8\n",
      "template9\n",
      "template10\n",
      "template11\n",
      "template12\n",
      "template13\n",
      "template14\n",
      "template15\n",
      "template16\n",
      "template17\n",
      "template18\n",
      "template19\n",
      "template20\n",
      "template21\n",
      "template22\n",
      "template23\n",
      "template24\n",
      "template25\n",
      "template26\n"
     ]
    }
   ],
   "source": [
    "for approach in [\"approach5.xlsx\"]:\n",
    "    filename_to_read = \"data/\" + approach\n",
    "    df = pd.read_excel(filename_to_read, sheet_name=None)\n",
    "    for t in df.keys():\n",
    "        sf = StyleFrame.read_excel(filename_to_read, read_style=True, sheet_name=t)\n",
    "        print(t)\n",
    "\n",
    "        \n",
    "        if len(sf.columns) > 4:\n",
    "            sf = sf.rename(columns={'Unnamed: 4': \"subclassification\"})\n",
    "        else:\n",
    "            sf[\"subclassification\"] = [\"\"]*len(sf)\n",
    "        ## aqui entra a mágica das cores\n",
    "        sf.data_df.insert(4, \"classification\", sf[\"text\"].map(create_classification))\n",
    "        sf[\"obs\"] = [\"\"]*len(sf)\n",
    "\n",
    "        df[t] = sf.data_df\n",
    "    with pd.ExcelWriter(\"data_formated_label_adson/\" + approach) as writer:\n",
    "        for i, _df in df.items():\n",
    "            _df.to_excel(writer, sheet_name=i, index=False)\n"
   ]
  },
  {
   "cell_type": "code",
   "execution_count": 47,
   "metadata": {},
   "outputs": [],
   "source": [
    "sf.data_df.insert(4, \"classification\", sf[\"text\"].map(create_classification))"
   ]
  },
  {
   "cell_type": "code",
   "execution_count": 52,
   "metadata": {},
   "outputs": [],
   "source": [
    "sf[\"obs\"] = [\"\"]*len(sf)\n"
   ]
  }
 ],
 "metadata": {
  "kernelspec": {
   "display_name": "checklist-tg",
   "language": "python",
   "name": "python3"
  },
  "language_info": {
   "codemirror_mode": {
    "name": "ipython",
    "version": 3
   },
   "file_extension": ".py",
   "mimetype": "text/x-python",
   "name": "python",
   "nbconvert_exporter": "python",
   "pygments_lexer": "ipython3",
   "version": "3.11.5"
  }
 },
 "nbformat": 4,
 "nbformat_minor": 2
}
