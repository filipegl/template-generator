{
 "cells": [
  {
   "cell_type": "markdown",
   "id": "d0e2c728",
   "metadata": {},
   "source": [
    "# Abordagem 3\n",
    "\n",
    "Usando a abordagem 3 para gerar templates com foco em templates positivos e negativos. Uma possível aplicação seria testar a capacidade linguística *Vocabullary* com o teste **MFT**.\n",
    "\n",
    "As etapas desta abordagem são:\n",
    "\n",
    "1. Quebrar a instância em sentenças\n",
    "2. Classificar as sentenças usando o *Oráculo*\n",
    "3. Filtrar as sentenças classificadas de forma unânime\n",
    "4. Filtrar as sentenças com alta confiança nas predições\n",
    "5. Rankear as palavras de cada sentença\n",
    "6. Filtrar sentenças com palavras relevantes (verbos ou adjetivos) bem rankeadas\n",
    "7. Filtrar sentenças com alta confiança na predição das palavras relevantes \n",
    "8. Substituir as palavras relevantes por máscaras"
   ]
  },
  {
   "cell_type": "code",
   "execution_count": 1,
   "id": "897c3a05",
   "metadata": {},
   "outputs": [],
   "source": [
    "%config Completer.use_jedi = False\n",
    "%load_ext autoreload\n",
    "%autoreload 2\n",
    "import sys\n",
    "sys.path.append('../')"
   ]
  },
  {
   "cell_type": "markdown",
   "id": "6da847fc",
   "metadata": {},
   "source": [
    "## Carregando o dataset, o modelo alvo e os modelos auxiliares"
   ]
  },
  {
   "cell_type": "code",
   "execution_count": 2,
   "id": "f6e018fa",
   "metadata": {},
   "outputs": [
    {
     "data": {
      "text/html": [
       "<div>\n",
       "<style scoped>\n",
       "    .dataframe tbody tr th:only-of-type {\n",
       "        vertical-align: middle;\n",
       "    }\n",
       "\n",
       "    .dataframe tbody tr th {\n",
       "        vertical-align: top;\n",
       "    }\n",
       "\n",
       "    .dataframe thead th {\n",
       "        text-align: right;\n",
       "    }\n",
       "</style>\n",
       "<table border=\"1\" class=\"dataframe\">\n",
       "  <thead>\n",
       "    <tr style=\"text-align: right;\">\n",
       "      <th></th>\n",
       "      <th>label</th>\n",
       "      <th>text</th>\n",
       "      <th>words</th>\n",
       "    </tr>\n",
       "  </thead>\n",
       "  <tbody>\n",
       "    <tr>\n",
       "      <th>0</th>\n",
       "      <td>1</td>\n",
       "      <td>Christian Duguay directed this tidy little espionage thriller early in his career. It plays on TV pretty regularly, albeit with some terrific scenes of violence and sex unfortunately trimmed. I finally got around to seeing the theatrical version on a $3 tape from the local video store. Naval officer Aidan Quinn is recruited to impersonate the notorious Carlos the Jackal, and gets a little too caught up in the role. Donald Sutherland Ben Kingsley play Quinn's superiors, with Sutherland a true zealot and Kingsley as the more level-headed one. The first half of this fun flick shows Quinn being trained and indoctrinated. The second half has him out in the field, making love to the Jackal's woman and shooting it out with sundry enemies. The idea is to make the Jackal look like a turncoat to the Russians, and let them take care of the world's most notorious assassin. Things don't exactly play out as planned. At times, I almost expected the cast to break out laughing at some of the corny dialogue, but they all play it very straight. In the end, this is one terrific little thriller that deserves your attention. The Jackal's former mistress teaching the highly proper and very married Quinn to rough her up, lick blood from her face, and then go down on her, alone is worth the price of admission.</td>\n",
       "      <td>227</td>\n",
       "    </tr>\n",
       "    <tr>\n",
       "      <th>1</th>\n",
       "      <td>1</td>\n",
       "      <td>New Yorkers contemporaneous with this film will recall how reflective of its time it is and how well cast and crew captured America, New York City of that era.&lt;br /&gt;&lt;br /&gt;Norman Wexler's script delineates the different worlds the various sub groupings live in and Avildsen's direction brings out phenomenal performances all around. Peter Boyle's prodigious talent is on display as never before nor since. Clearly it is the best character portrayal the always likable Dennis Patrick ever accomplished.&lt;br /&gt;&lt;br /&gt;What I will always remember about JOE is the feeling of having been in a virtual state of shock coming out of the theater. Knowing that what the screen portrayed was seething under the surface in neighborhoods throughout the five boroughs of the City of New York.&lt;br /&gt;&lt;br /&gt;This film needs to be remembered.</td>\n",
       "      <td>133</td>\n",
       "    </tr>\n",
       "    <tr>\n",
       "      <th>2</th>\n",
       "      <td>0</td>\n",
       "      <td>I love oddball animation, I love a lot of Asian films, but I didn't love this particular product of Japan. The Fuccons are supposedly an American family (they're all mannequins) who have moved to Japan, and they're somewhat a 50's sitcom type family, with slightly more modern sensibilities at times. The DVD features several very short episodes (like less than 5 minutes each?) and I did not find it to be either funny or entertaining, not even in a weird way. I'm not sure what the appeal is of this. I did pick up on some satire here and there, gosh, who wouldn't, but satire is usually somewhat humorous, isn't it? And nothing I saw or heard rated even a little smirk. I picked this up used and it certainly SOUNDED appealing, but I guess either I'm missing the point or it's just plain LAME. The box even says it's Fuccon hilarious, right there on the front, but I beg to differ. 2 out of 10.</td>\n",
       "      <td>166</td>\n",
       "    </tr>\n",
       "    <tr>\n",
       "      <th>3</th>\n",
       "      <td>1</td>\n",
       "      <td>I have seen this film probably a dozen times since it was originally released theatrically. Anyone who calls this movie trash or horrible just doesn't understand action films or recognize a good one. Perhaps to some the incidents and outcomes may seem far fetched, but in my opinion screenwriter Shane Black ( Lethal Weapon/ Kiss Kiss Bang Bang) crafted one of the most well thought out action adventures you will ever come across. Over the top or not this film flows like clockwork and the action just keeps coming. The final action sequence is one of the best I have ever seen in any film. The cast in this film crackles. Genna Davis gave a tremendous performance and its a damn shame there was never a \"LKG\" sequel. Samuel L. Jackson is hilarious as her sidekick Mitch a down on his luck private eye trying to help her discover her lost past and make a few bucks. If Baffles me how anyone could not like this film. It packs so many thrills and its so funny. The wisecracks in this film still make me laugh just as hard 10 years later. In my mind the first Matrix film and the Long Kiss Goodnight were easily 2 of the best and most original action flicks of the 90's. Incidentally Shane Black made a fortune when he sold this script. At the time it was the highest selling screenplay and its worth every penny. It's so sad that audiences never gave this movie a chance, cause they would have witnessed Renny Harlins best film and Genna Davis like you have never seen her before. Long live \"The Long Kiss Goodnight\"!!</td>\n",
       "      <td>278</td>\n",
       "    </tr>\n",
       "    <tr>\n",
       "      <th>4</th>\n",
       "      <td>1</td>\n",
       "      <td>Don't mind what this socially retarded person above says, this show is hilarious. It shows how a lot of single men are in a bar atmosphere, and also shows that women are not as gullible as men think they are. &lt;br /&gt;&lt;br /&gt;The contest aspect of the how is really cool and original. Its not the standard reality show that we are all used to now a days.&lt;br /&gt;&lt;br /&gt;Give it a chance everyone, we are only one episode in, we finally have some Canadian programming that isn't absolute crap. As Canadians what do we normally get, Bon Cop, Bad Cop, or Corner Gas. Come on people show that we are all not as prudish as the previous reviewer.&lt;br /&gt;&lt;br /&gt;Way to go Comedy Network, giving a new show a chance. The panel is funny and the contestants so far are pretty good.</td>\n",
       "      <td>143</td>\n",
       "    </tr>\n",
       "  </tbody>\n",
       "</table>\n",
       "</div>"
      ],
      "text/plain": [
       "   label  \\\n",
       "0      1   \n",
       "1      1   \n",
       "2      0   \n",
       "3      1   \n",
       "4      1   \n",
       "\n",
       "                                                                                                                                                                                                                                                                                                                                                                                                                                                                                                                                                                                                                                                                                                                                                                                                                                                                                                                                                                                                                                                                                                                                                                                                                                                                                                                                                                                                                                                                                                                                                                             text  \\\n",
       "0                                                                                                                                                                                                                      Christian Duguay directed this tidy little espionage thriller early in his career. It plays on TV pretty regularly, albeit with some terrific scenes of violence and sex unfortunately trimmed. I finally got around to seeing the theatrical version on a $3 tape from the local video store. Naval officer Aidan Quinn is recruited to impersonate the notorious Carlos the Jackal, and gets a little too caught up in the role. Donald Sutherland Ben Kingsley play Quinn's superiors, with Sutherland a true zealot and Kingsley as the more level-headed one. The first half of this fun flick shows Quinn being trained and indoctrinated. The second half has him out in the field, making love to the Jackal's woman and shooting it out with sundry enemies. The idea is to make the Jackal look like a turncoat to the Russians, and let them take care of the world's most notorious assassin. Things don't exactly play out as planned. At times, I almost expected the cast to break out laughing at some of the corny dialogue, but they all play it very straight. In the end, this is one terrific little thriller that deserves your attention. The Jackal's former mistress teaching the highly proper and very married Quinn to rough her up, lick blood from her face, and then go down on her, alone is worth the price of admission.   \n",
       "1                                                                                                                                                                                                                                                                                                                                                                                                                                                                                                                                                                                                                                                                                                                            New Yorkers contemporaneous with this film will recall how reflective of its time it is and how well cast and crew captured America, New York City of that era.<br /><br />Norman Wexler's script delineates the different worlds the various sub groupings live in and Avildsen's direction brings out phenomenal performances all around. Peter Boyle's prodigious talent is on display as never before nor since. Clearly it is the best character portrayal the always likable Dennis Patrick ever accomplished.<br /><br />What I will always remember about JOE is the feeling of having been in a virtual state of shock coming out of the theater. Knowing that what the screen portrayed was seething under the surface in neighborhoods throughout the five boroughs of the City of New York.<br /><br />This film needs to be remembered.   \n",
       "2                                                                                                                                                                                                                                                                                                                                                                                                                                                                                                                                                                                                                                               I love oddball animation, I love a lot of Asian films, but I didn't love this particular product of Japan. The Fuccons are supposedly an American family (they're all mannequins) who have moved to Japan, and they're somewhat a 50's sitcom type family, with slightly more modern sensibilities at times. The DVD features several very short episodes (like less than 5 minutes each?) and I did not find it to be either funny or entertaining, not even in a weird way. I'm not sure what the appeal is of this. I did pick up on some satire here and there, gosh, who wouldn't, but satire is usually somewhat humorous, isn't it? And nothing I saw or heard rated even a little smirk. I picked this up used and it certainly SOUNDED appealing, but I guess either I'm missing the point or it's just plain LAME. The box even says it's Fuccon hilarious, right there on the front, but I beg to differ. 2 out of 10.   \n",
       "3  I have seen this film probably a dozen times since it was originally released theatrically. Anyone who calls this movie trash or horrible just doesn't understand action films or recognize a good one. Perhaps to some the incidents and outcomes may seem far fetched, but in my opinion screenwriter Shane Black ( Lethal Weapon/ Kiss Kiss Bang Bang) crafted one of the most well thought out action adventures you will ever come across. Over the top or not this film flows like clockwork and the action just keeps coming. The final action sequence is one of the best I have ever seen in any film. The cast in this film crackles. Genna Davis gave a tremendous performance and its a damn shame there was never a \"LKG\" sequel. Samuel L. Jackson is hilarious as her sidekick Mitch a down on his luck private eye trying to help her discover her lost past and make a few bucks. If Baffles me how anyone could not like this film. It packs so many thrills and its so funny. The wisecracks in this film still make me laugh just as hard 10 years later. In my mind the first Matrix film and the Long Kiss Goodnight were easily 2 of the best and most original action flicks of the 90's. Incidentally Shane Black made a fortune when he sold this script. At the time it was the highest selling screenplay and its worth every penny. It's so sad that audiences never gave this movie a chance, cause they would have witnessed Renny Harlins best film and Genna Davis like you have never seen her before. Long live \"The Long Kiss Goodnight\"!!   \n",
       "4                                                                                                                                                                                                                                                                                                                                                                                                                                                                                                                                                                                                                                                                                                                                                                                         Don't mind what this socially retarded person above says, this show is hilarious. It shows how a lot of single men are in a bar atmosphere, and also shows that women are not as gullible as men think they are. <br /><br />The contest aspect of the how is really cool and original. Its not the standard reality show that we are all used to now a days.<br /><br />Give it a chance everyone, we are only one episode in, we finally have some Canadian programming that isn't absolute crap. As Canadians what do we normally get, Bon Cop, Bad Cop, or Corner Gas. Come on people show that we are all not as prudish as the previous reviewer.<br /><br />Way to go Comedy Network, giving a new show a chance. The panel is funny and the contestants so far are pretty good.   \n",
       "\n",
       "   words  \n",
       "0    227  \n",
       "1    133  \n",
       "2    166  \n",
       "3    278  \n",
       "4    143  "
      ]
     },
     "execution_count": 2,
     "metadata": {},
     "output_type": "execute_result"
    }
   ],
   "source": [
    "import pandas as pd\n",
    "pd.set_option('display.max_colwidth', None)\n",
    "\n",
    "imdb_df = pd.read_csv('./data/imdb_sampled/data-100samples.csv')\n",
    "imdb_df.head(5)"
   ]
  },
  {
   "cell_type": "code",
   "execution_count": 3,
   "id": "264d0dcd",
   "metadata": {},
   "outputs": [],
   "source": [
    "import re\n",
    "import numpy as np\n",
    "from torch.nn.functional import softmax\n",
    "from transformers import AutoTokenizer, AutoModelForSequenceClassification\n",
    "\n",
    "def pre_proccess(text):\n",
    "    text = text.lower()\n",
    "    text = re.sub('[\"\\',!-.:-@0-9/]()', ' ', text)\n",
    "    return text\n",
    "\n",
    "# Wrapper to adapt output format\n",
    "class SentimentAnalisysModelWrapper:\n",
    "    def __init__(self, model, tokenizer):\n",
    "        self.model = model\n",
    "        self.tokenizer = tokenizer\n",
    "        \n",
    "    def __predict(self, text_input):\n",
    "        text_preprocessed = pre_proccess(text_input)\n",
    "        tokenized = self.tokenizer(text_preprocessed, padding=True, truncation=True, max_length=512, \n",
    "                                    add_special_tokens = True, return_tensors=\"pt\")\n",
    "        \n",
    "        tensor_logits = self.model(**tokenized)\n",
    "        prob = softmax(tensor_logits[0]).detach().numpy()\n",
    "        pred = np.argmax(prob)\n",
    "        \n",
    "        return pred, prob\n",
    "    \n",
    "    def predict_label(self, text_inputs):\n",
    "        return self.predict(text_inputs)[0]\n",
    "        \n",
    "    def predict_proba(self, text_inputs):\n",
    "        return self.predict(text_inputs)[1]\n",
    "        \n",
    "    def predict(self, text_inputs):\n",
    "        if isinstance(text_inputs, str):\n",
    "            text_inputs = [text_inputs]\n",
    "        \n",
    "        preds = []\n",
    "        probs = []\n",
    "\n",
    "        for text_input in text_inputs:\n",
    "            pred, prob = self.__predict(text_input)\n",
    "            preds.append(pred)\n",
    "            probs.append(prob[0])\n",
    "\n",
    "        return np.array(preds), np.array(probs) # ([0, 1], [[0.99, 0.01], [0.03, 0.97]])\n",
    "\n",
    "# Auxiliar function to load and wrap a model from Hugging Face\n",
    "def load_model(model_name):\n",
    "    print(f'Loading model {model_name}...')\n",
    "    model = AutoModelForSequenceClassification.from_pretrained(model_name)\n",
    "    tokenizer = AutoTokenizer.from_pretrained(model_name)\n",
    "    \n",
    "    return SentimentAnalisysModelWrapper(model, tokenizer)\n",
    "\n",
    "# Hugging Face hosted model names \n",
    "imdb_models = {\n",
    "    'bert': 'textattack/bert-base-uncased-imdb', \n",
    "    'albert': 'textattack/albert-base-v2-imdb', \n",
    "    'distilbert': 'textattack/distilbert-base-uncased-imdb', \n",
    "    'roberta': 'textattack/roberta-base-imdb', \n",
    "    'xlnet': 'textattack/xlnet-base-cased-imdb'\n",
    "}"
   ]
  },
  {
   "cell_type": "code",
   "execution_count": 4,
   "id": "2f271eae",
   "metadata": {},
   "outputs": [
    {
     "name": "stdout",
     "output_type": "stream",
     "text": [
      "Loading model textattack/albert-base-v2-imdb...\n",
      "Loading model textattack/distilbert-base-uncased-imdb...\n",
      "Loading model textattack/roberta-base-imdb...\n"
     ]
    },
    {
     "name": "stderr",
     "output_type": "stream",
     "text": [
      "Some weights of the model checkpoint at textattack/roberta-base-imdb were not used when initializing RobertaForSequenceClassification: ['roberta.pooler.dense.weight', 'roberta.pooler.dense.bias']\n",
      "- This IS expected if you are initializing RobertaForSequenceClassification from the checkpoint of a model trained on another task or with another architecture (e.g. initializing a BertForSequenceClassification model from a BertForPreTraining model).\n",
      "- This IS NOT expected if you are initializing RobertaForSequenceClassification from the checkpoint of a model that you expect to be exactly identical (initializing a BertForSequenceClassification model from a BertForSequenceClassification model).\n"
     ]
    },
    {
     "name": "stdout",
     "output_type": "stream",
     "text": [
      "Loading model textattack/xlnet-base-cased-imdb...\n",
      "Loading model textattack/bert-base-uncased-imdb...\n"
     ]
    }
   ],
   "source": [
    "m1 = load_model(imdb_models['albert'])\n",
    "m2 = load_model(imdb_models['distilbert'])\n",
    "m3 = load_model(imdb_models['roberta'])\n",
    "m4 = load_model(imdb_models['xlnet'])\n",
    "\n",
    "# Models to be used as oracle\n",
    "models = [m1, m2, m3, m4]\n",
    "# Target model\n",
    "model = load_model(imdb_models['bert'])"
   ]
  },
  {
   "cell_type": "markdown",
   "id": "caae89b5",
   "metadata": {},
   "source": [
    "# Gerando os templates\n",
    "O método de rankeamento das palavras usado no PosNegTemplateGenerator é o Replace-1 Score"
   ]
  },
  {
   "cell_type": "code",
   "execution_count": 5,
   "id": "60dc1af3",
   "metadata": {},
   "outputs": [],
   "source": [
    "from template_generator.tasks.sentiment_analisys import PosNegTemplateGeneratorApp3\n",
    "\n",
    "tg = PosNegTemplateGeneratorApp3(model, models)"
   ]
  },
  {
   "cell_type": "markdown",
   "id": "4f595e69",
   "metadata": {},
   "source": [
    "### Número inicial de instâncias: 5"
   ]
  },
  {
   "cell_type": "code",
   "execution_count": 8,
   "id": "a6261506",
   "metadata": {},
   "outputs": [],
   "source": [
    "# Sampling instances\n",
    "np.random.seed(220)\n",
    "n_instances = 5\n",
    "df_sampled = imdb_df.sample(n_instances)\n",
    "\n",
    "instances = [x for x in df_sampled['text'].values]"
   ]
  },
  {
   "cell_type": "code",
   "execution_count": 10,
   "id": "660add17",
   "metadata": {},
   "outputs": [
    {
     "name": "stdout",
     "output_type": "stream",
     "text": [
      "Converting texts to sentences...\n",
      ":: 37 sentences were generated.\n",
      "Predicting inputs...\n"
     ]
    },
    {
     "name": "stderr",
     "output_type": "stream",
     "text": [
      "/tmp/ipykernel_31700/1179770237.py:23: UserWarning: Implicit dimension choice for softmax has been deprecated. Change the call to include dim=X as an argument.\n",
      "  prob = softmax(tensor_logits[0]).detach().numpy()\n"
     ]
    },
    {
     "name": "stdout",
     "output_type": "stream",
     "text": [
      ":: Sentence predictions done.\n",
      "Filtering instances classified unanimously...\n",
      ":: 29 sentences remaining.\n",
      "Filtering instances by classification score greater than 0.8\n",
      ":: 28 sentences remaining.\n",
      "Ranking words using Replace-1 Score...\n",
      ":: Word ranking done.\n",
      "Filtering instances by relevant words...\n",
      ":: 10 sentences remaining.\n",
      "Filtering instances by relevant words classification score greater than 0.8\n",
      ":: 1 sentences remaining.\n"
     ]
    }
   ],
   "source": [
    "templates = tg.generate_templates(instances, ranked_words_count=4, min_classification_score=0.8)"
   ]
  },
  {
   "attachments": {},
   "cell_type": "markdown",
   "id": "61db3b6f",
   "metadata": {},
   "source": [
    "#### Tempo de execução para 5 instâncias: 1m 19.9s\n",
    "filipe: 39.9s"
   ]
  },
  {
   "cell_type": "code",
   "execution_count": 8,
   "id": "193f1b65",
   "metadata": {},
   "outputs": [
    {
     "data": {
      "text/html": [
       "<div>\n",
       "<style scoped>\n",
       "    .dataframe tbody tr th:only-of-type {\n",
       "        vertical-align: middle;\n",
       "    }\n",
       "\n",
       "    .dataframe tbody tr th {\n",
       "        vertical-align: top;\n",
       "    }\n",
       "\n",
       "    .dataframe thead th {\n",
       "        text-align: right;\n",
       "    }\n",
       "</style>\n",
       "<table border=\"1\" class=\"dataframe\">\n",
       "  <thead>\n",
       "    <tr style=\"text-align: right;\">\n",
       "      <th></th>\n",
       "      <th>label</th>\n",
       "      <th>original_text</th>\n",
       "      <th>masked_text</th>\n",
       "      <th>template_text</th>\n",
       "    </tr>\n",
       "  </thead>\n",
       "  <tbody>\n",
       "    <tr>\n",
       "      <th>0</th>\n",
       "      <td>1</td>\n",
       "      <td>Just forget the itty-bitty disappointments, like the fact that there were only adults in this movie based on a pup's point of view, because that's just 0.5% or less of the movie's wonderful effect on the viewer.</td>\n",
       "      <td>Just {mask} the itty-bitty disappointments , like the fact that there were only adults in this movie based on a pup 's point of view , because that 's just 0.5 % or less of the movie 's {mask} effect on the viewer .</td>\n",
       "      <td>Just {neg_verb} the itty-bitty disappointments , like the fact that there were only adults in this movie based on a pup 's point of view , because that 's just 0.5 % or less of the movie 's {pos_adj} effect on the viewer .</td>\n",
       "    </tr>\n",
       "  </tbody>\n",
       "</table>\n",
       "</div>"
      ],
      "text/plain": [
       "   label   \n",
       "0      1  \\\n",
       "\n",
       "                                                                                                                                                                                                         original_text   \n",
       "0  Just forget the itty-bitty disappointments, like the fact that there were only adults in this movie based on a pup's point of view, because that's just 0.5% or less of the movie's wonderful effect on the viewer.  \\\n",
       "\n",
       "                                                                                                                                                                                                               masked_text   \n",
       "0  Just {mask} the itty-bitty disappointments , like the fact that there were only adults in this movie based on a pup 's point of view , because that 's just 0.5 % or less of the movie 's {mask} effect on the viewer .  \\\n",
       "\n",
       "                                                                                                                                                                                                                    template_text  \n",
       "0  Just {neg_verb} the itty-bitty disappointments , like the fact that there were only adults in this movie based on a pup 's point of view , because that 's just 0.5 % or less of the movie 's {pos_adj} effect on the viewer .  "
      ]
     },
     "execution_count": 8,
     "metadata": {},
     "output_type": "execute_result"
    }
   ],
   "source": [
    "df = tg.to_dataframe()\n",
    "df"
   ]
  },
  {
   "cell_type": "code",
   "execution_count": 9,
   "id": "7f98d8ba",
   "metadata": {},
   "outputs": [
    {
     "data": {
      "text/plain": [
       "{'pos_verb': [],\n",
       " 'neg_verb': ['forget'],\n",
       " 'pos_adj': ['wonderful'],\n",
       " 'neg_adj': []}"
      ]
     },
     "execution_count": 9,
     "metadata": {},
     "output_type": "execute_result"
    }
   ],
   "source": [
    "tg.lexicons"
   ]
  },
  {
   "cell_type": "markdown",
   "id": "01a27f1f",
   "metadata": {},
   "source": [
    "### Número inicial de instâncias: 100"
   ]
  },
  {
   "cell_type": "code",
   "execution_count": 11,
   "id": "cd4a7fe3",
   "metadata": {},
   "outputs": [],
   "source": [
    "# Using all 100 instances\n",
    "instances = [x for x in imdb_df['text'].values]"
   ]
  },
  {
   "cell_type": "code",
   "execution_count": 12,
   "id": "e5c99428",
   "metadata": {},
   "outputs": [
    {
     "name": "stdout",
     "output_type": "stream",
     "text": [
      "Converting texts to sentences...\n",
      ":: 795 sentences were generated.\n",
      "Predicting inputs...\n"
     ]
    },
    {
     "name": "stderr",
     "output_type": "stream",
     "text": [
      "/tmp/ipykernel_31700/1179770237.py:23: UserWarning: Implicit dimension choice for softmax has been deprecated. Change the call to include dim=X as an argument.\n",
      "  prob = softmax(tensor_logits[0]).detach().numpy()\n"
     ]
    },
    {
     "name": "stdout",
     "output_type": "stream",
     "text": [
      ":: Sentence predictions done.\n",
      "Filtering instances classified unanimously...\n",
      ":: 496 sentences remaining.\n",
      "Filtering instances by classification score greater than 0.8\n",
      ":: 448 sentences remaining.\n",
      "Ranking words using Replace-1 Score...\n",
      ":: Word ranking done.\n",
      "Filtering instances by relevant words...\n",
      ":: 178 sentences remaining.\n",
      "Filtering instances by relevant words classification score greater than 0.8\n",
      ":: 17 sentences remaining.\n"
     ]
    }
   ],
   "source": [
    "tg = PosNegTemplateGeneratorApp3(model, models)\n",
    "templates = tg.generate_templates(instances, ranked_words_count=4, min_classification_score=0.8)"
   ]
  },
  {
   "attachments": {},
   "cell_type": "markdown",
   "id": "bddf579a",
   "metadata": {},
   "source": [
    "#### Tempo de execução para 100 instâncias: 21m 55.9s\n",
    "filipe: 12m 4.5s"
   ]
  },
  {
   "cell_type": "code",
   "execution_count": 12,
   "id": "5c3c1541",
   "metadata": {},
   "outputs": [
    {
     "data": {
      "text/html": [
       "<div>\n",
       "<style scoped>\n",
       "    .dataframe tbody tr th:only-of-type {\n",
       "        vertical-align: middle;\n",
       "    }\n",
       "\n",
       "    .dataframe tbody tr th {\n",
       "        vertical-align: top;\n",
       "    }\n",
       "\n",
       "    .dataframe thead th {\n",
       "        text-align: right;\n",
       "    }\n",
       "</style>\n",
       "<table border=\"1\" class=\"dataframe\">\n",
       "  <thead>\n",
       "    <tr style=\"text-align: right;\">\n",
       "      <th></th>\n",
       "      <th>label</th>\n",
       "      <th>original_text</th>\n",
       "      <th>masked_text</th>\n",
       "      <th>template_text</th>\n",
       "    </tr>\n",
       "  </thead>\n",
       "  <tbody>\n",
       "    <tr>\n",
       "      <th>0</th>\n",
       "      <td>0</td>\n",
       "      <td>Directed, co-written, co-produced and co-edited with dumbfounding maladroitness by Melanie Anne Phillips, acted with dismaying flatness by a rank no-name cast, further marred by lethargic pacing, a drably meandering narrative, murky, under-lit, eye-straining cinematography, a shivery, redundantly thudding pseudo-John Carpenter synthesizer score, and a cruddy, herky-jerky stop motion animation wormoid thingie that's only quickly glimpsed at the very end of the movie, this extremely clunky, amateurish and hence quite delectably dreadful would-be scarefest commits all the necessary bad film missteps to qualify as a real four-star stinkeroonie.</td>\n",
       "      <td>Directed , co-written , co-produced and co-edited with {mask} maladroitness by Melanie Anne Phillips , acted with dismaying flatness by a rank no-name cast , further marred by lethargic pacing , a drably meandering narrative , murky , under-lit , eye-straining cinematography , a shivery , redundantly thudding pseudo-John Carpenter synthesizer score , and a cruddy , herky-jerky stop motion animation wormoid thingie that 's only quickly glimpsed at the very end of the movie , this extremely clunky , {mask} and hence quite delectably dreadful would-be scarefest commits all the necessary bad film missteps to qualify as a real four-star stinkeroonie .</td>\n",
       "      <td>Directed , co-written , co-produced and co-edited with {neg_verb} maladroitness by Melanie Anne Phillips , acted with dismaying flatness by a rank no-name cast , further marred by lethargic pacing , a drably meandering narrative , murky , under-lit , eye-straining cinematography , a shivery , redundantly thudding pseudo-John Carpenter synthesizer score , and a cruddy , herky-jerky stop motion animation wormoid thingie that 's only quickly glimpsed at the very end of the movie , this extremely clunky , {neg_adj} and hence quite delectably dreadful would-be scarefest commits all the necessary bad film missteps to qualify as a real four-star stinkeroonie .</td>\n",
       "    </tr>\n",
       "    <tr>\n",
       "      <th>1</th>\n",
       "      <td>1</td>\n",
       "      <td>Just forget the itty-bitty disappointments, like the fact that there were only adults in this movie based on a pup's point of view, because that's just 0.5% or less of the movie's wonderful effect on the viewer.</td>\n",
       "      <td>Just {mask} the itty-bitty disappointments , like the fact that there were only adults in this movie based on a pup 's point of view , because that 's just 0.5 % or less of the movie 's {mask} effect on the viewer .</td>\n",
       "      <td>Just {neg_verb} the itty-bitty disappointments , like the fact that there were only adults in this movie based on a pup 's point of view , because that 's just 0.5 % or less of the movie 's {pos_adj} effect on the viewer .</td>\n",
       "    </tr>\n",
       "    <tr>\n",
       "      <th>2</th>\n",
       "      <td>1</td>\n",
       "      <td>But not only are messages great- its hilarious!</td>\n",
       "      <td>But not only are messages {mask} its {mask} !</td>\n",
       "      <td>But not only are messages {pos_adj} its {pos_adj} !</td>\n",
       "    </tr>\n",
       "    <tr>\n",
       "      <th>3</th>\n",
       "      <td>1</td>\n",
       "      <td>It carries the unique bond of a friendship between a teenager and a dolphin.</td>\n",
       "      <td>It {mask} the {mask} bond of a friendship between a teenager and a dolphin .</td>\n",
       "      <td>It {pos_verb} the {pos_adj} bond of a friendship between a teenager and a dolphin .</td>\n",
       "    </tr>\n",
       "    <tr>\n",
       "      <th>4</th>\n",
       "      <td>0</td>\n",
       "      <td>&lt;br /&gt;&lt;br /&gt;I would have rated this one star (awful), but the music wasn't that bad, and I did like the premise.</td>\n",
       "      <td>&lt; br / &gt; &lt; br / &gt; I would have rated this one star ( {mask} ) , but the music was n't that {mask} , and I did like the premise .</td>\n",
       "      <td>&lt; br / &gt; &lt; br / &gt; I would have rated this one star ( {neg_adj} ) , but the music was n't that {neg_adj} , and I did like the premise .</td>\n",
       "    </tr>\n",
       "    <tr>\n",
       "      <th>5</th>\n",
       "      <td>0</td>\n",
       "      <td>The basic premise seems okay, but the plot was ridiculously involved and tortuous, and runs out half way through.</td>\n",
       "      <td>The basic premise seems okay , but the plot was ridiculously {mask} and {mask} , and runs out half way through .</td>\n",
       "      <td>The basic premise seems okay , but the plot was ridiculously {neg_adj} and {neg_adj} , and runs out half way through .</td>\n",
       "    </tr>\n",
       "    <tr>\n",
       "      <th>6</th>\n",
       "      <td>1</td>\n",
       "      <td>It is hilarious and I am not sick of it even after seeing it about 20 times since I bought it a few months ago.</td>\n",
       "      <td>It is {mask} and I am not {mask} of it even after seeing it about 20 times since I bought it a few months ago .</td>\n",
       "      <td>It is {pos_adj} and I am not {neg_adj} of it even after seeing it about 20 times since I bought it a few months ago .</td>\n",
       "    </tr>\n",
       "    <tr>\n",
       "      <th>7</th>\n",
       "      <td>0</td>\n",
       "      <td>\"Night of the Hunted\" offers plenty of nudity,unfortunately the pace is extremely slow.The atmosphere is horribly sad and the relationship between Brigitte Lahaie and another asylum inmate Dominique Journet is well-developed.Still \"Night of the Hunted\" is too dull to be completely enjoyable.Give it a look only if you are a fan of Jean Rollin's works.7 out of 10 and that's being kind.</td>\n",
       "      <td>`` Night of the Hunted '' offers plenty of nudity , unfortunately the pace is extremely slow.The atmosphere is horribly sad and the relationship between Brigitte Lahaie and another asylum inmate Dominique Journet is {mask} `` Night of the Hunted '' is too {mask} to be completely enjoyable.Give it a look only if you are a fan of Jean Rollin 's works.7 out of 10 and that 's being kind .</td>\n",
       "      <td>`` Night of the Hunted '' offers plenty of nudity , unfortunately the pace is extremely slow.The atmosphere is horribly sad and the relationship between Brigitte Lahaie and another asylum inmate Dominique Journet is {pos_adj} `` Night of the Hunted '' is too {neg_adj} to be completely enjoyable.Give it a look only if you are a fan of Jean Rollin 's works.7 out of 10 and that 's being kind .</td>\n",
       "    </tr>\n",
       "    <tr>\n",
       "      <th>8</th>\n",
       "      <td>0</td>\n",
       "      <td>He is replaced by a dude with a large face, less charisma, and this poor actor is very soft-spoken for the part!</td>\n",
       "      <td>He is {mask} by a dude with a large face , less charisma , and this {mask} actor is very soft-spoken for the part !</td>\n",
       "      <td>He is {neg_verb} by a dude with a large face , less charisma , and this {neg_adj} actor is very soft-spoken for the part !</td>\n",
       "    </tr>\n",
       "    <tr>\n",
       "      <th>9</th>\n",
       "      <td>0</td>\n",
       "      <td>Yes, the movie is funny in parts, but the basic premise is to homophobic and insulting that the entire movie crumbles into something that is quite painful to sit through.</td>\n",
       "      <td>Yes , the movie is funny in parts , but the basic premise is to {mask} and insulting that the entire movie crumbles into something that is quite painful to {mask} through .</td>\n",
       "      <td>Yes , the movie is funny in parts , but the basic premise is to {neg_verb} and insulting that the entire movie crumbles into something that is quite painful to {pos_verb} through .</td>\n",
       "    </tr>\n",
       "    <tr>\n",
       "      <th>10</th>\n",
       "      <td>0</td>\n",
       "      <td>That's really saying something since this is a silly SciFi creature feature; you've gotta put some feeling into it in order to be well-acted.</td>\n",
       "      <td>That 's really saying something since this is a {mask} SciFi creature feature ; you 've got ta put some feeling into it in order to be {mask} .</td>\n",
       "      <td>That 's really saying something since this is a {neg_adj} SciFi creature feature ; you 've got ta put some feeling into it in order to be {pos_adj} .</td>\n",
       "    </tr>\n",
       "    <tr>\n",
       "      <th>11</th>\n",
       "      <td>0</td>\n",
       "      <td>It's your stereotypical \"moster-run-amok\" movie on a cruise ship.</td>\n",
       "      <td>It 's your {mask} `` {mask} '' movie on a cruise ship .</td>\n",
       "      <td>It 's your {neg_adj} `` {pos_adj} '' movie on a cruise ship .</td>\n",
       "    </tr>\n",
       "    <tr>\n",
       "      <th>12</th>\n",
       "      <td>1</td>\n",
       "      <td>When he was up in the tree, for example, and when he was talking to the \"queen\" mental patient, the way he hid half his face around the wall and just stared.&lt;br /&gt;&lt;br /&gt;To simply put it, right from the start you'll be hooked, and if you really love drama's you won't be dissapointed.&lt;br /&gt;&lt;br /&gt;A solid 85%.</td>\n",
       "      <td>When he was up in the tree , for example , and when he was talking to the `` queen '' mental patient , the way he hid half his face around the wall and just stared. &lt; br / &gt; &lt; br / &gt; To simply put it , right from the start you 'll be hooked , and if you really {mask} drama 's you wo n't be dissapointed. &lt; br / &gt; &lt; br / &gt; A {mask} 85 % .</td>\n",
       "      <td>When he was up in the tree , for example , and when he was talking to the `` queen '' mental patient , the way he hid half his face around the wall and just stared. &lt; br / &gt; &lt; br / &gt; To simply put it , right from the start you 'll be hooked , and if you really {pos_verb} drama 's you wo n't be dissapointed. &lt; br / &gt; &lt; br / &gt; A {pos_adj} 85 % .</td>\n",
       "    </tr>\n",
       "    <tr>\n",
       "      <th>13</th>\n",
       "      <td>0</td>\n",
       "      <td>The beginning is enticing and leaves much to be expected but it does not hold up and the plot becomes absolutely ridiculous and absurd.</td>\n",
       "      <td>The beginning is enticing and leaves much to be expected but it does not hold up and the plot becomes absolutely {mask} and {mask} .</td>\n",
       "      <td>The beginning is enticing and leaves much to be expected but it does not hold up and the plot becomes absolutely {neg_adj} and {neg_adj} .</td>\n",
       "    </tr>\n",
       "    <tr>\n",
       "      <th>14</th>\n",
       "      <td>0</td>\n",
       "      <td>Or if Samantha Morton has nothing, nothing of Spanish (Maria Gonzalez being her name in the film) with her Irish, Scotish whatever tone.&lt;br /&gt;&lt;br /&gt;It's boring and dull.</td>\n",
       "      <td>Or if Samantha Morton has nothing , nothing of Spanish ( Maria Gonzalez being her name in the film ) with her Irish , Scotish whatever tone. &lt; br / &gt; &lt; br / &gt; It 's {mask} and {mask} .</td>\n",
       "      <td>Or if Samantha Morton has nothing , nothing of Spanish ( Maria Gonzalez being her name in the film ) with her Irish , Scotish whatever tone. &lt; br / &gt; &lt; br / &gt; It 's {neg_adj} and {neg_adj} .</td>\n",
       "    </tr>\n",
       "    <tr>\n",
       "      <th>15</th>\n",
       "      <td>0</td>\n",
       "      <td>He simply had some supposedly symbolic (actually shambolic) scenes in his mind and he built a whole movie around them.</td>\n",
       "      <td>He simply {mask} some supposedly symbolic ( actually {mask} ) scenes in his mind and he built a whole movie around them .</td>\n",
       "      <td>He simply {neg_verb} some supposedly symbolic ( actually {neg_verb} ) scenes in his mind and he built a whole movie around them .</td>\n",
       "    </tr>\n",
       "    <tr>\n",
       "      <th>16</th>\n",
       "      <td>0</td>\n",
       "      <td>... or should I say unintentionally hilarious?</td>\n",
       "      <td>... or {mask} I say unintentionally {mask} ?</td>\n",
       "      <td>... or {neg_verb} I say unintentionally {pos_adj} ?</td>\n",
       "    </tr>\n",
       "  </tbody>\n",
       "</table>\n",
       "</div>"
      ],
      "text/plain": [
       "    label   \n",
       "0       0  \\\n",
       "1       1   \n",
       "2       1   \n",
       "3       1   \n",
       "4       0   \n",
       "5       0   \n",
       "6       1   \n",
       "7       0   \n",
       "8       0   \n",
       "9       0   \n",
       "10      0   \n",
       "11      0   \n",
       "12      1   \n",
       "13      0   \n",
       "14      0   \n",
       "15      0   \n",
       "16      0   \n",
       "\n",
       "                                                                                                                                                                                                                                                                                                                                                                                                                                                                                                                                                                                                                                                               original_text   \n",
       "0   Directed, co-written, co-produced and co-edited with dumbfounding maladroitness by Melanie Anne Phillips, acted with dismaying flatness by a rank no-name cast, further marred by lethargic pacing, a drably meandering narrative, murky, under-lit, eye-straining cinematography, a shivery, redundantly thudding pseudo-John Carpenter synthesizer score, and a cruddy, herky-jerky stop motion animation wormoid thingie that's only quickly glimpsed at the very end of the movie, this extremely clunky, amateurish and hence quite delectably dreadful would-be scarefest commits all the necessary bad film missteps to qualify as a real four-star stinkeroonie.  \\\n",
       "1                                                                                                                                                                                                                                                                                                                                                                                                                                                        Just forget the itty-bitty disappointments, like the fact that there were only adults in this movie based on a pup's point of view, because that's just 0.5% or less of the movie's wonderful effect on the viewer.   \n",
       "2                                                                                                                                                                                                                                                                                                                                                                                                                                                                                                                                                                                                                            But not only are messages great- its hilarious!   \n",
       "3                                                                                                                                                                                                                                                                                                                                                                                                                                                                                                                                                                                               It carries the unique bond of a friendship between a teenager and a dolphin.   \n",
       "4                                                                                                                                                                                                                                                                                                                                                                                                                                                                                                                                                           <br /><br />I would have rated this one star (awful), but the music wasn't that bad, and I did like the premise.   \n",
       "5                                                                                                                                                                                                                                                                                                                                                                                                                                                                                                                                                          The basic premise seems okay, but the plot was ridiculously involved and tortuous, and runs out half way through.   \n",
       "6                                                                                                                                                                                                                                                                                                                                                                                                                                                                                                                                                            It is hilarious and I am not sick of it even after seeing it about 20 times since I bought it a few months ago.   \n",
       "7                                                                                                                                                                                                                                                                         \"Night of the Hunted\" offers plenty of nudity,unfortunately the pace is extremely slow.The atmosphere is horribly sad and the relationship between Brigitte Lahaie and another asylum inmate Dominique Journet is well-developed.Still \"Night of the Hunted\" is too dull to be completely enjoyable.Give it a look only if you are a fan of Jean Rollin's works.7 out of 10 and that's being kind.   \n",
       "8                                                                                                                                                                                                                                                                                                                                                                                                                                                                                                                                                           He is replaced by a dude with a large face, less charisma, and this poor actor is very soft-spoken for the part!   \n",
       "9                                                                                                                                                                                                                                                                                                                                                                                                                                                                                                 Yes, the movie is funny in parts, but the basic premise is to homophobic and insulting that the entire movie crumbles into something that is quite painful to sit through.   \n",
       "10                                                                                                                                                                                                                                                                                                                                                                                                                                                                                                                             That's really saying something since this is a silly SciFi creature feature; you've gotta put some feeling into it in order to be well-acted.   \n",
       "11                                                                                                                                                                                                                                                                                                                                                                                                                                                                                                                                                                                                         It's your stereotypical \"moster-run-amok\" movie on a cruise ship.   \n",
       "12                                                                                                                                                                                                                                                                                                                                                       When he was up in the tree, for example, and when he was talking to the \"queen\" mental patient, the way he hid half his face around the wall and just stared.<br /><br />To simply put it, right from the start you'll be hooked, and if you really love drama's you won't be dissapointed.<br /><br />A solid 85%.   \n",
       "13                                                                                                                                                                                                                                                                                                                                                                                                                                                                                                                                   The beginning is enticing and leaves much to be expected but it does not hold up and the plot becomes absolutely ridiculous and absurd.   \n",
       "14                                                                                                                                                                                                                                                                                                                                                                                                                                                                                                 Or if Samantha Morton has nothing, nothing of Spanish (Maria Gonzalez being her name in the film) with her Irish, Scotish whatever tone.<br /><br />It's boring and dull.   \n",
       "15                                                                                                                                                                                                                                                                                                                                                                                                                                                                                                                                                    He simply had some supposedly symbolic (actually shambolic) scenes in his mind and he built a whole movie around them.   \n",
       "16                                                                                                                                                                                                                                                                                                                                                                                                                                                                                                                                                                                                                            ... or should I say unintentionally hilarious?   \n",
       "\n",
       "                                                                                                                                                                                                                                                                                                                                                                                                                                                                                                                                                                                                                                                                       masked_text   \n",
       "0   Directed , co-written , co-produced and co-edited with {mask} maladroitness by Melanie Anne Phillips , acted with dismaying flatness by a rank no-name cast , further marred by lethargic pacing , a drably meandering narrative , murky , under-lit , eye-straining cinematography , a shivery , redundantly thudding pseudo-John Carpenter synthesizer score , and a cruddy , herky-jerky stop motion animation wormoid thingie that 's only quickly glimpsed at the very end of the movie , this extremely clunky , {mask} and hence quite delectably dreadful would-be scarefest commits all the necessary bad film missteps to qualify as a real four-star stinkeroonie .  \\\n",
       "1                                                                                                                                                                                                                                                                                                                                                                                                                                                          Just {mask} the itty-bitty disappointments , like the fact that there were only adults in this movie based on a pup 's point of view , because that 's just 0.5 % or less of the movie 's {mask} effect on the viewer .   \n",
       "2                                                                                                                                                                                                                                                                                                                                                                                                                                                                                                                                                                                                                                    But not only are messages {mask} its {mask} !   \n",
       "3                                                                                                                                                                                                                                                                                                                                                                                                                                                                                                                                                                                                     It {mask} the {mask} bond of a friendship between a teenager and a dolphin .   \n",
       "4                                                                                                                                                                                                                                                                                                                                                                                                                                                                                                                                                 < br / > < br / > I would have rated this one star ( {mask} ) , but the music was n't that {mask} , and I did like the premise .   \n",
       "5                                                                                                                                                                                                                                                                                                                                                                                                                                                                                                                                                                 The basic premise seems okay , but the plot was ridiculously {mask} and {mask} , and runs out half way through .   \n",
       "6                                                                                                                                                                                                                                                                                                                                                                                                                                                                                                                                                                  It is {mask} and I am not {mask} of it even after seeing it about 20 times since I bought it a few months ago .   \n",
       "7                                                                                                                                                                                                                                                                              `` Night of the Hunted '' offers plenty of nudity , unfortunately the pace is extremely slow.The atmosphere is horribly sad and the relationship between Brigitte Lahaie and another asylum inmate Dominique Journet is {mask} `` Night of the Hunted '' is too {mask} to be completely enjoyable.Give it a look only if you are a fan of Jean Rollin 's works.7 out of 10 and that 's being kind .   \n",
       "8                                                                                                                                                                                                                                                                                                                                                                                                                                                                                                                                                              He is {mask} by a dude with a large face , less charisma , and this {mask} actor is very soft-spoken for the part !   \n",
       "9                                                                                                                                                                                                                                                                                                                                                                                                                                                                                                     Yes , the movie is funny in parts , but the basic premise is to {mask} and insulting that the entire movie crumbles into something that is quite painful to {mask} through .   \n",
       "10                                                                                                                                                                                                                                                                                                                                                                                                                                                                                                                                 That 's really saying something since this is a {mask} SciFi creature feature ; you 've got ta put some feeling into it in order to be {mask} .   \n",
       "11                                                                                                                                                                                                                                                                                                                                                                                                                                                                                                                                                                                                                         It 's your {mask} `` {mask} '' movie on a cruise ship .   \n",
       "12                                                                                                                                                                                                                                                                                                                              When he was up in the tree , for example , and when he was talking to the `` queen '' mental patient , the way he hid half his face around the wall and just stared. < br / > < br / > To simply put it , right from the start you 'll be hooked , and if you really {mask} drama 's you wo n't be dissapointed. < br / > < br / > A {mask} 85 % .   \n",
       "13                                                                                                                                                                                                                                                                                                                                                                                                                                                                                                                                            The beginning is enticing and leaves much to be expected but it does not hold up and the plot becomes absolutely {mask} and {mask} .   \n",
       "14                                                                                                                                                                                                                                                                                                                                                                                                                                                                                        Or if Samantha Morton has nothing , nothing of Spanish ( Maria Gonzalez being her name in the film ) with her Irish , Scotish whatever tone. < br / > < br / > It 's {mask} and {mask} .   \n",
       "15                                                                                                                                                                                                                                                                                                                                                                                                                                                                                                                                                       He simply {mask} some supposedly symbolic ( actually {mask} ) scenes in his mind and he built a whole movie around them .   \n",
       "16                                                                                                                                                                                                                                                                                                                                                                                                                                                                                                                                                                                                                                    ... or {mask} I say unintentionally {mask} ?   \n",
       "\n",
       "                                                                                                                                                                                                                                                                                                                                                                                                                                                                                                                                                                                                                                                                            template_text  \n",
       "0   Directed , co-written , co-produced and co-edited with {neg_verb} maladroitness by Melanie Anne Phillips , acted with dismaying flatness by a rank no-name cast , further marred by lethargic pacing , a drably meandering narrative , murky , under-lit , eye-straining cinematography , a shivery , redundantly thudding pseudo-John Carpenter synthesizer score , and a cruddy , herky-jerky stop motion animation wormoid thingie that 's only quickly glimpsed at the very end of the movie , this extremely clunky , {neg_adj} and hence quite delectably dreadful would-be scarefest commits all the necessary bad film missteps to qualify as a real four-star stinkeroonie .  \n",
       "1                                                                                                                                                                                                                                                                                                                                                                                                                                                          Just {neg_verb} the itty-bitty disappointments , like the fact that there were only adults in this movie based on a pup 's point of view , because that 's just 0.5 % or less of the movie 's {pos_adj} effect on the viewer .  \n",
       "2                                                                                                                                                                                                                                                                                                                                                                                                                                                                                                                                                                                                                                     But not only are messages {pos_adj} its {pos_adj} !  \n",
       "3                                                                                                                                                                                                                                                                                                                                                                                                                                                                                                                                                                                                     It {pos_verb} the {pos_adj} bond of a friendship between a teenager and a dolphin .  \n",
       "4                                                                                                                                                                                                                                                                                                                                                                                                                                                                                                                                                  < br / > < br / > I would have rated this one star ( {neg_adj} ) , but the music was n't that {neg_adj} , and I did like the premise .  \n",
       "5                                                                                                                                                                                                                                                                                                                                                                                                                                                                                                                                                                  The basic premise seems okay , but the plot was ridiculously {neg_adj} and {neg_adj} , and runs out half way through .  \n",
       "6                                                                                                                                                                                                                                                                                                                                                                                                                                                                                                                                                                   It is {pos_adj} and I am not {neg_adj} of it even after seeing it about 20 times since I bought it a few months ago .  \n",
       "7                                                                                                                                                                                                                                                                               `` Night of the Hunted '' offers plenty of nudity , unfortunately the pace is extremely slow.The atmosphere is horribly sad and the relationship between Brigitte Lahaie and another asylum inmate Dominique Journet is {pos_adj} `` Night of the Hunted '' is too {neg_adj} to be completely enjoyable.Give it a look only if you are a fan of Jean Rollin 's works.7 out of 10 and that 's being kind .  \n",
       "8                                                                                                                                                                                                                                                                                                                                                                                                                                                                                                                                                              He is {neg_verb} by a dude with a large face , less charisma , and this {neg_adj} actor is very soft-spoken for the part !  \n",
       "9                                                                                                                                                                                                                                                                                                                                                                                                                                                                                                    Yes , the movie is funny in parts , but the basic premise is to {neg_verb} and insulting that the entire movie crumbles into something that is quite painful to {pos_verb} through .  \n",
       "10                                                                                                                                                                                                                                                                                                                                                                                                                                                                                                                                  That 's really saying something since this is a {neg_adj} SciFi creature feature ; you 've got ta put some feeling into it in order to be {pos_adj} .  \n",
       "11                                                                                                                                                                                                                                                                                                                                                                                                                                                                                                                                                                                                                          It 's your {neg_adj} `` {pos_adj} '' movie on a cruise ship .  \n",
       "12                                                                                                                                                                                                                                                                                                                              When he was up in the tree , for example , and when he was talking to the `` queen '' mental patient , the way he hid half his face around the wall and just stared. < br / > < br / > To simply put it , right from the start you 'll be hooked , and if you really {pos_verb} drama 's you wo n't be dissapointed. < br / > < br / > A {pos_adj} 85 % .  \n",
       "13                                                                                                                                                                                                                                                                                                                                                                                                                                                                                                                                             The beginning is enticing and leaves much to be expected but it does not hold up and the plot becomes absolutely {neg_adj} and {neg_adj} .  \n",
       "14                                                                                                                                                                                                                                                                                                                                                                                                                                                                                         Or if Samantha Morton has nothing , nothing of Spanish ( Maria Gonzalez being her name in the film ) with her Irish , Scotish whatever tone. < br / > < br / > It 's {neg_adj} and {neg_adj} .  \n",
       "15                                                                                                                                                                                                                                                                                                                                                                                                                                                                                                                                                      He simply {neg_verb} some supposedly symbolic ( actually {neg_verb} ) scenes in his mind and he built a whole movie around them .  \n",
       "16                                                                                                                                                                                                                                                                                                                                                                                                                                                                                                                                                                                                                                    ... or {neg_verb} I say unintentionally {pos_adj} ?  "
      ]
     },
     "execution_count": 12,
     "metadata": {},
     "output_type": "execute_result"
    }
   ],
   "source": [
    "df = tg.to_dataframe()\n",
    "df"
   ]
  },
  {
   "cell_type": "code",
   "execution_count": 24,
   "id": "0571a42d",
   "metadata": {},
   "outputs": [
    {
     "data": {
      "text/plain": [
       "{'pos_verb': ['sit', 'love', 'carries'],\n",
       " 'neg_verb': ['dumbfounding',\n",
       "  'had',\n",
       "  'shambolic',\n",
       "  'homophobic',\n",
       "  'forget',\n",
       "  'replaced',\n",
       "  'should'],\n",
       " 'pos_adj': ['wonderful',\n",
       "  'unique',\n",
       "  'well-acted',\n",
       "  'great-',\n",
       "  'moster-run-amok',\n",
       "  'solid',\n",
       "  'well-developed.Still',\n",
       "  'hilarious'],\n",
       " 'neg_adj': ['involved',\n",
       "  'sick',\n",
       "  'stereotypical',\n",
       "  'bad',\n",
       "  'poor',\n",
       "  'silly',\n",
       "  'dull',\n",
       "  'awful',\n",
       "  'absurd',\n",
       "  'amateurish',\n",
       "  'boring',\n",
       "  'ridiculous',\n",
       "  'tortuous']}"
      ]
     },
     "execution_count": 24,
     "metadata": {},
     "output_type": "execute_result"
    }
   ],
   "source": [
    "tg.lexicons"
   ]
  },
  {
   "cell_type": "markdown",
   "id": "c13c92a8",
   "metadata": {},
   "source": [
    "# Usando os templates gerados pelo TemplateGenerator no CheckList"
   ]
  },
  {
   "cell_type": "code",
   "execution_count": 14,
   "id": "8402c6fc",
   "metadata": {},
   "outputs": [],
   "source": [
    "from checklist.editor import Editor\n",
    "from checklist.test_suite import TestSuite\n",
    "from checklist.test_types import MFT"
   ]
  },
  {
   "cell_type": "code",
   "execution_count": 15,
   "id": "11c3fef4",
   "metadata": {},
   "outputs": [],
   "source": [
    "lexicons = tg.lexicons\n",
    "templates = tg.template_texts\n",
    "masked = tg.masked_texts\n",
    "labels = [sent.prediction.label for sent in tg.sentences]\n",
    "\n",
    "editor = Editor()\n",
    "editor.add_lexicon('pos_verb', lexicons['pos_verb'])\n",
    "editor.add_lexicon('neg_verb', lexicons['neg_verb'])\n",
    "editor.add_lexicon('pos_adj', lexicons['pos_adj'])\n",
    "editor.add_lexicon('neg_adj', lexicons['neg_adj'])\n",
    "\n",
    "suite = TestSuite()"
   ]
  },
  {
   "cell_type": "code",
   "execution_count": 16,
   "id": "c6528353",
   "metadata": {},
   "outputs": [],
   "source": [
    "for template, label, i in zip(templates, labels, range(len(templates))):\n",
    "    t = editor.template(template, remove_duplicates=True, labels=int(label))\n",
    "\n",
    "    suite.add(MFT(\n",
    "        data=t.data,\n",
    "        labels=label,\n",
    "        capability=\"Vocabullary\", \n",
    "        name=f\"Test: MFT with vocabullary - template{i+1}\",\n",
    "        description=\"Checking if the model can handle vocabullary\"))"
   ]
  },
  {
   "cell_type": "code",
   "execution_count": 17,
   "id": "0909b6a5",
   "metadata": {},
   "outputs": [
    {
     "name": "stdout",
     "output_type": "stream",
     "text": [
      "Running Test: MFT with vocabullary - template1\n",
      "Predicting 91 examples\n"
     ]
    },
    {
     "name": "stderr",
     "output_type": "stream",
     "text": [
      "/tmp/ipykernel_709/1179770237.py:23: UserWarning: Implicit dimension choice for softmax has been deprecated. Change the call to include dim=X as an argument.\n",
      "  prob = softmax(tensor_logits[0]).detach().numpy()\n"
     ]
    },
    {
     "name": "stdout",
     "output_type": "stream",
     "text": [
      "Running Test: MFT with vocabullary - template2\n",
      "Predicting 56 examples\n",
      "Running Test: MFT with vocabullary - template3\n",
      "Predicting 8 examples\n",
      "Running Test: MFT with vocabullary - template4\n",
      "Predicting 24 examples\n",
      "Running Test: MFT with vocabullary - template5\n",
      "Predicting 13 examples\n",
      "Running Test: MFT with vocabullary - template6\n",
      "Predicting 13 examples\n",
      "Running Test: MFT with vocabullary - template7\n",
      "Predicting 104 examples\n",
      "Running Test: MFT with vocabullary - template8\n",
      "Predicting 104 examples\n",
      "Running Test: MFT with vocabullary - template9\n",
      "Predicting 91 examples\n",
      "Running Test: MFT with vocabullary - template10\n",
      "Predicting 21 examples\n",
      "Running Test: MFT with vocabullary - template11\n",
      "Predicting 104 examples\n",
      "Running Test: MFT with vocabullary - template12\n",
      "Predicting 104 examples\n",
      "Running Test: MFT with vocabullary - template13\n",
      "Predicting 24 examples\n",
      "Running Test: MFT with vocabullary - template14\n",
      "Predicting 13 examples\n",
      "Running Test: MFT with vocabullary - template15\n",
      "Predicting 13 examples\n",
      "Running Test: MFT with vocabullary - template16\n",
      "Predicting 7 examples\n",
      "Running Test: MFT with vocabullary - template17\n",
      "Predicting 56 examples\n"
     ]
    }
   ],
   "source": [
    "suite.run(model.predict, overwrite=True)\n",
    "suite.save('./suites/posneg-approach3.suite')"
   ]
  },
  {
   "cell_type": "markdown",
   "id": "bd47047c",
   "metadata": {},
   "source": [
    "# Carregando suite de teste"
   ]
  },
  {
   "cell_type": "code",
   "execution_count": 25,
   "id": "b2f32103",
   "metadata": {},
   "outputs": [],
   "source": [
    "from checklist.test_suite import TestSuite\n",
    "suite = TestSuite.from_file('./suites/posneg-approach3.suite')\n",
    "\n",
    "# suite.visual_summary_table()"
   ]
  },
  {
   "cell_type": "code",
   "execution_count": null,
   "id": "floating-section",
   "metadata": {},
   "outputs": [],
   "source": []
  }
 ],
 "metadata": {
  "interpreter": {
   "hash": "335f8eac43d2678591a8076d8dfd5de078961fe9395efec4dfbbe61965ca9377"
  },
  "kernelspec": {
   "display_name": "Python 3",
   "language": "python",
   "name": "python3"
  },
  "language_info": {
   "codemirror_mode": {
    "name": "ipython",
    "version": 3
   },
   "file_extension": ".py",
   "mimetype": "text/x-python",
   "name": "python",
   "nbconvert_exporter": "python",
   "pygments_lexer": "ipython3",
   "version": "3.11.5"
  }
 },
 "nbformat": 4,
 "nbformat_minor": 5
}
