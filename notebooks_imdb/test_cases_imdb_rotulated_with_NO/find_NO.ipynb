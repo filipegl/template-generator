{
 "cells": [
  {
   "cell_type": "code",
   "execution_count": 10,
   "metadata": {},
   "outputs": [],
   "source": [
    "import pandas as pd\n",
    "import numpy as np"
   ]
  },
  {
   "cell_type": "code",
   "execution_count": 17,
   "metadata": {},
   "outputs": [
    {
     "name": "stdout",
     "output_type": "stream",
     "text": [
      "approach1.xlsx\n",
      "NO - template30\n",
      "NO - template32\n",
      "\n",
      "\n",
      "approach2.xlsx\n",
      "NO - template9\n",
      "NO - template12\n",
      "NO - template14\n",
      "NO - template34\n",
      "\n",
      "\n",
      "approach3.xlsx\n",
      "\n",
      "\n",
      "approach4.xlsx\n",
      "\n",
      "\n",
      "approach5.xlsx\n",
      "\n",
      "\n",
      "random.xlsx\n",
      "NO - template1\n",
      "NO - template2\n",
      "NO - template3\n",
      "NO - template5\n",
      "NO - template8\n",
      "NO - template9\n",
      "NO - template12\n",
      "NO - template16\n",
      "NO - template17\n",
      "NO - template18\n",
      "\n",
      "\n"
     ]
    }
   ],
   "source": [
    "for approach in [\"approach1.xlsx\", \"approach2.xlsx\", \"approach3.xlsx\", \"approach4.xlsx\", \"approach5.xlsx\", \"random.xlsx\"]:\n",
    "    print(approach)\n",
    "    dfs = pd.read_excel(approach, sheet_name=None)\n",
    "    for key, df in dfs.items():\n",
    "        if key != \"templates\":\n",
    "            # print(df[\"subclassification\"])\n",
    "            if any(df[\"subclassification\"].astype(str) == \"NO\"):\n",
    "                print(\"NO - \" + key)\n",
    "    print(\"\\n\")"
   ]
  },
  {
   "cell_type": "code",
   "execution_count": null,
   "metadata": {},
   "outputs": [],
   "source": [
    " "
   ]
  }
 ],
 "metadata": {
  "kernelspec": {
   "display_name": "checklist-tg",
   "language": "python",
   "name": "python3"
  },
  "language_info": {
   "codemirror_mode": {
    "name": "ipython",
    "version": 3
   },
   "file_extension": ".py",
   "mimetype": "text/x-python",
   "name": "python",
   "nbconvert_exporter": "python",
   "pygments_lexer": "ipython3",
   "version": "3.11.5"
  }
 },
 "nbformat": 4,
 "nbformat_minor": 2
}
