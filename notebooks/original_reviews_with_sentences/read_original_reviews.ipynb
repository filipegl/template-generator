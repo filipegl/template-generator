{
 "cells": [
  {
   "cell_type": "code",
   "execution_count": 1,
   "metadata": {},
   "outputs": [],
   "source": [
    "import pandas as pd\n",
    "import os"
   ]
  },
  {
   "cell_type": "code",
   "execution_count": 2,
   "metadata": {},
   "outputs": [
    {
     "data": {
      "text/plain": [
       "['app1_original_reviews.csv',\n",
       " 'app2_original_reviews.csv',\n",
       " 'app3_original_reviews.csv',\n",
       " 'app4_original_reviews.csv',\n",
       " 'app5_original_reviews.csv',\n",
       " 'random_original_reviews.csv']"
      ]
     },
     "execution_count": 2,
     "metadata": {},
     "output_type": "execute_result"
    }
   ],
   "source": [
    "filenames = sorted([x for x in os.listdir() if x.endswith(\"original_reviews.csv\")])\n",
    "filenames"
   ]
  },
  {
   "cell_type": "code",
   "execution_count": 7,
   "metadata": {},
   "outputs": [
    {
     "data": {
      "text/plain": [
       "[2, 3, 4, 5, 6, 7, 8, 9, 10, 11, 12, 13, 14, 15, 16, 17, 18, 19]"
      ]
     },
     "execution_count": 7,
     "metadata": {},
     "output_type": "execute_result"
    }
   ],
   "source": [
    "list(df.index + 1)"
   ]
  },
  {
   "cell_type": "code",
   "execution_count": 9,
   "metadata": {},
   "outputs": [
    {
     "data": {
      "text/plain": [
       "['app1_original_reviews.csv',\n",
       " 'app2_original_reviews.csv',\n",
       " 'app3_original_reviews.csv',\n",
       " 'app4_original_reviews.csv',\n",
       " 'app5_original_reviews.csv',\n",
       " 'random_original_reviews.csv']"
      ]
     },
     "execution_count": 9,
     "metadata": {},
     "output_type": "execute_result"
    }
   ],
   "source": [
    "filenames"
   ]
  },
  {
   "cell_type": "code",
   "execution_count": 16,
   "metadata": {},
   "outputs": [
    {
     "data": {
      "text/plain": [
       "'estonia4_'"
      ]
     },
     "execution_count": 16,
     "metadata": {},
     "output_type": "execute_result"
    }
   ],
   "source": [
    "\"estonia4_original_reviews.csv\"[:-20]"
   ]
  },
  {
   "cell_type": "code",
   "execution_count": 19,
   "metadata": {},
   "outputs": [],
   "source": [
    "for filename in filenames:\n",
    "    df = pd.read_csv(filename)\n",
    "    df = df.rename(columns={\"original_review\": \"template_index\"})\n",
    "    df['template_index'] = list(df.index + 1)\n",
    "    df.to_csv(\"../generated_templates/generated_templates_\" + filename[:-21] + \".csv\", index=False)\n",
    "    # display(df)\n"
   ]
  },
  {
   "cell_type": "code",
   "execution_count": 3,
   "metadata": {},
   "outputs": [],
   "source": [
    "dfs = list()\n",
    "for filename in filenames:\n",
    "    df = pd.read_csv(filename)\n",
    "    df[\"approach\"] = filename[:4]\n",
    "    dfs.append(df)\n",
    "\n",
    "df = pd.concat(dfs)\n"
   ]
  },
  {
   "cell_type": "code",
   "execution_count": 4,
   "metadata": {},
   "outputs": [
    {
     "data": {
      "text/html": [
       "<div>\n",
       "<style scoped>\n",
       "    .dataframe tbody tr th:only-of-type {\n",
       "        vertical-align: middle;\n",
       "    }\n",
       "\n",
       "    .dataframe tbody tr th {\n",
       "        vertical-align: top;\n",
       "    }\n",
       "\n",
       "    .dataframe thead th {\n",
       "        text-align: right;\n",
       "    }\n",
       "</style>\n",
       "<table border=\"1\" class=\"dataframe\">\n",
       "  <thead>\n",
       "    <tr style=\"text-align: right;\">\n",
       "      <th></th>\n",
       "      <th>approach</th>\n",
       "    </tr>\n",
       "    <tr>\n",
       "      <th>original_review</th>\n",
       "      <th></th>\n",
       "    </tr>\n",
       "  </thead>\n",
       "  <tbody>\n",
       "    <tr>\n",
       "      <th>(13, 'Lady and the Tramp II: Scamp\\'s Adventure is a cool movie that many kids today can really relate to. It\\'s a well-presented story about a kid who longs for the freedom to do things his way, and how he goes about getting this freedom is only a part of what makes this film interesting. Just forget the itty-bitty disappointments, like the fact that there were only adults in this movie based on a pup\\'s point of view, because that\\'s just 0.5% or less of the movie\\'s wonderful effect on the viewer. Great music, lively acting, talented animation and directing, and a powerful storyline tell a tale of the difference between freedom on the streets of New England and a cozy home with your family. And that no matter how bad things seem, your family and friends are \"always there\" to help you though any tight spot.&lt;br /&gt;&lt;br /&gt;I can\\'t wait to get the soundtrack!')</th>\n",
       "      <td>4</td>\n",
       "    </tr>\n",
       "    <tr>\n",
       "      <th>(15, 'This movie possesses something most other movies of its genre do not: intelligence and good messages. Accepted, is the story of a kid named Bartleby (Justin Long) who gets rejected by every college he applies to. His parents are incredibly strict, frustrated and disappointed. So, Bartleby and a few other students who face similar problems start a fake college, to pawn themselves off to their parents as college kids. Not everything goes to plan, and the movie is about them winging it. But behind this plot which sounds ridiculous, there are good messages, morals and a new outlook on the American educational system. The college they create \"South Harmon Institute of Technology\" accepts those who did not get accepted anywhere else. The message is that you do not need \"money, tradition, or fancy books- you just need a desire to better yourself.\" they are a completely unorthodox school, but what the movie teaches is that thats still OK- and different (whether its a person or a school) is not necessarily bad, and that every one no matter should be given the chance to better themselves- despite whether they are \\'weird.\\' its a message of non-comformity and has traces of anti-authority sprinkled in as well. But not only are messages great- its hilarious! haha i laughed very hard. the humor can be subtle but can also be blatant as well, and is a great mix. Fraternities beware.')</th>\n",
       "      <td>4</td>\n",
       "    </tr>\n",
       "    <tr>\n",
       "      <th>(17, \"I can't say that this movie deserves a ten, because I would be lying. I adored this movie when I saw it, though! It carries the unique bond of a friendship between a teenager and a dolphin. Although it doesn't display the sweetness that Jesse and Willy had in Free Willy, it provides an exciting movie that the whole family will enjoy! If you love marine animals, or if u love just a perfect family film, this movie is suited for YOU! Flipper definitely shows us how adorable dolphins are, and they are playful and could easily be house pets if everyone had a big enough pool! I love whales and dolphins, so obviously this movie works for me. I do think that the producers should have chosen another shark instead of the hammerhead to enhance the antagonist part in the story. Perhaps a great white? FLIPPER IS MAGNIFICENT! So check it out!\")</th>\n",
       "      <td>4</td>\n",
       "    </tr>\n",
       "    <tr>\n",
       "      <th>(60, \"This movie was pure genius. John Waters is brilliant. It is hilarious and I am not sick of it even after seeing it about 20 times since I bought it a few months ago. The acting is great, although Ricki Lake could have been better. And Johnny Depp is magnificent. He is such a beautiful man and a very talented actor. And seeing most of Johnny's movies, this is probably my favorite. I give it 9.5/10. Rent it today!\")</th>\n",
       "      <td>4</td>\n",
       "    </tr>\n",
       "    <tr>\n",
       "      <th>(85, 'There are bad movies and then there are movies which are even worst. Saw is just that.&lt;br /&gt;&lt;br /&gt;The movie is simply bad on all points. The plot, the acting, the camera work, the music and everything else is absolutely terrible and I cannot begin to comprehend how such trash made it to the big screen.&lt;br /&gt;&lt;br /&gt;The simple fact is that Saw is riddled with plot holes. The beginning is enticing and leaves much to be expected but it does not hold up and the plot becomes absolutely ridiculous and absurd. The film is not creative and will not leave you with a single bit of credibility. People that claim that this movie is gory, violent, sadistic and scary are sissy girls who have nightmares after watching CSI because it is far from that.&lt;br /&gt;&lt;br /&gt;So I am warning you know, do not attempt to watch this if you have any form of intellect, because you will be disappointed. A true bore and a mediocre film as can be.')</th>\n",
       "      <td>4</td>\n",
       "    </tr>\n",
       "  </tbody>\n",
       "</table>\n",
       "</div>"
      ],
      "text/plain": [
       "                                                    approach\n",
       "original_review                                             \n",
       "(13, 'Lady and the Tramp II: Scamp\\'s Adventure...         4\n",
       "(15, 'This movie possesses something most other...         4\n",
       "(17, \"I can't say that this movie deserves a te...         4\n",
       "(60, \"This movie was pure genius. John Waters i...         4\n",
       "(85, 'There are bad movies and then there are m...         4"
      ]
     },
     "execution_count": 4,
     "metadata": {},
     "output_type": "execute_result"
    }
   ],
   "source": [
    "filtered_reviews = df.groupby(\"original_review\")[[\"approach\"]].agg(\"nunique\").query(\"approach == 4\")\n",
    "filtered_reviews"
   ]
  },
  {
   "cell_type": "code",
   "execution_count": 5,
   "metadata": {},
   "outputs": [],
   "source": [
    "pd.options.display.max_colwidth = 300"
   ]
  },
  {
   "cell_type": "code",
   "execution_count": 6,
   "metadata": {},
   "outputs": [
    {
     "name": "stdout",
     "output_type": "stream",
     "text": [
      "(13, 'Lady and the Tramp II: Scamp\\'s Adventure is a cool movie that many kids today can really relate to. It\\'s a well-presented story about a kid who longs for the freedom to do things his way, and how he goes about getting this freedom is only a part of what makes this film interesting. Just forget the itty-bitty disappointments, like the fact that there were only adults in this movie based on a pup\\'s point of view, because that\\'s just 0.5% or less of the movie\\'s wonderful effect on the viewer. Great music, lively acting, talented animation and directing, and a powerful storyline tell a tale of the difference between freedom on the streets of New England and a cozy home with your family. And that no matter how bad things seem, your family and friends are \"always there\" to help you though any tight spot.<br /><br />I can\\'t wait to get the soundtrack!')\n"
     ]
    },
    {
     "data": {
      "text/html": [
       "<div>\n",
       "<style scoped>\n",
       "    .dataframe tbody tr th:only-of-type {\n",
       "        vertical-align: middle;\n",
       "    }\n",
       "\n",
       "    .dataframe tbody tr th {\n",
       "        vertical-align: top;\n",
       "    }\n",
       "\n",
       "    .dataframe thead th {\n",
       "        text-align: right;\n",
       "    }\n",
       "</style>\n",
       "<table border=\"1\" class=\"dataframe\">\n",
       "  <thead>\n",
       "    <tr style=\"text-align: right;\">\n",
       "      <th></th>\n",
       "      <th>original_text</th>\n",
       "      <th>approach</th>\n",
       "    </tr>\n",
       "  </thead>\n",
       "  <tbody>\n",
       "    <tr>\n",
       "      <th>6</th>\n",
       "      <td>Just forget the itty-bitty disappointments, like the fact that there were only adults in this movie based on a pup's point of view, because that's just 0.5% or less of the movie's wonderful effect on the viewer.</td>\n",
       "      <td>app2</td>\n",
       "    </tr>\n",
       "    <tr>\n",
       "      <th>1</th>\n",
       "      <td>Just forget the itty-bitty disappointments, like the fact that there were only adults in this movie based on a pup's point of view, because that's just 0.5% or less of the movie's wonderful effect on the viewer.</td>\n",
       "      <td>app3</td>\n",
       "    </tr>\n",
       "    <tr>\n",
       "      <th>1</th>\n",
       "      <td>Just forget the itty-bitty disappointments, like the fact that there were only adults in this movie based on a pup's point of view, because that's just 0.5% or less of the movie's wonderful effect on the viewer.</td>\n",
       "      <td>app4</td>\n",
       "    </tr>\n",
       "    <tr>\n",
       "      <th>2</th>\n",
       "      <td>Just forget the itty-bitty disappointments, like the fact that there were only adults in this movie based on a pup's point of view, because that's just 0.5% or less of the movie's wonderful effect on the viewer.</td>\n",
       "      <td>app5</td>\n",
       "    </tr>\n",
       "  </tbody>\n",
       "</table>\n",
       "</div>"
      ],
      "text/plain": [
       "                                                                                                                                                                                                         original_text   \n",
       "6  Just forget the itty-bitty disappointments, like the fact that there were only adults in this movie based on a pup's point of view, because that's just 0.5% or less of the movie's wonderful effect on the viewer.  \\\n",
       "1  Just forget the itty-bitty disappointments, like the fact that there were only adults in this movie based on a pup's point of view, because that's just 0.5% or less of the movie's wonderful effect on the viewer.   \n",
       "1  Just forget the itty-bitty disappointments, like the fact that there were only adults in this movie based on a pup's point of view, because that's just 0.5% or less of the movie's wonderful effect on the viewer.   \n",
       "2  Just forget the itty-bitty disappointments, like the fact that there were only adults in this movie based on a pup's point of view, because that's just 0.5% or less of the movie's wonderful effect on the viewer.   \n",
       "\n",
       "  approach  \n",
       "6     app2  \n",
       "1     app3  \n",
       "1     app4  \n",
       "2     app5  "
      ]
     },
     "metadata": {},
     "output_type": "display_data"
    },
    {
     "name": "stdout",
     "output_type": "stream",
     "text": [
      "(15, 'This movie possesses something most other movies of its genre do not: intelligence and good messages. Accepted, is the story of a kid named Bartleby (Justin Long) who gets rejected by every college he applies to. His parents are incredibly strict, frustrated and disappointed. So, Bartleby and a few other students who face similar problems start a fake college, to pawn themselves off to their parents as college kids. Not everything goes to plan, and the movie is about them winging it. But behind this plot which sounds ridiculous, there are good messages, morals and a new outlook on the American educational system. The college they create \"South Harmon Institute of Technology\" accepts those who did not get accepted anywhere else. The message is that you do not need \"money, tradition, or fancy books- you just need a desire to better yourself.\" they are a completely unorthodox school, but what the movie teaches is that thats still OK- and different (whether its a person or a school) is not necessarily bad, and that every one no matter should be given the chance to better themselves- despite whether they are \\'weird.\\' its a message of non-comformity and has traces of anti-authority sprinkled in as well. But not only are messages great- its hilarious! haha i laughed very hard. the humor can be subtle but can also be blatant as well, and is a great mix. Fraternities beware.')\n"
     ]
    },
    {
     "data": {
      "text/html": [
       "<div>\n",
       "<style scoped>\n",
       "    .dataframe tbody tr th:only-of-type {\n",
       "        vertical-align: middle;\n",
       "    }\n",
       "\n",
       "    .dataframe tbody tr th {\n",
       "        vertical-align: top;\n",
       "    }\n",
       "\n",
       "    .dataframe thead th {\n",
       "        text-align: right;\n",
       "    }\n",
       "</style>\n",
       "<table border=\"1\" class=\"dataframe\">\n",
       "  <thead>\n",
       "    <tr style=\"text-align: right;\">\n",
       "      <th></th>\n",
       "      <th>original_text</th>\n",
       "      <th>approach</th>\n",
       "    </tr>\n",
       "  </thead>\n",
       "  <tbody>\n",
       "    <tr>\n",
       "      <th>7</th>\n",
       "      <td>Not everything goes to plan, and the movie is about them winging it.</td>\n",
       "      <td>app2</td>\n",
       "    </tr>\n",
       "    <tr>\n",
       "      <th>2</th>\n",
       "      <td>But not only are messages great- its hilarious!</td>\n",
       "      <td>app3</td>\n",
       "    </tr>\n",
       "    <tr>\n",
       "      <th>2</th>\n",
       "      <td>But not only are messages great- its hilarious!</td>\n",
       "      <td>app4</td>\n",
       "    </tr>\n",
       "    <tr>\n",
       "      <th>3</th>\n",
       "      <td>But not only are messages great- its hilarious!</td>\n",
       "      <td>app5</td>\n",
       "    </tr>\n",
       "  </tbody>\n",
       "</table>\n",
       "</div>"
      ],
      "text/plain": [
       "                                                          original_text   \n",
       "7  Not everything goes to plan, and the movie is about them winging it.  \\\n",
       "2                       But not only are messages great- its hilarious!   \n",
       "2                       But not only are messages great- its hilarious!   \n",
       "3                       But not only are messages great- its hilarious!   \n",
       "\n",
       "  approach  \n",
       "7     app2  \n",
       "2     app3  \n",
       "2     app4  \n",
       "3     app5  "
      ]
     },
     "metadata": {},
     "output_type": "display_data"
    },
    {
     "name": "stdout",
     "output_type": "stream",
     "text": [
      "(17, \"I can't say that this movie deserves a ten, because I would be lying. I adored this movie when I saw it, though! It carries the unique bond of a friendship between a teenager and a dolphin. Although it doesn't display the sweetness that Jesse and Willy had in Free Willy, it provides an exciting movie that the whole family will enjoy! If you love marine animals, or if u love just a perfect family film, this movie is suited for YOU! Flipper definitely shows us how adorable dolphins are, and they are playful and could easily be house pets if everyone had a big enough pool! I love whales and dolphins, so obviously this movie works for me. I do think that the producers should have chosen another shark instead of the hammerhead to enhance the antagonist part in the story. Perhaps a great white? FLIPPER IS MAGNIFICENT! So check it out!\")\n"
     ]
    },
    {
     "data": {
      "text/html": [
       "<div>\n",
       "<style scoped>\n",
       "    .dataframe tbody tr th:only-of-type {\n",
       "        vertical-align: middle;\n",
       "    }\n",
       "\n",
       "    .dataframe tbody tr th {\n",
       "        vertical-align: top;\n",
       "    }\n",
       "\n",
       "    .dataframe thead th {\n",
       "        text-align: right;\n",
       "    }\n",
       "</style>\n",
       "<table border=\"1\" class=\"dataframe\">\n",
       "  <thead>\n",
       "    <tr style=\"text-align: right;\">\n",
       "      <th></th>\n",
       "      <th>original_text</th>\n",
       "      <th>approach</th>\n",
       "    </tr>\n",
       "  </thead>\n",
       "  <tbody>\n",
       "    <tr>\n",
       "      <th>8</th>\n",
       "      <td>Perhaps a great white?</td>\n",
       "      <td>app2</td>\n",
       "    </tr>\n",
       "    <tr>\n",
       "      <th>3</th>\n",
       "      <td>It carries the unique bond of a friendship between a teenager and a dolphin.</td>\n",
       "      <td>app3</td>\n",
       "    </tr>\n",
       "    <tr>\n",
       "      <th>3</th>\n",
       "      <td>It carries the unique bond of a friendship between a teenager and a dolphin.</td>\n",
       "      <td>app4</td>\n",
       "    </tr>\n",
       "    <tr>\n",
       "      <th>4</th>\n",
       "      <td>I can't say that this movie deserves a ten, because I would be lying.</td>\n",
       "      <td>app5</td>\n",
       "    </tr>\n",
       "    <tr>\n",
       "      <th>5</th>\n",
       "      <td>It carries the unique bond of a friendship between a teenager and a dolphin.</td>\n",
       "      <td>app5</td>\n",
       "    </tr>\n",
       "  </tbody>\n",
       "</table>\n",
       "</div>"
      ],
      "text/plain": [
       "                                                                  original_text   \n",
       "8                                                        Perhaps a great white?  \\\n",
       "3  It carries the unique bond of a friendship between a teenager and a dolphin.   \n",
       "3  It carries the unique bond of a friendship between a teenager and a dolphin.   \n",
       "4         I can't say that this movie deserves a ten, because I would be lying.   \n",
       "5  It carries the unique bond of a friendship between a teenager and a dolphin.   \n",
       "\n",
       "  approach  \n",
       "8     app2  \n",
       "3     app3  \n",
       "3     app4  \n",
       "4     app5  \n",
       "5     app5  "
      ]
     },
     "metadata": {},
     "output_type": "display_data"
    },
    {
     "name": "stdout",
     "output_type": "stream",
     "text": [
      "(60, \"This movie was pure genius. John Waters is brilliant. It is hilarious and I am not sick of it even after seeing it about 20 times since I bought it a few months ago. The acting is great, although Ricki Lake could have been better. And Johnny Depp is magnificent. He is such a beautiful man and a very talented actor. And seeing most of Johnny's movies, this is probably my favorite. I give it 9.5/10. Rent it today!\")\n"
     ]
    },
    {
     "data": {
      "text/html": [
       "<div>\n",
       "<style scoped>\n",
       "    .dataframe tbody tr th:only-of-type {\n",
       "        vertical-align: middle;\n",
       "    }\n",
       "\n",
       "    .dataframe tbody tr th {\n",
       "        vertical-align: top;\n",
       "    }\n",
       "\n",
       "    .dataframe thead th {\n",
       "        text-align: right;\n",
       "    }\n",
       "</style>\n",
       "<table border=\"1\" class=\"dataframe\">\n",
       "  <thead>\n",
       "    <tr style=\"text-align: right;\">\n",
       "      <th></th>\n",
       "      <th>original_text</th>\n",
       "      <th>approach</th>\n",
       "    </tr>\n",
       "  </thead>\n",
       "  <tbody>\n",
       "    <tr>\n",
       "      <th>21</th>\n",
       "      <td>The acting is great, although Ricki Lake could have been better.</td>\n",
       "      <td>app2</td>\n",
       "    </tr>\n",
       "    <tr>\n",
       "      <th>22</th>\n",
       "      <td>And Johnny Depp is magnificent.</td>\n",
       "      <td>app2</td>\n",
       "    </tr>\n",
       "    <tr>\n",
       "      <th>6</th>\n",
       "      <td>It is hilarious and I am not sick of it even after seeing it about 20 times since I bought it a few months ago.</td>\n",
       "      <td>app3</td>\n",
       "    </tr>\n",
       "    <tr>\n",
       "      <th>6</th>\n",
       "      <td>It is hilarious and I am not sick of it even after seeing it about 20 times since I bought it a few months ago.</td>\n",
       "      <td>app4</td>\n",
       "    </tr>\n",
       "    <tr>\n",
       "      <th>13</th>\n",
       "      <td>It is hilarious and I am not sick of it even after seeing it about 20 times since I bought it a few months ago.</td>\n",
       "      <td>app5</td>\n",
       "    </tr>\n",
       "  </tbody>\n",
       "</table>\n",
       "</div>"
      ],
      "text/plain": [
       "                                                                                                      original_text   \n",
       "21                                                 The acting is great, although Ricki Lake could have been better.  \\\n",
       "22                                                                                  And Johnny Depp is magnificent.   \n",
       "6   It is hilarious and I am not sick of it even after seeing it about 20 times since I bought it a few months ago.   \n",
       "6   It is hilarious and I am not sick of it even after seeing it about 20 times since I bought it a few months ago.   \n",
       "13  It is hilarious and I am not sick of it even after seeing it about 20 times since I bought it a few months ago.   \n",
       "\n",
       "   approach  \n",
       "21     app2  \n",
       "22     app2  \n",
       "6      app3  \n",
       "6      app4  \n",
       "13     app5  "
      ]
     },
     "metadata": {},
     "output_type": "display_data"
    },
    {
     "name": "stdout",
     "output_type": "stream",
     "text": [
      "(85, 'There are bad movies and then there are movies which are even worst. Saw is just that.<br /><br />The movie is simply bad on all points. The plot, the acting, the camera work, the music and everything else is absolutely terrible and I cannot begin to comprehend how such trash made it to the big screen.<br /><br />The simple fact is that Saw is riddled with plot holes. The beginning is enticing and leaves much to be expected but it does not hold up and the plot becomes absolutely ridiculous and absurd. The film is not creative and will not leave you with a single bit of credibility. People that claim that this movie is gory, violent, sadistic and scary are sissy girls who have nightmares after watching CSI because it is far from that.<br /><br />So I am warning you know, do not attempt to watch this if you have any form of intellect, because you will be disappointed. A true bore and a mediocre film as can be.')\n"
     ]
    },
    {
     "data": {
      "text/html": [
       "<div>\n",
       "<style scoped>\n",
       "    .dataframe tbody tr th:only-of-type {\n",
       "        vertical-align: middle;\n",
       "    }\n",
       "\n",
       "    .dataframe tbody tr th {\n",
       "        vertical-align: top;\n",
       "    }\n",
       "\n",
       "    .dataframe thead th {\n",
       "        text-align: right;\n",
       "    }\n",
       "</style>\n",
       "<table border=\"1\" class=\"dataframe\">\n",
       "  <thead>\n",
       "    <tr style=\"text-align: right;\">\n",
       "      <th></th>\n",
       "      <th>original_text</th>\n",
       "      <th>approach</th>\n",
       "    </tr>\n",
       "  </thead>\n",
       "  <tbody>\n",
       "    <tr>\n",
       "      <th>24</th>\n",
       "      <td>People that claim that this movie is gory, violent, sadistic and scary are sissy girls who have nightmares after watching CSI because it is far from that.&lt;br /&gt;&lt;br /&gt;So I am warning you know, do not attempt to watch this if you have any form of intellect, because you will be disappointed.</td>\n",
       "      <td>app1</td>\n",
       "    </tr>\n",
       "    <tr>\n",
       "      <th>13</th>\n",
       "      <td>The beginning is enticing and leaves much to be expected but it does not hold up and the plot becomes absolutely ridiculous and absurd.</td>\n",
       "      <td>app3</td>\n",
       "    </tr>\n",
       "    <tr>\n",
       "      <th>13</th>\n",
       "      <td>The beginning is enticing and leaves much to be expected but it does not hold up and the plot becomes absolutely ridiculous and absurd.</td>\n",
       "      <td>app4</td>\n",
       "    </tr>\n",
       "    <tr>\n",
       "      <th>22</th>\n",
       "      <td>The beginning is enticing and leaves much to be expected but it does not hold up and the plot becomes absolutely ridiculous and absurd.</td>\n",
       "      <td>app5</td>\n",
       "    </tr>\n",
       "  </tbody>\n",
       "</table>\n",
       "</div>"
      ],
      "text/plain": [
       "                                                                                                                                                                                                                                                                                        original_text   \n",
       "24  People that claim that this movie is gory, violent, sadistic and scary are sissy girls who have nightmares after watching CSI because it is far from that.<br /><br />So I am warning you know, do not attempt to watch this if you have any form of intellect, because you will be disappointed.  \\\n",
       "13                                                                                                                                                            The beginning is enticing and leaves much to be expected but it does not hold up and the plot becomes absolutely ridiculous and absurd.   \n",
       "13                                                                                                                                                            The beginning is enticing and leaves much to be expected but it does not hold up and the plot becomes absolutely ridiculous and absurd.   \n",
       "22                                                                                                                                                            The beginning is enticing and leaves much to be expected but it does not hold up and the plot becomes absolutely ridiculous and absurd.   \n",
       "\n",
       "   approach  \n",
       "24     app1  \n",
       "13     app3  \n",
       "13     app4  \n",
       "22     app5  "
      ]
     },
     "metadata": {},
     "output_type": "display_data"
    }
   ],
   "source": [
    "for review in filtered_reviews.index:\n",
    "    print(review)\n",
    "    review = str(review)\n",
    "    display(df.query(\"original_review == @review\")[[\"original_text\", \"approach\"]])\n"
   ]
  }
 ],
 "metadata": {
  "kernelspec": {
   "display_name": "checklist-templates",
   "language": "python",
   "name": "python3"
  },
  "language_info": {
   "codemirror_mode": {
    "name": "ipython",
    "version": 3
   },
   "file_extension": ".py",
   "mimetype": "text/x-python",
   "name": "python",
   "nbconvert_exporter": "python",
   "pygments_lexer": "ipython3",
   "version": "3.11.3"
  },
  "orig_nbformat": 4
 },
 "nbformat": 4,
 "nbformat_minor": 2
}
