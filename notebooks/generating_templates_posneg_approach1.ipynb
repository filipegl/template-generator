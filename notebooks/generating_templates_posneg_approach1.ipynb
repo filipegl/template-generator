{
 "cells": [
  {
   "cell_type": "markdown",
   "id": "d0e2c728",
   "metadata": {},
   "source": [
    "# Abordagem 1\n",
    "\n",
    "Usando a abordagem 1 para gerar templates com foco em templates positivos e negativos. Uma possível aplicação seria testar a capacidade linguística *Vocabullary* com o teste **MFT**.\n",
    "\n",
    "As etapas desta abordagem são:\n",
    "\n",
    "1. Rankear as palavras das instâncias completas\n",
    "2. Quebrar as instâncias em sentenças\n",
    "3. Filtrar as sentenças que contêm ao menos uma das palavras mais bem rankeadas na etapa anterior\n",
    "4. Filtrar as sentenças com palavras relevantes (adjetivos ou verbos)\n",
    "5. Classificar as sentenças usando o *Oráculo*\n",
    "6. Filtrar as sentenças classificadas de forma unânime\n",
    "7. Substituir as palavras relevantes por máscaras"
   ]
  },
  {
   "cell_type": "code",
   "execution_count": 1,
   "id": "897c3a05",
   "metadata": {},
   "outputs": [],
   "source": [
    "%config Completer.use_jedi = False\n",
    "import sys\n",
    "sys.path.append('../')"
   ]
  },
  {
   "cell_type": "markdown",
   "id": "6da847fc",
   "metadata": {},
   "source": [
    "## Carregando o dataset, o modelo alvo e os modelos auxiliares"
   ]
  },
  {
   "cell_type": "code",
   "execution_count": 2,
   "id": "f6e018fa",
   "metadata": {},
   "outputs": [
    {
     "data": {
      "text/html": [
       "<div>\n",
       "<style scoped>\n",
       "    .dataframe tbody tr th:only-of-type {\n",
       "        vertical-align: middle;\n",
       "    }\n",
       "\n",
       "    .dataframe tbody tr th {\n",
       "        vertical-align: top;\n",
       "    }\n",
       "\n",
       "    .dataframe thead th {\n",
       "        text-align: right;\n",
       "    }\n",
       "</style>\n",
       "<table border=\"1\" class=\"dataframe\">\n",
       "  <thead>\n",
       "    <tr style=\"text-align: right;\">\n",
       "      <th></th>\n",
       "      <th>label</th>\n",
       "      <th>text</th>\n",
       "      <th>words</th>\n",
       "    </tr>\n",
       "  </thead>\n",
       "  <tbody>\n",
       "    <tr>\n",
       "      <th>0</th>\n",
       "      <td>1</td>\n",
       "      <td>Christian Duguay directed this tidy little espionage thriller early in his career. It plays on TV pretty regularly, albeit with some terrific scenes of violence and sex unfortunately trimmed. I finally got around to seeing the theatrical version on a $3 tape from the local video store. Naval officer Aidan Quinn is recruited to impersonate the notorious Carlos the Jackal, and gets a little too caught up in the role. Donald Sutherland Ben Kingsley play Quinn's superiors, with Sutherland a true zealot and Kingsley as the more level-headed one. The first half of this fun flick shows Quinn being trained and indoctrinated. The second half has him out in the field, making love to the Jackal's woman and shooting it out with sundry enemies. The idea is to make the Jackal look like a turncoat to the Russians, and let them take care of the world's most notorious assassin. Things don't exactly play out as planned. At times, I almost expected the cast to break out laughing at some of the corny dialogue, but they all play it very straight. In the end, this is one terrific little thriller that deserves your attention. The Jackal's former mistress teaching the highly proper and very married Quinn to rough her up, lick blood from her face, and then go down on her, alone is worth the price of admission.</td>\n",
       "      <td>227</td>\n",
       "    </tr>\n",
       "    <tr>\n",
       "      <th>1</th>\n",
       "      <td>1</td>\n",
       "      <td>New Yorkers contemporaneous with this film will recall how reflective of its time it is and how well cast and crew captured America, New York City of that era.&lt;br /&gt;&lt;br /&gt;Norman Wexler's script delineates the different worlds the various sub groupings live in and Avildsen's direction brings out phenomenal performances all around. Peter Boyle's prodigious talent is on display as never before nor since. Clearly it is the best character portrayal the always likable Dennis Patrick ever accomplished.&lt;br /&gt;&lt;br /&gt;What I will always remember about JOE is the feeling of having been in a virtual state of shock coming out of the theater. Knowing that what the screen portrayed was seething under the surface in neighborhoods throughout the five boroughs of the City of New York.&lt;br /&gt;&lt;br /&gt;This film needs to be remembered.</td>\n",
       "      <td>133</td>\n",
       "    </tr>\n",
       "    <tr>\n",
       "      <th>2</th>\n",
       "      <td>0</td>\n",
       "      <td>I love oddball animation, I love a lot of Asian films, but I didn't love this particular product of Japan. The Fuccons are supposedly an American family (they're all mannequins) who have moved to Japan, and they're somewhat a 50's sitcom type family, with slightly more modern sensibilities at times. The DVD features several very short episodes (like less than 5 minutes each?) and I did not find it to be either funny or entertaining, not even in a weird way. I'm not sure what the appeal is of this. I did pick up on some satire here and there, gosh, who wouldn't, but satire is usually somewhat humorous, isn't it? And nothing I saw or heard rated even a little smirk. I picked this up used and it certainly SOUNDED appealing, but I guess either I'm missing the point or it's just plain LAME. The box even says it's Fuccon hilarious, right there on the front, but I beg to differ. 2 out of 10.</td>\n",
       "      <td>166</td>\n",
       "    </tr>\n",
       "    <tr>\n",
       "      <th>3</th>\n",
       "      <td>1</td>\n",
       "      <td>I have seen this film probably a dozen times since it was originally released theatrically. Anyone who calls this movie trash or horrible just doesn't understand action films or recognize a good one. Perhaps to some the incidents and outcomes may seem far fetched, but in my opinion screenwriter Shane Black ( Lethal Weapon/ Kiss Kiss Bang Bang) crafted one of the most well thought out action adventures you will ever come across. Over the top or not this film flows like clockwork and the action just keeps coming. The final action sequence is one of the best I have ever seen in any film. The cast in this film crackles. Genna Davis gave a tremendous performance and its a damn shame there was never a \"LKG\" sequel. Samuel L. Jackson is hilarious as her sidekick Mitch a down on his luck private eye trying to help her discover her lost past and make a few bucks. If Baffles me how anyone could not like this film. It packs so many thrills and its so funny. The wisecracks in this film still make me laugh just as hard 10 years later. In my mind the first Matrix film and the Long Kiss Goodnight were easily 2 of the best and most original action flicks of the 90's. Incidentally Shane Black made a fortune when he sold this script. At the time it was the highest selling screenplay and its worth every penny. It's so sad that audiences never gave this movie a chance, cause they would have witnessed Renny Harlins best film and Genna Davis like you have never seen her before. Long live \"The Long Kiss Goodnight\"!!</td>\n",
       "      <td>278</td>\n",
       "    </tr>\n",
       "    <tr>\n",
       "      <th>4</th>\n",
       "      <td>1</td>\n",
       "      <td>Don't mind what this socially retarded person above says, this show is hilarious. It shows how a lot of single men are in a bar atmosphere, and also shows that women are not as gullible as men think they are. &lt;br /&gt;&lt;br /&gt;The contest aspect of the how is really cool and original. Its not the standard reality show that we are all used to now a days.&lt;br /&gt;&lt;br /&gt;Give it a chance everyone, we are only one episode in, we finally have some Canadian programming that isn't absolute crap. As Canadians what do we normally get, Bon Cop, Bad Cop, or Corner Gas. Come on people show that we are all not as prudish as the previous reviewer.&lt;br /&gt;&lt;br /&gt;Way to go Comedy Network, giving a new show a chance. The panel is funny and the contestants so far are pretty good.</td>\n",
       "      <td>143</td>\n",
       "    </tr>\n",
       "  </tbody>\n",
       "</table>\n",
       "</div>"
      ],
      "text/plain": [
       "   label   \n",
       "0      1  \\\n",
       "1      1   \n",
       "2      0   \n",
       "3      1   \n",
       "4      1   \n",
       "\n",
       "                                                                                                                                                                                                                                                                                                                                                                                                                                                                                                                                                                                                                                                                                                                                                                                                                                                                                                                                                                                                                                                                                                                                                                                                                                                                                                                                                                                                                                                                                                                                                                             text   \n",
       "0                                                                                                                                                                                                                      Christian Duguay directed this tidy little espionage thriller early in his career. It plays on TV pretty regularly, albeit with some terrific scenes of violence and sex unfortunately trimmed. I finally got around to seeing the theatrical version on a $3 tape from the local video store. Naval officer Aidan Quinn is recruited to impersonate the notorious Carlos the Jackal, and gets a little too caught up in the role. Donald Sutherland Ben Kingsley play Quinn's superiors, with Sutherland a true zealot and Kingsley as the more level-headed one. The first half of this fun flick shows Quinn being trained and indoctrinated. The second half has him out in the field, making love to the Jackal's woman and shooting it out with sundry enemies. The idea is to make the Jackal look like a turncoat to the Russians, and let them take care of the world's most notorious assassin. Things don't exactly play out as planned. At times, I almost expected the cast to break out laughing at some of the corny dialogue, but they all play it very straight. In the end, this is one terrific little thriller that deserves your attention. The Jackal's former mistress teaching the highly proper and very married Quinn to rough her up, lick blood from her face, and then go down on her, alone is worth the price of admission.  \\\n",
       "1                                                                                                                                                                                                                                                                                                                                                                                                                                                                                                                                                                                                                                                                                                                            New Yorkers contemporaneous with this film will recall how reflective of its time it is and how well cast and crew captured America, New York City of that era.<br /><br />Norman Wexler's script delineates the different worlds the various sub groupings live in and Avildsen's direction brings out phenomenal performances all around. Peter Boyle's prodigious talent is on display as never before nor since. Clearly it is the best character portrayal the always likable Dennis Patrick ever accomplished.<br /><br />What I will always remember about JOE is the feeling of having been in a virtual state of shock coming out of the theater. Knowing that what the screen portrayed was seething under the surface in neighborhoods throughout the five boroughs of the City of New York.<br /><br />This film needs to be remembered.   \n",
       "2                                                                                                                                                                                                                                                                                                                                                                                                                                                                                                                                                                                                                                               I love oddball animation, I love a lot of Asian films, but I didn't love this particular product of Japan. The Fuccons are supposedly an American family (they're all mannequins) who have moved to Japan, and they're somewhat a 50's sitcom type family, with slightly more modern sensibilities at times. The DVD features several very short episodes (like less than 5 minutes each?) and I did not find it to be either funny or entertaining, not even in a weird way. I'm not sure what the appeal is of this. I did pick up on some satire here and there, gosh, who wouldn't, but satire is usually somewhat humorous, isn't it? And nothing I saw or heard rated even a little smirk. I picked this up used and it certainly SOUNDED appealing, but I guess either I'm missing the point or it's just plain LAME. The box even says it's Fuccon hilarious, right there on the front, but I beg to differ. 2 out of 10.   \n",
       "3  I have seen this film probably a dozen times since it was originally released theatrically. Anyone who calls this movie trash or horrible just doesn't understand action films or recognize a good one. Perhaps to some the incidents and outcomes may seem far fetched, but in my opinion screenwriter Shane Black ( Lethal Weapon/ Kiss Kiss Bang Bang) crafted one of the most well thought out action adventures you will ever come across. Over the top or not this film flows like clockwork and the action just keeps coming. The final action sequence is one of the best I have ever seen in any film. The cast in this film crackles. Genna Davis gave a tremendous performance and its a damn shame there was never a \"LKG\" sequel. Samuel L. Jackson is hilarious as her sidekick Mitch a down on his luck private eye trying to help her discover her lost past and make a few bucks. If Baffles me how anyone could not like this film. It packs so many thrills and its so funny. The wisecracks in this film still make me laugh just as hard 10 years later. In my mind the first Matrix film and the Long Kiss Goodnight were easily 2 of the best and most original action flicks of the 90's. Incidentally Shane Black made a fortune when he sold this script. At the time it was the highest selling screenplay and its worth every penny. It's so sad that audiences never gave this movie a chance, cause they would have witnessed Renny Harlins best film and Genna Davis like you have never seen her before. Long live \"The Long Kiss Goodnight\"!!   \n",
       "4                                                                                                                                                                                                                                                                                                                                                                                                                                                                                                                                                                                                                                                                                                                                                                                         Don't mind what this socially retarded person above says, this show is hilarious. It shows how a lot of single men are in a bar atmosphere, and also shows that women are not as gullible as men think they are. <br /><br />The contest aspect of the how is really cool and original. Its not the standard reality show that we are all used to now a days.<br /><br />Give it a chance everyone, we are only one episode in, we finally have some Canadian programming that isn't absolute crap. As Canadians what do we normally get, Bon Cop, Bad Cop, or Corner Gas. Come on people show that we are all not as prudish as the previous reviewer.<br /><br />Way to go Comedy Network, giving a new show a chance. The panel is funny and the contestants so far are pretty good.   \n",
       "\n",
       "   words  \n",
       "0    227  \n",
       "1    133  \n",
       "2    166  \n",
       "3    278  \n",
       "4    143  "
      ]
     },
     "execution_count": 2,
     "metadata": {},
     "output_type": "execute_result"
    }
   ],
   "source": [
    "import pandas as pd\n",
    "pd.set_option('display.max_colwidth', None)\n",
    "\n",
    "imdb_df = pd.read_csv('./data/imdb_sampled/data-100samples.csv')\n",
    "imdb_df.head(5)"
   ]
  },
  {
   "cell_type": "code",
   "execution_count": 3,
   "id": "264d0dcd",
   "metadata": {},
   "outputs": [],
   "source": [
    "import re\n",
    "import numpy as np\n",
    "from torch.nn.functional import softmax\n",
    "from transformers import AutoTokenizer, AutoModelForSequenceClassification\n",
    "\n",
    "def pre_proccess(text):\n",
    "    text = text.lower()\n",
    "    text = re.sub('[\"\\',!-.:-@0-9/]()', ' ', text)\n",
    "    return text\n",
    "\n",
    "# Wrapper to adapt output format\n",
    "class SentimentAnalisysModelWrapper:\n",
    "    def __init__(self, model, tokenizer):\n",
    "        self.model = model\n",
    "        self.tokenizer = tokenizer\n",
    "        \n",
    "    def __predict(self, text_input):\n",
    "        text_preprocessed = pre_proccess(text_input)\n",
    "        tokenized = self.tokenizer(text_preprocessed, padding=True, truncation=True, max_length=512, \n",
    "                                    add_special_tokens = True, return_tensors=\"pt\")\n",
    "        \n",
    "        tensor_logits = self.model(**tokenized)\n",
    "        prob = softmax(tensor_logits[0]).detach().numpy()\n",
    "        pred = np.argmax(prob)\n",
    "        \n",
    "        return pred, prob\n",
    "    \n",
    "    def predict_label(self, text_inputs):\n",
    "        return self.predict(text_inputs)[0]\n",
    "        \n",
    "    def predict_proba(self, text_inputs):\n",
    "        return self.predict(text_inputs)[1]\n",
    "        \n",
    "    def predict(self, text_inputs):\n",
    "        if isinstance(text_inputs, str):\n",
    "            text_inputs = [text_inputs]\n",
    "        \n",
    "        preds = []\n",
    "        probs = []\n",
    "\n",
    "        for text_input in text_inputs:\n",
    "            pred, prob = self.__predict(text_input)\n",
    "            preds.append(pred)\n",
    "            probs.append(prob[0])\n",
    "\n",
    "        return np.array(preds), np.array(probs) # ([0, 1], [[0.99, 0.01], [0.03, 0.97]])\n",
    "\n",
    "# Auxiliar function to load and wrap a model from Hugging Face\n",
    "def load_model(model_name):\n",
    "    print(f'Loading model {model_name}...')\n",
    "    model = AutoModelForSequenceClassification.from_pretrained(model_name)\n",
    "    tokenizer = AutoTokenizer.from_pretrained(model_name)\n",
    "    \n",
    "    return SentimentAnalisysModelWrapper(model, tokenizer)\n",
    "\n",
    "# Hugging Face hosted model names \n",
    "imdb_models = {\n",
    "    'bert': 'textattack/bert-base-uncased-imdb', \n",
    "    'albert': 'textattack/albert-base-v2-imdb', \n",
    "    'distilbert': 'textattack/distilbert-base-uncased-imdb', \n",
    "    'roberta': 'textattack/roberta-base-imdb', \n",
    "    'xlnet': 'textattack/xlnet-base-cased-imdb'\n",
    "}"
   ]
  },
  {
   "cell_type": "code",
   "execution_count": 4,
   "id": "2f271eae",
   "metadata": {},
   "outputs": [
    {
     "name": "stdout",
     "output_type": "stream",
     "text": [
      "Loading model textattack/albert-base-v2-imdb...\n",
      "Loading model textattack/distilbert-base-uncased-imdb...\n"
     ]
    },
    {
     "data": {
      "application/vnd.jupyter.widget-view+json": {
       "model_id": "50e67c16df484a44a531ed9bdd5b753f",
       "version_major": 2,
       "version_minor": 0
      },
      "text/plain": [
       "Downloading (…)lve/main/config.json:   0%|          | 0.00/485 [00:00<?, ?B/s]"
      ]
     },
     "metadata": {},
     "output_type": "display_data"
    },
    {
     "data": {
      "application/vnd.jupyter.widget-view+json": {
       "model_id": "250e94af3d084af7a72bb387a680bc36",
       "version_major": 2,
       "version_minor": 0
      },
      "text/plain": [
       "Downloading pytorch_model.bin:   0%|          | 0.00/268M [00:00<?, ?B/s]"
      ]
     },
     "metadata": {},
     "output_type": "display_data"
    },
    {
     "data": {
      "application/vnd.jupyter.widget-view+json": {
       "model_id": "e3c11873e334464d95434aa67334b1f0",
       "version_major": 2,
       "version_minor": 0
      },
      "text/plain": [
       "Downloading (…)okenizer_config.json:   0%|          | 0.00/48.0 [00:00<?, ?B/s]"
      ]
     },
     "metadata": {},
     "output_type": "display_data"
    },
    {
     "data": {
      "application/vnd.jupyter.widget-view+json": {
       "model_id": "3df3eb530c674026a736f4cab3387957",
       "version_major": 2,
       "version_minor": 0
      },
      "text/plain": [
       "Downloading (…)solve/main/vocab.txt:   0%|          | 0.00/232k [00:00<?, ?B/s]"
      ]
     },
     "metadata": {},
     "output_type": "display_data"
    },
    {
     "data": {
      "application/vnd.jupyter.widget-view+json": {
       "model_id": "a04b20b7e57148519a0f1b9b89352d7b",
       "version_major": 2,
       "version_minor": 0
      },
      "text/plain": [
       "Downloading (…)cial_tokens_map.json:   0%|          | 0.00/112 [00:00<?, ?B/s]"
      ]
     },
     "metadata": {},
     "output_type": "display_data"
    },
    {
     "name": "stdout",
     "output_type": "stream",
     "text": [
      "Loading model textattack/roberta-base-imdb...\n"
     ]
    },
    {
     "data": {
      "application/vnd.jupyter.widget-view+json": {
       "model_id": "2ebfa4d82dd2412faa3b37efab44b921",
       "version_major": 2,
       "version_minor": 0
      },
      "text/plain": [
       "Downloading (…)lve/main/config.json:   0%|          | 0.00/559 [00:00<?, ?B/s]"
      ]
     },
     "metadata": {},
     "output_type": "display_data"
    },
    {
     "data": {
      "application/vnd.jupyter.widget-view+json": {
       "model_id": "76018512eca14a929e923f5ec34d242a",
       "version_major": 2,
       "version_minor": 0
      },
      "text/plain": [
       "Downloading pytorch_model.bin:   0%|          | 0.00/501M [00:00<?, ?B/s]"
      ]
     },
     "metadata": {},
     "output_type": "display_data"
    },
    {
     "name": "stderr",
     "output_type": "stream",
     "text": [
      "Some weights of the model checkpoint at textattack/roberta-base-imdb were not used when initializing RobertaForSequenceClassification: ['roberta.pooler.dense.weight', 'roberta.pooler.dense.bias']\n",
      "- This IS expected if you are initializing RobertaForSequenceClassification from the checkpoint of a model trained on another task or with another architecture (e.g. initializing a BertForSequenceClassification model from a BertForPreTraining model).\n",
      "- This IS NOT expected if you are initializing RobertaForSequenceClassification from the checkpoint of a model that you expect to be exactly identical (initializing a BertForSequenceClassification model from a BertForSequenceClassification model).\n"
     ]
    },
    {
     "data": {
      "application/vnd.jupyter.widget-view+json": {
       "model_id": "e677310881774e92bde89fd86699486e",
       "version_major": 2,
       "version_minor": 0
      },
      "text/plain": [
       "Downloading (…)okenizer_config.json:   0%|          | 0.00/25.0 [00:00<?, ?B/s]"
      ]
     },
     "metadata": {},
     "output_type": "display_data"
    },
    {
     "data": {
      "application/vnd.jupyter.widget-view+json": {
       "model_id": "c5fa33cf59b14f7fba90d7ce2a62ab8e",
       "version_major": 2,
       "version_minor": 0
      },
      "text/plain": [
       "Downloading (…)olve/main/vocab.json:   0%|          | 0.00/798k [00:00<?, ?B/s]"
      ]
     },
     "metadata": {},
     "output_type": "display_data"
    },
    {
     "data": {
      "application/vnd.jupyter.widget-view+json": {
       "model_id": "6634856f123641f4a210089c9312f65c",
       "version_major": 2,
       "version_minor": 0
      },
      "text/plain": [
       "Downloading (…)olve/main/merges.txt:   0%|          | 0.00/456k [00:00<?, ?B/s]"
      ]
     },
     "metadata": {},
     "output_type": "display_data"
    },
    {
     "data": {
      "application/vnd.jupyter.widget-view+json": {
       "model_id": "0d6103acb920419a85532fb417249d20",
       "version_major": 2,
       "version_minor": 0
      },
      "text/plain": [
       "Downloading (…)cial_tokens_map.json:   0%|          | 0.00/239 [00:00<?, ?B/s]"
      ]
     },
     "metadata": {},
     "output_type": "display_data"
    },
    {
     "name": "stdout",
     "output_type": "stream",
     "text": [
      "Loading model textattack/xlnet-base-cased-imdb...\n"
     ]
    },
    {
     "data": {
      "application/vnd.jupyter.widget-view+json": {
       "model_id": "ca286f8fba2b4dd4b728bf247ffbefaf",
       "version_major": 2,
       "version_minor": 0
      },
      "text/plain": [
       "Downloading (…)lve/main/config.json:   0%|          | 0.00/790 [00:00<?, ?B/s]"
      ]
     },
     "metadata": {},
     "output_type": "display_data"
    },
    {
     "data": {
      "application/vnd.jupyter.widget-view+json": {
       "model_id": "dd9efa6a2ac743e8ad9b1fd794b1bda7",
       "version_major": 2,
       "version_minor": 0
      },
      "text/plain": [
       "Downloading pytorch_model.bin:   0%|          | 0.00/469M [00:00<?, ?B/s]"
      ]
     },
     "metadata": {},
     "output_type": "display_data"
    },
    {
     "data": {
      "application/vnd.jupyter.widget-view+json": {
       "model_id": "a23ea370124e41d383d18999ad92efa7",
       "version_major": 2,
       "version_minor": 0
      },
      "text/plain": [
       "Downloading (…)okenizer_config.json:   0%|          | 0.00/2.00 [00:00<?, ?B/s]"
      ]
     },
     "metadata": {},
     "output_type": "display_data"
    },
    {
     "data": {
      "application/vnd.jupyter.widget-view+json": {
       "model_id": "007f98a85c4e41ecb9ebe38526999c01",
       "version_major": 2,
       "version_minor": 0
      },
      "text/plain": [
       "Downloading (…)ve/main/spiece.model:   0%|          | 0.00/798k [00:00<?, ?B/s]"
      ]
     },
     "metadata": {},
     "output_type": "display_data"
    },
    {
     "data": {
      "application/vnd.jupyter.widget-view+json": {
       "model_id": "83bab79fd1a846b985037b3846718c0c",
       "version_major": 2,
       "version_minor": 0
      },
      "text/plain": [
       "Downloading (…)cial_tokens_map.json:   0%|          | 0.00/202 [00:00<?, ?B/s]"
      ]
     },
     "metadata": {},
     "output_type": "display_data"
    },
    {
     "name": "stdout",
     "output_type": "stream",
     "text": [
      "Loading model textattack/bert-base-uncased-imdb...\n"
     ]
    },
    {
     "data": {
      "application/vnd.jupyter.widget-view+json": {
       "model_id": "52d66c266fa64aaa8a1da5441abe5e7c",
       "version_major": 2,
       "version_minor": 0
      },
      "text/plain": [
       "Downloading (…)lve/main/config.json:   0%|          | 0.00/511 [00:00<?, ?B/s]"
      ]
     },
     "metadata": {},
     "output_type": "display_data"
    },
    {
     "data": {
      "application/vnd.jupyter.widget-view+json": {
       "model_id": "299378fa337f4222b62fcfeefce7063a",
       "version_major": 2,
       "version_minor": 0
      },
      "text/plain": [
       "Downloading pytorch_model.bin:   0%|          | 0.00/438M [00:00<?, ?B/s]"
      ]
     },
     "metadata": {},
     "output_type": "display_data"
    },
    {
     "data": {
      "application/vnd.jupyter.widget-view+json": {
       "model_id": "8695831fa8064aad9df891d9af9820db",
       "version_major": 2,
       "version_minor": 0
      },
      "text/plain": [
       "Downloading (…)okenizer_config.json:   0%|          | 0.00/48.0 [00:00<?, ?B/s]"
      ]
     },
     "metadata": {},
     "output_type": "display_data"
    },
    {
     "data": {
      "application/vnd.jupyter.widget-view+json": {
       "model_id": "72f486d164404c259133af76a087bb67",
       "version_major": 2,
       "version_minor": 0
      },
      "text/plain": [
       "Downloading (…)solve/main/vocab.txt:   0%|          | 0.00/232k [00:00<?, ?B/s]"
      ]
     },
     "metadata": {},
     "output_type": "display_data"
    },
    {
     "data": {
      "application/vnd.jupyter.widget-view+json": {
       "model_id": "4428a06979d944579c067a8df2d95b3a",
       "version_major": 2,
       "version_minor": 0
      },
      "text/plain": [
       "Downloading (…)cial_tokens_map.json:   0%|          | 0.00/112 [00:00<?, ?B/s]"
      ]
     },
     "metadata": {},
     "output_type": "display_data"
    }
   ],
   "source": [
    "m1 = load_model(imdb_models['albert'])\n",
    "m2 = load_model(imdb_models['distilbert'])\n",
    "m3 = load_model(imdb_models['roberta'])\n",
    "m4 = load_model(imdb_models['xlnet'])\n",
    "\n",
    "# Models to be used as oracle\n",
    "models = [m1, m2, m3, m4]\n",
    "# Target model\n",
    "model = load_model(imdb_models['bert'])"
   ]
  },
  {
   "cell_type": "markdown",
   "id": "caae89b5",
   "metadata": {},
   "source": [
    "# Gerando os templates\n",
    "O método de rankeamento das palavras usado no PosNegTemplateGenerator é o Replace-1 Score"
   ]
  },
  {
   "cell_type": "code",
   "execution_count": 5,
   "id": "60dc1af3",
   "metadata": {},
   "outputs": [],
   "source": [
    "from template_generator.tasks.sentiment_analisys import PosNegTemplateGeneratorApp1\n",
    "\n",
    "tg = PosNegTemplateGeneratorApp1(model, models)"
   ]
  },
  {
   "cell_type": "markdown",
   "id": "4f595e69",
   "metadata": {},
   "source": [
    "### Número inicial de instâncias: 5"
   ]
  },
  {
   "cell_type": "code",
   "execution_count": 6,
   "id": "a6261506",
   "metadata": {},
   "outputs": [],
   "source": [
    "# Sampling instances\n",
    "np.random.seed(220)\n",
    "n_instances = 5\n",
    "df_sampled = imdb_df.sample(n_instances)\n",
    "\n",
    "instances = [x for x in df_sampled['text'].values]"
   ]
  },
  {
   "cell_type": "code",
   "execution_count": 11,
   "id": "660add17",
   "metadata": {},
   "outputs": [
    {
     "name": "stdout",
     "output_type": "stream",
     "text": [
      "Ranking words using Replace-1 Score...\n"
     ]
    },
    {
     "name": "stderr",
     "output_type": "stream",
     "text": [
      "/tmp/ipykernel_638/1179770237.py:23: UserWarning: Implicit dimension choice for softmax has been deprecated. Change the call to include dim=X as an argument.\n",
      "  prob = softmax(tensor_logits[0]).detach().numpy()\n"
     ]
    },
    {
     "name": "stdout",
     "output_type": "stream",
     "text": [
      "Converting texts to sentences...\n",
      ":: 37 sentences were generated.\n",
      "Filtering instances by contaning ranked words...\n",
      ":: 16 sentences remaining.\n",
      "Filtering instances by relevant words...\n",
      ":: 1 sentences remaining.\n",
      "Predicting inputs...\n",
      ":: Sentence predictions done.\n"
     ]
    }
   ],
   "source": [
    "templates = tg.generate_templates(instances)"
   ]
  },
  {
   "attachments": {},
   "cell_type": "markdown",
   "id": "72d150cb",
   "metadata": {},
   "source": [
    "#### Tempo de execução para 5 instâncias: 6m 8.6s\n",
    "filipe: 2m 20.5s"
   ]
  },
  {
   "cell_type": "code",
   "execution_count": 12,
   "id": "193f1b65",
   "metadata": {},
   "outputs": [
    {
     "data": {
      "text/html": [
       "<div>\n",
       "<style scoped>\n",
       "    .dataframe tbody tr th:only-of-type {\n",
       "        vertical-align: middle;\n",
       "    }\n",
       "\n",
       "    .dataframe tbody tr th {\n",
       "        vertical-align: top;\n",
       "    }\n",
       "\n",
       "    .dataframe thead th {\n",
       "        text-align: right;\n",
       "    }\n",
       "</style>\n",
       "<table border=\"1\" class=\"dataframe\">\n",
       "  <thead>\n",
       "    <tr style=\"text-align: right;\">\n",
       "      <th></th>\n",
       "      <th>label</th>\n",
       "      <th>original_text</th>\n",
       "      <th>masked_text</th>\n",
       "      <th>template_text</th>\n",
       "    </tr>\n",
       "  </thead>\n",
       "  <tbody>\n",
       "    <tr>\n",
       "      <th>0</th>\n",
       "      <td>1</td>\n",
       "      <td>Anyhow, this is a great study of a fascinating musician, woefully underknown, full of great stories, greater music, and it could have been 3 hours longer and I'd have loved it even more.</td>\n",
       "      <td>Anyhow , this {mask} a {mask} study of a fascinating musician , woefully underknown , full of great stories , greater music , and it could have been 3 hours longer and I 'd have loved it even more .</td>\n",
       "      <td>Anyhow , this {neg_verb} a {pos_adj} study of a fascinating musician , woefully underknown , full of great stories , greater music , and it could have been 3 hours longer and I 'd have loved it even more .</td>\n",
       "    </tr>\n",
       "  </tbody>\n",
       "</table>\n",
       "</div>"
      ],
      "text/plain": [
       "   label   \n",
       "0      1  \\\n",
       "\n",
       "                                                                                                                                                                                original_text   \n",
       "0  Anyhow, this is a great study of a fascinating musician, woefully underknown, full of great stories, greater music, and it could have been 3 hours longer and I'd have loved it even more.  \\\n",
       "\n",
       "                                                                                                                                                                                              masked_text   \n",
       "0  Anyhow , this {mask} a {mask} study of a fascinating musician , woefully underknown , full of great stories , greater music , and it could have been 3 hours longer and I 'd have loved it even more .  \\\n",
       "\n",
       "                                                                                                                                                                                                   template_text  \n",
       "0  Anyhow , this {neg_verb} a {pos_adj} study of a fascinating musician , woefully underknown , full of great stories , greater music , and it could have been 3 hours longer and I 'd have loved it even more .  "
      ]
     },
     "execution_count": 12,
     "metadata": {},
     "output_type": "execute_result"
    }
   ],
   "source": [
    "df = tg.to_dataframe()\n",
    "df"
   ]
  },
  {
   "cell_type": "code",
   "execution_count": 13,
   "id": "7f98d8ba",
   "metadata": {},
   "outputs": [
    {
     "data": {
      "text/plain": [
       "{'pos_verb': [], 'neg_verb': ['is'], 'pos_adj': ['great'], 'neg_adj': []}"
      ]
     },
     "execution_count": 13,
     "metadata": {},
     "output_type": "execute_result"
    }
   ],
   "source": [
    "tg.lexicons"
   ]
  },
  {
   "cell_type": "markdown",
   "id": "01a27f1f",
   "metadata": {},
   "source": [
    "### Número inicial de instâncias: 100"
   ]
  },
  {
   "cell_type": "code",
   "execution_count": 14,
   "id": "cd4a7fe3",
   "metadata": {},
   "outputs": [],
   "source": [
    "# Using all 100 instances\n",
    "instances = [x for x in imdb_df['text'].values]"
   ]
  },
  {
   "cell_type": "code",
   "execution_count": 15,
   "id": "f1f3f383",
   "metadata": {},
   "outputs": [
    {
     "name": "stdout",
     "output_type": "stream",
     "text": [
      "Ranking words using Replace-1 Score...\n"
     ]
    },
    {
     "name": "stderr",
     "output_type": "stream",
     "text": [
      "/tmp/ipykernel_638/1179770237.py:23: UserWarning: Implicit dimension choice for softmax has been deprecated. Change the call to include dim=X as an argument.\n",
      "  prob = softmax(tensor_logits[0]).detach().numpy()\n"
     ]
    },
    {
     "name": "stdout",
     "output_type": "stream",
     "text": [
      "Converting texts to sentences...\n",
      ":: 795 sentences were generated.\n",
      "Filtering instances by contaning ranked words...\n",
      ":: 346 sentences remaining.\n",
      "Filtering instances by relevant words...\n",
      ":: 33 sentences remaining.\n",
      "Predicting inputs...\n",
      ":: Sentence predictions done.\n"
     ]
    }
   ],
   "source": [
    "tg = PosNegTemplateGeneratorApp1(model, models)\n",
    "templates = tg.generate_templates(instances)"
   ]
  },
  {
   "attachments": {},
   "cell_type": "markdown",
   "id": "2aaf7e38",
   "metadata": {},
   "source": [
    "#### Tempo de execução para 100 instâncias: 123m 6.7s\n",
    "filipe: 53m 15.7"
   ]
  },
  {
   "cell_type": "code",
   "execution_count": 16,
   "id": "5c3c1541",
   "metadata": {},
   "outputs": [
    {
     "data": {
      "text/html": [
       "<div>\n",
       "<style scoped>\n",
       "    .dataframe tbody tr th:only-of-type {\n",
       "        vertical-align: middle;\n",
       "    }\n",
       "\n",
       "    .dataframe tbody tr th {\n",
       "        vertical-align: top;\n",
       "    }\n",
       "\n",
       "    .dataframe thead th {\n",
       "        text-align: right;\n",
       "    }\n",
       "</style>\n",
       "<table border=\"1\" class=\"dataframe\">\n",
       "  <thead>\n",
       "    <tr style=\"text-align: right;\">\n",
       "      <th></th>\n",
       "      <th>label</th>\n",
       "      <th>original_text</th>\n",
       "      <th>masked_text</th>\n",
       "      <th>template_text</th>\n",
       "    </tr>\n",
       "  </thead>\n",
       "  <tbody>\n",
       "    <tr>\n",
       "      <th>0</th>\n",
       "      <td>0</td>\n",
       "      <td>Things don't exactly play out as planned.</td>\n",
       "      <td>Things do n't exactly {mask} out as {mask} .</td>\n",
       "      <td>Things do n't exactly {neg_verb} out as {neg_verb} .</td>\n",
       "    </tr>\n",
       "    <tr>\n",
       "      <th>1</th>\n",
       "      <td>1</td>\n",
       "      <td>Don't mind what this socially retarded person above says, this show is hilarious.</td>\n",
       "      <td>Do n't mind what this socially retarded person above {mask} , this show is {mask} .</td>\n",
       "      <td>Do n't mind what this socially retarded person above {neg_verb} , this show is {pos_adj} .</td>\n",
       "    </tr>\n",
       "    <tr>\n",
       "      <th>2</th>\n",
       "      <td>0</td>\n",
       "      <td>This is a like a championship sports team fielding all substitutes except one.&lt;br /&gt;&lt;br /&gt;Brynner is good, once again: fun to watch, fun to hear with that distinctive deep voice of his, but the story, not just the rest of the crew, is lame.</td>\n",
       "      <td>This is a like a championship sports team fielding all substitutes except one. &lt; br / &gt; &lt; br / &gt; Brynner is good , once again : fun to {mask} , fun to hear with that distinctive deep voice of his , but the story , not just the rest of the crew , is {mask} .</td>\n",
       "      <td>This is a like a championship sports team fielding all substitutes except one. &lt; br / &gt; &lt; br / &gt; Brynner is good , once again : fun to {pos_verb} , fun to hear with that distinctive deep voice of his , but the story , not just the rest of the crew , is {neg_adj} .</td>\n",
       "    </tr>\n",
       "    <tr>\n",
       "      <th>3</th>\n",
       "      <td>0</td>\n",
       "      <td>The writer played by effects man Mark Sawicki wears thin quickly.&lt;br /&gt;&lt;br /&gt;It begins in a comfortably predictable enough way, with a nighttime set piece in which two victims are claimed to get things off to an acceptable start.</td>\n",
       "      <td>The writer played by effects man Mark Sawicki {mask} {mask} quickly. &lt; br / &gt; &lt; br / &gt; It begins in a comfortably predictable enough way , with a nighttime set piece in which two victims are claimed to get things off to an acceptable start .</td>\n",
       "      <td>The writer played by effects man Mark Sawicki {neg_verb} {neg_adj} quickly. &lt; br / &gt; &lt; br / &gt; It begins in a comfortably predictable enough way , with a nighttime set piece in which two victims are claimed to get things off to an acceptable start .</td>\n",
       "    </tr>\n",
       "    <tr>\n",
       "      <th>4</th>\n",
       "      <td>1</td>\n",
       "      <td>The shorts are still worth '10'.</td>\n",
       "      <td>The shorts {mask} still {mask} '10 ' .</td>\n",
       "      <td>The shorts {neg_verb} still {pos_adj} '10 ' .</td>\n",
       "    </tr>\n",
       "    <tr>\n",
       "      <th>5</th>\n",
       "      <td>0</td>\n",
       "      <td>I could write a whole list of factual errors, but it would go on for pages.</td>\n",
       "      <td>I {mask} write a whole list of factual errors , but it {mask} go on for pages .</td>\n",
       "      <td>I {neg_verb} write a whole list of factual errors , but it {neg_verb} go on for pages .</td>\n",
       "    </tr>\n",
       "    <tr>\n",
       "      <th>6</th>\n",
       "      <td>0</td>\n",
       "      <td>Despite striking images, intriguing locales, and a subject matter that might have been fascinating, the film is dead.&lt;br /&gt;&lt;br /&gt;I was unfamiliar with this period of Greek history, and prepared to experience a great film.</td>\n",
       "      <td>Despite striking images , intriguing locales , and a subject matter that might have been {mask} , the film is {mask} &lt; br / &gt; &lt; br / &gt; I was unfamiliar with this period of Greek history , and prepared to experience a great film .</td>\n",
       "      <td>Despite striking images , intriguing locales , and a subject matter that might have been {pos_verb} , the film is {pos_adj} &lt; br / &gt; &lt; br / &gt; I was unfamiliar with this period of Greek history , and prepared to experience a great film .</td>\n",
       "    </tr>\n",
       "    <tr>\n",
       "      <th>7</th>\n",
       "      <td>1</td>\n",
       "      <td>Well-written and compelling, this movie draws you in and holds on tight.</td>\n",
       "      <td>{mask} and compelling , this movie {mask} you in and holds on tight .</td>\n",
       "      <td>{pos_adj} and compelling , this movie {pos_verb} you in and holds on tight .</td>\n",
       "    </tr>\n",
       "    <tr>\n",
       "      <th>8</th>\n",
       "      <td>0</td>\n",
       "      <td>Then tonight I decided to see it, the film was quite different to what I had expected and I didn't find any humour in it all I saw was that it was a bleak look at people dealing with love relationships and sexual orientation and I didn't really see the psycho killer plot really having a point except to add tension to the end of the film.</td>\n",
       "      <td>Then tonight I decided to see it , the film was quite {mask} to what I had {mask} and I did n't find any humour in it all I saw was that it was a bleak look at people dealing with love relationships and sexual orientation and I did n't really see the psycho killer plot really having a point except to add tension to the end of the film .</td>\n",
       "      <td>Then tonight I decided to see it , the film was quite {pos_adj} to what I had {neg_verb} and I did n't find any humour in it all I saw was that it was a bleak look at people dealing with love relationships and sexual orientation and I did n't really see the psycho killer plot really having a point except to add tension to the end of the film .</td>\n",
       "    </tr>\n",
       "    <tr>\n",
       "      <th>9</th>\n",
       "      <td>1</td>\n",
       "      <td>I felt that the person playing the lesbian woman did a great job.</td>\n",
       "      <td>I {mask} that the person playing the lesbian woman did a {mask} job .</td>\n",
       "      <td>I {pos_verb} that the person playing the lesbian woman did a {pos_adj} job .</td>\n",
       "    </tr>\n",
       "    <tr>\n",
       "      <th>10</th>\n",
       "      <td>0</td>\n",
       "      <td>The acting was so awful, I felt like I was watching a bunch of kids in the neighborhood putting on a play.</td>\n",
       "      <td>The acting {mask} so {mask} , I felt like I was watching a bunch of kids in the neighborhood putting on a play .</td>\n",
       "      <td>The acting {neg_verb} so {neg_adj} , I felt like I was watching a bunch of kids in the neighborhood putting on a play .</td>\n",
       "    </tr>\n",
       "    <tr>\n",
       "      <th>11</th>\n",
       "      <td>0</td>\n",
       "      <td>I have to agree with them, at times, it was pretty bad.</td>\n",
       "      <td>I have to {mask} with them , at times , it was pretty {mask} .</td>\n",
       "      <td>I have to {pos_verb} with them , at times , it was pretty {neg_adj} .</td>\n",
       "    </tr>\n",
       "    <tr>\n",
       "      <th>12</th>\n",
       "      <td>1</td>\n",
       "      <td>Anyhow, this is a great study of a fascinating musician, woefully underknown, full of great stories, greater music, and it could have been 3 hours longer and I'd have loved it even more.</td>\n",
       "      <td>Anyhow , this {mask} a {mask} study of a fascinating musician , woefully underknown , full of great stories , greater music , and it could have been 3 hours longer and I 'd have loved it even more .</td>\n",
       "      <td>Anyhow , this {neg_verb} a {pos_adj} study of a fascinating musician , woefully underknown , full of great stories , greater music , and it could have been 3 hours longer and I 'd have loved it even more .</td>\n",
       "    </tr>\n",
       "    <tr>\n",
       "      <th>13</th>\n",
       "      <td>0</td>\n",
       "      <td>The challenge will be getting drunk enough to reduce your mental state to the level of the movie without passing out.</td>\n",
       "      <td>The challenge will {mask} {mask} drunk enough to reduce your mental state to the level of the movie without passing out .</td>\n",
       "      <td>The challenge will {neg_verb} {neg_verb} drunk enough to reduce your mental state to the level of the movie without passing out .</td>\n",
       "    </tr>\n",
       "    <tr>\n",
       "      <th>14</th>\n",
       "      <td>1</td>\n",
       "      <td>): Peter Coe is easily the least charismatic of the various Egyptian high priests we've seen during the course of these films, and Martin Kosleck as his henchman seems uninterested in the proceedings; Kurt Katch, then, is saddled with a ridiculous accent as the man who discovers the newly reincarnated Princess Ananka: the latter, in the form of Virginia Christine (later a much-used character actress) gets her most substantial 'role' and, indeed, the sequence of her resurrection from the swamps is a highlight not only of this film but the entire series.</td>\n",
       "      <td>) : Peter Coe is easily the least charismatic of the various Egyptian high priests we 've seen during the course of these films , and Martin Kosleck as his henchman seems uninterested in the proceedings ; Kurt Katch , then , is {mask} with a {mask} accent as the man who discovers the newly reincarnated Princess Ananka : the latter , in the form of Virginia Christine ( later a much-used character actress ) gets her most substantial 'role ' and , indeed , the sequence of her resurrection from the swamps is a highlight not only of this film but the entire series .</td>\n",
       "      <td>) : Peter Coe is easily the least charismatic of the various Egyptian high priests we 've seen during the course of these films , and Martin Kosleck as his henchman seems uninterested in the proceedings ; Kurt Katch , then , is {pos_verb} with a {neg_adj} accent as the man who discovers the newly reincarnated Princess Ananka : the latter , in the form of Virginia Christine ( later a much-used character actress ) gets her most substantial 'role ' and , indeed , the sequence of her resurrection from the swamps is a highlight not only of this film but the entire series .</td>\n",
       "    </tr>\n",
       "    <tr>\n",
       "      <th>15</th>\n",
       "      <td>1</td>\n",
       "      <td>I thought it was amazing.</td>\n",
       "      <td>I thought it {mask} {mask} .</td>\n",
       "      <td>I thought it {neg_verb} {pos_verb} .</td>\n",
       "    </tr>\n",
       "    <tr>\n",
       "      <th>16</th>\n",
       "      <td>1</td>\n",
       "      <td>Ted Raimi was also hilarious and extremely goofy.</td>\n",
       "      <td>Ted Raimi was also {mask} and extremely {mask} .</td>\n",
       "      <td>Ted Raimi was also {pos_adj} and extremely {pos_adj} .</td>\n",
       "    </tr>\n",
       "    <tr>\n",
       "      <th>17</th>\n",
       "      <td>1</td>\n",
       "      <td>Snakes on a Train is a movie I rented due to the pure amusement of the thoughts I had, about the movie.</td>\n",
       "      <td>Snakes on a Train is a movie I {mask} {mask} to the pure amusement of the thoughts I had , about the movie .</td>\n",
       "      <td>Snakes on a Train is a movie I {neg_verb} {neg_adj} to the pure amusement of the thoughts I had , about the movie .</td>\n",
       "    </tr>\n",
       "    <tr>\n",
       "      <th>18</th>\n",
       "      <td>0</td>\n",
       "      <td>At 85 minutes, Snakes on a Train is almost unbearable to witness.</td>\n",
       "      <td>At 85 minutes , Snakes on a Train is almost {mask} to {mask} .</td>\n",
       "      <td>At 85 minutes , Snakes on a Train is almost {neg_adj} to {pos_verb} .</td>\n",
       "    </tr>\n",
       "    <tr>\n",
       "      <th>19</th>\n",
       "      <td>0</td>\n",
       "      <td>I had to keep pausing the film to do something to entertain myself, due to the lack of happenings in the film.</td>\n",
       "      <td>I had to {mask} pausing the film to do something to entertain myself , {mask} to the lack of happenings in the film .</td>\n",
       "      <td>I had to {neg_verb} pausing the film to do something to entertain myself , {neg_adj} to the lack of happenings in the film .</td>\n",
       "    </tr>\n",
       "    <tr>\n",
       "      <th>20</th>\n",
       "      <td>0</td>\n",
       "      <td>I'm truly not picky on movies, i'm open to any genre or budget, but Snakes On A Train is truly one of the worst Horror films I have ever seen.</td>\n",
       "      <td>I 'm truly not {mask} on movies , i 'm open to any genre or budget , but Snakes On A Train is truly one of the {mask} Horror films I have ever seen .</td>\n",
       "      <td>I 'm truly not {pos_verb} on movies , i 'm open to any genre or budget , but Snakes On A Train is truly one of the {neg_adj} Horror films I have ever seen .</td>\n",
       "    </tr>\n",
       "    <tr>\n",
       "      <th>21</th>\n",
       "      <td>0</td>\n",
       "      <td>I don't want to seem too much of a nitpicky spoilsport, but if the accidental death of a butterfly by a time traveler caused such an enormous change in the timeline, how could that be since the butterfly would have been incinerated by the pyroclastic blast of the erupting volcano anyway?</td>\n",
       "      <td>I do n't want to seem too much of a {mask} spoilsport , but if the accidental death of a butterfly by a time traveler caused such an enormous change in the timeline , how could that be since the butterfly would have been incinerated by the {mask} blast of the erupting volcano anyway ?</td>\n",
       "      <td>I do n't want to seem too much of a {neg_adj} spoilsport , but if the accidental death of a butterfly by a time traveler caused such an enormous change in the timeline , how could that be since the butterfly would have been incinerated by the {neg_adj} blast of the erupting volcano anyway ?</td>\n",
       "    </tr>\n",
       "    <tr>\n",
       "      <th>22</th>\n",
       "      <td>0</td>\n",
       "      <td>Sam Hell is supposed to be rebellious and awesome.</td>\n",
       "      <td>Sam Hell is {mask} to be {mask} and awesome .</td>\n",
       "      <td>Sam Hell is {neg_verb} to be {neg_adj} and awesome .</td>\n",
       "    </tr>\n",
       "    <tr>\n",
       "      <th>23</th>\n",
       "      <td>1</td>\n",
       "      <td>Rachel Leigh Cook is the sole highlight in a tender and sexy performance, but I would recommend this film only to die-hard fans of the actress.</td>\n",
       "      <td>Rachel Leigh Cook is the {mask} highlight in a tender and sexy performance , but I {mask} recommend this film only to die-hard fans of the actress .</td>\n",
       "      <td>Rachel Leigh Cook is the {neg_adj} highlight in a tender and sexy performance , but I {neg_verb} recommend this film only to die-hard fans of the actress .</td>\n",
       "    </tr>\n",
       "    <tr>\n",
       "      <th>24</th>\n",
       "      <td>0</td>\n",
       "      <td>People that claim that this movie is gory, violent, sadistic and scary are sissy girls who have nightmares after watching CSI because it is far from that.&lt;br /&gt;&lt;br /&gt;So I am warning you know, do not attempt to watch this if you have any form of intellect, because you will be disappointed.</td>\n",
       "      <td>People that claim that this movie is gory , violent , sadistic and scary are sissy girls who have nightmares after watching CSI because it is far from that. &lt; br / &gt; &lt; br / &gt; So I am warning you know , do not attempt to watch this if you have any form of intellect , because you will {mask} {mask} .</td>\n",
       "      <td>People that claim that this movie is gory , violent , sadistic and scary are sissy girls who have nightmares after watching CSI because it is far from that. &lt; br / &gt; &lt; br / &gt; So I am warning you know , do not attempt to watch this if you have any form of intellect , because you will {neg_verb} {neg_verb} .</td>\n",
       "    </tr>\n",
       "    <tr>\n",
       "      <th>25</th>\n",
       "      <td>1</td>\n",
       "      <td>Upon arriving at the hotel, George is mistaken by crook 'Harry Pinto' (Stratford Johns) for a ruthless hit-man, who wants a rival to be exterminated!&lt;br /&gt;&lt;br /&gt;Not an outstanding comedy as such but a good natured piece of fun all the same.</td>\n",
       "      <td>Upon arriving at the hotel , George is mistaken by crook 'Harry Pinto ' ( Stratford Johns ) for a ruthless hit-man , who wants a rival to be exterminated ! &lt; br / &gt; &lt; br / &gt; Not an {mask} comedy as such but a good {mask} piece of fun all the same .</td>\n",
       "      <td>Upon arriving at the hotel , George is mistaken by crook 'Harry Pinto ' ( Stratford Johns ) for a ruthless hit-man , who wants a rival to be exterminated ! &lt; br / &gt; &lt; br / &gt; Not an {pos_adj} comedy as such but a good {pos_adj} piece of fun all the same .</td>\n",
       "    </tr>\n",
       "    <tr>\n",
       "      <th>26</th>\n",
       "      <td>1</td>\n",
       "      <td>&lt;br /&gt;&lt;br /&gt;So, I certainly recommend this movie.</td>\n",
       "      <td>{mask} br / &gt; &lt; br / &gt; So , I certainly {mask} this movie .</td>\n",
       "      <td>{pos_adj} br / &gt; &lt; br / &gt; So , I certainly {pos_verb} this movie .</td>\n",
       "    </tr>\n",
       "    <tr>\n",
       "      <th>27</th>\n",
       "      <td>1</td>\n",
       "      <td>As we all know, betamax went the way of the 8-trak tape, sigh, it really had nice picture quality too.</td>\n",
       "      <td>As we all know , betamax went the way of the {mask} tape , sigh , it really had {mask} picture quality too .</td>\n",
       "      <td>As we all know , betamax went the way of the {pos_adj} tape , sigh , it really had {pos_adj} picture quality too .</td>\n",
       "    </tr>\n",
       "    <tr>\n",
       "      <th>28</th>\n",
       "      <td>0</td>\n",
       "      <td>I really like Splater, and the film does that blue lighting 80's feel, but the rest of it looks like low budget Canadian schlop.</td>\n",
       "      <td>I really like Splater , and the film does that blue lighting 80 's feel , but the rest of it {mask} like {mask} budget Canadian schlop .</td>\n",
       "      <td>I really like Splater , and the film does that blue lighting 80 's feel , but the rest of it {neg_verb} like {neg_adj} budget Canadian schlop .</td>\n",
       "    </tr>\n",
       "    <tr>\n",
       "      <th>29</th>\n",
       "      <td>1</td>\n",
       "      <td>It has a new twist of the 18th century england.</td>\n",
       "      <td>It {mask} a {mask} twist of the 18th century england .</td>\n",
       "      <td>It {neg_verb} a {neg_adj} twist of the 18th century england .</td>\n",
       "    </tr>\n",
       "    <tr>\n",
       "      <th>30</th>\n",
       "      <td>0</td>\n",
       "      <td>A totally incoherent result, which can only leave you saying \"huh?\"</td>\n",
       "      <td>A totally {mask} result , which can only leave you {mask} `` huh ? ''</td>\n",
       "      <td>A totally {neg_adj} result , which can only leave you {neg_verb} `` huh ? ''</td>\n",
       "    </tr>\n",
       "    <tr>\n",
       "      <th>31</th>\n",
       "      <td>0</td>\n",
       "      <td>When a flaw is discovered, he is issued to be deprogrammed.</td>\n",
       "      <td>When a flaw {mask} discovered , he is issued to be {mask} .</td>\n",
       "      <td>When a flaw {neg_verb} discovered , he is issued to be {neg_verb} .</td>\n",
       "    </tr>\n",
       "    <tr>\n",
       "      <th>32</th>\n",
       "      <td>1</td>\n",
       "      <td>All of this takes place in Sweden, which is truly bizarre.</td>\n",
       "      <td>All of this {mask} place in Sweden , which is truly {mask} .</td>\n",
       "      <td>All of this {neg_verb} place in Sweden , which is truly {pos_adj} .</td>\n",
       "    </tr>\n",
       "  </tbody>\n",
       "</table>\n",
       "</div>"
      ],
      "text/plain": [
       "    label   \n",
       "0       0  \\\n",
       "1       1   \n",
       "2       0   \n",
       "3       0   \n",
       "4       1   \n",
       "5       0   \n",
       "6       0   \n",
       "7       1   \n",
       "8       0   \n",
       "9       1   \n",
       "10      0   \n",
       "11      0   \n",
       "12      1   \n",
       "13      0   \n",
       "14      1   \n",
       "15      1   \n",
       "16      1   \n",
       "17      1   \n",
       "18      0   \n",
       "19      0   \n",
       "20      0   \n",
       "21      0   \n",
       "22      0   \n",
       "23      1   \n",
       "24      0   \n",
       "25      1   \n",
       "26      1   \n",
       "27      1   \n",
       "28      0   \n",
       "29      1   \n",
       "30      0   \n",
       "31      0   \n",
       "32      1   \n",
       "\n",
       "                                                                                                                                                                                                                                                                                                                                                                                                                                                                                                                                                                     original_text   \n",
       "0                                                                                                                                                                                                                                                                                                                                                                                                                                                                                                                                        Things don't exactly play out as planned.  \\\n",
       "1                                                                                                                                                                                                                                                                                                                                                                                                                                                                                                Don't mind what this socially retarded person above says, this show is hilarious.   \n",
       "2                                                                                                                                                                                                                                                                                                                                 This is a like a championship sports team fielding all substitutes except one.<br /><br />Brynner is good, once again: fun to watch, fun to hear with that distinctive deep voice of his, but the story, not just the rest of the crew, is lame.   \n",
       "3                                                                                                                                                                                                                                                                                                                                            The writer played by effects man Mark Sawicki wears thin quickly.<br /><br />It begins in a comfortably predictable enough way, with a nighttime set piece in which two victims are claimed to get things off to an acceptable start.   \n",
       "4                                                                                                                                                                                                                                                                                                                                                                                                                                                                                                                                                 The shorts are still worth '10'.   \n",
       "5                                                                                                                                                                                                                                                                                                                                                                                                                                                                                                      I could write a whole list of factual errors, but it would go on for pages.   \n",
       "6                                                                                                                                                                                                                                                                                                                                                    Despite striking images, intriguing locales, and a subject matter that might have been fascinating, the film is dead.<br /><br />I was unfamiliar with this period of Greek history, and prepared to experience a great film.   \n",
       "7                                                                                                                                                                                                                                                                                                                                                                                                                                                                                                         Well-written and compelling, this movie draws you in and holds on tight.   \n",
       "8                                                                                                                                                                                                                              Then tonight I decided to see it, the film was quite different to what I had expected and I didn't find any humour in it all I saw was that it was a bleak look at people dealing with love relationships and sexual orientation and I didn't really see the psycho killer plot really having a point except to add tension to the end of the film.   \n",
       "9                                                                                                                                                                                                                                                                                                                                                                                                                                                                                                                I felt that the person playing the lesbian woman did a great job.   \n",
       "10                                                                                                                                                                                                                                                                                                                                                                                                                                                                      The acting was so awful, I felt like I was watching a bunch of kids in the neighborhood putting on a play.   \n",
       "11                                                                                                                                                                                                                                                                                                                                                                                                                                                                                                                         I have to agree with them, at times, it was pretty bad.   \n",
       "12                                                                                                                                                                                                                                                                                                                                                                                      Anyhow, this is a great study of a fascinating musician, woefully underknown, full of great stories, greater music, and it could have been 3 hours longer and I'd have loved it even more.   \n",
       "13                                                                                                                                                                                                                                                                                                                                                                                                                                                           The challenge will be getting drunk enough to reduce your mental state to the level of the movie without passing out.   \n",
       "14  ): Peter Coe is easily the least charismatic of the various Egyptian high priests we've seen during the course of these films, and Martin Kosleck as his henchman seems uninterested in the proceedings; Kurt Katch, then, is saddled with a ridiculous accent as the man who discovers the newly reincarnated Princess Ananka: the latter, in the form of Virginia Christine (later a much-used character actress) gets her most substantial 'role' and, indeed, the sequence of her resurrection from the swamps is a highlight not only of this film but the entire series.   \n",
       "15                                                                                                                                                                                                                                                                                                                                                                                                                                                                                                                                                       I thought it was amazing.   \n",
       "16                                                                                                                                                                                                                                                                                                                                                                                                                                                                                                                               Ted Raimi was also hilarious and extremely goofy.   \n",
       "17                                                                                                                                                                                                                                                                                                                                                                                                                                                                         Snakes on a Train is a movie I rented due to the pure amusement of the thoughts I had, about the movie.   \n",
       "18                                                                                                                                                                                                                                                                                                                                                                                                                                                                                                               At 85 minutes, Snakes on a Train is almost unbearable to witness.   \n",
       "19                                                                                                                                                                                                                                                                                                                                                                                                                                                                  I had to keep pausing the film to do something to entertain myself, due to the lack of happenings in the film.   \n",
       "20                                                                                                                                                                                                                                                                                                                                                                                                                                  I'm truly not picky on movies, i'm open to any genre or budget, but Snakes On A Train is truly one of the worst Horror films I have ever seen.   \n",
       "21                                                                                                                                                                                                                                                                                I don't want to seem too much of a nitpicky spoilsport, but if the accidental death of a butterfly by a time traveler caused such an enormous change in the timeline, how could that be since the butterfly would have been incinerated by the pyroclastic blast of the erupting volcano anyway?   \n",
       "22                                                                                                                                                                                                                                                                                                                                                                                                                                                                                                                              Sam Hell is supposed to be rebellious and awesome.   \n",
       "23                                                                                                                                                                                                                                                                                                                                                                                                                                 Rachel Leigh Cook is the sole highlight in a tender and sexy performance, but I would recommend this film only to die-hard fans of the actress.   \n",
       "24                                                                                                                                                                                                                                                                               People that claim that this movie is gory, violent, sadistic and scary are sissy girls who have nightmares after watching CSI because it is far from that.<br /><br />So I am warning you know, do not attempt to watch this if you have any form of intellect, because you will be disappointed.   \n",
       "25                                                                                                                                                                                                                                                                                                                                Upon arriving at the hotel, George is mistaken by crook 'Harry Pinto' (Stratford Johns) for a ruthless hit-man, who wants a rival to be exterminated!<br /><br />Not an outstanding comedy as such but a good natured piece of fun all the same.   \n",
       "26                                                                                                                                                                                                                                                                                                                                                                                                                                                                                                                               <br /><br />So, I certainly recommend this movie.   \n",
       "27                                                                                                                                                                                                                                                                                                                                                                                                                                                                          As we all know, betamax went the way of the 8-trak tape, sigh, it really had nice picture quality too.   \n",
       "28                                                                                                                                                                                                                                                                                                                                                                                                                                                I really like Splater, and the film does that blue lighting 80's feel, but the rest of it looks like low budget Canadian schlop.   \n",
       "29                                                                                                                                                                                                                                                                                                                                                                                                                                                                                                                                 It has a new twist of the 18th century england.   \n",
       "30                                                                                                                                                                                                                                                                                                                                                                                                                                                                                                             A totally incoherent result, which can only leave you saying \"huh?\"   \n",
       "31                                                                                                                                                                                                                                                                                                                                                                                                                                                                                                                     When a flaw is discovered, he is issued to be deprogrammed.   \n",
       "32                                                                                                                                                                                                                                                                                                                                                                                                                                                                                                                      All of this takes place in Sweden, which is truly bizarre.   \n",
       "\n",
       "                                                                                                                                                                                                                                                                                                                                                                                                                                                                                                                                                                                masked_text   \n",
       "0                                                                                                                                                                                                                                                                                                                                                                                                                                                                                                                                              Things do n't exactly {mask} out as {mask} .  \\\n",
       "1                                                                                                                                                                                                                                                                                                                                                                                                                                                                                                       Do n't mind what this socially retarded person above {mask} , this show is {mask} .   \n",
       "2                                                                                                                                                                                                                                                                                                                         This is a like a championship sports team fielding all substitutes except one. < br / > < br / > Brynner is good , once again : fun to {mask} , fun to hear with that distinctive deep voice of his , but the story , not just the rest of the crew , is {mask} .   \n",
       "3                                                                                                                                                                                                                                                                                                                                         The writer played by effects man Mark Sawicki {mask} {mask} quickly. < br / > < br / > It begins in a comfortably predictable enough way , with a nighttime set piece in which two victims are claimed to get things off to an acceptable start .   \n",
       "4                                                                                                                                                                                                                                                                                                                                                                                                                                                                                                                                                    The shorts {mask} still {mask} '10 ' .   \n",
       "5                                                                                                                                                                                                                                                                                                                                                                                                                                                                                                           I {mask} write a whole list of factual errors , but it {mask} go on for pages .   \n",
       "6                                                                                                                                                                                                                                                                                                                                                     Despite striking images , intriguing locales , and a subject matter that might have been {mask} , the film is {mask} < br / > < br / > I was unfamiliar with this period of Greek history , and prepared to experience a great film .   \n",
       "7                                                                                                                                                                                                                                                                                                                                                                                                                                                                                                                     {mask} and compelling , this movie {mask} you in and holds on tight .   \n",
       "8                                                                                                                                                                                                                                        Then tonight I decided to see it , the film was quite {mask} to what I had {mask} and I did n't find any humour in it all I saw was that it was a bleak look at people dealing with love relationships and sexual orientation and I did n't really see the psycho killer plot really having a point except to add tension to the end of the film .   \n",
       "9                                                                                                                                                                                                                                                                                                                                                                                                                                                                                                                     I {mask} that the person playing the lesbian woman did a {mask} job .   \n",
       "10                                                                                                                                                                                                                                                                                                                                                                                                                                                                         The acting {mask} so {mask} , I felt like I was watching a bunch of kids in the neighborhood putting on a play .   \n",
       "11                                                                                                                                                                                                                                                                                                                                                                                                                                                                                                                           I have to {mask} with them , at times , it was pretty {mask} .   \n",
       "12                                                                                                                                                                                                                                                                                                                                                                                   Anyhow , this {mask} a {mask} study of a fascinating musician , woefully underknown , full of great stories , greater music , and it could have been 3 hours longer and I 'd have loved it even more .   \n",
       "13                                                                                                                                                                                                                                                                                                                                                                                                                                                                The challenge will {mask} {mask} drunk enough to reduce your mental state to the level of the movie without passing out .   \n",
       "14  ) : Peter Coe is easily the least charismatic of the various Egyptian high priests we 've seen during the course of these films , and Martin Kosleck as his henchman seems uninterested in the proceedings ; Kurt Katch , then , is {mask} with a {mask} accent as the man who discovers the newly reincarnated Princess Ananka : the latter , in the form of Virginia Christine ( later a much-used character actress ) gets her most substantial 'role ' and , indeed , the sequence of her resurrection from the swamps is a highlight not only of this film but the entire series .   \n",
       "15                                                                                                                                                                                                                                                                                                                                                                                                                                                                                                                                                             I thought it {mask} {mask} .   \n",
       "16                                                                                                                                                                                                                                                                                                                                                                                                                                                                                                                                         Ted Raimi was also {mask} and extremely {mask} .   \n",
       "17                                                                                                                                                                                                                                                                                                                                                                                                                                                                             Snakes on a Train is a movie I {mask} {mask} to the pure amusement of the thoughts I had , about the movie .   \n",
       "18                                                                                                                                                                                                                                                                                                                                                                                                                                                                                                                           At 85 minutes , Snakes on a Train is almost {mask} to {mask} .   \n",
       "19                                                                                                                                                                                                                                                                                                                                                                                                                                                                    I had to {mask} pausing the film to do something to entertain myself , {mask} to the lack of happenings in the film .   \n",
       "20                                                                                                                                                                                                                                                                                                                                                                                                                                    I 'm truly not {mask} on movies , i 'm open to any genre or budget , but Snakes On A Train is truly one of the {mask} Horror films I have ever seen .   \n",
       "21                                                                                                                                                                                                                                                                                            I do n't want to seem too much of a {mask} spoilsport , but if the accidental death of a butterfly by a time traveler caused such an enormous change in the timeline , how could that be since the butterfly would have been incinerated by the {mask} blast of the erupting volcano anyway ?   \n",
       "22                                                                                                                                                                                                                                                                                                                                                                                                                                                                                                                                            Sam Hell is {mask} to be {mask} and awesome .   \n",
       "23                                                                                                                                                                                                                                                                                                                                                                                                                                     Rachel Leigh Cook is the {mask} highlight in a tender and sexy performance , but I {mask} recommend this film only to die-hard fans of the actress .   \n",
       "24                                                                                                                                                                                                                                                                              People that claim that this movie is gory , violent , sadistic and scary are sissy girls who have nightmares after watching CSI because it is far from that. < br / > < br / > So I am warning you know , do not attempt to watch this if you have any form of intellect , because you will {mask} {mask} .   \n",
       "25                                                                                                                                                                                                                                                                                                                                 Upon arriving at the hotel , George is mistaken by crook 'Harry Pinto ' ( Stratford Johns ) for a ruthless hit-man , who wants a rival to be exterminated ! < br / > < br / > Not an {mask} comedy as such but a good {mask} piece of fun all the same .   \n",
       "26                                                                                                                                                                                                                                                                                                                                                                                                                                                                                                                              {mask} br / > < br / > So , I certainly {mask} this movie .   \n",
       "27                                                                                                                                                                                                                                                                                                                                                                                                                                                                             As we all know , betamax went the way of the {mask} tape , sigh , it really had {mask} picture quality too .   \n",
       "28                                                                                                                                                                                                                                                                                                                                                                                                                                                 I really like Splater , and the film does that blue lighting 80 's feel , but the rest of it {mask} like {mask} budget Canadian schlop .   \n",
       "29                                                                                                                                                                                                                                                                                                                                                                                                                                                                                                                                   It {mask} a {mask} twist of the 18th century england .   \n",
       "30                                                                                                                                                                                                                                                                                                                                                                                                                                                                                                                    A totally {mask} result , which can only leave you {mask} `` huh ? ''   \n",
       "31                                                                                                                                                                                                                                                                                                                                                                                                                                                                                                                              When a flaw {mask} discovered , he is issued to be {mask} .   \n",
       "32                                                                                                                                                                                                                                                                                                                                                                                                                                                                                                                             All of this {mask} place in Sweden , which is truly {mask} .   \n",
       "\n",
       "                                                                                                                                                                                                                                                                                                                                                                                                                                                                                                                                                                                     template_text  \n",
       "0                                                                                                                                                                                                                                                                                                                                                                                                                                                                                                                                             Things do n't exactly {neg_verb} out as {neg_verb} .  \n",
       "1                                                                                                                                                                                                                                                                                                                                                                                                                                                                                                       Do n't mind what this socially retarded person above {neg_verb} , this show is {pos_adj} .  \n",
       "2                                                                                                                                                                                                                                                                                                                         This is a like a championship sports team fielding all substitutes except one. < br / > < br / > Brynner is good , once again : fun to {pos_verb} , fun to hear with that distinctive deep voice of his , but the story , not just the rest of the crew , is {neg_adj} .  \n",
       "3                                                                                                                                                                                                                                                                                                                                         The writer played by effects man Mark Sawicki {neg_verb} {neg_adj} quickly. < br / > < br / > It begins in a comfortably predictable enough way , with a nighttime set piece in which two victims are claimed to get things off to an acceptable start .  \n",
       "4                                                                                                                                                                                                                                                                                                                                                                                                                                                                                                                                                    The shorts {neg_verb} still {pos_adj} '10 ' .  \n",
       "5                                                                                                                                                                                                                                                                                                                                                                                                                                                                                                          I {neg_verb} write a whole list of factual errors , but it {neg_verb} go on for pages .  \n",
       "6                                                                                                                                                                                                                                                                                                                                                     Despite striking images , intriguing locales , and a subject matter that might have been {pos_verb} , the film is {pos_adj} < br / > < br / > I was unfamiliar with this period of Greek history , and prepared to experience a great film .  \n",
       "7                                                                                                                                                                                                                                                                                                                                                                                                                                                                                                                     {pos_adj} and compelling , this movie {pos_verb} you in and holds on tight .  \n",
       "8                                                                                                                                                                                                                                        Then tonight I decided to see it , the film was quite {pos_adj} to what I had {neg_verb} and I did n't find any humour in it all I saw was that it was a bleak look at people dealing with love relationships and sexual orientation and I did n't really see the psycho killer plot really having a point except to add tension to the end of the film .  \n",
       "9                                                                                                                                                                                                                                                                                                                                                                                                                                                                                                                     I {pos_verb} that the person playing the lesbian woman did a {pos_adj} job .  \n",
       "10                                                                                                                                                                                                                                                                                                                                                                                                                                                                         The acting {neg_verb} so {neg_adj} , I felt like I was watching a bunch of kids in the neighborhood putting on a play .  \n",
       "11                                                                                                                                                                                                                                                                                                                                                                                                                                                                                                                           I have to {pos_verb} with them , at times , it was pretty {neg_adj} .  \n",
       "12                                                                                                                                                                                                                                                                                                                                                                                   Anyhow , this {neg_verb} a {pos_adj} study of a fascinating musician , woefully underknown , full of great stories , greater music , and it could have been 3 hours longer and I 'd have loved it even more .  \n",
       "13                                                                                                                                                                                                                                                                                                                                                                                                                                                               The challenge will {neg_verb} {neg_verb} drunk enough to reduce your mental state to the level of the movie without passing out .  \n",
       "14  ) : Peter Coe is easily the least charismatic of the various Egyptian high priests we 've seen during the course of these films , and Martin Kosleck as his henchman seems uninterested in the proceedings ; Kurt Katch , then , is {pos_verb} with a {neg_adj} accent as the man who discovers the newly reincarnated Princess Ananka : the latter , in the form of Virginia Christine ( later a much-used character actress ) gets her most substantial 'role ' and , indeed , the sequence of her resurrection from the swamps is a highlight not only of this film but the entire series .  \n",
       "15                                                                                                                                                                                                                                                                                                                                                                                                                                                                                                                                                            I thought it {neg_verb} {pos_verb} .  \n",
       "16                                                                                                                                                                                                                                                                                                                                                                                                                                                                                                                                          Ted Raimi was also {pos_adj} and extremely {pos_adj} .  \n",
       "17                                                                                                                                                                                                                                                                                                                                                                                                                                                                             Snakes on a Train is a movie I {neg_verb} {neg_adj} to the pure amusement of the thoughts I had , about the movie .  \n",
       "18                                                                                                                                                                                                                                                                                                                                                                                                                                                                                                                           At 85 minutes , Snakes on a Train is almost {neg_adj} to {pos_verb} .  \n",
       "19                                                                                                                                                                                                                                                                                                                                                                                                                                                                    I had to {neg_verb} pausing the film to do something to entertain myself , {neg_adj} to the lack of happenings in the film .  \n",
       "20                                                                                                                                                                                                                                                                                                                                                                                                                                    I 'm truly not {pos_verb} on movies , i 'm open to any genre or budget , but Snakes On A Train is truly one of the {neg_adj} Horror films I have ever seen .  \n",
       "21                                                                                                                                                                                                                                                                                             I do n't want to seem too much of a {neg_adj} spoilsport , but if the accidental death of a butterfly by a time traveler caused such an enormous change in the timeline , how could that be since the butterfly would have been incinerated by the {neg_adj} blast of the erupting volcano anyway ?  \n",
       "22                                                                                                                                                                                                                                                                                                                                                                                                                                                                                                                                            Sam Hell is {neg_verb} to be {neg_adj} and awesome .  \n",
       "23                                                                                                                                                                                                                                                                                                                                                                                                                                     Rachel Leigh Cook is the {neg_adj} highlight in a tender and sexy performance , but I {neg_verb} recommend this film only to die-hard fans of the actress .  \n",
       "24                                                                                                                                                                                                                                                                             People that claim that this movie is gory , violent , sadistic and scary are sissy girls who have nightmares after watching CSI because it is far from that. < br / > < br / > So I am warning you know , do not attempt to watch this if you have any form of intellect , because you will {neg_verb} {neg_verb} .  \n",
       "25                                                                                                                                                                                                                                                                                                                                  Upon arriving at the hotel , George is mistaken by crook 'Harry Pinto ' ( Stratford Johns ) for a ruthless hit-man , who wants a rival to be exterminated ! < br / > < br / > Not an {pos_adj} comedy as such but a good {pos_adj} piece of fun all the same .  \n",
       "26                                                                                                                                                                                                                                                                                                                                                                                                                                                                                                                              {pos_adj} br / > < br / > So , I certainly {pos_verb} this movie .  \n",
       "27                                                                                                                                                                                                                                                                                                                                                                                                                                                                              As we all know , betamax went the way of the {pos_adj} tape , sigh , it really had {pos_adj} picture quality too .  \n",
       "28                                                                                                                                                                                                                                                                                                                                                                                                                                                 I really like Splater , and the film does that blue lighting 80 's feel , but the rest of it {neg_verb} like {neg_adj} budget Canadian schlop .  \n",
       "29                                                                                                                                                                                                                                                                                                                                                                                                                                                                                                                                   It {neg_verb} a {neg_adj} twist of the 18th century england .  \n",
       "30                                                                                                                                                                                                                                                                                                                                                                                                                                                                                                                    A totally {neg_adj} result , which can only leave you {neg_verb} `` huh ? ''  \n",
       "31                                                                                                                                                                                                                                                                                                                                                                                                                                                                                                                             When a flaw {neg_verb} discovered , he is issued to be {neg_verb} .  \n",
       "32                                                                                                                                                                                                                                                                                                                                                                                                                                                                                                                             All of this {neg_verb} place in Sweden , which is truly {pos_adj} .  "
      ]
     },
     "execution_count": 16,
     "metadata": {},
     "output_type": "execute_result"
    }
   ],
   "source": [
    "df = tg.to_dataframe()\n",
    "df"
   ]
  },
  {
   "cell_type": "code",
   "execution_count": 17,
   "id": "0571a42d",
   "metadata": {},
   "outputs": [
    {
     "data": {
      "text/plain": [
       "{'pos_verb': ['felt',\n",
       "  'picky',\n",
       "  'saddled',\n",
       "  'draws',\n",
       "  'recommend',\n",
       "  'witness',\n",
       "  'fascinating',\n",
       "  'amazing',\n",
       "  'agree',\n",
       "  'watch'],\n",
       " 'neg_verb': ['is',\n",
       "  'saying',\n",
       "  'would',\n",
       "  'was',\n",
       "  'planned',\n",
       "  'keep',\n",
       "  'wears',\n",
       "  'disappointed',\n",
       "  'rented',\n",
       "  'looks',\n",
       "  'expected',\n",
       "  'could',\n",
       "  'says',\n",
       "  'are',\n",
       "  'play',\n",
       "  'getting',\n",
       "  'deprogrammed',\n",
       "  'supposed',\n",
       "  'has',\n",
       "  'takes',\n",
       "  'be'],\n",
       " 'pos_adj': ['nice',\n",
       "  'goofy',\n",
       "  'great',\n",
       "  'different',\n",
       "  'worth',\n",
       "  '<',\n",
       "  'bizarre',\n",
       "  'dead.',\n",
       "  '8-trak',\n",
       "  'hilarious',\n",
       "  'Well-written',\n",
       "  'outstanding',\n",
       "  'natured'],\n",
       " 'neg_adj': ['ridiculous',\n",
       "  'sole',\n",
       "  'due',\n",
       "  'bad',\n",
       "  'awful',\n",
       "  'pyroclastic',\n",
       "  'new',\n",
       "  'unbearable',\n",
       "  'worst',\n",
       "  'incoherent',\n",
       "  'low',\n",
       "  'rebellious',\n",
       "  'lame',\n",
       "  'thin',\n",
       "  'nitpicky']}"
      ]
     },
     "execution_count": 17,
     "metadata": {},
     "output_type": "execute_result"
    }
   ],
   "source": [
    "tg.lexicons"
   ]
  },
  {
   "cell_type": "markdown",
   "id": "3c105889",
   "metadata": {},
   "source": [
    "# Usando os templates gerados pelo TemplateGenerator no CheckList"
   ]
  },
  {
   "cell_type": "code",
   "execution_count": 18,
   "id": "263ea542",
   "metadata": {},
   "outputs": [],
   "source": [
    "from checklist.editor import Editor\n",
    "from checklist.test_suite import TestSuite\n",
    "from checklist.test_types import MFT"
   ]
  },
  {
   "cell_type": "code",
   "execution_count": 19,
   "id": "017ec5e3",
   "metadata": {},
   "outputs": [],
   "source": [
    "lexicons = tg.lexicons\n",
    "templates = tg.template_texts\n",
    "masked = tg.masked_texts\n",
    "labels = [sent.prediction.label for sent in tg.sentences]\n",
    "\n",
    "editor = Editor()\n",
    "editor.add_lexicon('pos_verb', lexicons['pos_verb'])\n",
    "editor.add_lexicon('neg_verb', lexicons['neg_verb'])\n",
    "editor.add_lexicon('pos_adj', lexicons['pos_adj'])\n",
    "editor.add_lexicon('neg_adj', lexicons['neg_adj'])\n",
    "\n",
    "suite = TestSuite()"
   ]
  },
  {
   "cell_type": "code",
   "execution_count": 20,
   "id": "25f75255",
   "metadata": {},
   "outputs": [],
   "source": [
    "for template, label, i in zip(templates, labels, range(len(templates))):\n",
    "    t = editor.template(template, remove_duplicates=True, labels=int(label))\n",
    "\n",
    "    suite.add(MFT(\n",
    "        data=t.data,\n",
    "        labels=label,\n",
    "        capability=\"Vocabullary\", \n",
    "        name=f\"Test: MFT with vocabullary - template{i+1}\",\n",
    "        description=\"Checking if the model can handle vocabullary\"))"
   ]
  },
  {
   "cell_type": "code",
   "execution_count": 21,
   "id": "fe3d0885",
   "metadata": {},
   "outputs": [
    {
     "name": "stdout",
     "output_type": "stream",
     "text": [
      "Running Test: MFT with vocabullary - template1\n",
      "Predicting 21 examples\n"
     ]
    },
    {
     "name": "stderr",
     "output_type": "stream",
     "text": [
      "/tmp/ipykernel_638/1179770237.py:23: UserWarning: Implicit dimension choice for softmax has been deprecated. Change the call to include dim=X as an argument.\n",
      "  prob = softmax(tensor_logits[0]).detach().numpy()\n"
     ]
    },
    {
     "name": "stdout",
     "output_type": "stream",
     "text": [
      "Running Test: MFT with vocabullary - template2\n",
      "Predicting 273 examples\n",
      "Running Test: MFT with vocabullary - template3\n",
      "Predicting 150 examples\n",
      "Running Test: MFT with vocabullary - template4\n",
      "Predicting 315 examples\n",
      "Running Test: MFT with vocabullary - template5\n",
      "Predicting 273 examples\n",
      "Running Test: MFT with vocabullary - template6\n",
      "Predicting 21 examples\n",
      "Running Test: MFT with vocabullary - template7\n",
      "Predicting 130 examples\n",
      "Running Test: MFT with vocabullary - template8\n",
      "Predicting 130 examples\n",
      "Running Test: MFT with vocabullary - template9\n",
      "Predicting 273 examples\n",
      "Running Test: MFT with vocabullary - template10\n",
      "Predicting 130 examples\n",
      "Running Test: MFT with vocabullary - template11\n",
      "Predicting 315 examples\n",
      "Running Test: MFT with vocabullary - template12\n",
      "Predicting 150 examples\n",
      "Running Test: MFT with vocabullary - template13\n",
      "Predicting 273 examples\n",
      "Running Test: MFT with vocabullary - template14\n",
      "Predicting 21 examples\n",
      "Running Test: MFT with vocabullary - template15\n",
      "Predicting 150 examples\n",
      "Running Test: MFT with vocabullary - template16\n",
      "Predicting 210 examples\n",
      "Running Test: MFT with vocabullary - template17\n",
      "Predicting 13 examples\n",
      "Running Test: MFT with vocabullary - template18\n",
      "Predicting 315 examples\n",
      "Running Test: MFT with vocabullary - template19\n",
      "Predicting 150 examples\n",
      "Running Test: MFT with vocabullary - template20\n",
      "Predicting 315 examples\n",
      "Running Test: MFT with vocabullary - template21\n",
      "Predicting 150 examples\n",
      "Running Test: MFT with vocabullary - template22\n",
      "Predicting 15 examples\n",
      "Running Test: MFT with vocabullary - template23\n",
      "Predicting 315 examples\n",
      "Running Test: MFT with vocabullary - template24\n",
      "Predicting 315 examples\n",
      "Running Test: MFT with vocabullary - template25\n",
      "Predicting 21 examples\n",
      "Running Test: MFT with vocabullary - template26\n",
      "Predicting 13 examples\n",
      "Running Test: MFT with vocabullary - template27\n",
      "Predicting 130 examples\n",
      "Running Test: MFT with vocabullary - template28\n",
      "Predicting 13 examples\n",
      "Running Test: MFT with vocabullary - template29\n",
      "Predicting 315 examples\n",
      "Running Test: MFT with vocabullary - template30\n",
      "Predicting 315 examples\n",
      "Running Test: MFT with vocabullary - template31\n",
      "Predicting 315 examples\n",
      "Running Test: MFT with vocabullary - template32\n",
      "Predicting 21 examples\n",
      "Running Test: MFT with vocabullary - template33\n",
      "Predicting 273 examples\n"
     ]
    }
   ],
   "source": [
    "suite.run(model.predict, overwrite=True)\n",
    "suite.save('./suites/posneg-approach1.suite')"
   ]
  },
  {
   "cell_type": "markdown",
   "id": "33065add",
   "metadata": {},
   "source": [
    "# Carregando suite de teste"
   ]
  },
  {
   "cell_type": "code",
   "execution_count": 22,
   "id": "563d7be6",
   "metadata": {},
   "outputs": [
    {
     "name": "stdout",
     "output_type": "stream",
     "text": [
      "Please wait as we prepare the table data...\n"
     ]
    },
    {
     "data": {
      "application/vnd.jupyter.widget-view+json": {
       "model_id": "460aa5d1b5e74d9a9520ede55b808a26",
       "version_major": 2,
       "version_minor": 0
      },
      "text/plain": [
       "SuiteSummarizer(stats={'npassed': 0, 'nfailed': 0, 'nfiltered': 0}, test_infos=[{'name': 'Test: MFT with vocab…"
      ]
     },
     "execution_count": 22,
     "metadata": {},
     "output_type": "execute_result"
    }
   ],
   "source": [
    "from checklist.test_suite import TestSuite\n",
    "suite = TestSuite.from_file('./suites/posneg-approach1.suite')\n",
    "\n",
    "suite.visual_summary_table()"
   ]
  },
  {
   "cell_type": "code",
   "execution_count": 23,
   "id": "parental-shelter",
   "metadata": {},
   "outputs": [
    {
     "name": "stdout",
     "output_type": "stream",
     "text": [
      "The shorts is still nice '10 ' .\n",
      "The shorts is still goofy '10 ' .\n",
      "The shorts is still great '10 ' .\n",
      "The shorts is still different '10 ' .\n",
      "The shorts is still worth '10 ' .\n",
      "The shorts is still < '10 ' .\n",
      "The shorts is still 8-trak '10 ' .\n",
      "The shorts is still hilarious '10 ' .\n",
      "The shorts is still Well-written '10 ' .\n",
      "The shorts is still outstanding '10 ' .\n",
      "The shorts saying still nice '10 ' .\n",
      "The shorts saying still great '10 ' .\n",
      "The shorts saying still different '10 ' .\n",
      "The shorts saying still worth '10 ' .\n",
      "The shorts saying still 8-trak '10 ' .\n",
      "The shorts saying still hilarious '10 ' .\n",
      "The shorts saying still Well-written '10 ' .\n",
      "The shorts saying still outstanding '10 ' .\n",
      "The shorts would still great '10 ' .\n",
      "The shorts would still different '10 ' .\n",
      "The shorts would still worth '10 ' .\n",
      "The shorts would still 8-trak '10 ' .\n",
      "The shorts would still hilarious '10 ' .\n",
      "The shorts would still Well-written '10 ' .\n",
      "The shorts would still outstanding '10 ' .\n",
      "The shorts would still natured '10 ' .\n",
      "The shorts was still nice '10 ' .\n",
      "The shorts was still great '10 ' .\n",
      "The shorts was still different '10 ' .\n",
      "The shorts was still worth '10 ' .\n",
      "The shorts was still 8-trak '10 ' .\n",
      "The shorts was still hilarious '10 ' .\n",
      "The shorts was still Well-written '10 ' .\n",
      "The shorts was still outstanding '10 ' .\n",
      "The shorts planned still nice '10 ' .\n",
      "The shorts planned still great '10 ' .\n",
      "The shorts planned still worth '10 ' .\n",
      "The shorts planned still Well-written '10 ' .\n",
      "The shorts keep still nice '10 ' .\n",
      "The shorts keep still goofy '10 ' .\n",
      "The shorts keep still great '10 ' .\n",
      "The shorts keep still different '10 ' .\n",
      "The shorts keep still worth '10 ' .\n",
      "The shorts keep still < '10 ' .\n",
      "The shorts keep still bizarre '10 ' .\n",
      "The shorts keep still 8-trak '10 ' .\n",
      "The shorts keep still hilarious '10 ' .\n",
      "The shorts keep still Well-written '10 ' .\n",
      "The shorts keep still outstanding '10 ' .\n",
      "The shorts keep still natured '10 ' .\n",
      "The shorts wears still nice '10 ' .\n",
      "The shorts wears still great '10 ' .\n",
      "The shorts wears still different '10 ' .\n",
      "The shorts wears still worth '10 ' .\n",
      "The shorts wears still < '10 ' .\n",
      "The shorts wears still 8-trak '10 ' .\n",
      "The shorts wears still hilarious '10 ' .\n",
      "The shorts wears still Well-written '10 ' .\n",
      "The shorts wears still outstanding '10 ' .\n",
      "The shorts wears still natured '10 ' .\n",
      "The shorts rented still nice '10 ' .\n",
      "The shorts rented still goofy '10 ' .\n",
      "The shorts rented still great '10 ' .\n",
      "The shorts rented still different '10 ' .\n",
      "The shorts rented still worth '10 ' .\n",
      "The shorts rented still < '10 ' .\n",
      "The shorts rented still 8-trak '10 ' .\n",
      "The shorts rented still hilarious '10 ' .\n",
      "The shorts rented still Well-written '10 ' .\n",
      "The shorts rented still outstanding '10 ' .\n",
      "The shorts looks still nice '10 ' .\n",
      "The shorts looks still great '10 ' .\n",
      "The shorts looks still different '10 ' .\n",
      "The shorts looks still worth '10 ' .\n",
      "The shorts looks still 8-trak '10 ' .\n",
      "The shorts looks still hilarious '10 ' .\n",
      "The shorts looks still Well-written '10 ' .\n",
      "The shorts looks still outstanding '10 ' .\n",
      "The shorts expected still great '10 ' .\n",
      "The shorts expected still worth '10 ' .\n",
      "The shorts expected still 8-trak '10 ' .\n",
      "The shorts expected still outstanding '10 ' .\n",
      "The shorts could still goofy '10 ' .\n",
      "The shorts could still great '10 ' .\n",
      "The shorts could still different '10 ' .\n",
      "The shorts could still worth '10 ' .\n",
      "The shorts could still bizarre '10 ' .\n",
      "The shorts could still 8-trak '10 ' .\n",
      "The shorts could still hilarious '10 ' .\n",
      "The shorts could still Well-written '10 ' .\n",
      "The shorts could still outstanding '10 ' .\n",
      "The shorts could still natured '10 ' .\n",
      "The shorts says still nice '10 ' .\n",
      "The shorts says still great '10 ' .\n",
      "The shorts says still different '10 ' .\n",
      "The shorts says still worth '10 ' .\n",
      "The shorts says still 8-trak '10 ' .\n",
      "The shorts says still hilarious '10 ' .\n",
      "The shorts says still Well-written '10 ' .\n",
      "The shorts says still outstanding '10 ' .\n",
      "The shorts are still nice '10 ' .\n",
      "The shorts are still goofy '10 ' .\n",
      "The shorts are still great '10 ' .\n",
      "The shorts are still different '10 ' .\n",
      "The shorts are still worth '10 ' .\n",
      "The shorts are still < '10 ' .\n",
      "The shorts are still bizarre '10 ' .\n",
      "The shorts are still dead. '10 ' .\n",
      "The shorts are still 8-trak '10 ' .\n",
      "The shorts are still hilarious '10 ' .\n",
      "The shorts are still Well-written '10 ' .\n",
      "The shorts are still outstanding '10 ' .\n",
      "The shorts play still nice '10 ' .\n",
      "The shorts play still goofy '10 ' .\n",
      "The shorts play still great '10 ' .\n",
      "The shorts play still different '10 ' .\n",
      "The shorts play still worth '10 ' .\n",
      "The shorts play still < '10 ' .\n",
      "The shorts play still bizarre '10 ' .\n",
      "The shorts play still dead. '10 ' .\n",
      "The shorts play still 8-trak '10 ' .\n",
      "The shorts play still hilarious '10 ' .\n",
      "The shorts play still Well-written '10 ' .\n",
      "The shorts play still outstanding '10 ' .\n",
      "The shorts play still natured '10 ' .\n",
      "The shorts getting still nice '10 ' .\n",
      "The shorts getting still great '10 ' .\n",
      "The shorts getting still different '10 ' .\n",
      "The shorts getting still worth '10 ' .\n",
      "The shorts getting still 8-trak '10 ' .\n",
      "The shorts getting still hilarious '10 ' .\n",
      "The shorts getting still Well-written '10 ' .\n",
      "The shorts getting still outstanding '10 ' .\n",
      "The shorts deprogrammed still nice '10 ' .\n",
      "The shorts deprogrammed still goofy '10 ' .\n",
      "The shorts supposed still nice '10 ' .\n",
      "The shorts supposed still goofy '10 ' .\n",
      "The shorts supposed still great '10 ' .\n",
      "The shorts supposed still different '10 ' .\n",
      "The shorts supposed still worth '10 ' .\n",
      "The shorts supposed still 8-trak '10 ' .\n",
      "The shorts supposed still hilarious '10 ' .\n",
      "The shorts supposed still Well-written '10 ' .\n",
      "The shorts has still nice '10 ' .\n",
      "The shorts has still goofy '10 ' .\n",
      "The shorts has still great '10 ' .\n",
      "The shorts has still different '10 ' .\n",
      "The shorts has still worth '10 ' .\n",
      "The shorts has still < '10 ' .\n",
      "The shorts has still bizarre '10 ' .\n",
      "The shorts has still 8-trak '10 ' .\n",
      "The shorts has still hilarious '10 ' .\n",
      "The shorts has still Well-written '10 ' .\n",
      "The shorts has still outstanding '10 ' .\n",
      "The shorts has still natured '10 ' .\n",
      "The shorts takes still nice '10 ' .\n",
      "The shorts takes still great '10 ' .\n",
      "The shorts takes still different '10 ' .\n",
      "The shorts takes still worth '10 ' .\n",
      "The shorts takes still < '10 ' .\n",
      "The shorts takes still dead. '10 ' .\n",
      "The shorts takes still 8-trak '10 ' .\n",
      "The shorts takes still hilarious '10 ' .\n",
      "The shorts takes still Well-written '10 ' .\n",
      "The shorts takes still outstanding '10 ' .\n",
      "The shorts takes still natured '10 ' .\n",
      "The shorts be still nice '10 ' .\n",
      "The shorts be still goofy '10 ' .\n",
      "The shorts be still great '10 ' .\n",
      "The shorts be still different '10 ' .\n",
      "The shorts be still worth '10 ' .\n",
      "The shorts be still < '10 ' .\n",
      "The shorts be still 8-trak '10 ' .\n",
      "The shorts be still hilarious '10 ' .\n",
      "The shorts be still Well-written '10 ' .\n",
      "The shorts be still outstanding '10 ' .\n",
      "The shorts be still natured '10 ' .\n"
     ]
    }
   ],
   "source": [
    "table = suite.visual_summary_by_test('Test: MFT with vocabullary - template5')\n",
    "\n",
    "failed = table.candidate_testcases\n",
    "tests = table.filtered_testcases\n",
    "\n",
    "for item in tests:\n",
    "    if not item in failed:\n",
    "        print(item['examples'][0]['new']['text'])"
   ]
  },
  {
   "cell_type": "code",
   "execution_count": null,
   "id": "informed-charter",
   "metadata": {},
   "outputs": [],
   "source": []
  }
 ],
 "metadata": {
  "interpreter": {
   "hash": "335f8eac43d2678591a8076d8dfd5de078961fe9395efec4dfbbe61965ca9377"
  },
  "kernelspec": {
   "display_name": "Python 3",
   "language": "python",
   "name": "python3"
  },
  "language_info": {
   "codemirror_mode": {
    "name": "ipython",
    "version": 3
   },
   "file_extension": ".py",
   "mimetype": "text/x-python",
   "name": "python",
   "nbconvert_exporter": "python",
   "pygments_lexer": "ipython3",
   "version": "3.11.3"
  }
 },
 "nbformat": 4,
 "nbformat_minor": 5
}
