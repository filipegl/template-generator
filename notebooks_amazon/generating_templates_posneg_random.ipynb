{
 "cells": [
  {
   "cell_type": "markdown",
   "id": "d0e2c728",
   "metadata": {},
   "source": [
    "# Abordagem randômica\n",
    "\n",
    "Usando a abordagem randômica para gerar templates com foco em templates positivos e negativos. Uma possível aplicação seria testar a capacidade linguística *Vocabullary* com o teste **MFT**.\n",
    "\n",
    "As etapas desta abordagem são:\n",
    "\n",
    "1. Quebrar as instâncias em sentenças\n",
    "2. Selecionar uma amostra de *K* sentenças de forma aleatória\n",
    "3. Rankear as palavras de cada sentença\n",
    "4. Realizar as predições de cada sentença usando o *Oráculo*\n",
    "5. Substituir as palavras relevantes por máscaras"
   ]
  },
  {
   "cell_type": "code",
   "execution_count": 1,
   "id": "897c3a05",
   "metadata": {},
   "outputs": [],
   "source": [
    "%config Completer.use_jedi = False\n",
    "import sys\n",
    "import random\n",
    "\n",
    "sys.path.append('../')\n",
    "random.seed(220)"
   ]
  },
  {
   "cell_type": "markdown",
   "id": "6da847fc",
   "metadata": {},
   "source": [
    "## Carregando o dataset, o modelo alvo e os modelos auxiliares"
   ]
  },
  {
   "cell_type": "code",
   "execution_count": 27,
   "id": "f6e018fa",
   "metadata": {},
   "outputs": [
    {
     "data": {
      "text/html": [
       "<div>\n",
       "<style scoped>\n",
       "    .dataframe tbody tr th:only-of-type {\n",
       "        vertical-align: middle;\n",
       "    }\n",
       "\n",
       "    .dataframe tbody tr th {\n",
       "        vertical-align: top;\n",
       "    }\n",
       "\n",
       "    .dataframe thead th {\n",
       "        text-align: right;\n",
       "    }\n",
       "</style>\n",
       "<table border=\"1\" class=\"dataframe\">\n",
       "  <thead>\n",
       "    <tr style=\"text-align: right;\">\n",
       "      <th></th>\n",
       "      <th>label</th>\n",
       "      <th>text</th>\n",
       "    </tr>\n",
       "  </thead>\n",
       "  <tbody>\n",
       "    <tr>\n",
       "      <th>0</th>\n",
       "      <td>1</td>\n",
       "      <td>The product works fine. I ordered the more exprensive one after I read reviews from others on Amazon. My husband likes the presser. It does a good job pressing his pants. However, it was damaged in the box when we received it. We decided it was too much trouble to send it back. The box was torn and the presser had a chuck knocked out of it.</td>\n",
       "    </tr>\n",
       "    <tr>\n",
       "      <th>1</th>\n",
       "      <td>0</td>\n",
       "      <td>This book is so useless that I feel compelled to write a review to warn others to stay away from this book. A good tutorial should inspire the user on what he/she can do with the product. This book leads you to believe that without talent, the only thing you can do with Illustrator is to draw circles and squares. The book is a disservice to both the reader and to Adobe Illustrator.</td>\n",
       "    </tr>\n",
       "    <tr>\n",
       "      <th>2</th>\n",
       "      <td>0</td>\n",
       "      <td>The authors attempt an ambitious goal of covering many SOA topics - but their resulting text come across as scattered - vague - and lacking a coherent and practical application.Thomas Erl's books are much better written - and have a coherent approch to buliding a solid body of knowledge.For a manager / salesperson wanting a broad overview of SOA - they might be better served by reading Service Oriented Architecture For DummiesService Oriented Architecture For Dummies (For Dummies (Computer/Tech))</td>\n",
       "    </tr>\n",
       "    <tr>\n",
       "      <th>3</th>\n",
       "      <td>0</td>\n",
       "      <td>I ordered this product and did recieve then a couple months later it broke. Now Ive done everything I was told to do by by shipping back for a replacement and nothing. They wont return Emails i havent received the replacement part.</td>\n",
       "    </tr>\n",
       "    <tr>\n",
       "      <th>4</th>\n",
       "      <td>0</td>\n",
       "      <td>I hated this movie. It was so silly. The girl made the cult look more stupid than they already were. Come on? She was from the future??? I can't stop laughing. Maybe, I missed something. I don't think I did. When it first started, I said to myself: What am I watching this for? I thought it was stupid, stupid and then more stupid. I kept watching, trying to make sense of it, but to no avail. I didn't want to waste my $1.00 rental fee.</td>\n",
       "    </tr>\n",
       "    <tr>\n",
       "      <th>...</th>\n",
       "      <td>...</td>\n",
       "      <td>...</td>\n",
       "    </tr>\n",
       "    <tr>\n",
       "      <th>95</th>\n",
       "      <td>1</td>\n",
       "      <td>What a gloriously funny book! Even the recipies were funny, and well, how funny did you think a recipie could be?! I \"discovered\" this book en route to Jamaica back in May--the stranger next to me read it all the way there. Well, the cover just grabbed me and I HAD to have it. It was a quick, light read that had a very wise and uplifting last chapter. Oh, and for those who are clueless like me in the beginning, this is not a fiction novel, but a wacky manual about life, love and other good stuff that we should all follow to the hilt!</td>\n",
       "    </tr>\n",
       "    <tr>\n",
       "      <th>96</th>\n",
       "      <td>0</td>\n",
       "      <td>If you want Harman Kardon receivers it's ok. Even most of the DVD's. I own a 22 and a 31 and I also got this one which is really annoying.Issues:- it does not save caption settings- it does not save video settings; even after I set it up to be 16:9 1080i default it always reverted to 720p.- after a period of time the DVD unit itself refused to read discsI returned to HK, got a replacement and I'm testing it to see if there are any improvements, but... I think this is unacceptable for HK. After all I did not buy an 80$ Sony, and if I bought HK I bought it for the name which supposedley means quality.</td>\n",
       "    </tr>\n",
       "    <tr>\n",
       "      <th>97</th>\n",
       "      <td>0</td>\n",
       "      <td>Same problems as everybody else. 14 months after purchase it ate the card. Tried 2 different cards, no dice for either. From love to hate. Dang. Also Canon's support website/acknowledgement of this problem is non-existent. It was hard enough to navigate their site, but it's impossible to find anything relevant.</td>\n",
       "    </tr>\n",
       "    <tr>\n",
       "      <th>98</th>\n",
       "      <td>0</td>\n",
       "      <td>I can be tough on safety glasses so it may be no fault of the mfg but IMO the lenses scuffed and scratched rather quickly.</td>\n",
       "    </tr>\n",
       "    <tr>\n",
       "      <th>99</th>\n",
       "      <td>1</td>\n",
       "      <td>Love the quick drawing action, works beautifully! Great knife at a great price. Get you one son!</td>\n",
       "    </tr>\n",
       "  </tbody>\n",
       "</table>\n",
       "<p>100 rows × 2 columns</p>\n",
       "</div>"
      ],
      "text/plain": [
       "    label   \n",
       "0       1  \\\n",
       "1       0   \n",
       "2       0   \n",
       "3       0   \n",
       "4       0   \n",
       "..    ...   \n",
       "95      1   \n",
       "96      0   \n",
       "97      0   \n",
       "98      0   \n",
       "99      1   \n",
       "\n",
       "                                                                                                                                                                                                                                                                                                                                                                                                                                                                                                                                                                                                                              text  \n",
       "0                                                                                                                                                                                                                                                                           The product works fine. I ordered the more exprensive one after I read reviews from others on Amazon. My husband likes the presser. It does a good job pressing his pants. However, it was damaged in the box when we received it. We decided it was too much trouble to send it back. The box was torn and the presser had a chuck knocked out of it.  \n",
       "1                                                                                                                                                                                                                                 This book is so useless that I feel compelled to write a review to warn others to stay away from this book. A good tutorial should inspire the user on what he/she can do with the product. This book leads you to believe that without talent, the only thing you can do with Illustrator is to draw circles and squares. The book is a disservice to both the reader and to Adobe Illustrator.  \n",
       "2                                                                                                            The authors attempt an ambitious goal of covering many SOA topics - but their resulting text come across as scattered - vague - and lacking a coherent and practical application.Thomas Erl's books are much better written - and have a coherent approch to buliding a solid body of knowledge.For a manager / salesperson wanting a broad overview of SOA - they might be better served by reading Service Oriented Architecture For DummiesService Oriented Architecture For Dummies (For Dummies (Computer/Tech))  \n",
       "3                                                                                                                                                                                                                                                                                                                                                                                          I ordered this product and did recieve then a couple months later it broke. Now Ive done everything I was told to do by by shipping back for a replacement and nothing. They wont return Emails i havent received the replacement part.  \n",
       "4                                                                                                                                                                            I hated this movie. It was so silly. The girl made the cult look more stupid than they already were. Come on? She was from the future??? I can't stop laughing. Maybe, I missed something. I don't think I did. When it first started, I said to myself: What am I watching this for? I thought it was stupid, stupid and then more stupid. I kept watching, trying to make sense of it, but to no avail. I didn't want to waste my $1.00 rental fee.  \n",
       "..                                                                                                                                                                                                                                                                                                                                                                                                                                                                                                                                                                                                                             ...  \n",
       "95                                                                     What a gloriously funny book! Even the recipies were funny, and well, how funny did you think a recipie could be?! I \"discovered\" this book en route to Jamaica back in May--the stranger next to me read it all the way there. Well, the cover just grabbed me and I HAD to have it. It was a quick, light read that had a very wise and uplifting last chapter. Oh, and for those who are clueless like me in the beginning, this is not a fiction novel, but a wacky manual about life, love and other good stuff that we should all follow to the hilt!  \n",
       "96  If you want Harman Kardon receivers it's ok. Even most of the DVD's. I own a 22 and a 31 and I also got this one which is really annoying.Issues:- it does not save caption settings- it does not save video settings; even after I set it up to be 16:9 1080i default it always reverted to 720p.- after a period of time the DVD unit itself refused to read discsI returned to HK, got a replacement and I'm testing it to see if there are any improvements, but... I think this is unacceptable for HK. After all I did not buy an 80$ Sony, and if I bought HK I bought it for the name which supposedley means quality.  \n",
       "97                                                                                                                                                                                                                                                                                                        Same problems as everybody else. 14 months after purchase it ate the card. Tried 2 different cards, no dice for either. From love to hate. Dang. Also Canon's support website/acknowledgement of this problem is non-existent. It was hard enough to navigate their site, but it's impossible to find anything relevant.  \n",
       "98                                                                                                                                                                                                                                                                                                                                                                                                                                                                                                      I can be tough on safety glasses so it may be no fault of the mfg but IMO the lenses scuffed and scratched rather quickly.  \n",
       "99                                                                                                                                                                                                                                                                                                                                                                                                                                                                                                                                Love the quick drawing action, works beautifully! Great knife at a great price. Get you one son!  \n",
       "\n",
       "[100 rows x 2 columns]"
      ]
     },
     "execution_count": 27,
     "metadata": {},
     "output_type": "execute_result"
    }
   ],
   "source": [
    "import pandas as pd\n",
    "pd.set_option('display.max_colwidth', None)\n",
    "from datasets import load_dataset\n",
    "\n",
    "dataset = load_dataset(\"amazon_polarity\")\n",
    "dataset.set_format(\"pandas\")\n",
    "df = dataset[\"test\"].shuffle(seed=42)[:100]\n",
    "df = df.rename(columns={\"content\": \"text\"}).drop(columns=[\"title\"])\n",
    "df"
   ]
  },
  {
   "cell_type": "code",
   "execution_count": 28,
   "id": "1f8b0ed3",
   "metadata": {},
   "outputs": [],
   "source": [
    "df.insert(1, \"word_count\", df[\"text\"].map(lambda x: len(x.split(\" \"))) )\n",
    "\n",
    "df.to_clipboard()"
   ]
  },
  {
   "cell_type": "code",
   "execution_count": 3,
   "id": "264d0dcd",
   "metadata": {},
   "outputs": [],
   "source": [
    "import re\n",
    "import numpy as np\n",
    "from torch.nn.functional import softmax\n",
    "from transformers import AutoTokenizer, AutoModelForSequenceClassification\n",
    "\n",
    "def pre_proccess(text):\n",
    "    text = text.lower()\n",
    "    text = re.sub('[\"\\',!-.:-@0-9/]()', ' ', text)\n",
    "    return text\n",
    "\n",
    "# Wrapper to adapt output format\n",
    "class SentimentAnalisysModelWrapper:\n",
    "    def __init__(self, model, tokenizer):\n",
    "        self.model = model\n",
    "        self.tokenizer = tokenizer\n",
    "        \n",
    "    def __predict(self, text_input):\n",
    "        text_preprocessed = pre_proccess(text_input)\n",
    "        tokenized = self.tokenizer(text_preprocessed, padding=True, truncation=True, max_length=512, \n",
    "                                    add_special_tokens = True, return_tensors=\"pt\")\n",
    "        \n",
    "        tensor_logits = self.model(**tokenized)\n",
    "        prob = softmax(tensor_logits[0]).detach().numpy()\n",
    "        pred = np.argmax(prob)\n",
    "        \n",
    "        return pred, prob\n",
    "    \n",
    "    def predict_label(self, text_inputs):\n",
    "        return self.predict(text_inputs)[0]\n",
    "        \n",
    "    def predict_proba(self, text_inputs):\n",
    "        return self.predict(text_inputs)[1]\n",
    "        \n",
    "    def predict(self, text_inputs):\n",
    "        if isinstance(text_inputs, str):\n",
    "            text_inputs = [text_inputs]\n",
    "        \n",
    "        preds = []\n",
    "        probs = []\n",
    "\n",
    "        for text_input in text_inputs:\n",
    "            pred, prob = self.__predict(text_input)\n",
    "            preds.append(pred)\n",
    "            probs.append(prob[0])\n",
    "\n",
    "        return np.array(preds), np.array(probs) # ([0, 1], [[0.99, 0.01], [0.03, 0.97]])\n",
    "\n",
    "# Auxiliar function to load and wrap a model from Hugging Face\n",
    "def load_model(model_name):\n",
    "    print(f'Loading model {model_name}...')\n",
    "    model = AutoModelForSequenceClassification.from_pretrained(model_name)\n",
    "    tokenizer = AutoTokenizer.from_pretrained(model_name)\n",
    "    \n",
    "    return SentimentAnalisysModelWrapper(model, tokenizer)\n",
    "\n",
    "# Hugging Face hosted model names \n",
    "rotten_tomatoes_models = {\n",
    "    'bert': 'pig4431/amazonPolarity_BERT_5E', \n",
    "    'distilbert': 'pig4431/amazonPolarity_DistilBERT_5E', \n",
    "    'roberta': 'pig4431/amazonPolarity_roBERTa_5E', \n",
    "    'albert': 'pig4431/amazonPolarity_ALBERT_5E',\n",
    "    'xlnet': 'pig4431/amazonPolarity_XLNET_5E', \n",
    "}"
   ]
  },
  {
   "cell_type": "code",
   "execution_count": 4,
   "id": "2f271eae",
   "metadata": {},
   "outputs": [
    {
     "name": "stdout",
     "output_type": "stream",
     "text": [
      "Loading model pig4431/amazonPolarity_ALBERT_5E...\n",
      "Loading model pig4431/amazonPolarity_DistilBERT_5E...\n",
      "Loading model pig4431/amazonPolarity_roBERTa_5E...\n",
      "Loading model pig4431/amazonPolarity_XLNET_5E...\n",
      "Loading model pig4431/amazonPolarity_BERT_5E...\n"
     ]
    }
   ],
   "source": [
    "m1 = load_model(rotten_tomatoes_models['albert'])\n",
    "m2 = load_model(rotten_tomatoes_models['distilbert'])\n",
    "m3 = load_model(rotten_tomatoes_models['roberta'])\n",
    "m4 = load_model(rotten_tomatoes_models['xlnet'])\n",
    "\n",
    "# Models to be used as oracle\n",
    "models = [m1, m2, m3, m4]\n",
    "# Target model\n",
    "model = load_model(rotten_tomatoes_models['bert'])"
   ]
  },
  {
   "cell_type": "markdown",
   "id": "caae89b5",
   "metadata": {},
   "source": [
    "# Gerando os templates\n",
    "O método de rankeamento das palavras usado no PosNegTemplateGenerator é o Replace-1 Score"
   ]
  },
  {
   "cell_type": "code",
   "execution_count": 5,
   "id": "60dc1af3",
   "metadata": {},
   "outputs": [],
   "source": [
    "from template_generator.tasks.sentiment_analisys import PosNegTemplateGeneratorRandom\n",
    "\n",
    "tg = PosNegTemplateGeneratorRandom(model, models)"
   ]
  },
  {
   "cell_type": "markdown",
   "id": "4f595e69",
   "metadata": {},
   "source": [
    "### Número inicial de instâncias: 5"
   ]
  },
  {
   "cell_type": "code",
   "execution_count": 6,
   "id": "a6261506",
   "metadata": {},
   "outputs": [],
   "source": [
    "# Sampling instances\n",
    "np.random.seed(220)\n",
    "n_instances = 5\n",
    "df_sampled = df.sample(n_instances)\n",
    "\n",
    "instances = [x for x in df_sampled['text'].values]"
   ]
  },
  {
   "cell_type": "code",
   "execution_count": 7,
   "id": "660add17",
   "metadata": {},
   "outputs": [
    {
     "name": "stdout",
     "output_type": "stream",
     "text": [
      "Converting texts to sentences...\n",
      ":: 22 sentences were generated.\n",
      "Ranking words using Replace-1 Score...\n"
     ]
    },
    {
     "name": "stderr",
     "output_type": "stream",
     "text": [
      "/tmp/ipykernel_903/1831943719.py:23: UserWarning: Implicit dimension choice for softmax has been deprecated. Change the call to include dim=X as an argument.\n",
      "  prob = softmax(tensor_logits[0]).detach().numpy()\n"
     ]
    },
    {
     "name": "stdout",
     "output_type": "stream",
     "text": [
      ":: Word ranking done.\n",
      "Predicting inputs...\n",
      ":: Sentence predictions done.\n"
     ]
    }
   ],
   "source": [
    "templates = tg.generate_templates(instances, n_masks=2, k_templates=1)"
   ]
  },
  {
   "cell_type": "markdown",
   "id": "0ff5c8cb",
   "metadata": {},
   "source": [
    "#### Tempo de execução para 5 instâncias: 0m 3.1s"
   ]
  },
  {
   "cell_type": "code",
   "execution_count": 8,
   "id": "193f1b65",
   "metadata": {},
   "outputs": [
    {
     "data": {
      "text/html": [
       "<div>\n",
       "<style scoped>\n",
       "    .dataframe tbody tr th:only-of-type {\n",
       "        vertical-align: middle;\n",
       "    }\n",
       "\n",
       "    .dataframe tbody tr th {\n",
       "        vertical-align: top;\n",
       "    }\n",
       "\n",
       "    .dataframe thead th {\n",
       "        text-align: right;\n",
       "    }\n",
       "</style>\n",
       "<table border=\"1\" class=\"dataframe\">\n",
       "  <thead>\n",
       "    <tr style=\"text-align: right;\">\n",
       "      <th></th>\n",
       "      <th>label</th>\n",
       "      <th>original_text</th>\n",
       "      <th>masked_text</th>\n",
       "      <th>template_text</th>\n",
       "    </tr>\n",
       "  </thead>\n",
       "  <tbody>\n",
       "    <tr>\n",
       "      <th>0</th>\n",
       "      <td>0</td>\n",
       "      <td>This hand-vac is a definite inconvenience instead of connivence.</td>\n",
       "      <td>This hand-vac {mask} a {mask} inconvenience instead of connivence .</td>\n",
       "      <td>This hand-vac {neg_verb} a {neg_adj} inconvenience instead of connivence .</td>\n",
       "    </tr>\n",
       "  </tbody>\n",
       "</table>\n",
       "</div>"
      ],
      "text/plain": [
       "   label                                                     original_text   \n",
       "0      0  This hand-vac is a definite inconvenience instead of connivence.  \\\n",
       "\n",
       "                                                           masked_text   \n",
       "0  This hand-vac {mask} a {mask} inconvenience instead of connivence .  \\\n",
       "\n",
       "                                                                template_text  \n",
       "0  This hand-vac {neg_verb} a {neg_adj} inconvenience instead of connivence .  "
      ]
     },
     "execution_count": 8,
     "metadata": {},
     "output_type": "execute_result"
    }
   ],
   "source": [
    "tg.to_dataframe()\n"
   ]
  },
  {
   "cell_type": "code",
   "execution_count": 9,
   "id": "c03851be",
   "metadata": {},
   "outputs": [
    {
     "data": {
      "text/plain": [
       "{'pos_verb': [], 'neg_verb': ['is'], 'pos_adj': [], 'neg_adj': ['definite']}"
      ]
     },
     "execution_count": 9,
     "metadata": {},
     "output_type": "execute_result"
    }
   ],
   "source": [
    "tg.lexicons"
   ]
  },
  {
   "cell_type": "markdown",
   "id": "01a27f1f",
   "metadata": {},
   "source": [
    "### Número inicial de instâncias: 100"
   ]
  },
  {
   "cell_type": "code",
   "execution_count": 10,
   "id": "cd4a7fe3",
   "metadata": {},
   "outputs": [],
   "source": [
    "# Using all 100 instances\n",
    "instances = [x for x in df['text'].values]"
   ]
  },
  {
   "cell_type": "code",
   "execution_count": 11,
   "id": "f1f3f383",
   "metadata": {},
   "outputs": [
    {
     "name": "stdout",
     "output_type": "stream",
     "text": [
      "Converting texts to sentences...\n",
      ":: 467 sentences were generated.\n",
      "Ranking words using Replace-1 Score...\n"
     ]
    },
    {
     "name": "stderr",
     "output_type": "stream",
     "text": [
      "/tmp/ipykernel_903/1831943719.py:23: UserWarning: Implicit dimension choice for softmax has been deprecated. Change the call to include dim=X as an argument.\n",
      "  prob = softmax(tensor_logits[0]).detach().numpy()\n"
     ]
    },
    {
     "name": "stdout",
     "output_type": "stream",
     "text": [
      ":: Word ranking done.\n",
      "Predicting inputs...\n",
      ":: Sentence predictions done.\n",
      "CPU times: user 1min 56s, sys: 0 ns, total: 1min 56s\n",
      "Wall time: 13 s\n"
     ]
    }
   ],
   "source": [
    "%%time\n",
    "\n",
    "tg = PosNegTemplateGeneratorRandom(model, models)\n",
    "templates = tg.generate_templates(instances, n_masks=2, k_templates=18)"
   ]
  },
  {
   "cell_type": "markdown",
   "id": "677154d8",
   "metadata": {},
   "source": [
    "#### Tempo de execução para 100 instâncias: 11.4s"
   ]
  },
  {
   "cell_type": "code",
   "execution_count": 12,
   "id": "5c3c1541",
   "metadata": {},
   "outputs": [
    {
     "data": {
      "text/html": [
       "<div>\n",
       "<style scoped>\n",
       "    .dataframe tbody tr th:only-of-type {\n",
       "        vertical-align: middle;\n",
       "    }\n",
       "\n",
       "    .dataframe tbody tr th {\n",
       "        vertical-align: top;\n",
       "    }\n",
       "\n",
       "    .dataframe thead th {\n",
       "        text-align: right;\n",
       "    }\n",
       "</style>\n",
       "<table border=\"1\" class=\"dataframe\">\n",
       "  <thead>\n",
       "    <tr style=\"text-align: right;\">\n",
       "      <th></th>\n",
       "      <th>label</th>\n",
       "      <th>original_text</th>\n",
       "      <th>masked_text</th>\n",
       "      <th>template_text</th>\n",
       "    </tr>\n",
       "  </thead>\n",
       "  <tbody>\n",
       "    <tr>\n",
       "      <th>0</th>\n",
       "      <td>0</td>\n",
       "      <td>I am running windows 7 ultimate and a microsoft product is incompatible with it.</td>\n",
       "      <td>I am running windows 7 {mask} and a microsoft product is {mask} with it .</td>\n",
       "      <td>I am running windows 7 {pos_adj} and a microsoft product is {neg_adj} with it .</td>\n",
       "    </tr>\n",
       "    <tr>\n",
       "      <th>1</th>\n",
       "      <td>1</td>\n",
       "      <td>If you think the image is too bright, you can always turn down the brightness in the game.</td>\n",
       "      <td>If you think the image is too {mask} , you can always {mask} down the brightness in the game .</td>\n",
       "      <td>If you think the image is too {pos_adj} , you can always {neg_verb} down the brightness in the game .</td>\n",
       "    </tr>\n",
       "    <tr>\n",
       "      <th>2</th>\n",
       "      <td>1</td>\n",
       "      <td>I ordered a book on March 14 for a birthday present.</td>\n",
       "      <td>I {mask} a book on March 14 for a {mask} present .</td>\n",
       "      <td>I {pos_verb} a book on March 14 for a {neg_adj} present .</td>\n",
       "    </tr>\n",
       "    <tr>\n",
       "      <th>3</th>\n",
       "      <td>1</td>\n",
       "      <td>I think it would have been helpful to show how some of the earrings are actually worn, either on a mannequin head or a real person.</td>\n",
       "      <td>I think it {mask} {mask} been helpful to show how some of the earrings are actually worn , either on a mannequin head or a real person .</td>\n",
       "      <td>I think it {neg_verb} {pos_verb} been helpful to show how some of the earrings are actually worn , either on a mannequin head or a real person .</td>\n",
       "    </tr>\n",
       "    <tr>\n",
       "      <th>4</th>\n",
       "      <td>1</td>\n",
       "      <td>Grooves are solid on here and Instant Funk is a Band that is slept on.</td>\n",
       "      <td>Grooves are {mask} on here and Instant Funk is a Band that {mask} slept on .</td>\n",
       "      <td>Grooves are {pos_adj} on here and Instant Funk is a Band that {neg_verb} slept on .</td>\n",
       "    </tr>\n",
       "    <tr>\n",
       "      <th>5</th>\n",
       "      <td>0</td>\n",
       "      <td>Unfortunately, it hasn't been worth the purchase AT ALL!</td>\n",
       "      <td>Unfortunately , it {mask} n't been {mask} the purchase AT ALL !</td>\n",
       "      <td>Unfortunately , it {pos_verb} n't been {pos_adj} the purchase AT ALL !</td>\n",
       "    </tr>\n",
       "    <tr>\n",
       "      <th>6</th>\n",
       "      <td>0</td>\n",
       "      <td>I really do not feel that this tub deserves the one star.</td>\n",
       "      <td>I really {mask} not feel that this tub {mask} the one star .</td>\n",
       "      <td>I really {neg_verb} not feel that this tub {pos_verb} the one star .</td>\n",
       "    </tr>\n",
       "    <tr>\n",
       "      <th>7</th>\n",
       "      <td>1</td>\n",
       "      <td>I like how you can use multiple switches to make even more that 10 different effects.</td>\n",
       "      <td>I like how you {mask} use multiple switches to make even more that 10 {mask} effects .</td>\n",
       "      <td>I like how you {pos_verb} use multiple switches to make even more that 10 {pos_adj} effects .</td>\n",
       "    </tr>\n",
       "    <tr>\n",
       "      <th>8</th>\n",
       "      <td>1</td>\n",
       "      <td>Simple, you say?</td>\n",
       "      <td>Simple , you {mask} ?</td>\n",
       "      <td>Simple , you {neg_verb} ?</td>\n",
       "    </tr>\n",
       "    <tr>\n",
       "      <th>9</th>\n",
       "      <td>0</td>\n",
       "      <td>This set is a box of useless trash.</td>\n",
       "      <td>This set {mask} a box of {mask} trash .</td>\n",
       "      <td>This set {neg_verb} a box of {neg_adj} trash .</td>\n",
       "    </tr>\n",
       "    <tr>\n",
       "      <th>10</th>\n",
       "      <td>1</td>\n",
       "      <td>Never slow-moving, not over anyone's head, and should prove educational for nearly any reader.</td>\n",
       "      <td>Never slow-moving , not over anyone 's head , and should {mask} {mask} for nearly any reader .</td>\n",
       "      <td>Never slow-moving , not over anyone 's head , and should {neg_verb} {pos_adj} for nearly any reader .</td>\n",
       "    </tr>\n",
       "    <tr>\n",
       "      <th>11</th>\n",
       "      <td>0</td>\n",
       "      <td>By the third time the water was gushing out.</td>\n",
       "      <td>By the {mask} time the water {mask} gushing out .</td>\n",
       "      <td>By the {pos_adj} time the water {neg_verb} gushing out .</td>\n",
       "    </tr>\n",
       "    <tr>\n",
       "      <th>12</th>\n",
       "      <td>0</td>\n",
       "      <td>From love to hate.</td>\n",
       "      <td>From love to {mask} .</td>\n",
       "      <td>From love to {neg_verb} .</td>\n",
       "    </tr>\n",
       "    <tr>\n",
       "      <th>13</th>\n",
       "      <td>0</td>\n",
       "      <td>I luv Johanna Lindsey books but this was not good at all.I don't think she was awake when she wrote this.</td>\n",
       "      <td>I luv Johanna Lindsey books but this was not {mask} at all.I do n't think she was awake when she {mask} this .</td>\n",
       "      <td>I luv Johanna Lindsey books but this was not {pos_adj} at all.I do n't think she was awake when she {neg_verb} this .</td>\n",
       "    </tr>\n",
       "    <tr>\n",
       "      <th>14</th>\n",
       "      <td>0</td>\n",
       "      <td>I've never been so disapointed.</td>\n",
       "      <td>I 've never {mask} so {mask} .</td>\n",
       "      <td>I 've never {neg_verb} so {neg_adj} .</td>\n",
       "    </tr>\n",
       "    <tr>\n",
       "      <th>15</th>\n",
       "      <td>1</td>\n",
       "      <td>The main charters are king Arthur,Guenever,Gawian,and Lanccalot.I had A report due and my teacher told me that this was A good book to reed.the story is about king Aurthur and his adventuer's with the knights of the round table.</td>\n",
       "      <td>The main charters are king Arthur , Guenever , Gawian , and Lanccalot.I had A report due and my teacher told me that this was A {mask} book to reed.the story {mask} about king Aurthur and his adventuer 's with the knights of the round table .</td>\n",
       "      <td>The main charters are king Arthur , Guenever , Gawian , and Lanccalot.I had A report due and my teacher told me that this was A {pos_adj} book to reed.the story {neg_verb} about king Aurthur and his adventuer 's with the knights of the round table .</td>\n",
       "    </tr>\n",
       "    <tr>\n",
       "      <th>16</th>\n",
       "      <td>0</td>\n",
       "      <td>I'm sure bette wishes she could take this back, but it's too late.</td>\n",
       "      <td>I 'm {mask} bette wishes she could take this back , but it 's too {mask} .</td>\n",
       "      <td>I 'm {pos_adj} bette wishes she could take this back , but it 's too {neg_adj} .</td>\n",
       "    </tr>\n",
       "    <tr>\n",
       "      <th>17</th>\n",
       "      <td>1</td>\n",
       "      <td>How do you teach that to your dog?</td>\n",
       "      <td>How {mask} you {mask} that to your dog ?</td>\n",
       "      <td>How {neg_verb} you {pos_verb} that to your dog ?</td>\n",
       "    </tr>\n",
       "  </tbody>\n",
       "</table>\n",
       "</div>"
      ],
      "text/plain": [
       "    label   \n",
       "0       0  \\\n",
       "1       1   \n",
       "2       1   \n",
       "3       1   \n",
       "4       1   \n",
       "5       0   \n",
       "6       0   \n",
       "7       1   \n",
       "8       1   \n",
       "9       0   \n",
       "10      1   \n",
       "11      0   \n",
       "12      0   \n",
       "13      0   \n",
       "14      0   \n",
       "15      1   \n",
       "16      0   \n",
       "17      1   \n",
       "\n",
       "                                                                                                                                                                                                                           original_text   \n",
       "0                                                                                                                                                       I am running windows 7 ultimate and a microsoft product is incompatible with it.  \\\n",
       "1                                                                                                                                             If you think the image is too bright, you can always turn down the brightness in the game.   \n",
       "2                                                                                                                                                                                   I ordered a book on March 14 for a birthday present.   \n",
       "3                                                                                                    I think it would have been helpful to show how some of the earrings are actually worn, either on a mannequin head or a real person.   \n",
       "4                                                                                                                                                                 Grooves are solid on here and Instant Funk is a Band that is slept on.   \n",
       "5                                                                                                                                                                               Unfortunately, it hasn't been worth the purchase AT ALL!   \n",
       "6                                                                                                                                                                              I really do not feel that this tub deserves the one star.   \n",
       "7                                                                                                                                                  I like how you can use multiple switches to make even more that 10 different effects.   \n",
       "8                                                                                                                                                                                                                       Simple, you say?   \n",
       "9                                                                                                                                                                                                    This set is a box of useless trash.   \n",
       "10                                                                                                                                        Never slow-moving, not over anyone's head, and should prove educational for nearly any reader.   \n",
       "11                                                                                                                                                                                          By the third time the water was gushing out.   \n",
       "12                                                                                                                                                                                                                    From love to hate.   \n",
       "13                                                                                                                             I luv Johanna Lindsey books but this was not good at all.I don't think she was awake when she wrote this.   \n",
       "14                                                                                                                                                                                                       I've never been so disapointed.   \n",
       "15  The main charters are king Arthur,Guenever,Gawian,and Lanccalot.I had A report due and my teacher told me that this was A good book to reed.the story is about king Aurthur and his adventuer's with the knights of the round table.   \n",
       "16                                                                                                                                                                    I'm sure bette wishes she could take this back, but it's too late.   \n",
       "17                                                                                                                                                                                                    How do you teach that to your dog?   \n",
       "\n",
       "                                                                                                                                                                                                                                           masked_text   \n",
       "0                                                                                                                                                                            I am running windows 7 {mask} and a microsoft product is {mask} with it .  \\\n",
       "1                                                                                                                                                       If you think the image is too {mask} , you can always {mask} down the brightness in the game .   \n",
       "2                                                                                                                                                                                                   I {mask} a book on March 14 for a {mask} present .   \n",
       "3                                                                                                             I think it {mask} {mask} been helpful to show how some of the earrings are actually worn , either on a mannequin head or a real person .   \n",
       "4                                                                                                                                                                         Grooves are {mask} on here and Instant Funk is a Band that {mask} slept on .   \n",
       "5                                                                                                                                                                                      Unfortunately , it {mask} n't been {mask} the purchase AT ALL !   \n",
       "6                                                                                                                                                                                         I really {mask} not feel that this tub {mask} the one star .   \n",
       "7                                                                                                                                                               I like how you {mask} use multiple switches to make even more that 10 {mask} effects .   \n",
       "8                                                                                                                                                                                                                                Simple , you {mask} ?   \n",
       "9                                                                                                                                                                                                              This set {mask} a box of {mask} trash .   \n",
       "10                                                                                                                                                      Never slow-moving , not over anyone 's head , and should {mask} {mask} for nearly any reader .   \n",
       "11                                                                                                                                                                                                   By the {mask} time the water {mask} gushing out .   \n",
       "12                                                                                                                                                                                                                               From love to {mask} .   \n",
       "13                                                                                                                                      I luv Johanna Lindsey books but this was not {mask} at all.I do n't think she was awake when she {mask} this .   \n",
       "14                                                                                                                                                                                                                      I 've never {mask} so {mask} .   \n",
       "15  The main charters are king Arthur , Guenever , Gawian , and Lanccalot.I had A report due and my teacher told me that this was A {mask} book to reed.the story {mask} about king Aurthur and his adventuer 's with the knights of the round table .   \n",
       "16                                                                                                                                                                          I 'm {mask} bette wishes she could take this back , but it 's too {mask} .   \n",
       "17                                                                                                                                                                                                            How {mask} you {mask} that to your dog ?   \n",
       "\n",
       "                                                                                                                                                                                                                                                template_text  \n",
       "0                                                                                                                                                                             I am running windows 7 {pos_adj} and a microsoft product is {neg_adj} with it .  \n",
       "1                                                                                                                                                       If you think the image is too {pos_adj} , you can always {neg_verb} down the brightness in the game .  \n",
       "2                                                                                                                                                                                                   I {pos_verb} a book on March 14 for a {neg_adj} present .  \n",
       "3                                                                                                            I think it {neg_verb} {pos_verb} been helpful to show how some of the earrings are actually worn , either on a mannequin head or a real person .  \n",
       "4                                                                                                                                                                         Grooves are {pos_adj} on here and Instant Funk is a Band that {neg_verb} slept on .  \n",
       "5                                                                                                                                                                                      Unfortunately , it {pos_verb} n't been {pos_adj} the purchase AT ALL !  \n",
       "6                                                                                                                                                                                        I really {neg_verb} not feel that this tub {pos_verb} the one star .  \n",
       "7                                                                                                                                                               I like how you {pos_verb} use multiple switches to make even more that 10 {pos_adj} effects .  \n",
       "8                                                                                                                                                                                                                                   Simple , you {neg_verb} ?  \n",
       "9                                                                                                                                                                                                              This set {neg_verb} a box of {neg_adj} trash .  \n",
       "10                                                                                                                                                      Never slow-moving , not over anyone 's head , and should {neg_verb} {pos_adj} for nearly any reader .  \n",
       "11                                                                                                                                                                                                   By the {pos_adj} time the water {neg_verb} gushing out .  \n",
       "12                                                                                                                                                                                                                                  From love to {neg_verb} .  \n",
       "13                                                                                                                                      I luv Johanna Lindsey books but this was not {pos_adj} at all.I do n't think she was awake when she {neg_verb} this .  \n",
       "14                                                                                                                                                                                                                      I 've never {neg_verb} so {neg_adj} .  \n",
       "15  The main charters are king Arthur , Guenever , Gawian , and Lanccalot.I had A report due and my teacher told me that this was A {pos_adj} book to reed.the story {neg_verb} about king Aurthur and his adventuer 's with the knights of the round table .  \n",
       "16                                                                                                                                                                           I 'm {pos_adj} bette wishes she could take this back , but it 's too {neg_adj} .  \n",
       "17                                                                                                                                                                                                           How {neg_verb} you {pos_verb} that to your dog ?  "
      ]
     },
     "execution_count": 12,
     "metadata": {},
     "output_type": "execute_result"
    }
   ],
   "source": [
    "tg.to_dataframe()\n"
   ]
  },
  {
   "cell_type": "code",
   "execution_count": 13,
   "id": "0b26cf4e",
   "metadata": {},
   "outputs": [
    {
     "name": "stdout",
     "output_type": "stream",
     "text": [
      "{'pos_verb': ['has', 'ordered', 'have', 'can', 'deserves', 'teach'], 'neg_verb': ['prove', 'is', 'say', 'hate', 'turn', 'wrote', 'been', 'would', 'was', 'do'], 'pos_adj': ['worth', 'ultimate', 'different', 'third', 'educational', 'bright', 'sure', 'solid', 'good'], 'neg_adj': ['disapointed', 'birthday', 'useless', 'incompatible', 'late']}\n"
     ]
    }
   ],
   "source": [
    "print(tg.lexicons)"
   ]
  },
  {
   "cell_type": "markdown",
   "id": "9b218563",
   "metadata": {},
   "source": [
    "# Usando os templates gerados pelo TemplateGenerator no CheckList"
   ]
  },
  {
   "cell_type": "code",
   "execution_count": 14,
   "id": "535bea1b",
   "metadata": {},
   "outputs": [],
   "source": [
    "from checklist.editor import Editor\n",
    "from checklist.test_suite import TestSuite\n",
    "from checklist.test_types import MFT"
   ]
  },
  {
   "cell_type": "code",
   "execution_count": 15,
   "id": "247a1227",
   "metadata": {},
   "outputs": [],
   "source": [
    "lexicons = tg.lexicons\n",
    "templates = tg.template_texts\n",
    "masked = tg.masked_texts\n",
    "labels = [sent.prediction.label for sent in tg.sentences]\n",
    "\n",
    "editor = Editor()\n",
    "editor.add_lexicon('pos_verb', lexicons['pos_verb'])\n",
    "editor.add_lexicon('neg_verb', lexicons['neg_verb'])\n",
    "editor.add_lexicon('pos_adj', lexicons['pos_adj'])\n",
    "editor.add_lexicon('neg_adj', lexicons['neg_adj'])\n",
    "\n",
    "suite = TestSuite()"
   ]
  },
  {
   "cell_type": "code",
   "execution_count": 16,
   "id": "0266d01e",
   "metadata": {},
   "outputs": [],
   "source": [
    "for template, label, i in zip(templates, labels, range(len(templates))):\n",
    "    t = editor.template(template, remove_duplicates=True, labels=int(label))\n",
    "\n",
    "    suite.add(MFT(\n",
    "        data=t.data,\n",
    "        labels=label,\n",
    "        capability=\"Vocabullary\", \n",
    "        name=f\"Test: MFT with vocabullary - template{i+1}\",\n",
    "        description=\"Checking if the model can handle vocabullary\"))"
   ]
  },
  {
   "cell_type": "code",
   "execution_count": 17,
   "id": "latter-vertical",
   "metadata": {},
   "outputs": [
    {
     "name": "stdout",
     "output_type": "stream",
     "text": [
      "Running Test: MFT with vocabullary - template1\n",
      "Predicting 45 examples\n"
     ]
    },
    {
     "name": "stderr",
     "output_type": "stream",
     "text": [
      "/tmp/ipykernel_903/1831943719.py:23: UserWarning: Implicit dimension choice for softmax has been deprecated. Change the call to include dim=X as an argument.\n",
      "  prob = softmax(tensor_logits[0]).detach().numpy()\n"
     ]
    },
    {
     "name": "stdout",
     "output_type": "stream",
     "text": [
      "Running Test: MFT with vocabullary - template2\n",
      "Predicting 90 examples\n",
      "Running Test: MFT with vocabullary - template3\n",
      "Predicting 30 examples\n",
      "Running Test: MFT with vocabullary - template4\n",
      "Predicting 60 examples\n",
      "Running Test: MFT with vocabullary - template5\n",
      "Predicting 90 examples\n",
      "Running Test: MFT with vocabullary - template6\n",
      "Predicting 54 examples\n",
      "Running Test: MFT with vocabullary - template7\n",
      "Predicting 60 examples\n",
      "Running Test: MFT with vocabullary - template8\n",
      "Predicting 54 examples\n",
      "Running Test: MFT with vocabullary - template9\n",
      "Predicting 10 examples\n",
      "Running Test: MFT with vocabullary - template10\n",
      "Predicting 50 examples\n",
      "Running Test: MFT with vocabullary - template11\n",
      "Predicting 90 examples\n",
      "Running Test: MFT with vocabullary - template12\n",
      "Predicting 90 examples\n",
      "Running Test: MFT with vocabullary - template13\n",
      "Predicting 10 examples\n",
      "Running Test: MFT with vocabullary - template14\n",
      "Predicting 90 examples\n",
      "Running Test: MFT with vocabullary - template15\n",
      "Predicting 50 examples\n",
      "Running Test: MFT with vocabullary - template16\n",
      "Predicting 90 examples\n",
      "Running Test: MFT with vocabullary - template17\n",
      "Predicting 45 examples\n",
      "Running Test: MFT with vocabullary - template18\n",
      "Predicting 60 examples\n"
     ]
    }
   ],
   "source": [
    "suite.run(model.predict, overwrite=True)\n",
    "suite.save('./suites/posneg-random.suite')"
   ]
  },
  {
   "cell_type": "code",
   "execution_count": 18,
   "id": "technological-vacuum",
   "metadata": {},
   "outputs": [
    {
     "name": "stdout",
     "output_type": "stream",
     "text": [
      "Please wait as we prepare the table data...\n"
     ]
    },
    {
     "data": {
      "application/vnd.jupyter.widget-view+json": {
       "model_id": "f42873cd9da244df83d817706b5e29de",
       "version_major": 2,
       "version_minor": 0
      },
      "text/plain": [
       "SuiteSummarizer(stats={'npassed': 0, 'nfailed': 0, 'nfiltered': 0}, test_infos=[{'name': 'Test: MFT with vocab…"
      ]
     },
     "execution_count": 18,
     "metadata": {},
     "output_type": "execute_result"
    }
   ],
   "source": [
    "suite.visual_summary_table()"
   ]
  },
  {
   "cell_type": "markdown",
   "id": "exciting-comedy",
   "metadata": {},
   "source": [
    "# Carregando suite de teste"
   ]
  },
  {
   "cell_type": "code",
   "execution_count": 19,
   "id": "rocky-beaver",
   "metadata": {},
   "outputs": [],
   "source": [
    "from checklist.test_suite import TestSuite\n",
    "suite = TestSuite.from_file('./suites/posneg-random.suite')\n",
    "\n",
    "# suite.visual_summary_table()"
   ]
  },
  {
   "cell_type": "code",
   "execution_count": 20,
   "id": "71ea6c83",
   "metadata": {},
   "outputs": [
    {
     "name": "stdout",
     "output_type": "stream",
     "text": [
      "failed = 211 (19.76%)\n",
      "passed = 857 (80.24%)\n",
      "total = 1068\n",
      "templates: 18\n"
     ]
    }
   ],
   "source": [
    "passed = 0\n",
    "failed = 0\n",
    "for test_name in suite.tests:\n",
    "    table = suite.visual_summary_by_test(test_name)\n",
    "    \n",
    "    failed += table.stats['nfailed']    \n",
    "    passed += table.stats['npassed']\n",
    "    assert table.stats['nfailed'] + table.stats['npassed'] == len(table.filtered_testcases)\n",
    "\n",
    "print(f\"{failed = } ({(failed/(passed+failed))*100:.2f}%)\")\n",
    "print(f\"{passed = } ({(passed/(passed+failed))*100:.2f}%)\")\n",
    "print(f\"total = {passed+failed}\")\n",
    "print(\"templates:\", len(suite.tests))"
   ]
  },
  {
   "cell_type": "code",
   "execution_count": 21,
   "id": "confidential-france",
   "metadata": {},
   "outputs": [
    {
     "name": "stdout",
     "output_type": "stream",
     "text": [
      "` ensemble massacres will throughout .\n",
      "` ensemble massacres shown throughout .\n",
      "` ensemble massacres justify throughout .\n",
      "` ensemble massacres captured throughout .\n",
      "` ensemble massacres check throughout .\n",
      "` ensemble massacres heard throughout .\n",
      "` ensemble massacres be throughout .\n",
      "` ensemble massacres does throughout .\n",
      "` ensemble massacres seen throughout .\n",
      "` matrix'-style massacres will throughout .\n",
      "` matrix'-style massacres captured throughout .\n",
      "` fascinating massacres labored throughout .\n",
      "` fascinating massacres will throughout .\n",
      "` fascinating massacres erupt throughout .\n",
      "` fascinating massacres shown throughout .\n",
      "` fascinating massacres hammer throughout .\n",
      "` fascinating massacres justify throughout .\n",
      "` fascinating massacres captured throughout .\n",
      "` fascinating massacres check throughout .\n",
      "` fascinating massacres heard throughout .\n",
      "` fascinating massacres be throughout .\n",
      "` fascinating massacres does throughout .\n",
      "` fascinating massacres seen throughout .\n",
      "` fascinating massacres tends throughout .\n",
      "` close massacres will throughout .\n",
      "` close massacres shown throughout .\n",
      "` close massacres justify throughout .\n",
      "` close massacres check throughout .\n",
      "` close massacres heard throughout .\n",
      "` close massacres be throughout .\n",
      "` close massacres does throughout .\n",
      "` close massacres seen throughout .\n",
      "` happy massacres will throughout .\n",
      "` happy massacres erupt throughout .\n",
      "` happy massacres shown throughout .\n",
      "` happy massacres hammer throughout .\n",
      "` happy massacres justify throughout .\n",
      "` happy massacres captured throughout .\n",
      "` happy massacres check throughout .\n",
      "` happy massacres heard throughout .\n",
      "` happy massacres be throughout .\n",
      "` happy massacres does throughout .\n",
      "` happy massacres seen throughout .\n",
      "` happy massacres tends throughout .\n",
      "` best massacres labored throughout .\n",
      "` best massacres will throughout .\n",
      "` best massacres erupt throughout .\n",
      "` best massacres shown throughout .\n",
      "` best massacres hammer throughout .\n",
      "` best massacres justify throughout .\n",
      "` best massacres captured throughout .\n",
      "` best massacres check throughout .\n",
      "` best massacres heard throughout .\n",
      "` best massacres be throughout .\n",
      "` best massacres does throughout .\n",
      "` best massacres seen throughout .\n",
      "` best massacres tends throughout .\n"
     ]
    }
   ],
   "source": [
    "table = suite.visual_summary_by_test('Test: MFT with vocabullary - template2')\n",
    "\n",
    "for item in table.candidate_testcases:\n",
    "    print(item['examples'][0]['new']['text'])"
   ]
  }
 ],
 "metadata": {
  "interpreter": {
   "hash": "335f8eac43d2678591a8076d8dfd5de078961fe9395efec4dfbbe61965ca9377"
  },
  "kernelspec": {
   "display_name": "Python 3",
   "language": "python",
   "name": "python3"
  },
  "language_info": {
   "codemirror_mode": {
    "name": "ipython",
    "version": 3
   },
   "file_extension": ".py",
   "mimetype": "text/x-python",
   "name": "python",
   "nbconvert_exporter": "python",
   "pygments_lexer": "ipython3",
   "version": "3.11.3"
  }
 },
 "nbformat": 4,
 "nbformat_minor": 5
}
