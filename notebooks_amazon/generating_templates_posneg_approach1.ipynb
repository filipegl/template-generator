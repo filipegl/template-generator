{
 "cells": [
  {
   "cell_type": "markdown",
   "id": "d0e2c728",
   "metadata": {},
   "source": [
    "# Abordagem 1\n",
    "\n",
    "Usando a abordagem 1 para gerar templates com foco em templates positivos e negativos. Uma possível aplicação seria testar a capacidade linguística *Vocabullary* com o teste **MFT**.\n",
    "\n",
    "As etapas desta abordagem são:\n",
    "\n",
    "1. Rankear as palavras das instâncias completas\n",
    "2. Quebrar as instâncias em sentenças\n",
    "3. Filtrar as sentenças que contêm ao menos uma das palavras mais bem rankeadas na etapa anterior\n",
    "4. Filtrar as sentenças com palavras relevantes (adjetivos ou verbos)\n",
    "5. Classificar as sentenças usando o *Oráculo*\n",
    "6. Filtrar as sentenças classificadas de forma unânime\n",
    "7. Substituir as palavras relevantes por máscaras"
   ]
  },
  {
   "cell_type": "code",
   "execution_count": 1,
   "id": "897c3a05",
   "metadata": {},
   "outputs": [],
   "source": [
    "%config Completer.use_jedi = False\n",
    "%load_ext autoreload\n",
    "%autoreload 2\n",
    "import sys\n",
    "sys.path.append('../')"
   ]
  },
  {
   "cell_type": "markdown",
   "id": "6da847fc",
   "metadata": {},
   "source": [
    "## Carregando o dataset, o modelo alvo e os modelos auxiliares"
   ]
  },
  {
   "cell_type": "code",
   "execution_count": 2,
   "id": "f6e018fa",
   "metadata": {},
   "outputs": [
    {
     "data": {
      "text/html": [
       "<div>\n",
       "<style scoped>\n",
       "    .dataframe tbody tr th:only-of-type {\n",
       "        vertical-align: middle;\n",
       "    }\n",
       "\n",
       "    .dataframe tbody tr th {\n",
       "        vertical-align: top;\n",
       "    }\n",
       "\n",
       "    .dataframe thead th {\n",
       "        text-align: right;\n",
       "    }\n",
       "</style>\n",
       "<table border=\"1\" class=\"dataframe\">\n",
       "  <thead>\n",
       "    <tr style=\"text-align: right;\">\n",
       "      <th></th>\n",
       "      <th>label</th>\n",
       "      <th>text</th>\n",
       "    </tr>\n",
       "  </thead>\n",
       "  <tbody>\n",
       "    <tr>\n",
       "      <th>0</th>\n",
       "      <td>1</td>\n",
       "      <td>The product works fine. I ordered the more exprensive one after I read reviews from others on Amazon. My husband likes the presser. It does a good job pressing his pants. However, it was damaged in the box when we received it. We decided it was too much trouble to send it back. The box was torn and the presser had a chuck knocked out of it.</td>\n",
       "    </tr>\n",
       "    <tr>\n",
       "      <th>1</th>\n",
       "      <td>0</td>\n",
       "      <td>This book is so useless that I feel compelled to write a review to warn others to stay away from this book. A good tutorial should inspire the user on what he/she can do with the product. This book leads you to believe that without talent, the only thing you can do with Illustrator is to draw circles and squares. The book is a disservice to both the reader and to Adobe Illustrator.</td>\n",
       "    </tr>\n",
       "    <tr>\n",
       "      <th>2</th>\n",
       "      <td>0</td>\n",
       "      <td>The authors attempt an ambitious goal of covering many SOA topics - but their resulting text come across as scattered - vague - and lacking a coherent and practical application.Thomas Erl's books are much better written - and have a coherent approch to buliding a solid body of knowledge.For a manager / salesperson wanting a broad overview of SOA - they might be better served by reading Service Oriented Architecture For DummiesService Oriented Architecture For Dummies (For Dummies (Computer/Tech))</td>\n",
       "    </tr>\n",
       "    <tr>\n",
       "      <th>3</th>\n",
       "      <td>0</td>\n",
       "      <td>I ordered this product and did recieve then a couple months later it broke. Now Ive done everything I was told to do by by shipping back for a replacement and nothing. They wont return Emails i havent received the replacement part.</td>\n",
       "    </tr>\n",
       "    <tr>\n",
       "      <th>4</th>\n",
       "      <td>0</td>\n",
       "      <td>I hated this movie. It was so silly. The girl made the cult look more stupid than they already were. Come on? She was from the future??? I can't stop laughing. Maybe, I missed something. I don't think I did. When it first started, I said to myself: What am I watching this for? I thought it was stupid, stupid and then more stupid. I kept watching, trying to make sense of it, but to no avail. I didn't want to waste my $1.00 rental fee.</td>\n",
       "    </tr>\n",
       "    <tr>\n",
       "      <th>...</th>\n",
       "      <td>...</td>\n",
       "      <td>...</td>\n",
       "    </tr>\n",
       "    <tr>\n",
       "      <th>95</th>\n",
       "      <td>1</td>\n",
       "      <td>What a gloriously funny book! Even the recipies were funny, and well, how funny did you think a recipie could be?! I \"discovered\" this book en route to Jamaica back in May--the stranger next to me read it all the way there. Well, the cover just grabbed me and I HAD to have it. It was a quick, light read that had a very wise and uplifting last chapter. Oh, and for those who are clueless like me in the beginning, this is not a fiction novel, but a wacky manual about life, love and other good stuff that we should all follow to the hilt!</td>\n",
       "    </tr>\n",
       "    <tr>\n",
       "      <th>96</th>\n",
       "      <td>0</td>\n",
       "      <td>If you want Harman Kardon receivers it's ok. Even most of the DVD's. I own a 22 and a 31 and I also got this one which is really annoying.Issues:- it does not save caption settings- it does not save video settings; even after I set it up to be 16:9 1080i default it always reverted to 720p.- after a period of time the DVD unit itself refused to read discsI returned to HK, got a replacement and I'm testing it to see if there are any improvements, but... I think this is unacceptable for HK. After all I did not buy an 80$ Sony, and if I bought HK I bought it for the name which supposedley means quality.</td>\n",
       "    </tr>\n",
       "    <tr>\n",
       "      <th>97</th>\n",
       "      <td>0</td>\n",
       "      <td>Same problems as everybody else. 14 months after purchase it ate the card. Tried 2 different cards, no dice for either. From love to hate. Dang. Also Canon's support website/acknowledgement of this problem is non-existent. It was hard enough to navigate their site, but it's impossible to find anything relevant.</td>\n",
       "    </tr>\n",
       "    <tr>\n",
       "      <th>98</th>\n",
       "      <td>0</td>\n",
       "      <td>I can be tough on safety glasses so it may be no fault of the mfg but IMO the lenses scuffed and scratched rather quickly.</td>\n",
       "    </tr>\n",
       "    <tr>\n",
       "      <th>99</th>\n",
       "      <td>1</td>\n",
       "      <td>Love the quick drawing action, works beautifully! Great knife at a great price. Get you one son!</td>\n",
       "    </tr>\n",
       "  </tbody>\n",
       "</table>\n",
       "<p>100 rows × 2 columns</p>\n",
       "</div>"
      ],
      "text/plain": [
       "    label   \n",
       "0       1  \\\n",
       "1       0   \n",
       "2       0   \n",
       "3       0   \n",
       "4       0   \n",
       "..    ...   \n",
       "95      1   \n",
       "96      0   \n",
       "97      0   \n",
       "98      0   \n",
       "99      1   \n",
       "\n",
       "                                                                                                                                                                                                                                                                                                                                                                                                                                                                                                                                                                                                                              text  \n",
       "0                                                                                                                                                                                                                                                                           The product works fine. I ordered the more exprensive one after I read reviews from others on Amazon. My husband likes the presser. It does a good job pressing his pants. However, it was damaged in the box when we received it. We decided it was too much trouble to send it back. The box was torn and the presser had a chuck knocked out of it.  \n",
       "1                                                                                                                                                                                                                                 This book is so useless that I feel compelled to write a review to warn others to stay away from this book. A good tutorial should inspire the user on what he/she can do with the product. This book leads you to believe that without talent, the only thing you can do with Illustrator is to draw circles and squares. The book is a disservice to both the reader and to Adobe Illustrator.  \n",
       "2                                                                                                            The authors attempt an ambitious goal of covering many SOA topics - but their resulting text come across as scattered - vague - and lacking a coherent and practical application.Thomas Erl's books are much better written - and have a coherent approch to buliding a solid body of knowledge.For a manager / salesperson wanting a broad overview of SOA - they might be better served by reading Service Oriented Architecture For DummiesService Oriented Architecture For Dummies (For Dummies (Computer/Tech))  \n",
       "3                                                                                                                                                                                                                                                                                                                                                                                          I ordered this product and did recieve then a couple months later it broke. Now Ive done everything I was told to do by by shipping back for a replacement and nothing. They wont return Emails i havent received the replacement part.  \n",
       "4                                                                                                                                                                            I hated this movie. It was so silly. The girl made the cult look more stupid than they already were. Come on? She was from the future??? I can't stop laughing. Maybe, I missed something. I don't think I did. When it first started, I said to myself: What am I watching this for? I thought it was stupid, stupid and then more stupid. I kept watching, trying to make sense of it, but to no avail. I didn't want to waste my $1.00 rental fee.  \n",
       "..                                                                                                                                                                                                                                                                                                                                                                                                                                                                                                                                                                                                                             ...  \n",
       "95                                                                     What a gloriously funny book! Even the recipies were funny, and well, how funny did you think a recipie could be?! I \"discovered\" this book en route to Jamaica back in May--the stranger next to me read it all the way there. Well, the cover just grabbed me and I HAD to have it. It was a quick, light read that had a very wise and uplifting last chapter. Oh, and for those who are clueless like me in the beginning, this is not a fiction novel, but a wacky manual about life, love and other good stuff that we should all follow to the hilt!  \n",
       "96  If you want Harman Kardon receivers it's ok. Even most of the DVD's. I own a 22 and a 31 and I also got this one which is really annoying.Issues:- it does not save caption settings- it does not save video settings; even after I set it up to be 16:9 1080i default it always reverted to 720p.- after a period of time the DVD unit itself refused to read discsI returned to HK, got a replacement and I'm testing it to see if there are any improvements, but... I think this is unacceptable for HK. After all I did not buy an 80$ Sony, and if I bought HK I bought it for the name which supposedley means quality.  \n",
       "97                                                                                                                                                                                                                                                                                                        Same problems as everybody else. 14 months after purchase it ate the card. Tried 2 different cards, no dice for either. From love to hate. Dang. Also Canon's support website/acknowledgement of this problem is non-existent. It was hard enough to navigate their site, but it's impossible to find anything relevant.  \n",
       "98                                                                                                                                                                                                                                                                                                                                                                                                                                                                                                      I can be tough on safety glasses so it may be no fault of the mfg but IMO the lenses scuffed and scratched rather quickly.  \n",
       "99                                                                                                                                                                                                                                                                                                                                                                                                                                                                                                                                Love the quick drawing action, works beautifully! Great knife at a great price. Get you one son!  \n",
       "\n",
       "[100 rows x 2 columns]"
      ]
     },
     "execution_count": 2,
     "metadata": {},
     "output_type": "execute_result"
    }
   ],
   "source": [
    "import pandas as pd\n",
    "pd.set_option('display.max_colwidth', None)\n",
    "from datasets import load_dataset\n",
    "\n",
    "dataset = load_dataset(\"amazon_polarity\")\n",
    "dataset.set_format(\"pandas\")\n",
    "df = dataset[\"test\"].shuffle(seed=42)[:100]\n",
    "df = df.rename(columns={\"content\": \"text\"}).drop(columns=[\"title\"])\n",
    "df"
   ]
  },
  {
   "cell_type": "code",
   "execution_count": 3,
   "id": "52d451cb",
   "metadata": {},
   "outputs": [
    {
     "data": {
      "text/plain": [
       "label\n",
       "0    51\n",
       "1    49\n",
       "Name: count, dtype: int64"
      ]
     },
     "execution_count": 3,
     "metadata": {},
     "output_type": "execute_result"
    }
   ],
   "source": [
    "df[\"label\"].value_counts()"
   ]
  },
  {
   "cell_type": "code",
   "execution_count": 4,
   "id": "264d0dcd",
   "metadata": {},
   "outputs": [],
   "source": [
    "import re\n",
    "import numpy as np\n",
    "from torch.nn.functional import softmax\n",
    "from transformers import AutoTokenizer, AutoModelForSequenceClassification\n",
    "\n",
    "def pre_proccess(text):\n",
    "    text = text.lower()\n",
    "    text = re.sub('[\"\\',!-.:-@0-9/]()', ' ', text)\n",
    "    return text\n",
    "\n",
    "# Wrapper to adapt output format\n",
    "class SentimentAnalisysModelWrapper:\n",
    "    def __init__(self, model, tokenizer):\n",
    "        self.model = model\n",
    "        self.tokenizer = tokenizer\n",
    "        \n",
    "    def __predict(self, text_input):\n",
    "        text_preprocessed = pre_proccess(text_input)\n",
    "        tokenized = self.tokenizer(text_preprocessed, padding=True, truncation=True, max_length=512, \n",
    "                                    add_special_tokens = True, return_tensors=\"pt\")\n",
    "        \n",
    "        tensor_logits = self.model(**tokenized)\n",
    "        prob = softmax(tensor_logits[0]).detach().numpy()\n",
    "        pred = np.argmax(prob)\n",
    "        \n",
    "        return pred, prob\n",
    "    \n",
    "    def predict_label(self, text_inputs):\n",
    "        return self.predict(text_inputs)[0]\n",
    "        \n",
    "    def predict_proba(self, text_inputs):\n",
    "        return self.predict(text_inputs)[1]\n",
    "        \n",
    "    def predict(self, text_inputs):\n",
    "        if isinstance(text_inputs, str):\n",
    "            text_inputs = [text_inputs]\n",
    "        \n",
    "        preds = []\n",
    "        probs = []\n",
    "\n",
    "        for text_input in text_inputs:\n",
    "            pred, prob = self.__predict(text_input)\n",
    "            preds.append(pred)\n",
    "            probs.append(prob[0])\n",
    "\n",
    "        return np.array(preds), np.array(probs) # ([0, 1], [[0.99, 0.01], [0.03, 0.97]])\n",
    "\n",
    "# Auxiliar function to load and wrap a model from Hugging Face\n",
    "def load_model(model_name):\n",
    "    print(f'Loading model {model_name}...')\n",
    "    model = AutoModelForSequenceClassification.from_pretrained(model_name)\n",
    "    tokenizer = AutoTokenizer.from_pretrained(model_name)\n",
    "    \n",
    "    return SentimentAnalisysModelWrapper(model, tokenizer)\n",
    "\n",
    "# Hugging Face hosted model names \n",
    "rotten_tomatoes_models = {\n",
    "    'bert': 'pig4431/amazonPolarity_BERT_5E', \n",
    "    'distilbert': 'pig4431/amazonPolarity_DistilBERT_5E', \n",
    "    'roberta': 'pig4431/amazonPolarity_roBERTa_5E', \n",
    "    'albert': 'pig4431/amazonPolarity_ALBERT_5E',\n",
    "    'xlnet': 'pig4431/amazonPolarity_XLNET_5E', \n",
    "}"
   ]
  },
  {
   "cell_type": "code",
   "execution_count": 5,
   "id": "2f271eae",
   "metadata": {},
   "outputs": [
    {
     "name": "stdout",
     "output_type": "stream",
     "text": [
      "Loading model pig4431/amazonPolarity_ALBERT_5E...\n"
     ]
    },
    {
     "data": {
      "application/vnd.jupyter.widget-view+json": {
       "model_id": "aa954acde94a4b23a9b6bcf2ab08f3df",
       "version_major": 2,
       "version_minor": 0
      },
      "text/plain": [
       "Downloading (…)lve/main/config.json:   0%|          | 0.00/889 [00:00<?, ?B/s]"
      ]
     },
     "metadata": {},
     "output_type": "display_data"
    },
    {
     "data": {
      "application/vnd.jupyter.widget-view+json": {
       "model_id": "f1cfb12d3c6d4b788be761bfe4daff9b",
       "version_major": 2,
       "version_minor": 0
      },
      "text/plain": [
       "Downloading pytorch_model.bin:   0%|          | 0.00/46.8M [00:00<?, ?B/s]"
      ]
     },
     "metadata": {},
     "output_type": "display_data"
    },
    {
     "data": {
      "application/vnd.jupyter.widget-view+json": {
       "model_id": "fcd5017dd8c54b5c8f3e176b5c7e5888",
       "version_major": 2,
       "version_minor": 0
      },
      "text/plain": [
       "Downloading (…)okenizer_config.json:   0%|          | 0.00/548 [00:00<?, ?B/s]"
      ]
     },
     "metadata": {},
     "output_type": "display_data"
    },
    {
     "data": {
      "application/vnd.jupyter.widget-view+json": {
       "model_id": "7fc144ea1782455eb511c3dac972a10b",
       "version_major": 2,
       "version_minor": 0
      },
      "text/plain": [
       "Downloading (…)/main/tokenizer.json:   0%|          | 0.00/2.27M [00:00<?, ?B/s]"
      ]
     },
     "metadata": {},
     "output_type": "display_data"
    },
    {
     "data": {
      "application/vnd.jupyter.widget-view+json": {
       "model_id": "d77c0b188c9e400188cfa6b29c6903f3",
       "version_major": 2,
       "version_minor": 0
      },
      "text/plain": [
       "Downloading (…)cial_tokens_map.json:   0%|          | 0.00/286 [00:00<?, ?B/s]"
      ]
     },
     "metadata": {},
     "output_type": "display_data"
    },
    {
     "name": "stdout",
     "output_type": "stream",
     "text": [
      "Loading model pig4431/amazonPolarity_DistilBERT_5E...\n"
     ]
    },
    {
     "data": {
      "application/vnd.jupyter.widget-view+json": {
       "model_id": "deaaea599ad94b7981f6615b13476073",
       "version_major": 2,
       "version_minor": 0
      },
      "text/plain": [
       "Downloading (…)lve/main/config.json:   0%|          | 0.00/615 [00:00<?, ?B/s]"
      ]
     },
     "metadata": {},
     "output_type": "display_data"
    },
    {
     "data": {
      "application/vnd.jupyter.widget-view+json": {
       "model_id": "f6b1ecb894374c458e48ae0056eb8421",
       "version_major": 2,
       "version_minor": 0
      },
      "text/plain": [
       "Downloading pytorch_model.bin:   0%|          | 0.00/268M [00:00<?, ?B/s]"
      ]
     },
     "metadata": {},
     "output_type": "display_data"
    },
    {
     "data": {
      "application/vnd.jupyter.widget-view+json": {
       "model_id": "f3b8ac2c61964755a93a3e4b6e68754d",
       "version_major": 2,
       "version_minor": 0
      },
      "text/plain": [
       "Downloading (…)okenizer_config.json:   0%|          | 0.00/382 [00:00<?, ?B/s]"
      ]
     },
     "metadata": {},
     "output_type": "display_data"
    },
    {
     "data": {
      "application/vnd.jupyter.widget-view+json": {
       "model_id": "7dd98449c790485fbfe6ceafceeacfbf",
       "version_major": 2,
       "version_minor": 0
      },
      "text/plain": [
       "Downloading (…)solve/main/vocab.txt:   0%|          | 0.00/232k [00:00<?, ?B/s]"
      ]
     },
     "metadata": {},
     "output_type": "display_data"
    },
    {
     "data": {
      "application/vnd.jupyter.widget-view+json": {
       "model_id": "8077bd24733a4d408734e4abfb9662bb",
       "version_major": 2,
       "version_minor": 0
      },
      "text/plain": [
       "Downloading (…)/main/tokenizer.json:   0%|          | 0.00/711k [00:00<?, ?B/s]"
      ]
     },
     "metadata": {},
     "output_type": "display_data"
    },
    {
     "data": {
      "application/vnd.jupyter.widget-view+json": {
       "model_id": "7e605e54f42a4385b613b72aad2f1e9c",
       "version_major": 2,
       "version_minor": 0
      },
      "text/plain": [
       "Downloading (…)cial_tokens_map.json:   0%|          | 0.00/125 [00:00<?, ?B/s]"
      ]
     },
     "metadata": {},
     "output_type": "display_data"
    },
    {
     "name": "stdout",
     "output_type": "stream",
     "text": [
      "Loading model pig4431/amazonPolarity_roBERTa_5E...\n"
     ]
    },
    {
     "data": {
      "application/vnd.jupyter.widget-view+json": {
       "model_id": "bf91c38b8b1140eda368ce787b22baf3",
       "version_major": 2,
       "version_minor": 0
      },
      "text/plain": [
       "Downloading (…)lve/main/config.json:   0%|          | 0.00/735 [00:00<?, ?B/s]"
      ]
     },
     "metadata": {},
     "output_type": "display_data"
    },
    {
     "data": {
      "application/vnd.jupyter.widget-view+json": {
       "model_id": "0009eb2e62744381989333f58e54c9e6",
       "version_major": 2,
       "version_minor": 0
      },
      "text/plain": [
       "Downloading pytorch_model.bin:   0%|          | 0.00/499M [00:00<?, ?B/s]"
      ]
     },
     "metadata": {},
     "output_type": "display_data"
    },
    {
     "data": {
      "application/vnd.jupyter.widget-view+json": {
       "model_id": "b4192834b5214ad5afc3edf8131451ba",
       "version_major": 2,
       "version_minor": 0
      },
      "text/plain": [
       "Downloading (…)okenizer_config.json:   0%|          | 0.00/427 [00:00<?, ?B/s]"
      ]
     },
     "metadata": {},
     "output_type": "display_data"
    },
    {
     "data": {
      "application/vnd.jupyter.widget-view+json": {
       "model_id": "9f8159f0b10e4a9ab82aadec169e603f",
       "version_major": 2,
       "version_minor": 0
      },
      "text/plain": [
       "Downloading (…)olve/main/vocab.json:   0%|          | 0.00/798k [00:00<?, ?B/s]"
      ]
     },
     "metadata": {},
     "output_type": "display_data"
    },
    {
     "data": {
      "application/vnd.jupyter.widget-view+json": {
       "model_id": "b36c3031d5724f75a36f1a34352d1c55",
       "version_major": 2,
       "version_minor": 0
      },
      "text/plain": [
       "Downloading (…)olve/main/merges.txt:   0%|          | 0.00/456k [00:00<?, ?B/s]"
      ]
     },
     "metadata": {},
     "output_type": "display_data"
    },
    {
     "data": {
      "application/vnd.jupyter.widget-view+json": {
       "model_id": "6deccae0b9b849db9b6943b31f160342",
       "version_major": 2,
       "version_minor": 0
      },
      "text/plain": [
       "Downloading (…)/main/tokenizer.json:   0%|          | 0.00/2.11M [00:00<?, ?B/s]"
      ]
     },
     "metadata": {},
     "output_type": "display_data"
    },
    {
     "data": {
      "application/vnd.jupyter.widget-view+json": {
       "model_id": "bd6b95411da744ffa02f4e9ac71a2525",
       "version_major": 2,
       "version_minor": 0
      },
      "text/plain": [
       "Downloading (…)cial_tokens_map.json:   0%|          | 0.00/280 [00:00<?, ?B/s]"
      ]
     },
     "metadata": {},
     "output_type": "display_data"
    },
    {
     "name": "stdout",
     "output_type": "stream",
     "text": [
      "Loading model pig4431/amazonPolarity_XLNET_5E...\n"
     ]
    },
    {
     "data": {
      "application/vnd.jupyter.widget-view+json": {
       "model_id": "d32e587a20bc4c21b6e70862bf913703",
       "version_major": 2,
       "version_minor": 0
      },
      "text/plain": [
       "Downloading (…)lve/main/config.json:   0%|          | 0.00/979 [00:00<?, ?B/s]"
      ]
     },
     "metadata": {},
     "output_type": "display_data"
    },
    {
     "data": {
      "application/vnd.jupyter.widget-view+json": {
       "model_id": "3f2de25973e84947bc4f4df0d29e6f0c",
       "version_major": 2,
       "version_minor": 0
      },
      "text/plain": [
       "Downloading pytorch_model.bin:   0%|          | 0.00/469M [00:00<?, ?B/s]"
      ]
     },
     "metadata": {},
     "output_type": "display_data"
    },
    {
     "data": {
      "application/vnd.jupyter.widget-view+json": {
       "model_id": "03b0086964ac461b93efb8c7c00f4b42",
       "version_major": 2,
       "version_minor": 0
      },
      "text/plain": [
       "Downloading (…)okenizer_config.json:   0%|          | 0.00/581 [00:00<?, ?B/s]"
      ]
     },
     "metadata": {},
     "output_type": "display_data"
    },
    {
     "data": {
      "application/vnd.jupyter.widget-view+json": {
       "model_id": "761d1aa4efae4e5ea9a981d8367e9b63",
       "version_major": 2,
       "version_minor": 0
      },
      "text/plain": [
       "Downloading (…)/main/tokenizer.json:   0%|          | 0.00/2.41M [00:00<?, ?B/s]"
      ]
     },
     "metadata": {},
     "output_type": "display_data"
    },
    {
     "data": {
      "application/vnd.jupyter.widget-view+json": {
       "model_id": "ddf8365496c4497ea345f14cc6b5bc60",
       "version_major": 2,
       "version_minor": 0
      },
      "text/plain": [
       "Downloading (…)cial_tokens_map.json:   0%|          | 0.00/346 [00:00<?, ?B/s]"
      ]
     },
     "metadata": {},
     "output_type": "display_data"
    },
    {
     "name": "stdout",
     "output_type": "stream",
     "text": [
      "Loading model pig4431/amazonPolarity_BERT_5E...\n"
     ]
    },
    {
     "data": {
      "application/vnd.jupyter.widget-view+json": {
       "model_id": "fc0ed2efab0640dc8ca84b0ab4801498",
       "version_major": 2,
       "version_minor": 0
      },
      "text/plain": [
       "Downloading (…)lve/main/config.json:   0%|          | 0.00/725 [00:00<?, ?B/s]"
      ]
     },
     "metadata": {},
     "output_type": "display_data"
    },
    {
     "data": {
      "application/vnd.jupyter.widget-view+json": {
       "model_id": "cbbae039ae324137b1fd967110953c88",
       "version_major": 2,
       "version_minor": 0
      },
      "text/plain": [
       "Downloading pytorch_model.bin:   0%|          | 0.00/433M [00:00<?, ?B/s]"
      ]
     },
     "metadata": {},
     "output_type": "display_data"
    },
    {
     "data": {
      "application/vnd.jupyter.widget-view+json": {
       "model_id": "151cdec2d0ff43da8fbe18e41a887b5e",
       "version_major": 2,
       "version_minor": 0
      },
      "text/plain": [
       "Downloading (…)okenizer_config.json:   0%|          | 0.00/347 [00:00<?, ?B/s]"
      ]
     },
     "metadata": {},
     "output_type": "display_data"
    },
    {
     "data": {
      "application/vnd.jupyter.widget-view+json": {
       "model_id": "fb23533f96c44fe9b88e7b448e2c30c5",
       "version_major": 2,
       "version_minor": 0
      },
      "text/plain": [
       "Downloading (…)solve/main/vocab.txt:   0%|          | 0.00/213k [00:00<?, ?B/s]"
      ]
     },
     "metadata": {},
     "output_type": "display_data"
    },
    {
     "data": {
      "application/vnd.jupyter.widget-view+json": {
       "model_id": "026c71fa687643e795d6047c166a6d5f",
       "version_major": 2,
       "version_minor": 0
      },
      "text/plain": [
       "Downloading (…)/main/tokenizer.json:   0%|          | 0.00/669k [00:00<?, ?B/s]"
      ]
     },
     "metadata": {},
     "output_type": "display_data"
    },
    {
     "data": {
      "application/vnd.jupyter.widget-view+json": {
       "model_id": "b69e62d3acc940c6b02d9e9e26017c5b",
       "version_major": 2,
       "version_minor": 0
      },
      "text/plain": [
       "Downloading (…)cial_tokens_map.json:   0%|          | 0.00/125 [00:00<?, ?B/s]"
      ]
     },
     "metadata": {},
     "output_type": "display_data"
    }
   ],
   "source": [
    "m1 = load_model(rotten_tomatoes_models['albert'])\n",
    "m2 = load_model(rotten_tomatoes_models['distilbert'])\n",
    "m3 = load_model(rotten_tomatoes_models['roberta'])\n",
    "m4 = load_model(rotten_tomatoes_models['xlnet'])\n",
    "\n",
    "# Models to be used as oracle\n",
    "models = [m1, m2, m3, m4]\n",
    "# Target model\n",
    "model = load_model(rotten_tomatoes_models['bert'])"
   ]
  },
  {
   "cell_type": "markdown",
   "id": "caae89b5",
   "metadata": {},
   "source": [
    "# Gerando os templates\n",
    "O método de rankeamento das palavras usado no PosNegTemplateGenerator é o Replace-1 Score"
   ]
  },
  {
   "cell_type": "code",
   "execution_count": 6,
   "id": "60dc1af3",
   "metadata": {},
   "outputs": [],
   "source": [
    "from template_generator.tasks.sentiment_analisys import PosNegTemplateGeneratorApp1\n",
    "\n",
    "tg = PosNegTemplateGeneratorApp1(model, models)"
   ]
  },
  {
   "cell_type": "markdown",
   "id": "4f595e69",
   "metadata": {},
   "source": [
    "### Número inicial de instâncias: 5"
   ]
  },
  {
   "cell_type": "code",
   "execution_count": 7,
   "id": "a6261506",
   "metadata": {},
   "outputs": [
    {
     "data": {
      "text/plain": [
       "[\"It's been years since I had a hand-vac, so I spent a lot of time researching the ones available. I decided on this one after reading the reviews, it appeared to be the best candidate for what I needed. Unfortunately, it hasn't been worth the purchase AT ALL! The opening is so small, that anything larger or longer than a cheerio is impossible to pick up. The design of the internal components make it even harder to just keep the debris inside the canister! To top it all off, the device only stays charged for seven minutes according to the manual -- I haven't been able to get it to function well after just a few minutes. There's so many negatives, instead of listing them all -- take my word that this product is a total waste.I've decided to just buy another stand vacuum to keep in place of where we were storing this hand-vac & use the stand vacuum's hose. This hand-vac is a definite inconvenience instead of connivence.\",\n",
       " \"Although the concept of this book is a great idea I just couldn't get into all that much. It got boring and monotonous quick.\",\n",
       " \"I was on a plane trying to read this and instead picked up the airline magazine. I typically enjoy books about Irish families but this one didn't develop characters that I could become interested in. After half way through the book, I just gave up. I normally have a hard time not finishing a book but I didn't regret it. The style just wasn't for me.\",\n",
       " 'love amazon diaper deal! Huggies are the best and I can afford them when I buy them on here!!!!!!!!!! They are great for lasting multiply hours. Huggies customer service is amazing as well!',\n",
       " 'I ordered this product and did recieve then a couple months later it broke. Now Ive done everything I was told to do by by shipping back for a replacement and nothing. They wont return Emails i havent received the replacement part.']"
      ]
     },
     "execution_count": 7,
     "metadata": {},
     "output_type": "execute_result"
    }
   ],
   "source": [
    "# Sampling instances\n",
    "np.random.seed(220)\n",
    "n_instances = 5\n",
    "df_sampled = df.sample(n_instances)\n",
    "\n",
    "instances = [x for x in df_sampled['text'].values]\n",
    "instances"
   ]
  },
  {
   "cell_type": "code",
   "execution_count": 8,
   "id": "660add17",
   "metadata": {},
   "outputs": [
    {
     "name": "stdout",
     "output_type": "stream",
     "text": [
      "Ranking words using Replace-1 Score...\n"
     ]
    },
    {
     "name": "stderr",
     "output_type": "stream",
     "text": [
      "/tmp/ipykernel_19730/1831943719.py:23: UserWarning: Implicit dimension choice for softmax has been deprecated. Change the call to include dim=X as an argument.\n",
      "  prob = softmax(tensor_logits[0]).detach().numpy()\n"
     ]
    },
    {
     "name": "stdout",
     "output_type": "stream",
     "text": [
      "Converting texts to sentences...\n",
      ":: 22 sentences were generated.\n",
      "Filtering instances by contaning ranked words...\n",
      ":: 12 sentences remaining.\n",
      "Filtering instances by relevant words...\n",
      ":: 1 sentences remaining.\n",
      "Predicting inputs...\n",
      ":: Sentence predictions done.\n"
     ]
    }
   ],
   "source": [
    "templates = tg.generate_templates(instances)"
   ]
  },
  {
   "attachments": {},
   "cell_type": "markdown",
   "id": "72d150cb",
   "metadata": {},
   "source": [
    "#### Tempo de execução para 5 instâncias: 6m 8.6s\n",
    "filipe: 2m 20.5s"
   ]
  },
  {
   "cell_type": "code",
   "execution_count": 9,
   "id": "193f1b65",
   "metadata": {},
   "outputs": [
    {
     "data": {
      "text/html": [
       "<div>\n",
       "<style scoped>\n",
       "    .dataframe tbody tr th:only-of-type {\n",
       "        vertical-align: middle;\n",
       "    }\n",
       "\n",
       "    .dataframe tbody tr th {\n",
       "        vertical-align: top;\n",
       "    }\n",
       "\n",
       "    .dataframe thead th {\n",
       "        text-align: right;\n",
       "    }\n",
       "</style>\n",
       "<table border=\"1\" class=\"dataframe\">\n",
       "  <thead>\n",
       "    <tr style=\"text-align: right;\">\n",
       "      <th></th>\n",
       "      <th>label</th>\n",
       "      <th>original_text</th>\n",
       "      <th>masked_text</th>\n",
       "      <th>template_text</th>\n",
       "    </tr>\n",
       "  </thead>\n",
       "  <tbody>\n",
       "    <tr>\n",
       "      <th>0</th>\n",
       "      <td>0</td>\n",
       "      <td>It got boring and monotonous quick.</td>\n",
       "      <td>It {mask} boring and {mask} quick .</td>\n",
       "      <td>It {neg_verb} boring and {neg_adj} quick .</td>\n",
       "    </tr>\n",
       "  </tbody>\n",
       "</table>\n",
       "</div>"
      ],
      "text/plain": [
       "   label                        original_text   \n",
       "0      0  It got boring and monotonous quick.  \\\n",
       "\n",
       "                           masked_text   \n",
       "0  It {mask} boring and {mask} quick .  \\\n",
       "\n",
       "                                template_text  \n",
       "0  It {neg_verb} boring and {neg_adj} quick .  "
      ]
     },
     "execution_count": 9,
     "metadata": {},
     "output_type": "execute_result"
    }
   ],
   "source": [
    "tg.to_dataframe()"
   ]
  },
  {
   "cell_type": "code",
   "execution_count": 10,
   "id": "7f98d8ba",
   "metadata": {},
   "outputs": [
    {
     "data": {
      "text/plain": [
       "{'pos_verb': [], 'neg_verb': ['got'], 'pos_adj': [], 'neg_adj': ['monotonous']}"
      ]
     },
     "execution_count": 10,
     "metadata": {},
     "output_type": "execute_result"
    }
   ],
   "source": [
    "tg.lexicons"
   ]
  },
  {
   "cell_type": "markdown",
   "id": "01a27f1f",
   "metadata": {},
   "source": [
    "### Número inicial de instâncias: 100"
   ]
  },
  {
   "cell_type": "code",
   "execution_count": 11,
   "id": "cd4a7fe3",
   "metadata": {},
   "outputs": [],
   "source": [
    "# Using all 100 instances\n",
    "instances = [x for x in df['text'].values]"
   ]
  },
  {
   "cell_type": "code",
   "execution_count": 12,
   "id": "f1f3f383",
   "metadata": {},
   "outputs": [
    {
     "name": "stdout",
     "output_type": "stream",
     "text": [
      "Ranking words using Replace-1 Score...\n"
     ]
    },
    {
     "name": "stderr",
     "output_type": "stream",
     "text": [
      "/tmp/ipykernel_19730/1831943719.py:23: UserWarning: Implicit dimension choice for softmax has been deprecated. Change the call to include dim=X as an argument.\n",
      "  prob = softmax(tensor_logits[0]).detach().numpy()\n"
     ]
    },
    {
     "name": "stdout",
     "output_type": "stream",
     "text": [
      "Converting texts to sentences...\n",
      ":: 467 sentences were generated.\n",
      "Filtering instances by contaning ranked words...\n",
      ":: 221 sentences remaining.\n",
      "Filtering instances by relevant words...\n",
      ":: 23 sentences remaining.\n",
      "Predicting inputs...\n",
      ":: Sentence predictions done.\n",
      "CPU times: user 2h 5min 9s, sys: 2.28 s, total: 2h 5min 11s\n",
      "Wall time: 12min 31s\n"
     ]
    }
   ],
   "source": [
    "%%time\n",
    "# 12m 31.5s\n",
    "tg = PosNegTemplateGeneratorApp1(model, models)\n",
    "templates = tg.generate_templates(instances)"
   ]
  },
  {
   "attachments": {},
   "cell_type": "markdown",
   "id": "2aaf7e38",
   "metadata": {},
   "source": [
    "#### Tempo de execução para 100 instâncias: 1m 0.7s\n",
    "filipe: 1m 0.7s"
   ]
  },
  {
   "cell_type": "code",
   "execution_count": 13,
   "id": "5c3c1541",
   "metadata": {},
   "outputs": [
    {
     "data": {
      "text/html": [
       "<div>\n",
       "<style scoped>\n",
       "    .dataframe tbody tr th:only-of-type {\n",
       "        vertical-align: middle;\n",
       "    }\n",
       "\n",
       "    .dataframe tbody tr th {\n",
       "        vertical-align: top;\n",
       "    }\n",
       "\n",
       "    .dataframe thead th {\n",
       "        text-align: right;\n",
       "    }\n",
       "</style>\n",
       "<table border=\"1\" class=\"dataframe\">\n",
       "  <thead>\n",
       "    <tr style=\"text-align: right;\">\n",
       "      <th></th>\n",
       "      <th>label</th>\n",
       "      <th>original_text</th>\n",
       "      <th>masked_text</th>\n",
       "      <th>template_text</th>\n",
       "    </tr>\n",
       "  </thead>\n",
       "  <tbody>\n",
       "    <tr>\n",
       "      <th>0</th>\n",
       "      <td>1</td>\n",
       "      <td>The product works fine.</td>\n",
       "      <td>The product {mask} {mask} .</td>\n",
       "      <td>The product {neg_verb} {pos_adj} .</td>\n",
       "    </tr>\n",
       "    <tr>\n",
       "      <th>1</th>\n",
       "      <td>0</td>\n",
       "      <td>I didn't want to waste my $1.00 rental fee.</td>\n",
       "      <td>I did n't want to {mask} my $ 1.00 {mask} fee .</td>\n",
       "      <td>I did n't want to {neg_verb} my $ 1.00 {pos_adj} fee .</td>\n",
       "    </tr>\n",
       "    <tr>\n",
       "      <th>2</th>\n",
       "      <td>1</td>\n",
       "      <td>Nirvana got mega-popular after \"Smells like teen spirit\" was debuted on MTV, and remained popular up until he killed himself.</td>\n",
       "      <td>Nirvana {mask} {mask} after `` Smells like teen spirit '' was debuted on MTV , and remained popular up until he killed himself .</td>\n",
       "      <td>Nirvana {neg_verb} {pos_adj} after `` Smells like teen spirit '' was debuted on MTV , and remained popular up until he killed himself .</td>\n",
       "    </tr>\n",
       "    <tr>\n",
       "      <th>3</th>\n",
       "      <td>0</td>\n",
       "      <td>cant return it cant fix it.</td>\n",
       "      <td>{mask} return it cant {mask} it .</td>\n",
       "      <td>{neg_adj} return it cant {neg_verb} it .</td>\n",
       "    </tr>\n",
       "    <tr>\n",
       "      <th>4</th>\n",
       "      <td>1</td>\n",
       "      <td>Buy it and eat the bill.</td>\n",
       "      <td>{mask} it and {mask} the bill .</td>\n",
       "      <td>{neg_verb} it and {neg_verb} the bill .</td>\n",
       "    </tr>\n",
       "    <tr>\n",
       "      <th>5</th>\n",
       "      <td>1</td>\n",
       "      <td>However, it still provides a good general survey of ethnic earrings from Africa, Asia and the Americas.</td>\n",
       "      <td>However , it still {mask} a {mask} general survey of ethnic earrings from Africa , Asia and the Americas .</td>\n",
       "      <td>However , it still {pos_verb} a {pos_adj} general survey of ethnic earrings from Africa , Asia and the Americas .</td>\n",
       "    </tr>\n",
       "    <tr>\n",
       "      <th>6</th>\n",
       "      <td>1</td>\n",
       "      <td>This looks like a fun game with a really reasonable price.</td>\n",
       "      <td>This {mask} like a {mask} game with a really reasonable price .</td>\n",
       "      <td>This {neg_verb} like a {pos_adj} game with a really reasonable price .</td>\n",
       "    </tr>\n",
       "    <tr>\n",
       "      <th>7</th>\n",
       "      <td>0</td>\n",
       "      <td>We called and called and Toys R us said tha we could not return it, due to fact that we didn't have a reciept.</td>\n",
       "      <td>We called and called and Toys R us {mask} tha we could not return it , {mask} to fact that we did n't have a reciept .</td>\n",
       "      <td>We called and called and Toys R us {neg_verb} tha we could not return it , {pos_adj} to fact that we did n't have a reciept .</td>\n",
       "    </tr>\n",
       "    <tr>\n",
       "      <th>8</th>\n",
       "      <td>0</td>\n",
       "      <td>If you actually want to buy something at Amazon, do not attempt to buy from Vertex.</td>\n",
       "      <td>If you actually {mask} to buy something at Amazon , do not attempt to {mask} from Vertex .</td>\n",
       "      <td>If you actually {neg_verb} to buy something at Amazon , do not attempt to {neg_verb} from Vertex .</td>\n",
       "    </tr>\n",
       "    <tr>\n",
       "      <th>9</th>\n",
       "      <td>0</td>\n",
       "      <td>The main focus of the book seemed to be how inadequate the Snubby is for self-defense and I like Snubby revolvers.</td>\n",
       "      <td>The main focus of the book {mask} to be how {mask} the Snubby is for self-defense and I like Snubby revolvers .</td>\n",
       "      <td>The main focus of the book {neg_verb} to be how {neg_adj} the Snubby is for self-defense and I like Snubby revolvers .</td>\n",
       "    </tr>\n",
       "    <tr>\n",
       "      <th>10</th>\n",
       "      <td>0</td>\n",
       "      <td>It got boring and monotonous quick.</td>\n",
       "      <td>It {mask} boring and {mask} quick .</td>\n",
       "      <td>It {neg_verb} boring and {neg_adj} quick .</td>\n",
       "    </tr>\n",
       "    <tr>\n",
       "      <th>11</th>\n",
       "      <td>0</td>\n",
       "      <td>They cost very little, and therefore have very little quality.</td>\n",
       "      <td>They {mask} very little , and therefore have very {mask} quality .</td>\n",
       "      <td>They {neg_verb} very little , and therefore have very {neg_adj} quality .</td>\n",
       "    </tr>\n",
       "    <tr>\n",
       "      <th>12</th>\n",
       "      <td>0</td>\n",
       "      <td>They hurt, the sound is horrible, and they fall apart quickly.</td>\n",
       "      <td>They {mask} , the sound is {mask} , and they fall apart quickly .</td>\n",
       "      <td>They {neg_verb} , the sound is {neg_adj} , and they fall apart quickly .</td>\n",
       "    </tr>\n",
       "    <tr>\n",
       "      <th>13</th>\n",
       "      <td>1</td>\n",
       "      <td>But if you need a good quality pair then trust me, it's worth it to spend the few extra bucks.</td>\n",
       "      <td>But if you need a good quality pair then trust me , it {mask} worth it to {mask} the few extra bucks .</td>\n",
       "      <td>But if you need a good quality pair then trust me , it {neg_verb} worth it to {neg_verb} the few extra bucks .</td>\n",
       "    </tr>\n",
       "    <tr>\n",
       "      <th>14</th>\n",
       "      <td>0</td>\n",
       "      <td>The DVDs do not contain the episodes as listed on the box, which makes finding a certain episode next to impossible.</td>\n",
       "      <td>The DVDs do not contain the episodes as {mask} on the box , which makes finding a certain episode next to {mask} .</td>\n",
       "      <td>The DVDs do not contain the episodes as {neg_verb} on the box , which makes finding a certain episode next to {neg_adj} .</td>\n",
       "    </tr>\n",
       "    <tr>\n",
       "      <th>15</th>\n",
       "      <td>1</td>\n",
       "      <td>This is great for making smoothies in the a.m.</td>\n",
       "      <td>This is {mask} for {mask} smoothies in the a.m .</td>\n",
       "      <td>This is {pos_adj} for {neg_verb} smoothies in the a.m .</td>\n",
       "    </tr>\n",
       "    <tr>\n",
       "      <th>16</th>\n",
       "      <td>1</td>\n",
       "      <td>I haven't had any problems with it - I use frozen fruit and juice and it works great.</td>\n",
       "      <td>I have n't had any problems with it - I use frozen fruit and juice and it {mask} {mask} .</td>\n",
       "      <td>I have n't had any problems with it - I use frozen fruit and juice and it {neg_verb} {pos_adj} .</td>\n",
       "    </tr>\n",
       "    <tr>\n",
       "      <th>17</th>\n",
       "      <td>0</td>\n",
       "      <td>This is my second DVD recorder (the first was a Cyberhome).Many people complain about the Icon system and settings layout on this unit for being hard to understand and confusing.</td>\n",
       "      <td>This {mask} my second DVD recorder ( the first was a Cyberhome ) .Many people complain about the Icon system and settings layout on this unit for being {mask} to understand and confusing .</td>\n",
       "      <td>This {neg_verb} my second DVD recorder ( the first was a Cyberhome ) .Many people complain about the Icon system and settings layout on this unit for being {neg_adj} to understand and confusing .</td>\n",
       "    </tr>\n",
       "    <tr>\n",
       "      <th>18</th>\n",
       "      <td>1</td>\n",
       "      <td>You will probaly start to play, Love it, Play it alot, Get the new one in october, and throw out the old one.</td>\n",
       "      <td>You will {mask} start to play , Love it , Play it alot , Get the new one in october , and throw out the {mask} one .</td>\n",
       "      <td>You will {neg_verb} start to play , Love it , Play it alot , Get the new one in october , and throw out the {neg_adj} one .</td>\n",
       "    </tr>\n",
       "    <tr>\n",
       "      <th>19</th>\n",
       "      <td>1</td>\n",
       "      <td>This is a great game, But i suggest you wait for the new one.</td>\n",
       "      <td>This is a {mask} game , But i suggest you wait for the {mask} one .</td>\n",
       "      <td>This is a {pos_adj} game , But i suggest you wait for the {pos_adj} one .</td>\n",
       "    </tr>\n",
       "    <tr>\n",
       "      <th>20</th>\n",
       "      <td>0</td>\n",
       "      <td>I don't think I would have found this book on any book shelf let alone read it without me being asked to read the book.</td>\n",
       "      <td>I do n't think I {mask} have {mask} this book on any book shelf let alone read it without me being asked to read the book .</td>\n",
       "      <td>I do n't think I {neg_verb} have {pos_verb} this book on any book shelf let alone read it without me being asked to read the book .</td>\n",
       "    </tr>\n",
       "    <tr>\n",
       "      <th>21</th>\n",
       "      <td>0</td>\n",
       "      <td>I think this is unacceptable for HK.</td>\n",
       "      <td>I {mask} this is {mask} for HK .</td>\n",
       "      <td>I {neg_verb} this is {neg_adj} for HK .</td>\n",
       "    </tr>\n",
       "    <tr>\n",
       "      <th>22</th>\n",
       "      <td>0</td>\n",
       "      <td>It was hard enough to navigate their site, but it's impossible to find anything relevant.</td>\n",
       "      <td>It {mask} hard enough to navigate their site , but it 's {mask} to find anything relevant .</td>\n",
       "      <td>It {neg_verb} hard enough to navigate their site , but it 's {neg_adj} to find anything relevant .</td>\n",
       "    </tr>\n",
       "  </tbody>\n",
       "</table>\n",
       "</div>"
      ],
      "text/plain": [
       "    label   \n",
       "0       1  \\\n",
       "1       0   \n",
       "2       1   \n",
       "3       0   \n",
       "4       1   \n",
       "5       1   \n",
       "6       1   \n",
       "7       0   \n",
       "8       0   \n",
       "9       0   \n",
       "10      0   \n",
       "11      0   \n",
       "12      0   \n",
       "13      1   \n",
       "14      0   \n",
       "15      1   \n",
       "16      1   \n",
       "17      0   \n",
       "18      1   \n",
       "19      1   \n",
       "20      0   \n",
       "21      0   \n",
       "22      0   \n",
       "\n",
       "                                                                                                                                                                         original_text   \n",
       "0                                                                                                                                                              The product works fine.  \\\n",
       "1                                                                                                                                          I didn't want to waste my $1.00 rental fee.   \n",
       "2                                                        Nirvana got mega-popular after \"Smells like teen spirit\" was debuted on MTV, and remained popular up until he killed himself.   \n",
       "3                                                                                                                                                          cant return it cant fix it.   \n",
       "4                                                                                                                                                             Buy it and eat the bill.   \n",
       "5                                                                              However, it still provides a good general survey of ethnic earrings from Africa, Asia and the Americas.   \n",
       "6                                                                                                                           This looks like a fun game with a really reasonable price.   \n",
       "7                                                                       We called and called and Toys R us said tha we could not return it, due to fact that we didn't have a reciept.   \n",
       "8                                                                                                  If you actually want to buy something at Amazon, do not attempt to buy from Vertex.   \n",
       "9                                                                   The main focus of the book seemed to be how inadequate the Snubby is for self-defense and I like Snubby revolvers.   \n",
       "10                                                                                                                                                 It got boring and monotonous quick.   \n",
       "11                                                                                                                      They cost very little, and therefore have very little quality.   \n",
       "12                                                                                                                      They hurt, the sound is horrible, and they fall apart quickly.   \n",
       "13                                                                                      But if you need a good quality pair then trust me, it's worth it to spend the few extra bucks.   \n",
       "14                                                                The DVDs do not contain the episodes as listed on the box, which makes finding a certain episode next to impossible.   \n",
       "15                                                                                                                                      This is great for making smoothies in the a.m.   \n",
       "16                                                                                               I haven't had any problems with it - I use frozen fruit and juice and it works great.   \n",
       "17  This is my second DVD recorder (the first was a Cyberhome).Many people complain about the Icon system and settings layout on this unit for being hard to understand and confusing.   \n",
       "18                                                                       You will probaly start to play, Love it, Play it alot, Get the new one in october, and throw out the old one.   \n",
       "19                                                                                                                       This is a great game, But i suggest you wait for the new one.   \n",
       "20                                                             I don't think I would have found this book on any book shelf let alone read it without me being asked to read the book.   \n",
       "21                                                                                                                                                I think this is unacceptable for HK.   \n",
       "22                                                                                           It was hard enough to navigate their site, but it's impossible to find anything relevant.   \n",
       "\n",
       "                                                                                                                                                                                     masked_text   \n",
       "0                                                                                                                                                                    The product {mask} {mask} .  \\\n",
       "1                                                                                                                                                I did n't want to {mask} my $ 1.00 {mask} fee .   \n",
       "2                                                               Nirvana {mask} {mask} after `` Smells like teen spirit '' was debuted on MTV , and remained popular up until he killed himself .   \n",
       "3                                                                                                                                                              {mask} return it cant {mask} it .   \n",
       "4                                                                                                                                                                {mask} it and {mask} the bill .   \n",
       "5                                                                                     However , it still {mask} a {mask} general survey of ethnic earrings from Africa , Asia and the Americas .   \n",
       "6                                                                                                                                This {mask} like a {mask} game with a really reasonable price .   \n",
       "7                                                                         We called and called and Toys R us {mask} tha we could not return it , {mask} to fact that we did n't have a reciept .   \n",
       "8                                                                                                     If you actually {mask} to buy something at Amazon , do not attempt to {mask} from Vertex .   \n",
       "9                                                                                The main focus of the book {mask} to be how {mask} the Snubby is for self-defense and I like Snubby revolvers .   \n",
       "10                                                                                                                                                           It {mask} boring and {mask} quick .   \n",
       "11                                                                                                                            They {mask} very little , and therefore have very {mask} quality .   \n",
       "12                                                                                                                             They {mask} , the sound is {mask} , and they fall apart quickly .   \n",
       "13                                                                                        But if you need a good quality pair then trust me , it {mask} worth it to {mask} the few extra bucks .   \n",
       "14                                                                            The DVDs do not contain the episodes as {mask} on the box , which makes finding a certain episode next to {mask} .   \n",
       "15                                                                                                                                              This is {mask} for {mask} smoothies in the a.m .   \n",
       "16                                                                                                     I have n't had any problems with it - I use frozen fruit and juice and it {mask} {mask} .   \n",
       "17  This {mask} my second DVD recorder ( the first was a Cyberhome ) .Many people complain about the Icon system and settings layout on this unit for being {mask} to understand and confusing .   \n",
       "18                                                                          You will {mask} start to play , Love it , Play it alot , Get the new one in october , and throw out the {mask} one .   \n",
       "19                                                                                                                           This is a {mask} game , But i suggest you wait for the {mask} one .   \n",
       "20                                                                   I do n't think I {mask} have {mask} this book on any book shelf let alone read it without me being asked to read the book .   \n",
       "21                                                                                                                                                              I {mask} this is {mask} for HK .   \n",
       "22                                                                                                   It {mask} hard enough to navigate their site , but it 's {mask} to find anything relevant .   \n",
       "\n",
       "                                                                                                                                                                                          template_text  \n",
       "0                                                                                                                                                                    The product {neg_verb} {pos_adj} .  \n",
       "1                                                                                                                                                I did n't want to {neg_verb} my $ 1.00 {pos_adj} fee .  \n",
       "2                                                               Nirvana {neg_verb} {pos_adj} after `` Smells like teen spirit '' was debuted on MTV , and remained popular up until he killed himself .  \n",
       "3                                                                                                                                                              {neg_adj} return it cant {neg_verb} it .  \n",
       "4                                                                                                                                                               {neg_verb} it and {neg_verb} the bill .  \n",
       "5                                                                                     However , it still {pos_verb} a {pos_adj} general survey of ethnic earrings from Africa , Asia and the Americas .  \n",
       "6                                                                                                                                This {neg_verb} like a {pos_adj} game with a really reasonable price .  \n",
       "7                                                                         We called and called and Toys R us {neg_verb} tha we could not return it , {pos_adj} to fact that we did n't have a reciept .  \n",
       "8                                                                                                    If you actually {neg_verb} to buy something at Amazon , do not attempt to {neg_verb} from Vertex .  \n",
       "9                                                                                The main focus of the book {neg_verb} to be how {neg_adj} the Snubby is for self-defense and I like Snubby revolvers .  \n",
       "10                                                                                                                                                           It {neg_verb} boring and {neg_adj} quick .  \n",
       "11                                                                                                                            They {neg_verb} very little , and therefore have very {neg_adj} quality .  \n",
       "12                                                                                                                             They {neg_verb} , the sound is {neg_adj} , and they fall apart quickly .  \n",
       "13                                                                                       But if you need a good quality pair then trust me , it {neg_verb} worth it to {neg_verb} the few extra bucks .  \n",
       "14                                                                            The DVDs do not contain the episodes as {neg_verb} on the box , which makes finding a certain episode next to {neg_adj} .  \n",
       "15                                                                                                                                              This is {pos_adj} for {neg_verb} smoothies in the a.m .  \n",
       "16                                                                                                     I have n't had any problems with it - I use frozen fruit and juice and it {neg_verb} {pos_adj} .  \n",
       "17  This {neg_verb} my second DVD recorder ( the first was a Cyberhome ) .Many people complain about the Icon system and settings layout on this unit for being {neg_adj} to understand and confusing .  \n",
       "18                                                                          You will {neg_verb} start to play , Love it , Play it alot , Get the new one in october , and throw out the {neg_adj} one .  \n",
       "19                                                                                                                            This is a {pos_adj} game , But i suggest you wait for the {pos_adj} one .  \n",
       "20                                                                  I do n't think I {neg_verb} have {pos_verb} this book on any book shelf let alone read it without me being asked to read the book .  \n",
       "21                                                                                                                                                              I {neg_verb} this is {neg_adj} for HK .  \n",
       "22                                                                                                   It {neg_verb} hard enough to navigate their site , but it 's {neg_adj} to find anything relevant .  "
      ]
     },
     "execution_count": 13,
     "metadata": {},
     "output_type": "execute_result"
    }
   ],
   "source": [
    "tg.to_dataframe()"
   ]
  },
  {
   "cell_type": "code",
   "execution_count": 14,
   "id": "0571a42d",
   "metadata": {},
   "outputs": [
    {
     "data": {
      "text/plain": [
       "{'pos_verb': ['provides', 'found'],\n",
       " 'neg_verb': ['Buy',\n",
       "  'eat',\n",
       "  'think',\n",
       "  'got',\n",
       "  'making',\n",
       "  'looks',\n",
       "  'said',\n",
       "  'listed',\n",
       "  'was',\n",
       "  'waste',\n",
       "  'probaly',\n",
       "  \"'s\",\n",
       "  'cost',\n",
       "  'want',\n",
       "  'works',\n",
       "  'buy',\n",
       "  'is',\n",
       "  'hurt',\n",
       "  'spend',\n",
       "  'seemed',\n",
       "  'would',\n",
       "  'fix'],\n",
       " 'pos_adj': ['mega-popular',\n",
       "  'good',\n",
       "  'new',\n",
       "  'fine',\n",
       "  'great',\n",
       "  'due',\n",
       "  'rental',\n",
       "  'fun'],\n",
       " 'neg_adj': ['unacceptable',\n",
       "  'horrible',\n",
       "  'hard',\n",
       "  'old',\n",
       "  'little',\n",
       "  'cant',\n",
       "  'inadequate',\n",
       "  'monotonous',\n",
       "  'impossible']}"
      ]
     },
     "execution_count": 14,
     "metadata": {},
     "output_type": "execute_result"
    }
   ],
   "source": [
    "tg.lexicons"
   ]
  },
  {
   "cell_type": "markdown",
   "id": "3c105889",
   "metadata": {},
   "source": [
    "# Usando os templates gerados pelo TemplateGenerator no CheckList"
   ]
  },
  {
   "cell_type": "code",
   "execution_count": 15,
   "id": "263ea542",
   "metadata": {},
   "outputs": [],
   "source": [
    "from checklist.editor import Editor\n",
    "from checklist.test_suite import TestSuite\n",
    "from checklist.test_types import MFT"
   ]
  },
  {
   "cell_type": "code",
   "execution_count": 16,
   "id": "017ec5e3",
   "metadata": {},
   "outputs": [],
   "source": [
    "lexicons = tg.lexicons\n",
    "templates = tg.template_texts\n",
    "masked = tg.masked_texts\n",
    "labels = [sent.prediction.label for sent in tg.sentences]\n",
    "\n",
    "editor = Editor()\n",
    "editor.add_lexicon('pos_verb', lexicons['pos_verb'])\n",
    "editor.add_lexicon('neg_verb', lexicons['neg_verb'])\n",
    "editor.add_lexicon('pos_adj', lexicons['pos_adj'])\n",
    "editor.add_lexicon('neg_adj', lexicons['neg_adj'])\n",
    "\n",
    "suite = TestSuite()"
   ]
  },
  {
   "cell_type": "code",
   "execution_count": 17,
   "id": "25f75255",
   "metadata": {},
   "outputs": [],
   "source": [
    "for template, label, i in zip(templates, labels, range(len(templates))):\n",
    "    t = editor.template(template, remove_duplicates=True, labels=int(label))\n",
    "\n",
    "    suite.add(MFT(\n",
    "        data=t.data,\n",
    "        labels=label,\n",
    "        capability=\"Vocabullary\", \n",
    "        name=f\"Test: MFT with vocabullary - template{i+1}\",\n",
    "        description=\"Checking if the model can handle vocabullary\"))"
   ]
  },
  {
   "cell_type": "code",
   "execution_count": 18,
   "id": "fe3d0885",
   "metadata": {},
   "outputs": [
    {
     "name": "stdout",
     "output_type": "stream",
     "text": [
      "Running Test: MFT with vocabullary - template1\n",
      "Predicting 176 examples\n"
     ]
    },
    {
     "name": "stderr",
     "output_type": "stream",
     "text": [
      "/tmp/ipykernel_19730/1831943719.py:23: UserWarning: Implicit dimension choice for softmax has been deprecated. Change the call to include dim=X as an argument.\n",
      "  prob = softmax(tensor_logits[0]).detach().numpy()\n"
     ]
    },
    {
     "name": "stdout",
     "output_type": "stream",
     "text": [
      "Running Test: MFT with vocabullary - template2\n",
      "Predicting 176 examples\n",
      "Running Test: MFT with vocabullary - template3\n",
      "Predicting 176 examples\n",
      "Running Test: MFT with vocabullary - template4\n",
      "Predicting 198 examples\n",
      "Running Test: MFT with vocabullary - template5\n",
      "Predicting 22 examples\n",
      "Running Test: MFT with vocabullary - template6\n",
      "Predicting 16 examples\n",
      "Running Test: MFT with vocabullary - template7\n",
      "Predicting 176 examples\n",
      "Running Test: MFT with vocabullary - template8\n",
      "Predicting 176 examples\n",
      "Running Test: MFT with vocabullary - template9\n",
      "Predicting 22 examples\n",
      "Running Test: MFT with vocabullary - template10\n",
      "Predicting 198 examples\n",
      "Running Test: MFT with vocabullary - template11\n",
      "Predicting 198 examples\n",
      "Running Test: MFT with vocabullary - template12\n",
      "Predicting 198 examples\n",
      "Running Test: MFT with vocabullary - template13\n",
      "Predicting 198 examples\n",
      "Running Test: MFT with vocabullary - template14\n",
      "Predicting 22 examples\n",
      "Running Test: MFT with vocabullary - template15\n",
      "Predicting 198 examples\n",
      "Running Test: MFT with vocabullary - template16\n",
      "Predicting 176 examples\n",
      "Running Test: MFT with vocabullary - template17\n",
      "Predicting 176 examples\n",
      "Running Test: MFT with vocabullary - template18\n",
      "Predicting 198 examples\n",
      "Running Test: MFT with vocabullary - template19\n",
      "Predicting 198 examples\n",
      "Running Test: MFT with vocabullary - template20\n",
      "Predicting 8 examples\n",
      "Running Test: MFT with vocabullary - template21\n",
      "Predicting 44 examples\n",
      "Running Test: MFT with vocabullary - template22\n",
      "Predicting 198 examples\n",
      "Running Test: MFT with vocabullary - template23\n",
      "Predicting 198 examples\n"
     ]
    }
   ],
   "source": [
    "suite.run(model.predict, overwrite=True)\n",
    "suite.save('./suites/posneg-approach1.suite')"
   ]
  },
  {
   "cell_type": "markdown",
   "id": "33065add",
   "metadata": {},
   "source": [
    "# Carregando suite de teste"
   ]
  },
  {
   "cell_type": "code",
   "execution_count": 1,
   "id": "563d7be6",
   "metadata": {},
   "outputs": [],
   "source": [
    "from checklist.test_suite import TestSuite\n",
    "suite = TestSuite.from_file('./suites/posneg-approach1.suite')\n",
    "\n",
    "# suite.visual_summary_table()"
   ]
  },
  {
   "cell_type": "code",
   "execution_count": 2,
   "id": "0c10c0b4",
   "metadata": {},
   "outputs": [
    {
     "name": "stdout",
     "output_type": "stream",
     "text": [
      "failed = 549 (16.41%)\n",
      "passed = 2797 (83.59%)\n",
      "total = 3346\n",
      "templates: 23\n"
     ]
    }
   ],
   "source": [
    "passed = 0\n",
    "failed = 0\n",
    "for test_name in suite.tests:\n",
    "    table = suite.visual_summary_by_test(test_name)\n",
    "    \n",
    "    failed += table.stats['nfailed']    \n",
    "    passed += table.stats['npassed']\n",
    "    assert table.stats['nfailed'] + table.stats['npassed'] == len(table.filtered_testcases)\n",
    "\n",
    "print(f\"{failed = } ({(failed/(passed+failed))*100:.2f}%)\")\n",
    "print(f\"{passed = } ({(passed/(passed+failed))*100:.2f}%)\")\n",
    "print(f\"total = {passed+failed}\")\n",
    "print(\"templates:\", len(suite.tests))\n",
    "\n"
   ]
  },
  {
   "cell_type": "code",
   "execution_count": 3,
   "id": "parental-shelter",
   "metadata": {},
   "outputs": [
    {
     "name": "stdout",
     "output_type": "stream",
     "text": [
      "The product Buy mega-popular .\n",
      "The product Buy good .\n",
      "The product Buy new .\n",
      "The product Buy fine .\n",
      "The product Buy great .\n",
      "The product Buy rental .\n",
      "The product Buy fun .\n",
      "The product eat good .\n",
      "The product eat new .\n",
      "The product eat fine .\n",
      "The product eat great .\n",
      "The product eat rental .\n",
      "The product eat fun .\n",
      "The product think good .\n",
      "The product think fine .\n",
      "The product think great .\n",
      "The product got mega-popular .\n",
      "The product got good .\n",
      "The product got new .\n",
      "The product got fine .\n",
      "The product got great .\n",
      "The product got due .\n",
      "The product got rental .\n",
      "The product got fun .\n",
      "The product making mega-popular .\n",
      "The product making good .\n",
      "The product making new .\n",
      "The product making fine .\n",
      "The product making great .\n",
      "The product making fun .\n",
      "The product looks good .\n",
      "The product looks new .\n",
      "The product looks fine .\n",
      "The product looks great .\n",
      "The product looks due .\n",
      "The product looks fun .\n",
      "The product said good .\n",
      "The product said great .\n",
      "The product listed great .\n",
      "The product was good .\n",
      "The product was new .\n",
      "The product was fine .\n",
      "The product was great .\n",
      "The product was fun .\n",
      "The product probaly great .\n",
      "The product 's good .\n",
      "The product 's new .\n",
      "The product 's fine .\n",
      "The product 's great .\n",
      "The product 's fun .\n",
      "The product cost good .\n",
      "The product want good .\n",
      "The product want great .\n",
      "The product works mega-popular .\n",
      "The product works good .\n",
      "The product works new .\n",
      "The product works fine .\n",
      "The product works great .\n",
      "The product works due .\n",
      "The product works rental .\n",
      "The product works fun .\n",
      "The product buy mega-popular .\n",
      "The product buy good .\n",
      "The product buy new .\n",
      "The product buy fine .\n",
      "The product buy great .\n",
      "The product buy rental .\n",
      "The product buy fun .\n",
      "The product is good .\n",
      "The product is new .\n",
      "The product is fine .\n",
      "The product is great .\n",
      "The product is due .\n",
      "The product is fun .\n",
      "The product spend great .\n",
      "The product seemed good .\n",
      "The product seemed new .\n",
      "The product seemed fine .\n",
      "The product seemed great .\n",
      "The product seemed due .\n",
      "The product seemed fun .\n",
      "The product would good .\n",
      "The product would new .\n",
      "The product would fine .\n",
      "The product would great .\n",
      "The product would fun .\n",
      "The product fix good .\n",
      "The product fix new .\n",
      "The product fix fine .\n",
      "The product fix great .\n",
      "The product fix rental .\n"
     ]
    }
   ],
   "source": [
    "table = suite.visual_summary_by_test('Test: MFT with vocabullary - template1')\n",
    "\n",
    "failed = table.candidate_testcases\n",
    "tests = table.filtered_testcases\n",
    "\n",
    "for item in tests:\n",
    "    if not item in failed:\n",
    "        print(item['examples'][0]['new']['text'])"
   ]
  }
 ],
 "metadata": {
  "interpreter": {
   "hash": "335f8eac43d2678591a8076d8dfd5de078961fe9395efec4dfbbe61965ca9377"
  },
  "kernelspec": {
   "display_name": "Python 3",
   "language": "python",
   "name": "python3"
  },
  "language_info": {
   "codemirror_mode": {
    "name": "ipython",
    "version": 3
   },
   "file_extension": ".py",
   "mimetype": "text/x-python",
   "name": "python",
   "nbconvert_exporter": "python",
   "pygments_lexer": "ipython3",
   "version": "3.11.3"
  }
 },
 "nbformat": 4,
 "nbformat_minor": 5
}
