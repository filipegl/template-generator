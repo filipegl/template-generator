{
 "cells": [
  {
   "cell_type": "markdown",
   "id": "d0e2c728",
   "metadata": {},
   "source": [
    "# Abordagem 1\n",
    "\n",
    "Usando a abordagem 1 para gerar templates com foco em templates positivos e negativos. Uma possível aplicação seria testar a capacidade linguística *Vocabullary* com o teste **MFT**.\n",
    "\n",
    "As etapas desta abordagem são:\n",
    "\n",
    "1. Rankear as palavras das instâncias completas\n",
    "2. Quebrar as instâncias em sentenças\n",
    "3. Filtrar as sentenças que contêm ao menos uma das palavras mais bem rankeadas na etapa anterior\n",
    "4. Filtrar as sentenças com palavras relevantes (adjetivos ou verbos)\n",
    "5. Classificar as sentenças usando o *Oráculo*\n",
    "6. Filtrar as sentenças classificadas de forma unânime\n",
    "7. Substituir as palavras relevantes por máscaras"
   ]
  },
  {
   "cell_type": "code",
   "execution_count": 1,
   "id": "897c3a05",
   "metadata": {},
   "outputs": [],
   "source": [
    "%config Completer.use_jedi = False\n",
    "import sys\n",
    "sys.path.append('../')"
   ]
  },
  {
   "cell_type": "markdown",
   "id": "6da847fc",
   "metadata": {},
   "source": [
    "## Carregando o dataset, o modelo alvo e os modelos auxiliares"
   ]
  },
  {
   "cell_type": "code",
   "execution_count": 2,
   "id": "f6e018fa",
   "metadata": {},
   "outputs": [
    {
     "data": {
      "text/html": [
       "<div>\n",
       "<style scoped>\n",
       "    .dataframe tbody tr th:only-of-type {\n",
       "        vertical-align: middle;\n",
       "    }\n",
       "\n",
       "    .dataframe tbody tr th {\n",
       "        vertical-align: top;\n",
       "    }\n",
       "\n",
       "    .dataframe thead th {\n",
       "        text-align: right;\n",
       "    }\n",
       "</style>\n",
       "<table border=\"1\" class=\"dataframe\">\n",
       "  <thead>\n",
       "    <tr style=\"text-align: right;\">\n",
       "      <th></th>\n",
       "      <th>label</th>\n",
       "      <th>text</th>\n",
       "      <th>words</th>\n",
       "    </tr>\n",
       "  </thead>\n",
       "  <tbody>\n",
       "    <tr>\n",
       "      <th>0</th>\n",
       "      <td>1</td>\n",
       "      <td>Christian Duguay directed this tidy little espionage thriller early in his career. It plays on TV pretty regularly, albeit with some terrific scenes of violence and sex unfortunately trimmed. I finally got around to seeing the theatrical version on a $3 tape from the local video store. Naval officer Aidan Quinn is recruited to impersonate the notorious Carlos the Jackal, and gets a little too caught up in the role. Donald Sutherland Ben Kingsley play Quinn's superiors, with Sutherland a true zealot and Kingsley as the more level-headed one. The first half of this fun flick shows Quinn being trained and indoctrinated. The second half has him out in the field, making love to the Jackal's woman and shooting it out with sundry enemies. The idea is to make the Jackal look like a turncoat to the Russians, and let them take care of the world's most notorious assassin. Things don't exactly play out as planned. At times, I almost expected the cast to break out laughing at some of the corny dialogue, but they all play it very straight. In the end, this is one terrific little thriller that deserves your attention. The Jackal's former mistress teaching the highly proper and very married Quinn to rough her up, lick blood from her face, and then go down on her, alone is worth the price of admission.</td>\n",
       "      <td>227</td>\n",
       "    </tr>\n",
       "    <tr>\n",
       "      <th>1</th>\n",
       "      <td>1</td>\n",
       "      <td>New Yorkers contemporaneous with this film will recall how reflective of its time it is and how well cast and crew captured America, New York City of that era.&lt;br /&gt;&lt;br /&gt;Norman Wexler's script delineates the different worlds the various sub groupings live in and Avildsen's direction brings out phenomenal performances all around. Peter Boyle's prodigious talent is on display as never before nor since. Clearly it is the best character portrayal the always likable Dennis Patrick ever accomplished.&lt;br /&gt;&lt;br /&gt;What I will always remember about JOE is the feeling of having been in a virtual state of shock coming out of the theater. Knowing that what the screen portrayed was seething under the surface in neighborhoods throughout the five boroughs of the City of New York.&lt;br /&gt;&lt;br /&gt;This film needs to be remembered.</td>\n",
       "      <td>133</td>\n",
       "    </tr>\n",
       "    <tr>\n",
       "      <th>2</th>\n",
       "      <td>0</td>\n",
       "      <td>I love oddball animation, I love a lot of Asian films, but I didn't love this particular product of Japan. The Fuccons are supposedly an American family (they're all mannequins) who have moved to Japan, and they're somewhat a 50's sitcom type family, with slightly more modern sensibilities at times. The DVD features several very short episodes (like less than 5 minutes each?) and I did not find it to be either funny or entertaining, not even in a weird way. I'm not sure what the appeal is of this. I did pick up on some satire here and there, gosh, who wouldn't, but satire is usually somewhat humorous, isn't it? And nothing I saw or heard rated even a little smirk. I picked this up used and it certainly SOUNDED appealing, but I guess either I'm missing the point or it's just plain LAME. The box even says it's Fuccon hilarious, right there on the front, but I beg to differ. 2 out of 10.</td>\n",
       "      <td>166</td>\n",
       "    </tr>\n",
       "    <tr>\n",
       "      <th>3</th>\n",
       "      <td>1</td>\n",
       "      <td>I have seen this film probably a dozen times since it was originally released theatrically. Anyone who calls this movie trash or horrible just doesn't understand action films or recognize a good one. Perhaps to some the incidents and outcomes may seem far fetched, but in my opinion screenwriter Shane Black ( Lethal Weapon/ Kiss Kiss Bang Bang) crafted one of the most well thought out action adventures you will ever come across. Over the top or not this film flows like clockwork and the action just keeps coming. The final action sequence is one of the best I have ever seen in any film. The cast in this film crackles. Genna Davis gave a tremendous performance and its a damn shame there was never a \"LKG\" sequel. Samuel L. Jackson is hilarious as her sidekick Mitch a down on his luck private eye trying to help her discover her lost past and make a few bucks. If Baffles me how anyone could not like this film. It packs so many thrills and its so funny. The wisecracks in this film still make me laugh just as hard 10 years later. In my mind the first Matrix film and the Long Kiss Goodnight were easily 2 of the best and most original action flicks of the 90's. Incidentally Shane Black made a fortune when he sold this script. At the time it was the highest selling screenplay and its worth every penny. It's so sad that audiences never gave this movie a chance, cause they would have witnessed Renny Harlins best film and Genna Davis like you have never seen her before. Long live \"The Long Kiss Goodnight\"!!</td>\n",
       "      <td>278</td>\n",
       "    </tr>\n",
       "    <tr>\n",
       "      <th>4</th>\n",
       "      <td>1</td>\n",
       "      <td>Don't mind what this socially retarded person above says, this show is hilarious. It shows how a lot of single men are in a bar atmosphere, and also shows that women are not as gullible as men think they are. &lt;br /&gt;&lt;br /&gt;The contest aspect of the how is really cool and original. Its not the standard reality show that we are all used to now a days.&lt;br /&gt;&lt;br /&gt;Give it a chance everyone, we are only one episode in, we finally have some Canadian programming that isn't absolute crap. As Canadians what do we normally get, Bon Cop, Bad Cop, or Corner Gas. Come on people show that we are all not as prudish as the previous reviewer.&lt;br /&gt;&lt;br /&gt;Way to go Comedy Network, giving a new show a chance. The panel is funny and the contestants so far are pretty good.</td>\n",
       "      <td>143</td>\n",
       "    </tr>\n",
       "  </tbody>\n",
       "</table>\n",
       "</div>"
      ],
      "text/plain": [
       "   label  \\\n",
       "0      1   \n",
       "1      1   \n",
       "2      0   \n",
       "3      1   \n",
       "4      1   \n",
       "\n",
       "                                                                                                                                                                                                                                                                                                                                                                                                                                                                                                                                                                                                                                                                                                                                                                                                                                                                                                                                                                                                                                                                                                                                                                                                                                                                                                                                                                                                                                                                                                                                                                             text  \\\n",
       "0                                                                                                                                                                                                                      Christian Duguay directed this tidy little espionage thriller early in his career. It plays on TV pretty regularly, albeit with some terrific scenes of violence and sex unfortunately trimmed. I finally got around to seeing the theatrical version on a $3 tape from the local video store. Naval officer Aidan Quinn is recruited to impersonate the notorious Carlos the Jackal, and gets a little too caught up in the role. Donald Sutherland Ben Kingsley play Quinn's superiors, with Sutherland a true zealot and Kingsley as the more level-headed one. The first half of this fun flick shows Quinn being trained and indoctrinated. The second half has him out in the field, making love to the Jackal's woman and shooting it out with sundry enemies. The idea is to make the Jackal look like a turncoat to the Russians, and let them take care of the world's most notorious assassin. Things don't exactly play out as planned. At times, I almost expected the cast to break out laughing at some of the corny dialogue, but they all play it very straight. In the end, this is one terrific little thriller that deserves your attention. The Jackal's former mistress teaching the highly proper and very married Quinn to rough her up, lick blood from her face, and then go down on her, alone is worth the price of admission.   \n",
       "1                                                                                                                                                                                                                                                                                                                                                                                                                                                                                                                                                                                                                                                                                                                            New Yorkers contemporaneous with this film will recall how reflective of its time it is and how well cast and crew captured America, New York City of that era.<br /><br />Norman Wexler's script delineates the different worlds the various sub groupings live in and Avildsen's direction brings out phenomenal performances all around. Peter Boyle's prodigious talent is on display as never before nor since. Clearly it is the best character portrayal the always likable Dennis Patrick ever accomplished.<br /><br />What I will always remember about JOE is the feeling of having been in a virtual state of shock coming out of the theater. Knowing that what the screen portrayed was seething under the surface in neighborhoods throughout the five boroughs of the City of New York.<br /><br />This film needs to be remembered.   \n",
       "2                                                                                                                                                                                                                                                                                                                                                                                                                                                                                                                                                                                                                                               I love oddball animation, I love a lot of Asian films, but I didn't love this particular product of Japan. The Fuccons are supposedly an American family (they're all mannequins) who have moved to Japan, and they're somewhat a 50's sitcom type family, with slightly more modern sensibilities at times. The DVD features several very short episodes (like less than 5 minutes each?) and I did not find it to be either funny or entertaining, not even in a weird way. I'm not sure what the appeal is of this. I did pick up on some satire here and there, gosh, who wouldn't, but satire is usually somewhat humorous, isn't it? And nothing I saw or heard rated even a little smirk. I picked this up used and it certainly SOUNDED appealing, but I guess either I'm missing the point or it's just plain LAME. The box even says it's Fuccon hilarious, right there on the front, but I beg to differ. 2 out of 10.   \n",
       "3  I have seen this film probably a dozen times since it was originally released theatrically. Anyone who calls this movie trash or horrible just doesn't understand action films or recognize a good one. Perhaps to some the incidents and outcomes may seem far fetched, but in my opinion screenwriter Shane Black ( Lethal Weapon/ Kiss Kiss Bang Bang) crafted one of the most well thought out action adventures you will ever come across. Over the top or not this film flows like clockwork and the action just keeps coming. The final action sequence is one of the best I have ever seen in any film. The cast in this film crackles. Genna Davis gave a tremendous performance and its a damn shame there was never a \"LKG\" sequel. Samuel L. Jackson is hilarious as her sidekick Mitch a down on his luck private eye trying to help her discover her lost past and make a few bucks. If Baffles me how anyone could not like this film. It packs so many thrills and its so funny. The wisecracks in this film still make me laugh just as hard 10 years later. In my mind the first Matrix film and the Long Kiss Goodnight were easily 2 of the best and most original action flicks of the 90's. Incidentally Shane Black made a fortune when he sold this script. At the time it was the highest selling screenplay and its worth every penny. It's so sad that audiences never gave this movie a chance, cause they would have witnessed Renny Harlins best film and Genna Davis like you have never seen her before. Long live \"The Long Kiss Goodnight\"!!   \n",
       "4                                                                                                                                                                                                                                                                                                                                                                                                                                                                                                                                                                                                                                                                                                                                                                                         Don't mind what this socially retarded person above says, this show is hilarious. It shows how a lot of single men are in a bar atmosphere, and also shows that women are not as gullible as men think they are. <br /><br />The contest aspect of the how is really cool and original. Its not the standard reality show that we are all used to now a days.<br /><br />Give it a chance everyone, we are only one episode in, we finally have some Canadian programming that isn't absolute crap. As Canadians what do we normally get, Bon Cop, Bad Cop, or Corner Gas. Come on people show that we are all not as prudish as the previous reviewer.<br /><br />Way to go Comedy Network, giving a new show a chance. The panel is funny and the contestants so far are pretty good.   \n",
       "\n",
       "   words  \n",
       "0    227  \n",
       "1    133  \n",
       "2    166  \n",
       "3    278  \n",
       "4    143  "
      ]
     },
     "execution_count": 2,
     "metadata": {},
     "output_type": "execute_result"
    }
   ],
   "source": [
    "import pandas as pd\n",
    "pd.set_option('display.max_colwidth', None)\n",
    "\n",
    "imdb_df = pd.read_csv('./data/imdb_sampled/data-100samples.csv')\n",
    "imdb_df.head(5)"
   ]
  },
  {
   "cell_type": "code",
   "execution_count": 3,
   "id": "264d0dcd",
   "metadata": {},
   "outputs": [],
   "source": [
    "import re\n",
    "import numpy as np\n",
    "from torch.nn.functional import softmax\n",
    "from transformers import AutoTokenizer, AutoModelForSequenceClassification\n",
    "\n",
    "def pre_proccess(text):\n",
    "    text = text.lower()\n",
    "    text = re.sub('[\"\\',!-.:-@0-9/]()', ' ', text)\n",
    "    return text\n",
    "\n",
    "# Wrapper to adapt output format\n",
    "class SentimentAnalisysModelWrapper:\n",
    "    def __init__(self, model, tokenizer):\n",
    "        self.model = model\n",
    "        self.tokenizer = tokenizer\n",
    "        \n",
    "    def __predict(self, text_input):\n",
    "        text_preprocessed = pre_proccess(text_input)\n",
    "        tokenized = self.tokenizer(text_preprocessed, padding=True, truncation=True, max_length=512, \n",
    "                                    add_special_tokens = True, return_tensors=\"pt\")\n",
    "        \n",
    "        tensor_logits = self.model(**tokenized)\n",
    "        prob = softmax(tensor_logits[0]).detach().numpy()\n",
    "        pred = np.argmax(prob)\n",
    "        \n",
    "        return pred, prob\n",
    "    \n",
    "    def predict_label(self, text_inputs):\n",
    "        return self.predict(text_inputs)[0]\n",
    "        \n",
    "    def predict_proba(self, text_inputs):\n",
    "        return self.predict(text_inputs)[1]\n",
    "        \n",
    "    def predict(self, text_inputs):\n",
    "        if isinstance(text_inputs, str):\n",
    "            text_inputs = [text_inputs]\n",
    "        \n",
    "        preds = []\n",
    "        probs = []\n",
    "\n",
    "        for text_input in text_inputs:\n",
    "            pred, prob = self.__predict(text_input)\n",
    "            preds.append(pred)\n",
    "            probs.append(prob[0])\n",
    "\n",
    "        return np.array(preds), np.array(probs) # ([0, 1], [[0.99, 0.01], [0.03, 0.97]])\n",
    "\n",
    "# Auxiliar function to load and wrap a model from Hugging Face\n",
    "def load_model(model_name):\n",
    "    print(f'Loading model {model_name}...')\n",
    "    model = AutoModelForSequenceClassification.from_pretrained(model_name)\n",
    "    tokenizer = AutoTokenizer.from_pretrained(model_name)\n",
    "    \n",
    "    return SentimentAnalisysModelWrapper(model, tokenizer)\n",
    "\n",
    "# Hugging Face hosted model names \n",
    "imdb_models = {\n",
    "    'bert': 'textattack/bert-base-uncased-imdb', \n",
    "    'albert': 'textattack/albert-base-v2-imdb', \n",
    "    'distilbert': 'textattack/distilbert-base-uncased-imdb', \n",
    "    'roberta': 'textattack/roberta-base-imdb', \n",
    "    'xlnet': 'textattack/xlnet-base-cased-imdb'\n",
    "}"
   ]
  },
  {
   "cell_type": "code",
   "execution_count": 4,
   "id": "2f271eae",
   "metadata": {},
   "outputs": [
    {
     "name": "stdout",
     "output_type": "stream",
     "text": [
      "Loading model textattack/albert-base-v2-imdb...\n",
      "Loading model textattack/distilbert-base-uncased-imdb...\n",
      "Loading model textattack/roberta-base-imdb...\n"
     ]
    },
    {
     "name": "stderr",
     "output_type": "stream",
     "text": [
      "Some weights of the model checkpoint at textattack/roberta-base-imdb were not used when initializing RobertaForSequenceClassification: ['roberta.pooler.dense.bias', 'roberta.pooler.dense.weight']\n",
      "- This IS expected if you are initializing RobertaForSequenceClassification from the checkpoint of a model trained on another task or with another architecture (e.g. initializing a BertForSequenceClassification model from a BertForPreTraining model).\n",
      "- This IS NOT expected if you are initializing RobertaForSequenceClassification from the checkpoint of a model that you expect to be exactly identical (initializing a BertForSequenceClassification model from a BertForSequenceClassification model).\n"
     ]
    },
    {
     "name": "stdout",
     "output_type": "stream",
     "text": [
      "Loading model textattack/xlnet-base-cased-imdb...\n",
      "Loading model textattack/bert-base-uncased-imdb...\n"
     ]
    }
   ],
   "source": [
    "m1 = load_model(imdb_models['albert'])\n",
    "m2 = load_model(imdb_models['distilbert'])\n",
    "m3 = load_model(imdb_models['roberta'])\n",
    "m4 = load_model(imdb_models['xlnet'])\n",
    "\n",
    "# Models to be used as oracle\n",
    "models = [m1, m2, m3, m4]\n",
    "# Target model\n",
    "model = load_model(imdb_models['bert'])"
   ]
  },
  {
   "cell_type": "markdown",
   "id": "caae89b5",
   "metadata": {},
   "source": [
    "# Gerando os templates\n",
    "O método de rankeamento das palavras usado no PosNegTemplateGenerator é o Replace-1 Score"
   ]
  },
  {
   "cell_type": "code",
   "execution_count": 5,
   "id": "60dc1af3",
   "metadata": {},
   "outputs": [],
   "source": [
    "from template_generator.tasks.sentiment_analisys import PosNegTemplateGeneratorApp1\n",
    "\n",
    "tg = PosNegTemplateGeneratorApp1(model, models)"
   ]
  },
  {
   "cell_type": "markdown",
   "id": "4f595e69",
   "metadata": {},
   "source": [
    "### Número inicial de instâncias: 5"
   ]
  },
  {
   "cell_type": "code",
   "execution_count": 6,
   "id": "a6261506",
   "metadata": {},
   "outputs": [],
   "source": [
    "# Sampling instances\n",
    "np.random.seed(220)\n",
    "n_instances = 5\n",
    "df_sampled = imdb_df.sample(n_instances)\n",
    "\n",
    "instances = [x for x in df_sampled['text'].values]"
   ]
  },
  {
   "cell_type": "code",
   "execution_count": 7,
   "id": "660add17",
   "metadata": {},
   "outputs": [
    {
     "name": "stdout",
     "output_type": "stream",
     "text": [
      "Ranking words using Replace-1 Score...\n"
     ]
    },
    {
     "name": "stderr",
     "output_type": "stream",
     "text": [
      "/tmp/ipykernel_12054/1179770237.py:23: UserWarning: Implicit dimension choice for softmax has been deprecated. Change the call to include dim=X as an argument.\n",
      "  prob = softmax(tensor_logits[0]).detach().numpy()\n"
     ]
    },
    {
     "name": "stdout",
     "output_type": "stream",
     "text": [
      "Converting texts to sentences...\n",
      ":: 40 sentences were generated.\n",
      "Filtering instances by contaning ranked words...\n",
      ":: 16 sentences remaining.\n",
      "Filtering instances by relevant words...\n",
      ":: 0 sentences remaining.\n",
      "Predicting inputs...\n",
      ":: Sentence predictions done.\n"
     ]
    }
   ],
   "source": [
    "templates = tg.generate_templates(instances)"
   ]
  },
  {
   "attachments": {},
   "cell_type": "markdown",
   "id": "72d150cb",
   "metadata": {},
   "source": [
    "#### Tempo de execução para 5 instâncias: 6m 8.6s\n",
    "filipe: 2m 20.5s"
   ]
  },
  {
   "cell_type": "code",
   "execution_count": 8,
   "id": "193f1b65",
   "metadata": {},
   "outputs": [
    {
     "data": {
      "text/html": [
       "<div>\n",
       "<style scoped>\n",
       "    .dataframe tbody tr th:only-of-type {\n",
       "        vertical-align: middle;\n",
       "    }\n",
       "\n",
       "    .dataframe tbody tr th {\n",
       "        vertical-align: top;\n",
       "    }\n",
       "\n",
       "    .dataframe thead th {\n",
       "        text-align: right;\n",
       "    }\n",
       "</style>\n",
       "<table border=\"1\" class=\"dataframe\">\n",
       "  <thead>\n",
       "    <tr style=\"text-align: right;\">\n",
       "      <th></th>\n",
       "      <th>label</th>\n",
       "      <th>original_text</th>\n",
       "      <th>masked_text</th>\n",
       "      <th>template_text</th>\n",
       "    </tr>\n",
       "  </thead>\n",
       "  <tbody>\n",
       "  </tbody>\n",
       "</table>\n",
       "</div>"
      ],
      "text/plain": [
       "Empty DataFrame\n",
       "Columns: [label, original_text, masked_text, template_text]\n",
       "Index: []"
      ]
     },
     "execution_count": 8,
     "metadata": {},
     "output_type": "execute_result"
    }
   ],
   "source": [
    "df = tg.to_dataframe()\n",
    "df"
   ]
  },
  {
   "cell_type": "code",
   "execution_count": 9,
   "id": "7f98d8ba",
   "metadata": {},
   "outputs": [
    {
     "data": {
      "text/plain": [
       "{'pos_verb': [], 'neg_verb': [], 'pos_adj': [], 'neg_adj': []}"
      ]
     },
     "execution_count": 9,
     "metadata": {},
     "output_type": "execute_result"
    }
   ],
   "source": [
    "tg.lexicons"
   ]
  },
  {
   "cell_type": "markdown",
   "id": "01a27f1f",
   "metadata": {},
   "source": [
    "### Número inicial de instâncias: 100"
   ]
  },
  {
   "cell_type": "code",
   "execution_count": 10,
   "id": "cd4a7fe3",
   "metadata": {},
   "outputs": [],
   "source": [
    "# Using all 100 instances\n",
    "instances = [x for x in imdb_df['text'].values]"
   ]
  },
  {
   "cell_type": "code",
   "execution_count": 11,
   "id": "f1f3f383",
   "metadata": {},
   "outputs": [
    {
     "name": "stdout",
     "output_type": "stream",
     "text": [
      "Ranking words using Replace-1 Score...\n"
     ]
    },
    {
     "name": "stderr",
     "output_type": "stream",
     "text": [
      "/tmp/ipykernel_12054/1179770237.py:23: UserWarning: Implicit dimension choice for softmax has been deprecated. Change the call to include dim=X as an argument.\n",
      "  prob = softmax(tensor_logits[0]).detach().numpy()\n"
     ]
    },
    {
     "name": "stdout",
     "output_type": "stream",
     "text": [
      "Converting texts to sentences...\n",
      ":: 852 sentences were generated.\n",
      "Filtering instances by contaning ranked words...\n",
      ":: 371 sentences remaining.\n",
      "Filtering instances by relevant words...\n",
      ":: 24 sentences remaining.\n",
      "Predicting inputs...\n",
      ":: Sentence predictions done.\n"
     ]
    }
   ],
   "source": [
    "# 60 min 50.1s\n",
    "tg = PosNegTemplateGeneratorApp1(model, models)\n",
    "\n",
    "templates = tg.generate_templates(instances)"
   ]
  },
  {
   "attachments": {},
   "cell_type": "markdown",
   "id": "2aaf7e38",
   "metadata": {},
   "source": [
    "#### Tempo de execução para 100 instâncias: 123m 6.7s"
   ]
  },
  {
   "cell_type": "code",
   "execution_count": 20,
   "id": "5c3c1541",
   "metadata": {},
   "outputs": [
    {
     "data": {
      "text/html": [
       "<div>\n",
       "<style scoped>\n",
       "    .dataframe tbody tr th:only-of-type {\n",
       "        vertical-align: middle;\n",
       "    }\n",
       "\n",
       "    .dataframe tbody tr th {\n",
       "        vertical-align: top;\n",
       "    }\n",
       "\n",
       "    .dataframe thead th {\n",
       "        text-align: right;\n",
       "    }\n",
       "</style>\n",
       "<table border=\"1\" class=\"dataframe\">\n",
       "  <thead>\n",
       "    <tr style=\"text-align: right;\">\n",
       "      <th></th>\n",
       "      <th>template_index</th>\n",
       "      <th>label</th>\n",
       "      <th>original_text</th>\n",
       "      <th>masked_text</th>\n",
       "      <th>template_text</th>\n",
       "    </tr>\n",
       "  </thead>\n",
       "  <tbody>\n",
       "    <tr>\n",
       "      <th>0</th>\n",
       "      <td>1</td>\n",
       "      <td>0</td>\n",
       "      <td>Things don't exactly play out as planned.</td>\n",
       "      <td>Things do n't exactly {mask} out as {mask} .</td>\n",
       "      <td>Things do n't exactly {neg_verb} out as {neg_verb} .</td>\n",
       "    </tr>\n",
       "    <tr>\n",
       "      <th>1</th>\n",
       "      <td>2</td>\n",
       "      <td>1</td>\n",
       "      <td>Don't mind what this socially retarded person above says, this show is hilarious.</td>\n",
       "      <td>Do n't mind what this socially retarded person above {mask} , this show is {mask} .</td>\n",
       "      <td>Do n't mind what this socially retarded person above {neg_verb} , this show is {pos_adj} .</td>\n",
       "    </tr>\n",
       "    <tr>\n",
       "      <th>2</th>\n",
       "      <td>3</td>\n",
       "      <td>1</td>\n",
       "      <td>This movie is trying to make us all evaluate our lives and take off the rose colored glasses that most of us view the world through.&lt;br /&gt;&lt;br /&gt;Great movie.</td>\n",
       "      <td>This movie is trying to make us all {mask} our lives and take off the rose colored glasses that most of us view the world through.&lt;br /&gt;&lt;br {mask} movie .</td>\n",
       "      <td>This movie is trying to make us all {neg_verb} our lives and take off the rose colored glasses that most of us view the world through.&lt;br /&gt;&lt;br {pos_adj} movie .</td>\n",
       "    </tr>\n",
       "    <tr>\n",
       "      <th>3</th>\n",
       "      <td>4</td>\n",
       "      <td>0</td>\n",
       "      <td>Richard Roundtree has little more than a cameo as the police chief.</td>\n",
       "      <td>Richard Roundtree {mask} {mask} more than a cameo as the police chief .</td>\n",
       "      <td>Richard Roundtree {neg_verb} {neg_adj} more than a cameo as the police chief .</td>\n",
       "    </tr>\n",
       "    <tr>\n",
       "      <th>4</th>\n",
       "      <td>5</td>\n",
       "      <td>1</td>\n",
       "      <td>the b&amp;w version was more authentic.. but this is a good film beautifully photographed in color &amp; panavision...</td>\n",
       "      <td>the b&amp;w version was more authentic .. but this is a {mask} film beautifully {mask} in color &amp; panavision ...</td>\n",
       "      <td>the b&amp;w version was more authentic .. but this is a {pos_adj} film beautifully {pos_verb} in color &amp; panavision ...</td>\n",
       "    </tr>\n",
       "    <tr>\n",
       "      <th>5</th>\n",
       "      <td>6</td>\n",
       "      <td>0</td>\n",
       "      <td>Then tonight I decided to see it, the film was quite different to what I had expected and I didn't find any humour in it all I saw was that it was a bleak look at people dealing with love relationships and sexual orientation and I didn't really see the psycho killer plot really having a point except to add tension to the end of the film.</td>\n",
       "      <td>Then tonight I decided to see it , the film was quite {mask} to what I had {mask} and I did n't find any humour in it all I saw was that it was a bleak look at people dealing with love relationships and sexual orientation and I did n't really see the psycho killer plot really having a point except to add tension to the end of the film .</td>\n",
       "      <td>Then tonight I decided to see it , the film was quite {pos_adj} to what I had {neg_verb} and I did n't find any humour in it all I saw was that it was a bleak look at people dealing with love relationships and sexual orientation and I did n't really see the psycho killer plot really having a point except to add tension to the end of the film .</td>\n",
       "    </tr>\n",
       "    <tr>\n",
       "      <th>6</th>\n",
       "      <td>7</td>\n",
       "      <td>1</td>\n",
       "      <td>I felt that the person playing the lesbian woman did a great job.</td>\n",
       "      <td>I {mask} that the person playing the lesbian woman did a {mask} job .</td>\n",
       "      <td>I {pos_verb} that the person playing the lesbian woman did a {pos_adj} job .</td>\n",
       "    </tr>\n",
       "    <tr>\n",
       "      <th>7</th>\n",
       "      <td>8</td>\n",
       "      <td>0</td>\n",
       "      <td>Barbet Schroeder (at one time such a promising director with films like \"Barfly\" that amounted to pretty much nothing in the American market) directs well enough - I honestly thought the script was the culprit here...it's just a big mess.&lt;br /&gt;&lt;br /&gt;The film ultimately wastes a lot of good material, good actors and a good director - all because of a faulty script.</td>\n",
       "      <td>Barbet Schroeder ( at one time such a promising director with films like \" Barfly \" that amounted to pretty much nothing in the American market ) directs well enough - I honestly thought the script was the culprit here ... it 's just a big mess.&lt;br /&gt;&lt;br /&gt;The film ultimately {mask} a lot of good material , good actors and a good director - all because of a {mask} script .</td>\n",
       "      <td>Barbet Schroeder ( at one time such a promising director with films like \" Barfly \" that amounted to pretty much nothing in the American market ) directs well enough - I honestly thought the script was the culprit here ... it 's just a big mess.&lt;br /&gt;&lt;br /&gt;The film ultimately {neg_verb} a lot of good material , good actors and a good director - all because of a {neg_adj} script .</td>\n",
       "    </tr>\n",
       "    <tr>\n",
       "      <th>8</th>\n",
       "      <td>9</td>\n",
       "      <td>1</td>\n",
       "      <td>Though, in some ways, it leaves little to the imagination, and shows us graphically the incestuous relations that Melville could only hint at, the ambiguities which make the novel and its message so alluring are perfectly in tact.</td>\n",
       "      <td>Though , in some ways , it leaves little to the imagination , and shows us graphically the {mask} relations that Melville could only hint at , the ambiguities which make the novel and its message so {mask} are perfectly in tact .</td>\n",
       "      <td>Though , in some ways , it leaves little to the imagination , and shows us graphically the {neg_adj} relations that Melville could only hint at , the ambiguities which make the novel and its message so {pos_adj} are perfectly in tact .</td>\n",
       "    </tr>\n",
       "    <tr>\n",
       "      <th>9</th>\n",
       "      <td>10</td>\n",
       "      <td>0</td>\n",
       "      <td>And CGI: Kind of new and chic back in 1997, but today it just looks drab compared to the artful prosthetic/makeup work of London.</td>\n",
       "      <td>And CGI : Kind of new and chic back in 1997 , but today it just {mask} {mask} compared to the artful prosthetic / makeup work of London .</td>\n",
       "      <td>And CGI : Kind of new and chic back in 1997 , but today it just {neg_verb} {neg_adj} compared to the artful prosthetic / makeup work of London .</td>\n",
       "    </tr>\n",
       "    <tr>\n",
       "      <th>10</th>\n",
       "      <td>11</td>\n",
       "      <td>0</td>\n",
       "      <td>I have to agree with them, at times, it was pretty bad.</td>\n",
       "      <td>I have to {mask} with them , at times , it was pretty {mask} .</td>\n",
       "      <td>I have to {pos_verb} with them , at times , it was pretty {neg_adj} .</td>\n",
       "    </tr>\n",
       "    <tr>\n",
       "      <th>11</th>\n",
       "      <td>12</td>\n",
       "      <td>1</td>\n",
       "      <td>Ted Raimi was also hilarious and extremely goofy.</td>\n",
       "      <td>Ted Raimi was also {mask} and extremely {mask} .</td>\n",
       "      <td>Ted Raimi was also {pos_adj} and extremely {pos_adj} .</td>\n",
       "    </tr>\n",
       "    <tr>\n",
       "      <th>12</th>\n",
       "      <td>13</td>\n",
       "      <td>0</td>\n",
       "      <td>At 85 minutes, Snakes on a Train is almost unbearable to witness.</td>\n",
       "      <td>At 85 minutes , Snakes on a Train is almost {mask} to {mask} .</td>\n",
       "      <td>At 85 minutes , Snakes on a Train is almost {neg_adj} to {pos_verb} .</td>\n",
       "    </tr>\n",
       "    <tr>\n",
       "      <th>13</th>\n",
       "      <td>14</td>\n",
       "      <td>0</td>\n",
       "      <td>I'm truly not picky on movies, i'm open to any genre or budget, but Snakes On A Train is truly one of the worst Horror films I have ever seen.</td>\n",
       "      <td>I 'm truly not {mask} on movies , i 'm open to any genre or budget , but Snakes On A Train is truly one of the {mask} Horror films I have ever seen .</td>\n",
       "      <td>I 'm truly not {pos_adj} on movies , i 'm open to any genre or budget , but Snakes On A Train is truly one of the {neg_adj} Horror films I have ever seen .</td>\n",
       "    </tr>\n",
       "    <tr>\n",
       "      <th>14</th>\n",
       "      <td>15</td>\n",
       "      <td>0</td>\n",
       "      <td>I don't want to seem too much of a nitpicky spoilsport, but if the accidental death of a butterfly by a time traveler caused such an enormous change in the timeline, how could that be since the butterfly would have been incinerated by the pyroclastic blast of the erupting volcano anyway?</td>\n",
       "      <td>I do n't want to seem too much of a {mask} spoilsport , but if the accidental death of a butterfly by a time traveler caused such an enormous change in the timeline , how could that be since the butterfly would have been incinerated by the {mask} blast of the erupting volcano anyway ?</td>\n",
       "      <td>I do n't want to seem too much of a {neg_adj} spoilsport , but if the accidental death of a butterfly by a time traveler caused such an enormous change in the timeline , how could that be since the butterfly would have been incinerated by the {neg_adj} blast of the erupting volcano anyway ?</td>\n",
       "    </tr>\n",
       "    <tr>\n",
       "      <th>15</th>\n",
       "      <td>16</td>\n",
       "      <td>0</td>\n",
       "      <td>Sam Hell is supposed to be rebellious and awesome.</td>\n",
       "      <td>Sam Hell is {mask} to be {mask} and awesome .</td>\n",
       "      <td>Sam Hell is {neg_verb} to be {neg_adj} and awesome .</td>\n",
       "    </tr>\n",
       "    <tr>\n",
       "      <th>16</th>\n",
       "      <td>17</td>\n",
       "      <td>1</td>\n",
       "      <td>What this movie has going for it is, it's VERY fast-paced and lively; you're never bored or waiting for another kill.</td>\n",
       "      <td>What this movie has going for it is , it 's VERY fast - paced and {mask} ; you 're never {mask} or waiting for another kill .</td>\n",
       "      <td>What this movie has going for it is , it 's VERY fast - paced and {pos_adj} ; you 're never {neg_verb} or waiting for another kill .</td>\n",
       "    </tr>\n",
       "    <tr>\n",
       "      <th>17</th>\n",
       "      <td>18</td>\n",
       "      <td>0</td>\n",
       "      <td>Other than that, though, it does nothing to distinguish itself, and it's silly that this thing crawls all over the ceilings and can't be wounded by Navy SEAL machine guns, but can be karate-kicked into submission by Rhys-Davies' daughter.</td>\n",
       "      <td>{mask} than that , though , it does nothing to distinguish itself , and it 's silly that this thing {mask} all over the ceilings and ca n't be wounded by Navy SEAL machine guns , but can be karate - kicked into submission by Rhys - Davies ' daughter .</td>\n",
       "      <td>{neg_adj} than that , though , it does nothing to distinguish itself , and it 's silly that this thing {neg_verb} all over the ceilings and ca n't be wounded by Navy SEAL machine guns , but can be karate - kicked into submission by Rhys - Davies ' daughter .</td>\n",
       "    </tr>\n",
       "    <tr>\n",
       "      <th>18</th>\n",
       "      <td>19</td>\n",
       "      <td>0</td>\n",
       "      <td>The octopus invades the New York waters, where 2 police investigators try stopping the rampaging beast before the 4th of July.&lt;br /&gt;&lt;br /&gt;A pretty clean plot and descent happenings but the octopus was pretty much appalling, its nice to see they actually made it this time but it looked like a piece of plastic...</td>\n",
       "      <td>The octopus invades the New York waters , where 2 police investigators try stopping the rampaging beast before the 4th of July.&lt;br /&gt;&lt;br /&gt;A pretty clean plot and descent happenings but the octopus was pretty much {mask} , its nice to see they actually made it this time but it {mask} like a piece of plastic ...</td>\n",
       "      <td>The octopus invades the New York waters , where 2 police investigators try stopping the rampaging beast before the 4th of July.&lt;br /&gt;&lt;br /&gt;A pretty clean plot and descent happenings but the octopus was pretty much {neg_adj} , its nice to see they actually made it this time but it {neg_verb} like a piece of plastic ...</td>\n",
       "    </tr>\n",
       "    <tr>\n",
       "      <th>19</th>\n",
       "      <td>20</td>\n",
       "      <td>1</td>\n",
       "      <td>Upon arriving at the hotel, George is mistaken by crook 'Harry Pinto' (Stratford Johns) for a ruthless hit-man, who wants a rival to be exterminated!&lt;br /&gt;&lt;br /&gt;Not an outstanding comedy as such but a good natured piece of fun all the same.</td>\n",
       "      <td>Upon arriving at the hotel , George is mistaken by crook ' Harry Pinto ' ( Stratford Johns ) for a ruthless hit - man , who wants a rival to be exterminated!&lt;br /&gt;&lt;br /&gt;Not an {mask} comedy as such but a good {mask} piece of fun all the same .</td>\n",
       "      <td>Upon arriving at the hotel , George is mistaken by crook ' Harry Pinto ' ( Stratford Johns ) for a ruthless hit - man , who wants a rival to be exterminated!&lt;br /&gt;&lt;br /&gt;Not an {pos_adj} comedy as such but a good {pos_adj} piece of fun all the same .</td>\n",
       "    </tr>\n",
       "    <tr>\n",
       "      <th>20</th>\n",
       "      <td>21</td>\n",
       "      <td>0</td>\n",
       "      <td>I really like Splater, and the film does that blue lighting 80's feel, but the rest of it looks like low budget Canadian schlop.</td>\n",
       "      <td>I really like Splater , and the film does that blue lighting 80 's feel , but the rest of it {mask} like {mask} budget Canadian schlop .</td>\n",
       "      <td>I really like Splater , and the film does that blue lighting 80 's feel , but the rest of it {neg_verb} like {neg_adj} budget Canadian schlop .</td>\n",
       "    </tr>\n",
       "    <tr>\n",
       "      <th>21</th>\n",
       "      <td>22</td>\n",
       "      <td>0</td>\n",
       "      <td>The woman stopping him continues blabbering: -Your \"palabra\" is Carrefour.&lt;br /&gt;&lt;br /&gt;-How did you know?- the lady asks, surprised.</td>\n",
       "      <td>The woman stopping him {mask} {mask} : -Your \" palabra \" is Carrefour.&lt;br /&gt;&lt;br /&gt;-How did you know?- the lady asks , surprised .</td>\n",
       "      <td>The woman stopping him {neg_verb} {neg_verb} : -Your \" palabra \" is Carrefour.&lt;br /&gt;&lt;br /&gt;-How did you know?- the lady asks , surprised .</td>\n",
       "    </tr>\n",
       "    <tr>\n",
       "      <th>22</th>\n",
       "      <td>23</td>\n",
       "      <td>1</td>\n",
       "      <td>It has a new twist of the 18th century england.</td>\n",
       "      <td>It {mask} a {mask} twist of the 18th century england .</td>\n",
       "      <td>It {neg_verb} a {neg_adj} twist of the 18th century england .</td>\n",
       "    </tr>\n",
       "    <tr>\n",
       "      <th>23</th>\n",
       "      <td>24</td>\n",
       "      <td>1</td>\n",
       "      <td>All of this takes place in Sweden, which is truly bizarre.</td>\n",
       "      <td>All of this {mask} place in Sweden , which is truly {mask} .</td>\n",
       "      <td>All of this {neg_verb} place in Sweden , which is truly {pos_adj} .</td>\n",
       "    </tr>\n",
       "  </tbody>\n",
       "</table>\n",
       "</div>"
      ],
      "text/plain": [
       "    template_index  label  \\\n",
       "0                1      0   \n",
       "1                2      1   \n",
       "2                3      1   \n",
       "3                4      0   \n",
       "4                5      1   \n",
       "5                6      0   \n",
       "6                7      1   \n",
       "7                8      0   \n",
       "8                9      1   \n",
       "9               10      0   \n",
       "10              11      0   \n",
       "11              12      1   \n",
       "12              13      0   \n",
       "13              14      0   \n",
       "14              15      0   \n",
       "15              16      0   \n",
       "16              17      1   \n",
       "17              18      0   \n",
       "18              19      0   \n",
       "19              20      1   \n",
       "20              21      0   \n",
       "21              22      0   \n",
       "22              23      1   \n",
       "23              24      1   \n",
       "\n",
       "                                                                                                                                                                                                                                                                                                                                                                     original_text  \\\n",
       "0                                                                                                                                                                                                                                                                                                                                        Things don't exactly play out as planned.   \n",
       "1                                                                                                                                                                                                                                                                                                Don't mind what this socially retarded person above says, this show is hilarious.   \n",
       "2                                                                                                                                                                                                                     This movie is trying to make us all evaluate our lives and take off the rose colored glasses that most of us view the world through.<br /><br />Great movie.   \n",
       "3                                                                                                                                                                                                                                                                                                              Richard Roundtree has little more than a cameo as the police chief.   \n",
       "4                                                                                                                                                                                                                                                                   the b&w version was more authentic.. but this is a good film beautifully photographed in color & panavision...   \n",
       "5                              Then tonight I decided to see it, the film was quite different to what I had expected and I didn't find any humour in it all I saw was that it was a bleak look at people dealing with love relationships and sexual orientation and I didn't really see the psycho killer plot really having a point except to add tension to the end of the film.   \n",
       "6                                                                                                                                                                                                                                                                                                                I felt that the person playing the lesbian woman did a great job.   \n",
       "7   Barbet Schroeder (at one time such a promising director with films like \"Barfly\" that amounted to pretty much nothing in the American market) directs well enough - I honestly thought the script was the culprit here...it's just a big mess.<br /><br />The film ultimately wastes a lot of good material, good actors and a good director - all because of a faulty script.   \n",
       "8                                                                                                                                           Though, in some ways, it leaves little to the imagination, and shows us graphically the incestuous relations that Melville could only hint at, the ambiguities which make the novel and its message so alluring are perfectly in tact.   \n",
       "9                                                                                                                                                                                                                                                And CGI: Kind of new and chic back in 1997, but today it just looks drab compared to the artful prosthetic/makeup work of London.   \n",
       "10                                                                                                                                                                                                                                                                                                                         I have to agree with them, at times, it was pretty bad.   \n",
       "11                                                                                                                                                                                                                                                                                                                               Ted Raimi was also hilarious and extremely goofy.   \n",
       "12                                                                                                                                                                                                                                                                                                               At 85 minutes, Snakes on a Train is almost unbearable to witness.   \n",
       "13                                                                                                                                                                                                                                  I'm truly not picky on movies, i'm open to any genre or budget, but Snakes On A Train is truly one of the worst Horror films I have ever seen.   \n",
       "14                                                                                I don't want to seem too much of a nitpicky spoilsport, but if the accidental death of a butterfly by a time traveler caused such an enormous change in the timeline, how could that be since the butterfly would have been incinerated by the pyroclastic blast of the erupting volcano anyway?   \n",
       "15                                                                                                                                                                                                                                                                                                                              Sam Hell is supposed to be rebellious and awesome.   \n",
       "16                                                                                                                                                                                                                                                           What this movie has going for it is, it's VERY fast-paced and lively; you're never bored or waiting for another kill.   \n",
       "17                                                                                                                                  Other than that, though, it does nothing to distinguish itself, and it's silly that this thing crawls all over the ceilings and can't be wounded by Navy SEAL machine guns, but can be karate-kicked into submission by Rhys-Davies' daughter.   \n",
       "18                                                        The octopus invades the New York waters, where 2 police investigators try stopping the rampaging beast before the 4th of July.<br /><br />A pretty clean plot and descent happenings but the octopus was pretty much appalling, its nice to see they actually made it this time but it looked like a piece of plastic...   \n",
       "19                                                                                                                                Upon arriving at the hotel, George is mistaken by crook 'Harry Pinto' (Stratford Johns) for a ruthless hit-man, who wants a rival to be exterminated!<br /><br />Not an outstanding comedy as such but a good natured piece of fun all the same.   \n",
       "20                                                                                                                                                                                                                                                I really like Splater, and the film does that blue lighting 80's feel, but the rest of it looks like low budget Canadian schlop.   \n",
       "21                                                                                                                                                                                                                                             The woman stopping him continues blabbering: -Your \"palabra\" is Carrefour.<br /><br />-How did you know?- the lady asks, surprised.   \n",
       "22                                                                                                                                                                                                                                                                                                                                 It has a new twist of the 18th century england.   \n",
       "23                                                                                                                                                                                                                                                                                                                      All of this takes place in Sweden, which is truly bizarre.   \n",
       "\n",
       "                                                                                                                                                                                                                                                                                                                                                                                masked_text  \\\n",
       "0                                                                                                                                                                                                                                                                                                                                              Things do n't exactly {mask} out as {mask} .   \n",
       "1                                                                                                                                                                                                                                                                                                       Do n't mind what this socially retarded person above {mask} , this show is {mask} .   \n",
       "2                                                                                                                                                                                                                                This movie is trying to make us all {mask} our lives and take off the rose colored glasses that most of us view the world through.<br /><br {mask} movie .   \n",
       "3                                                                                                                                                                                                                                                                                                                   Richard Roundtree {mask} {mask} more than a cameo as the police chief .   \n",
       "4                                                                                                                                                                                                                                                                              the b&w version was more authentic .. but this is a {mask} film beautifully {mask} in color & panavision ...   \n",
       "5                                        Then tonight I decided to see it , the film was quite {mask} to what I had {mask} and I did n't find any humour in it all I saw was that it was a bleak look at people dealing with love relationships and sexual orientation and I did n't really see the psycho killer plot really having a point except to add tension to the end of the film .   \n",
       "6                                                                                                                                                                                                                                                                                                                     I {mask} that the person playing the lesbian woman did a {mask} job .   \n",
       "7   Barbet Schroeder ( at one time such a promising director with films like \" Barfly \" that amounted to pretty much nothing in the American market ) directs well enough - I honestly thought the script was the culprit here ... it 's just a big mess.<br /><br />The film ultimately {mask} a lot of good material , good actors and a good director - all because of a {mask} script .   \n",
       "8                                                                                                                                                     Though , in some ways , it leaves little to the imagination , and shows us graphically the {mask} relations that Melville could only hint at , the ambiguities which make the novel and its message so {mask} are perfectly in tact .   \n",
       "9                                                                                                                                                                                                                                                 And CGI : Kind of new and chic back in 1997 , but today it just {mask} {mask} compared to the artful prosthetic / makeup work of London .   \n",
       "10                                                                                                                                                                                                                                                                                                                           I have to {mask} with them , at times , it was pretty {mask} .   \n",
       "11                                                                                                                                                                                                                                                                                                                                         Ted Raimi was also {mask} and extremely {mask} .   \n",
       "12                                                                                                                                                                                                                                                                                                                           At 85 minutes , Snakes on a Train is almost {mask} to {mask} .   \n",
       "13                                                                                                                                                                                                                                    I 'm truly not {mask} on movies , i 'm open to any genre or budget , but Snakes On A Train is truly one of the {mask} Horror films I have ever seen .   \n",
       "14                                                                                            I do n't want to seem too much of a {mask} spoilsport , but if the accidental death of a butterfly by a time traveler caused such an enormous change in the timeline , how could that be since the butterfly would have been incinerated by the {mask} blast of the erupting volcano anyway ?   \n",
       "15                                                                                                                                                                                                                                                                                                                                            Sam Hell is {mask} to be {mask} and awesome .   \n",
       "16                                                                                                                                                                                                                                                            What this movie has going for it is , it 's VERY fast - paced and {mask} ; you 're never {mask} or waiting for another kill .   \n",
       "17                                                                                                                              {mask} than that , though , it does nothing to distinguish itself , and it 's silly that this thing {mask} all over the ceilings and ca n't be wounded by Navy SEAL machine guns , but can be karate - kicked into submission by Rhys - Davies ' daughter .   \n",
       "18                                                                 The octopus invades the New York waters , where 2 police investigators try stopping the rampaging beast before the 4th of July.<br /><br />A pretty clean plot and descent happenings but the octopus was pretty much {mask} , its nice to see they actually made it this time but it {mask} like a piece of plastic ...   \n",
       "19                                                                                                                                      Upon arriving at the hotel , George is mistaken by crook ' Harry Pinto ' ( Stratford Johns ) for a ruthless hit - man , who wants a rival to be exterminated!<br /><br />Not an {mask} comedy as such but a good {mask} piece of fun all the same .   \n",
       "20                                                                                                                                                                                                                                                 I really like Splater , and the film does that blue lighting 80 's feel , but the rest of it {mask} like {mask} budget Canadian schlop .   \n",
       "21                                                                                                                                                                                                                                                        The woman stopping him {mask} {mask} : -Your \" palabra \" is Carrefour.<br /><br />-How did you know?- the lady asks , surprised .   \n",
       "22                                                                                                                                                                                                                                                                                                                                   It {mask} a {mask} twist of the 18th century england .   \n",
       "23                                                                                                                                                                                                                                                                                                                             All of this {mask} place in Sweden , which is truly {mask} .   \n",
       "\n",
       "                                                                                                                                                                                                                                                                                                                                                                                     template_text  \n",
       "0                                                                                                                                                                                                                                                                                                                                             Things do n't exactly {neg_verb} out as {neg_verb} .  \n",
       "1                                                                                                                                                                                                                                                                                                       Do n't mind what this socially retarded person above {neg_verb} , this show is {pos_adj} .  \n",
       "2                                                                                                                                                                                                                                This movie is trying to make us all {neg_verb} our lives and take off the rose colored glasses that most of us view the world through.<br /><br {pos_adj} movie .  \n",
       "3                                                                                                                                                                                                                                                                                                                   Richard Roundtree {neg_verb} {neg_adj} more than a cameo as the police chief .  \n",
       "4                                                                                                                                                                                                                                                                              the b&w version was more authentic .. but this is a {pos_adj} film beautifully {pos_verb} in color & panavision ...  \n",
       "5                                        Then tonight I decided to see it , the film was quite {pos_adj} to what I had {neg_verb} and I did n't find any humour in it all I saw was that it was a bleak look at people dealing with love relationships and sexual orientation and I did n't really see the psycho killer plot really having a point except to add tension to the end of the film .  \n",
       "6                                                                                                                                                                                                                                                                                                                     I {pos_verb} that the person playing the lesbian woman did a {pos_adj} job .  \n",
       "7   Barbet Schroeder ( at one time such a promising director with films like \" Barfly \" that amounted to pretty much nothing in the American market ) directs well enough - I honestly thought the script was the culprit here ... it 's just a big mess.<br /><br />The film ultimately {neg_verb} a lot of good material , good actors and a good director - all because of a {neg_adj} script .  \n",
       "8                                                                                                                                                      Though , in some ways , it leaves little to the imagination , and shows us graphically the {neg_adj} relations that Melville could only hint at , the ambiguities which make the novel and its message so {pos_adj} are perfectly in tact .  \n",
       "9                                                                                                                                                                                                                                                 And CGI : Kind of new and chic back in 1997 , but today it just {neg_verb} {neg_adj} compared to the artful prosthetic / makeup work of London .  \n",
       "10                                                                                                                                                                                                                                                                                                                           I have to {pos_verb} with them , at times , it was pretty {neg_adj} .  \n",
       "11                                                                                                                                                                                                                                                                                                                                          Ted Raimi was also {pos_adj} and extremely {pos_adj} .  \n",
       "12                                                                                                                                                                                                                                                                                                                           At 85 minutes , Snakes on a Train is almost {neg_adj} to {pos_verb} .  \n",
       "13                                                                                                                                                                                                                                     I 'm truly not {pos_adj} on movies , i 'm open to any genre or budget , but Snakes On A Train is truly one of the {neg_adj} Horror films I have ever seen .  \n",
       "14                                                                                             I do n't want to seem too much of a {neg_adj} spoilsport , but if the accidental death of a butterfly by a time traveler caused such an enormous change in the timeline , how could that be since the butterfly would have been incinerated by the {neg_adj} blast of the erupting volcano anyway ?  \n",
       "15                                                                                                                                                                                                                                                                                                                                            Sam Hell is {neg_verb} to be {neg_adj} and awesome .  \n",
       "16                                                                                                                                                                                                                                                            What this movie has going for it is , it 's VERY fast - paced and {pos_adj} ; you 're never {neg_verb} or waiting for another kill .  \n",
       "17                                                                                                                              {neg_adj} than that , though , it does nothing to distinguish itself , and it 's silly that this thing {neg_verb} all over the ceilings and ca n't be wounded by Navy SEAL machine guns , but can be karate - kicked into submission by Rhys - Davies ' daughter .  \n",
       "18                                                                 The octopus invades the New York waters , where 2 police investigators try stopping the rampaging beast before the 4th of July.<br /><br />A pretty clean plot and descent happenings but the octopus was pretty much {neg_adj} , its nice to see they actually made it this time but it {neg_verb} like a piece of plastic ...  \n",
       "19                                                                                                                                       Upon arriving at the hotel , George is mistaken by crook ' Harry Pinto ' ( Stratford Johns ) for a ruthless hit - man , who wants a rival to be exterminated!<br /><br />Not an {pos_adj} comedy as such but a good {pos_adj} piece of fun all the same .  \n",
       "20                                                                                                                                                                                                                                                 I really like Splater , and the film does that blue lighting 80 's feel , but the rest of it {neg_verb} like {neg_adj} budget Canadian schlop .  \n",
       "21                                                                                                                                                                                                                                                       The woman stopping him {neg_verb} {neg_verb} : -Your \" palabra \" is Carrefour.<br /><br />-How did you know?- the lady asks , surprised .  \n",
       "22                                                                                                                                                                                                                                                                                                                                   It {neg_verb} a {neg_adj} twist of the 18th century england .  \n",
       "23                                                                                                                                                                                                                                                                                                                             All of this {neg_verb} place in Sweden , which is truly {pos_adj} .  "
      ]
     },
     "execution_count": 20,
     "metadata": {},
     "output_type": "execute_result"
    }
   ],
   "source": [
    "df_templates = tg.to_dataframe()\n",
    "df_templates.insert(0, \"template_index\", df_templates.index.map(lambda x: int(x)+1))\n",
    "df_templates"
   ]
  },
  {
   "cell_type": "code",
   "execution_count": 21,
   "metadata": {},
   "outputs": [],
   "source": [
    "df_templates.to_csv(\"generated_templates/generated_templates_approach1.csv\")\n"
   ]
  },
  {
   "cell_type": "code",
   "execution_count": 13,
   "id": "0571a42d",
   "metadata": {},
   "outputs": [
    {
     "data": {
      "text/plain": [
       "{'pos_verb': ['photographed', 'witness', 'felt', 'agree'],\n",
       " 'neg_verb': ['wastes',\n",
       "  'supposed',\n",
       "  'continues',\n",
       "  'play',\n",
       "  'looked',\n",
       "  'evaluate',\n",
       "  'bored',\n",
       "  'expected',\n",
       "  'blabbering',\n",
       "  'has',\n",
       "  'planned',\n",
       "  'crawls',\n",
       "  'takes',\n",
       "  'looks',\n",
       "  'says'],\n",
       " 'pos_adj': ['bizarre',\n",
       "  'natured',\n",
       "  'great',\n",
       "  'lively',\n",
       "  'different',\n",
       "  'outstanding',\n",
       "  '/>Great',\n",
       "  'good',\n",
       "  'hilarious',\n",
       "  'goofy',\n",
       "  'picky',\n",
       "  'alluring'],\n",
       " 'neg_adj': ['low',\n",
       "  'little',\n",
       "  'rebellious',\n",
       "  'nitpicky',\n",
       "  'appalling',\n",
       "  'incestuous',\n",
       "  'drab',\n",
       "  'new',\n",
       "  'Other',\n",
       "  'unbearable',\n",
       "  'worst',\n",
       "  'bad',\n",
       "  'pyroclastic',\n",
       "  'faulty']}"
      ]
     },
     "execution_count": 13,
     "metadata": {},
     "output_type": "execute_result"
    }
   ],
   "source": [
    "tg.lexicons"
   ]
  },
  {
   "cell_type": "markdown",
   "id": "3c105889",
   "metadata": {},
   "source": [
    "# Usando os templates gerados pelo TemplateGenerator no CheckList"
   ]
  },
  {
   "cell_type": "code",
   "execution_count": 14,
   "id": "263ea542",
   "metadata": {},
   "outputs": [],
   "source": [
    "from checklist.editor import Editor\n",
    "from checklist.test_suite import TestSuite\n",
    "from checklist.test_types import MFT"
   ]
  },
  {
   "cell_type": "code",
   "execution_count": 15,
   "id": "017ec5e3",
   "metadata": {},
   "outputs": [],
   "source": [
    "lexicons = tg.lexicons\n",
    "templates = tg.template_texts\n",
    "masked = tg.masked_texts\n",
    "labels = [sent.prediction.label for sent in tg.sentences]\n",
    "\n",
    "editor = Editor()\n",
    "editor.add_lexicon('pos_verb', lexicons['pos_verb'])\n",
    "editor.add_lexicon('neg_verb', lexicons['neg_verb'])\n",
    "editor.add_lexicon('pos_adj', lexicons['pos_adj'])\n",
    "editor.add_lexicon('neg_adj', lexicons['neg_adj'])\n",
    "\n",
    "suite = TestSuite()"
   ]
  },
  {
   "cell_type": "code",
   "execution_count": 16,
   "id": "25f75255",
   "metadata": {},
   "outputs": [],
   "source": [
    "for template, label, i in zip(templates, labels, range(len(templates))):\n",
    "    t = editor.template(template, remove_duplicates=True, labels=int(label))\n",
    "\n",
    "    suite.add(MFT(\n",
    "        data=t.data,\n",
    "        labels=label,\n",
    "        capability=\"Vocabullary\", \n",
    "        name=f\"Test: MFT with vocabullary - template{i+1}\",\n",
    "        description=\"Checking if the model can handle vocabullary\"))"
   ]
  },
  {
   "cell_type": "code",
   "execution_count": 17,
   "id": "fe3d0885",
   "metadata": {},
   "outputs": [
    {
     "name": "stdout",
     "output_type": "stream",
     "text": [
      "Running Test: MFT with vocabullary - template1\n",
      "Predicting 15 examples\n"
     ]
    },
    {
     "name": "stderr",
     "output_type": "stream",
     "text": [
      "/tmp/ipykernel_12054/1179770237.py:23: UserWarning: Implicit dimension choice for softmax has been deprecated. Change the call to include dim=X as an argument.\n",
      "  prob = softmax(tensor_logits[0]).detach().numpy()\n"
     ]
    },
    {
     "name": "stdout",
     "output_type": "stream",
     "text": [
      "Running Test: MFT with vocabullary - template2\n",
      "Predicting 180 examples\n",
      "Running Test: MFT with vocabullary - template3\n",
      "Predicting 180 examples\n",
      "Running Test: MFT with vocabullary - template4\n",
      "Predicting 210 examples\n",
      "Running Test: MFT with vocabullary - template5\n",
      "Predicting 48 examples\n",
      "Running Test: MFT with vocabullary - template6\n",
      "Predicting 180 examples\n",
      "Running Test: MFT with vocabullary - template7\n",
      "Predicting 48 examples\n",
      "Running Test: MFT with vocabullary - template8\n",
      "Predicting 210 examples\n",
      "Running Test: MFT with vocabullary - template9\n",
      "Predicting 168 examples\n",
      "Running Test: MFT with vocabullary - template10\n",
      "Predicting 210 examples\n",
      "Running Test: MFT with vocabullary - template11\n",
      "Predicting 56 examples\n",
      "Running Test: MFT with vocabullary - template12\n",
      "Predicting 12 examples\n",
      "Running Test: MFT with vocabullary - template13\n",
      "Predicting 56 examples\n",
      "Running Test: MFT with vocabullary - template14\n",
      "Predicting 168 examples\n",
      "Running Test: MFT with vocabullary - template15\n",
      "Predicting 14 examples\n",
      "Running Test: MFT with vocabullary - template16\n",
      "Predicting 210 examples\n",
      "Running Test: MFT with vocabullary - template17\n",
      "Predicting 180 examples\n",
      "Running Test: MFT with vocabullary - template18\n",
      "Predicting 210 examples\n",
      "Running Test: MFT with vocabullary - template19\n",
      "Predicting 210 examples\n",
      "Running Test: MFT with vocabullary - template20\n",
      "Predicting 12 examples\n",
      "Running Test: MFT with vocabullary - template21\n",
      "Predicting 210 examples\n",
      "Running Test: MFT with vocabullary - template22\n",
      "Predicting 15 examples\n",
      "Running Test: MFT with vocabullary - template23\n",
      "Predicting 210 examples\n",
      "Running Test: MFT with vocabullary - template24\n",
      "Predicting 180 examples\n"
     ]
    }
   ],
   "source": [
    "suite.run(model.predict, overwrite=True)\n",
    "suite.save('./suites/posneg-approach1.suite')"
   ]
  },
  {
   "cell_type": "markdown",
   "id": "33065add",
   "metadata": {},
   "source": [
    "# Carregando suite de teste"
   ]
  },
  {
   "cell_type": "code",
   "execution_count": 18,
   "id": "563d7be6",
   "metadata": {},
   "outputs": [
    {
     "name": "stdout",
     "output_type": "stream",
     "text": [
      "Please wait as we prepare the table data...\n"
     ]
    },
    {
     "data": {
      "application/vnd.jupyter.widget-view+json": {
       "model_id": "209a12bd6bc24dfe9cd080ff8eb34414",
       "version_major": 2,
       "version_minor": 0
      },
      "text/plain": [
       "SuiteSummarizer(stats={'npassed': 0, 'nfailed': 0, 'nfiltered': 0}, test_infos=[{'name': 'Test: MFT with vocab…"
      ]
     },
     "execution_count": 18,
     "metadata": {},
     "output_type": "execute_result"
    }
   ],
   "source": [
    "from checklist.test_suite import TestSuite\n",
    "suite = TestSuite.from_file('./suites/posneg-approach1.suite')\n",
    "\n",
    "suite.visual_summary_table()"
   ]
  },
  {
   "cell_type": "code",
   "execution_count": 22,
   "metadata": {},
   "outputs": [
    {
     "name": "stdout",
     "output_type": "stream",
     "text": [
      "failed = 815 (25.53%)\n",
      "passed = 2377 (74.47%)\n",
      "total = 3192\n",
      "templates: 24\n"
     ]
    }
   ],
   "source": [
    "passed = 0\n",
    "failed = 0\n",
    "for test_name in suite.tests:\n",
    "    table = suite.visual_summary_by_test(test_name)\n",
    "    \n",
    "    failed += table.stats['nfailed']    \n",
    "    passed += table.stats['npassed']\n",
    "    assert table.stats['nfailed'] + table.stats['npassed'] == len(table.filtered_testcases)\n",
    "\n",
    "print(f\"{failed = } ({(failed/(passed+failed))*100:.2f}%)\")\n",
    "print(f\"{passed = } ({(passed/(passed+failed))*100:.2f}%)\")\n",
    "print(f\"total = {passed+failed}\")\n",
    "print(\"templates:\", len(suite.tests))"
   ]
  },
  {
   "cell_type": "code",
   "execution_count": 19,
   "id": "parental-shelter",
   "metadata": {},
   "outputs": [
    {
     "name": "stdout",
     "output_type": "stream",
     "text": [
      "the b&w version was more authentic .. but this is a bizarre film beautifully photographed in color & panavision ...\n",
      "the b&w version was more authentic .. but this is a bizarre film beautifully witness in color & panavision ...\n",
      "the b&w version was more authentic .. but this is a bizarre film beautifully felt in color & panavision ...\n",
      "the b&w version was more authentic .. but this is a bizarre film beautifully agree in color & panavision ...\n",
      "the b&w version was more authentic .. but this is a natured film beautifully photographed in color & panavision ...\n",
      "the b&w version was more authentic .. but this is a natured film beautifully witness in color & panavision ...\n",
      "the b&w version was more authentic .. but this is a natured film beautifully felt in color & panavision ...\n",
      "the b&w version was more authentic .. but this is a natured film beautifully agree in color & panavision ...\n",
      "the b&w version was more authentic .. but this is a great film beautifully photographed in color & panavision ...\n",
      "the b&w version was more authentic .. but this is a great film beautifully witness in color & panavision ...\n",
      "the b&w version was more authentic .. but this is a great film beautifully felt in color & panavision ...\n",
      "the b&w version was more authentic .. but this is a great film beautifully agree in color & panavision ...\n",
      "the b&w version was more authentic .. but this is a lively film beautifully photographed in color & panavision ...\n",
      "the b&w version was more authentic .. but this is a lively film beautifully witness in color & panavision ...\n",
      "the b&w version was more authentic .. but this is a lively film beautifully felt in color & panavision ...\n",
      "the b&w version was more authentic .. but this is a lively film beautifully agree in color & panavision ...\n",
      "the b&w version was more authentic .. but this is a different film beautifully photographed in color & panavision ...\n",
      "the b&w version was more authentic .. but this is a different film beautifully witness in color & panavision ...\n",
      "the b&w version was more authentic .. but this is a different film beautifully felt in color & panavision ...\n",
      "the b&w version was more authentic .. but this is a different film beautifully agree in color & panavision ...\n",
      "the b&w version was more authentic .. but this is a outstanding film beautifully photographed in color & panavision ...\n",
      "the b&w version was more authentic .. but this is a outstanding film beautifully witness in color & panavision ...\n",
      "the b&w version was more authentic .. but this is a outstanding film beautifully felt in color & panavision ...\n",
      "the b&w version was more authentic .. but this is a outstanding film beautifully agree in color & panavision ...\n",
      "the b&w version was more authentic .. but this is a />Great film beautifully photographed in color & panavision ...\n",
      "the b&w version was more authentic .. but this is a />Great film beautifully witness in color & panavision ...\n",
      "the b&w version was more authentic .. but this is a />Great film beautifully felt in color & panavision ...\n",
      "the b&w version was more authentic .. but this is a />Great film beautifully agree in color & panavision ...\n",
      "the b&w version was more authentic .. but this is a good film beautifully photographed in color & panavision ...\n",
      "the b&w version was more authentic .. but this is a good film beautifully witness in color & panavision ...\n",
      "the b&w version was more authentic .. but this is a good film beautifully felt in color & panavision ...\n",
      "the b&w version was more authentic .. but this is a good film beautifully agree in color & panavision ...\n",
      "the b&w version was more authentic .. but this is a hilarious film beautifully photographed in color & panavision ...\n",
      "the b&w version was more authentic .. but this is a hilarious film beautifully witness in color & panavision ...\n",
      "the b&w version was more authentic .. but this is a hilarious film beautifully felt in color & panavision ...\n",
      "the b&w version was more authentic .. but this is a hilarious film beautifully agree in color & panavision ...\n",
      "the b&w version was more authentic .. but this is a goofy film beautifully photographed in color & panavision ...\n",
      "the b&w version was more authentic .. but this is a goofy film beautifully witness in color & panavision ...\n",
      "the b&w version was more authentic .. but this is a goofy film beautifully felt in color & panavision ...\n",
      "the b&w version was more authentic .. but this is a goofy film beautifully agree in color & panavision ...\n",
      "the b&w version was more authentic .. but this is a picky film beautifully photographed in color & panavision ...\n",
      "the b&w version was more authentic .. but this is a picky film beautifully witness in color & panavision ...\n",
      "the b&w version was more authentic .. but this is a picky film beautifully felt in color & panavision ...\n",
      "the b&w version was more authentic .. but this is a picky film beautifully agree in color & panavision ...\n",
      "the b&w version was more authentic .. but this is a alluring film beautifully photographed in color & panavision ...\n",
      "the b&w version was more authentic .. but this is a alluring film beautifully witness in color & panavision ...\n",
      "the b&w version was more authentic .. but this is a alluring film beautifully felt in color & panavision ...\n",
      "the b&w version was more authentic .. but this is a alluring film beautifully agree in color & panavision ...\n"
     ]
    }
   ],
   "source": [
    "table = suite.visual_summary_by_test('Test: MFT with vocabullary - template5')\n",
    "\n",
    "failed = table.candidate_testcases\n",
    "tests = table.filtered_testcases\n",
    "\n",
    "for item in tests:\n",
    "    if not item in failed:\n",
    "        print(item['examples'][0]['new']['text'])"
   ]
  },
  {
   "cell_type": "code",
   "execution_count": null,
   "id": "informed-charter",
   "metadata": {},
   "outputs": [],
   "source": []
  }
 ],
 "metadata": {
  "interpreter": {
   "hash": "335f8eac43d2678591a8076d8dfd5de078961fe9395efec4dfbbe61965ca9377"
  },
  "kernelspec": {
   "display_name": "Python 3",
   "language": "python",
   "name": "python3"
  },
  "language_info": {
   "codemirror_mode": {
    "name": "ipython",
    "version": 3
   },
   "file_extension": ".py",
   "mimetype": "text/x-python",
   "name": "python",
   "nbconvert_exporter": "python",
   "pygments_lexer": "ipython3",
   "version": "3.11.5"
  }
 },
 "nbformat": 4,
 "nbformat_minor": 5
}
