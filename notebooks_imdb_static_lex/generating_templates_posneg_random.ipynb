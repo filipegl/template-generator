{
 "cells": [
  {
   "cell_type": "markdown",
   "id": "d0e2c728",
   "metadata": {},
   "source": [
    "# Abordagem randômica\n",
    "\n",
    "Usando a abordagem randômica para gerar templates com foco em templates positivos e negativos. Uma possível aplicação seria testar a capacidade linguística *Vocabullary* com o teste **MFT**.\n",
    "\n",
    "As etapas desta abordagem são:\n",
    "\n",
    "1. Quebrar as instâncias em sentenças\n",
    "2. Selecionar uma amostra de *K* sentenças de forma aleatória\n",
    "3. Rankear as palavras de cada sentença\n",
    "4. Realizar as predições de cada sentença usando o *Oráculo*\n",
    "5. Substituir as palavras relevantes por máscaras"
   ]
  },
  {
   "cell_type": "code",
   "execution_count": 1,
   "id": "897c3a05",
   "metadata": {},
   "outputs": [],
   "source": [
    "%config Completer.use_jedi = False\n",
    "import sys\n",
    "import random\n",
    "\n",
    "sys.path.append('../')\n",
    "random.seed(220)"
   ]
  },
  {
   "cell_type": "markdown",
   "id": "6da847fc",
   "metadata": {},
   "source": [
    "## Carregando o dataset, o modelo alvo e os modelos auxiliares"
   ]
  },
  {
   "cell_type": "code",
   "execution_count": 2,
   "id": "f6e018fa",
   "metadata": {},
   "outputs": [
    {
     "data": {
      "text/html": [
       "<div>\n",
       "<style scoped>\n",
       "    .dataframe tbody tr th:only-of-type {\n",
       "        vertical-align: middle;\n",
       "    }\n",
       "\n",
       "    .dataframe tbody tr th {\n",
       "        vertical-align: top;\n",
       "    }\n",
       "\n",
       "    .dataframe thead th {\n",
       "        text-align: right;\n",
       "    }\n",
       "</style>\n",
       "<table border=\"1\" class=\"dataframe\">\n",
       "  <thead>\n",
       "    <tr style=\"text-align: right;\">\n",
       "      <th></th>\n",
       "      <th>label</th>\n",
       "      <th>text</th>\n",
       "      <th>words</th>\n",
       "    </tr>\n",
       "  </thead>\n",
       "  <tbody>\n",
       "    <tr>\n",
       "      <th>0</th>\n",
       "      <td>1</td>\n",
       "      <td>Christian Duguay directed this tidy little espionage thriller early in his career. It plays on TV pretty regularly, albeit with some terrific scenes of violence and sex unfortunately trimmed. I finally got around to seeing the theatrical version on a $3 tape from the local video store. Naval officer Aidan Quinn is recruited to impersonate the notorious Carlos the Jackal, and gets a little too caught up in the role. Donald Sutherland Ben Kingsley play Quinn's superiors, with Sutherland a true zealot and Kingsley as the more level-headed one. The first half of this fun flick shows Quinn being trained and indoctrinated. The second half has him out in the field, making love to the Jackal's woman and shooting it out with sundry enemies. The idea is to make the Jackal look like a turncoat to the Russians, and let them take care of the world's most notorious assassin. Things don't exactly play out as planned. At times, I almost expected the cast to break out laughing at some of the corny dialogue, but they all play it very straight. In the end, this is one terrific little thriller that deserves your attention. The Jackal's former mistress teaching the highly proper and very married Quinn to rough her up, lick blood from her face, and then go down on her, alone is worth the price of admission.</td>\n",
       "      <td>227</td>\n",
       "    </tr>\n",
       "    <tr>\n",
       "      <th>1</th>\n",
       "      <td>1</td>\n",
       "      <td>New Yorkers contemporaneous with this film will recall how reflective of its time it is and how well cast and crew captured America, New York City of that era.&lt;br /&gt;&lt;br /&gt;Norman Wexler's script delineates the different worlds the various sub groupings live in and Avildsen's direction brings out phenomenal performances all around. Peter Boyle's prodigious talent is on display as never before nor since. Clearly it is the best character portrayal the always likable Dennis Patrick ever accomplished.&lt;br /&gt;&lt;br /&gt;What I will always remember about JOE is the feeling of having been in a virtual state of shock coming out of the theater. Knowing that what the screen portrayed was seething under the surface in neighborhoods throughout the five boroughs of the City of New York.&lt;br /&gt;&lt;br /&gt;This film needs to be remembered.</td>\n",
       "      <td>133</td>\n",
       "    </tr>\n",
       "    <tr>\n",
       "      <th>2</th>\n",
       "      <td>0</td>\n",
       "      <td>I love oddball animation, I love a lot of Asian films, but I didn't love this particular product of Japan. The Fuccons are supposedly an American family (they're all mannequins) who have moved to Japan, and they're somewhat a 50's sitcom type family, with slightly more modern sensibilities at times. The DVD features several very short episodes (like less than 5 minutes each?) and I did not find it to be either funny or entertaining, not even in a weird way. I'm not sure what the appeal is of this. I did pick up on some satire here and there, gosh, who wouldn't, but satire is usually somewhat humorous, isn't it? And nothing I saw or heard rated even a little smirk. I picked this up used and it certainly SOUNDED appealing, but I guess either I'm missing the point or it's just plain LAME. The box even says it's Fuccon hilarious, right there on the front, but I beg to differ. 2 out of 10.</td>\n",
       "      <td>166</td>\n",
       "    </tr>\n",
       "    <tr>\n",
       "      <th>3</th>\n",
       "      <td>1</td>\n",
       "      <td>I have seen this film probably a dozen times since it was originally released theatrically. Anyone who calls this movie trash or horrible just doesn't understand action films or recognize a good one. Perhaps to some the incidents and outcomes may seem far fetched, but in my opinion screenwriter Shane Black ( Lethal Weapon/ Kiss Kiss Bang Bang) crafted one of the most well thought out action adventures you will ever come across. Over the top or not this film flows like clockwork and the action just keeps coming. The final action sequence is one of the best I have ever seen in any film. The cast in this film crackles. Genna Davis gave a tremendous performance and its a damn shame there was never a \"LKG\" sequel. Samuel L. Jackson is hilarious as her sidekick Mitch a down on his luck private eye trying to help her discover her lost past and make a few bucks. If Baffles me how anyone could not like this film. It packs so many thrills and its so funny. The wisecracks in this film still make me laugh just as hard 10 years later. In my mind the first Matrix film and the Long Kiss Goodnight were easily 2 of the best and most original action flicks of the 90's. Incidentally Shane Black made a fortune when he sold this script. At the time it was the highest selling screenplay and its worth every penny. It's so sad that audiences never gave this movie a chance, cause they would have witnessed Renny Harlins best film and Genna Davis like you have never seen her before. Long live \"The Long Kiss Goodnight\"!!</td>\n",
       "      <td>278</td>\n",
       "    </tr>\n",
       "    <tr>\n",
       "      <th>4</th>\n",
       "      <td>1</td>\n",
       "      <td>Don't mind what this socially retarded person above says, this show is hilarious. It shows how a lot of single men are in a bar atmosphere, and also shows that women are not as gullible as men think they are. &lt;br /&gt;&lt;br /&gt;The contest aspect of the how is really cool and original. Its not the standard reality show that we are all used to now a days.&lt;br /&gt;&lt;br /&gt;Give it a chance everyone, we are only one episode in, we finally have some Canadian programming that isn't absolute crap. As Canadians what do we normally get, Bon Cop, Bad Cop, or Corner Gas. Come on people show that we are all not as prudish as the previous reviewer.&lt;br /&gt;&lt;br /&gt;Way to go Comedy Network, giving a new show a chance. The panel is funny and the contestants so far are pretty good.</td>\n",
       "      <td>143</td>\n",
       "    </tr>\n",
       "  </tbody>\n",
       "</table>\n",
       "</div>"
      ],
      "text/plain": [
       "   label  \\\n",
       "0      1   \n",
       "1      1   \n",
       "2      0   \n",
       "3      1   \n",
       "4      1   \n",
       "\n",
       "                                                                                                                                                                                                                                                                                                                                                                                                                                                                                                                                                                                                                                                                                                                                                                                                                                                                                                                                                                                                                                                                                                                                                                                                                                                                                                                                                                                                                                                                                                                                                                             text  \\\n",
       "0                                                                                                                                                                                                                      Christian Duguay directed this tidy little espionage thriller early in his career. It plays on TV pretty regularly, albeit with some terrific scenes of violence and sex unfortunately trimmed. I finally got around to seeing the theatrical version on a $3 tape from the local video store. Naval officer Aidan Quinn is recruited to impersonate the notorious Carlos the Jackal, and gets a little too caught up in the role. Donald Sutherland Ben Kingsley play Quinn's superiors, with Sutherland a true zealot and Kingsley as the more level-headed one. The first half of this fun flick shows Quinn being trained and indoctrinated. The second half has him out in the field, making love to the Jackal's woman and shooting it out with sundry enemies. The idea is to make the Jackal look like a turncoat to the Russians, and let them take care of the world's most notorious assassin. Things don't exactly play out as planned. At times, I almost expected the cast to break out laughing at some of the corny dialogue, but they all play it very straight. In the end, this is one terrific little thriller that deserves your attention. The Jackal's former mistress teaching the highly proper and very married Quinn to rough her up, lick blood from her face, and then go down on her, alone is worth the price of admission.   \n",
       "1                                                                                                                                                                                                                                                                                                                                                                                                                                                                                                                                                                                                                                                                                                                            New Yorkers contemporaneous with this film will recall how reflective of its time it is and how well cast and crew captured America, New York City of that era.<br /><br />Norman Wexler's script delineates the different worlds the various sub groupings live in and Avildsen's direction brings out phenomenal performances all around. Peter Boyle's prodigious talent is on display as never before nor since. Clearly it is the best character portrayal the always likable Dennis Patrick ever accomplished.<br /><br />What I will always remember about JOE is the feeling of having been in a virtual state of shock coming out of the theater. Knowing that what the screen portrayed was seething under the surface in neighborhoods throughout the five boroughs of the City of New York.<br /><br />This film needs to be remembered.   \n",
       "2                                                                                                                                                                                                                                                                                                                                                                                                                                                                                                                                                                                                                                               I love oddball animation, I love a lot of Asian films, but I didn't love this particular product of Japan. The Fuccons are supposedly an American family (they're all mannequins) who have moved to Japan, and they're somewhat a 50's sitcom type family, with slightly more modern sensibilities at times. The DVD features several very short episodes (like less than 5 minutes each?) and I did not find it to be either funny or entertaining, not even in a weird way. I'm not sure what the appeal is of this. I did pick up on some satire here and there, gosh, who wouldn't, but satire is usually somewhat humorous, isn't it? And nothing I saw or heard rated even a little smirk. I picked this up used and it certainly SOUNDED appealing, but I guess either I'm missing the point or it's just plain LAME. The box even says it's Fuccon hilarious, right there on the front, but I beg to differ. 2 out of 10.   \n",
       "3  I have seen this film probably a dozen times since it was originally released theatrically. Anyone who calls this movie trash or horrible just doesn't understand action films or recognize a good one. Perhaps to some the incidents and outcomes may seem far fetched, but in my opinion screenwriter Shane Black ( Lethal Weapon/ Kiss Kiss Bang Bang) crafted one of the most well thought out action adventures you will ever come across. Over the top or not this film flows like clockwork and the action just keeps coming. The final action sequence is one of the best I have ever seen in any film. The cast in this film crackles. Genna Davis gave a tremendous performance and its a damn shame there was never a \"LKG\" sequel. Samuel L. Jackson is hilarious as her sidekick Mitch a down on his luck private eye trying to help her discover her lost past and make a few bucks. If Baffles me how anyone could not like this film. It packs so many thrills and its so funny. The wisecracks in this film still make me laugh just as hard 10 years later. In my mind the first Matrix film and the Long Kiss Goodnight were easily 2 of the best and most original action flicks of the 90's. Incidentally Shane Black made a fortune when he sold this script. At the time it was the highest selling screenplay and its worth every penny. It's so sad that audiences never gave this movie a chance, cause they would have witnessed Renny Harlins best film and Genna Davis like you have never seen her before. Long live \"The Long Kiss Goodnight\"!!   \n",
       "4                                                                                                                                                                                                                                                                                                                                                                                                                                                                                                                                                                                                                                                                                                                                                                                         Don't mind what this socially retarded person above says, this show is hilarious. It shows how a lot of single men are in a bar atmosphere, and also shows that women are not as gullible as men think they are. <br /><br />The contest aspect of the how is really cool and original. Its not the standard reality show that we are all used to now a days.<br /><br />Give it a chance everyone, we are only one episode in, we finally have some Canadian programming that isn't absolute crap. As Canadians what do we normally get, Bon Cop, Bad Cop, or Corner Gas. Come on people show that we are all not as prudish as the previous reviewer.<br /><br />Way to go Comedy Network, giving a new show a chance. The panel is funny and the contestants so far are pretty good.   \n",
       "\n",
       "   words  \n",
       "0    227  \n",
       "1    133  \n",
       "2    166  \n",
       "3    278  \n",
       "4    143  "
      ]
     },
     "execution_count": 2,
     "metadata": {},
     "output_type": "execute_result"
    }
   ],
   "source": [
    "import pandas as pd\n",
    "pd.set_option('display.max_colwidth', None)\n",
    "\n",
    "imdb_df = pd.read_csv('./data/imdb_sampled/data-100samples.csv')\n",
    "imdb_df.head(5)"
   ]
  },
  {
   "cell_type": "code",
   "execution_count": 3,
   "id": "264d0dcd",
   "metadata": {},
   "outputs": [],
   "source": [
    "import re\n",
    "import numpy as np\n",
    "from torch.nn.functional import softmax\n",
    "from transformers import AutoTokenizer, AutoModelForSequenceClassification\n",
    "\n",
    "def pre_proccess(text):\n",
    "    text = text.lower()\n",
    "    text = re.sub('[\"\\',!-.:-@0-9/]()', ' ', text)\n",
    "    return text\n",
    "\n",
    "# Wrapper to adapt output format\n",
    "class SentimentAnalisysModelWrapper:\n",
    "    def __init__(self, model, tokenizer):\n",
    "        self.model = model\n",
    "        self.tokenizer = tokenizer\n",
    "        \n",
    "    def __predict(self, text_input):\n",
    "        text_preprocessed = pre_proccess(text_input)\n",
    "        tokenized = self.tokenizer(text_preprocessed, padding=True, truncation=True, max_length=512, \n",
    "                                    add_special_tokens = True, return_tensors=\"pt\")\n",
    "        \n",
    "        tensor_logits = self.model(**tokenized)\n",
    "        prob = softmax(tensor_logits[0]).detach().numpy()\n",
    "        pred = np.argmax(prob)\n",
    "        \n",
    "        return pred, prob\n",
    "    \n",
    "    def predict_label(self, text_inputs):\n",
    "        return self.predict(text_inputs)[0]\n",
    "        \n",
    "    def predict_proba(self, text_inputs):\n",
    "        return self.predict(text_inputs)[1]\n",
    "        \n",
    "    def predict(self, text_inputs):\n",
    "        if isinstance(text_inputs, str):\n",
    "            text_inputs = [text_inputs]\n",
    "        \n",
    "        preds = []\n",
    "        probs = []\n",
    "\n",
    "        for text_input in text_inputs:\n",
    "            pred, prob = self.__predict(text_input)\n",
    "            preds.append(pred)\n",
    "            probs.append(prob[0])\n",
    "\n",
    "        return np.array(preds), np.array(probs) # ([0, 1], [[0.99, 0.01], [0.03, 0.97]])\n",
    "\n",
    "# Auxiliar function to load and wrap a model from Hugging Face\n",
    "def load_model(model_name):\n",
    "    print(f'Loading model {model_name}...')\n",
    "    model = AutoModelForSequenceClassification.from_pretrained(model_name)\n",
    "    tokenizer = AutoTokenizer.from_pretrained(model_name)\n",
    "    \n",
    "    return SentimentAnalisysModelWrapper(model, tokenizer)\n",
    "\n",
    "# Hugging Face hosted model names \n",
    "imdb_models = {\n",
    "    'bert': 'textattack/bert-base-uncased-imdb', \n",
    "    'albert': 'textattack/albert-base-v2-imdb', \n",
    "    'distilbert': 'textattack/distilbert-base-uncased-imdb', \n",
    "    'roberta': 'textattack/roberta-base-imdb', \n",
    "    'xlnet': 'textattack/xlnet-base-cased-imdb'\n",
    "}"
   ]
  },
  {
   "cell_type": "code",
   "execution_count": 4,
   "id": "2f271eae",
   "metadata": {},
   "outputs": [
    {
     "name": "stdout",
     "output_type": "stream",
     "text": [
      "Loading model textattack/albert-base-v2-imdb...\n",
      "Loading model textattack/distilbert-base-uncased-imdb...\n",
      "Loading model textattack/roberta-base-imdb...\n"
     ]
    },
    {
     "name": "stderr",
     "output_type": "stream",
     "text": [
      "Some weights of the model checkpoint at textattack/roberta-base-imdb were not used when initializing RobertaForSequenceClassification: ['roberta.pooler.dense.bias', 'roberta.pooler.dense.weight']\n",
      "- This IS expected if you are initializing RobertaForSequenceClassification from the checkpoint of a model trained on another task or with another architecture (e.g. initializing a BertForSequenceClassification model from a BertForPreTraining model).\n",
      "- This IS NOT expected if you are initializing RobertaForSequenceClassification from the checkpoint of a model that you expect to be exactly identical (initializing a BertForSequenceClassification model from a BertForSequenceClassification model).\n"
     ]
    },
    {
     "name": "stdout",
     "output_type": "stream",
     "text": [
      "Loading model textattack/xlnet-base-cased-imdb...\n",
      "Loading model textattack/bert-base-uncased-imdb...\n"
     ]
    }
   ],
   "source": [
    "m1 = load_model(imdb_models['albert'])\n",
    "m2 = load_model(imdb_models['distilbert'])\n",
    "m3 = load_model(imdb_models['roberta'])\n",
    "m4 = load_model(imdb_models['xlnet'])\n",
    "\n",
    "# Models to be used as oracle\n",
    "models = [m1, m2, m3, m4]\n",
    "# Target model\n",
    "model = load_model(imdb_models['bert'])"
   ]
  },
  {
   "cell_type": "markdown",
   "id": "caae89b5",
   "metadata": {},
   "source": [
    "# Gerando os templates\n",
    "O método de rankeamento das palavras usado no PosNegTemplateGenerator é o Replace-1 Score"
   ]
  },
  {
   "cell_type": "code",
   "execution_count": 5,
   "id": "60dc1af3",
   "metadata": {},
   "outputs": [],
   "source": [
    "from template_generator_static_lex.tasks.sentiment_analisys import PosNegTemplateGeneratorRandom\n",
    "\n",
    "tg = PosNegTemplateGeneratorRandom(model, models)"
   ]
  },
  {
   "cell_type": "markdown",
   "id": "4f595e69",
   "metadata": {},
   "source": [
    "### Número inicial de instâncias: 5"
   ]
  },
  {
   "cell_type": "code",
   "execution_count": 6,
   "id": "a6261506",
   "metadata": {},
   "outputs": [],
   "source": [
    "# Sampling instances\n",
    "np.random.seed(220)\n",
    "n_instances = 5\n",
    "df_sampled = imdb_df.sample(n_instances)\n",
    "\n",
    "instances = [x for x in df_sampled['text'].values]"
   ]
  },
  {
   "cell_type": "code",
   "execution_count": 7,
   "id": "660add17",
   "metadata": {},
   "outputs": [
    {
     "name": "stdout",
     "output_type": "stream",
     "text": [
      "Converting texts to sentences...\n",
      ":: 40 sentences were generated.\n",
      "Ranking words using Replace-1 Score...\n"
     ]
    },
    {
     "name": "stderr",
     "output_type": "stream",
     "text": [
      "/tmp/ipykernel_10317/1179770237.py:23: UserWarning: Implicit dimension choice for softmax has been deprecated. Change the call to include dim=X as an argument.\n",
      "  prob = softmax(tensor_logits[0]).detach().numpy()\n"
     ]
    },
    {
     "name": "stdout",
     "output_type": "stream",
     "text": [
      ":: Word ranking done.\n",
      "Predicting inputs...\n",
      ":: Sentence predictions done.\n"
     ]
    }
   ],
   "source": [
    "templates = tg.generate_templates(instances, n_masks=2, k_templates=1)"
   ]
  },
  {
   "cell_type": "markdown",
   "id": "0ff5c8cb",
   "metadata": {},
   "source": [
    "#### Tempo de execução para 5 instâncias: 0m 3.1s"
   ]
  },
  {
   "cell_type": "code",
   "execution_count": 8,
   "id": "193f1b65",
   "metadata": {},
   "outputs": [
    {
     "data": {
      "text/html": [
       "<div>\n",
       "<style scoped>\n",
       "    .dataframe tbody tr th:only-of-type {\n",
       "        vertical-align: middle;\n",
       "    }\n",
       "\n",
       "    .dataframe tbody tr th {\n",
       "        vertical-align: top;\n",
       "    }\n",
       "\n",
       "    .dataframe thead th {\n",
       "        text-align: right;\n",
       "    }\n",
       "</style>\n",
       "<table border=\"1\" class=\"dataframe\">\n",
       "  <thead>\n",
       "    <tr style=\"text-align: right;\">\n",
       "      <th></th>\n",
       "      <th>label</th>\n",
       "      <th>original_text</th>\n",
       "      <th>masked_text</th>\n",
       "      <th>template_text</th>\n",
       "    </tr>\n",
       "  </thead>\n",
       "  <tbody>\n",
       "    <tr>\n",
       "      <th>0</th>\n",
       "      <td>1</td>\n",
       "      <td>Lady and the Tramp II: Scamp's Adventure is a cool movie that many kids today can really relate to.</td>\n",
       "      <td>Lady and the Tramp II : Scamp 's Adventure is a {mask} movie that {mask} kids today can really relate to .</td>\n",
       "      <td>Lady and the Tramp II : Scamp 's Adventure is a {pos_adj} movie that {neg_adj} kids today can really relate to .</td>\n",
       "    </tr>\n",
       "  </tbody>\n",
       "</table>\n",
       "</div>"
      ],
      "text/plain": [
       "   label  \\\n",
       "0      1   \n",
       "\n",
       "                                                                                         original_text  \\\n",
       "0  Lady and the Tramp II: Scamp's Adventure is a cool movie that many kids today can really relate to.   \n",
       "\n",
       "                                                                                                  masked_text  \\\n",
       "0  Lady and the Tramp II : Scamp 's Adventure is a {mask} movie that {mask} kids today can really relate to .   \n",
       "\n",
       "                                                                                                      template_text  \n",
       "0  Lady and the Tramp II : Scamp 's Adventure is a {pos_adj} movie that {neg_adj} kids today can really relate to .  "
      ]
     },
     "execution_count": 8,
     "metadata": {},
     "output_type": "execute_result"
    }
   ],
   "source": [
    "df = tg.to_dataframe()\n",
    "df"
   ]
  },
  {
   "cell_type": "code",
   "execution_count": 9,
   "id": "c03851be",
   "metadata": {},
   "outputs": [
    {
     "data": {
      "text/plain": [
       "{'pos_verb': [], 'neg_verb': [], 'pos_adj': ['cool'], 'neg_adj': ['many']}"
      ]
     },
     "execution_count": 9,
     "metadata": {},
     "output_type": "execute_result"
    }
   ],
   "source": [
    "tg.lexicons"
   ]
  },
  {
   "cell_type": "markdown",
   "id": "01a27f1f",
   "metadata": {},
   "source": [
    "### Número inicial de instâncias: 100"
   ]
  },
  {
   "cell_type": "code",
   "execution_count": 10,
   "id": "cd4a7fe3",
   "metadata": {},
   "outputs": [],
   "source": [
    "# Using all 100 instances\n",
    "instances = [x for x in imdb_df['text'].values]"
   ]
  },
  {
   "cell_type": "code",
   "execution_count": 11,
   "id": "f1f3f383",
   "metadata": {},
   "outputs": [
    {
     "name": "stdout",
     "output_type": "stream",
     "text": [
      "Converting texts to sentences...\n",
      ":: 852 sentences were generated.\n",
      "Ranking words using Replace-1 Score...\n"
     ]
    },
    {
     "name": "stderr",
     "output_type": "stream",
     "text": [
      "/tmp/ipykernel_10317/1179770237.py:23: UserWarning: Implicit dimension choice for softmax has been deprecated. Change the call to include dim=X as an argument.\n",
      "  prob = softmax(tensor_logits[0]).detach().numpy()\n"
     ]
    },
    {
     "name": "stdout",
     "output_type": "stream",
     "text": [
      ":: Word ranking done.\n",
      "Predicting inputs...\n",
      ":: Sentence predictions done.\n",
      "CPU times: user 18min 12s, sys: 1.64 s, total: 18min 14s\n",
      "Wall time: 2min 1s\n"
     ]
    }
   ],
   "source": [
    "%%time\n",
    "# 2min 1.1s\n",
    "tg = PosNegTemplateGeneratorRandom(model, models)\n",
    "templates = tg.generate_templates(instances, n_masks=2, k_templates=18)"
   ]
  },
  {
   "cell_type": "markdown",
   "id": "677154d8",
   "metadata": {},
   "source": [
    "#### Tempo de execução para 100 instâncias: 1m 10.3s"
   ]
  },
  {
   "cell_type": "code",
   "execution_count": 12,
   "id": "5c3c1541",
   "metadata": {},
   "outputs": [
    {
     "data": {
      "text/html": [
       "<div>\n",
       "<style scoped>\n",
       "    .dataframe tbody tr th:only-of-type {\n",
       "        vertical-align: middle;\n",
       "    }\n",
       "\n",
       "    .dataframe tbody tr th {\n",
       "        vertical-align: top;\n",
       "    }\n",
       "\n",
       "    .dataframe thead th {\n",
       "        text-align: right;\n",
       "    }\n",
       "</style>\n",
       "<table border=\"1\" class=\"dataframe\">\n",
       "  <thead>\n",
       "    <tr style=\"text-align: right;\">\n",
       "      <th></th>\n",
       "      <th>template_index</th>\n",
       "      <th>label</th>\n",
       "      <th>original_text</th>\n",
       "      <th>masked_text</th>\n",
       "      <th>template_text</th>\n",
       "    </tr>\n",
       "  </thead>\n",
       "  <tbody>\n",
       "    <tr>\n",
       "      <th>0</th>\n",
       "      <td>1</td>\n",
       "      <td>1</td>\n",
       "      <td>/&gt;&lt;br /&gt;'Mildred Roper' (Yootha Joyce) is keen to ascertain whether or not her slovenly husband 'George' (Brian Murphy) has remembered their wedding anniversary.</td>\n",
       "      <td>/&gt;&lt;br /&gt;'Mildred Roper ' ( Yootha Joyce ) is keen to ascertain whether or not her {mask} husband ' George ' ( Brian Murphy ) has {mask} their wedding anniversary .</td>\n",
       "      <td>/&gt;&lt;br /&gt;'Mildred Roper ' ( Yootha Joyce ) is keen to ascertain whether or not her {neg_adj} husband ' George ' ( Brian Murphy ) has {pos_verb} their wedding anniversary .</td>\n",
       "    </tr>\n",
       "    <tr>\n",
       "      <th>1</th>\n",
       "      <td>2</td>\n",
       "      <td>0</td>\n",
       "      <td>This movie purports to be a character study of perversion.</td>\n",
       "      <td>This movie {mask} to be a character study of perversion .</td>\n",
       "      <td>This movie {neg_verb} to be a character study of perversion .</td>\n",
       "    </tr>\n",
       "    <tr>\n",
       "      <th>2</th>\n",
       "      <td>3</td>\n",
       "      <td>0</td>\n",
       "      <td>This is the worst horror movie I've seen in a long time, and I've watched a lot of horror movies.</td>\n",
       "      <td>This is the {mask} horror movie I 've {mask} in a long time , and I 've watched a lot of horror movies .</td>\n",
       "      <td>This is the {neg_adj} horror movie I 've {neg_verb} in a long time , and I 've watched a lot of horror movies .</td>\n",
       "    </tr>\n",
       "    <tr>\n",
       "      <th>3</th>\n",
       "      <td>4</td>\n",
       "      <td>0</td>\n",
       "      <td>Lisa looks like she'd rather be anywhere else, and since she wasn't any talent, I wonder why they kept her.</td>\n",
       "      <td>Lisa {mask} like she 'd rather be anywhere else , and since she was n't any talent , I {mask} why they kept her .</td>\n",
       "      <td>Lisa {neg_verb} like she 'd rather be anywhere else , and since she was n't any talent , I {neg_verb} why they kept her .</td>\n",
       "    </tr>\n",
       "    <tr>\n",
       "      <th>4</th>\n",
       "      <td>5</td>\n",
       "      <td>0</td>\n",
       "      <td>Didn't this guy, this director, if you can call him that, realize that the first Problem Child was bad enough?</td>\n",
       "      <td>Did n't this guy , this director , if you can call him that , {mask} that the first Problem Child was {mask} enough ?</td>\n",
       "      <td>Did n't this guy , this director , if you can call him that , {pos_verb} that the first Problem Child was {neg_adj} enough ?</td>\n",
       "    </tr>\n",
       "    <tr>\n",
       "      <th>5</th>\n",
       "      <td>6</td>\n",
       "      <td>0</td>\n",
       "      <td>How pathetic....</td>\n",
       "      <td>How {mask} ....</td>\n",
       "      <td>How {neg_adj} ....</td>\n",
       "    </tr>\n",
       "    <tr>\n",
       "      <th>6</th>\n",
       "      <td>7</td>\n",
       "      <td>1</td>\n",
       "      <td>To a degree this evoked Michael Moore's recent work (although Nossiter operates in a more subtle way), but probably the roots of the film go back to Marcel Ophuls' \"The Sorrow and the Pity\", both in the way the film is constructed and in the emergence of 'salt of the earth' French peasants as the stars.</td>\n",
       "      <td>To a degree this {mask} Michael Moore 's recent work ( although Nossiter operates in a more subtle way ) , but probably the roots of the film go back to Marcel Ophuls ' \" The Sorrow and the Pity \" , both in the way the film is constructed and in the emergence of ' salt of the earth ' {mask} peasants as the stars .</td>\n",
       "      <td>To a degree this {pos_verb} Michael Moore 's recent work ( although Nossiter operates in a more subtle way ) , but probably the roots of the film go back to Marcel Ophuls ' \" The Sorrow and the Pity \" , both in the way the film is constructed and in the emergence of ' salt of the earth ' {pos_adj} peasants as the stars .</td>\n",
       "    </tr>\n",
       "    <tr>\n",
       "      <th>7</th>\n",
       "      <td>8</td>\n",
       "      <td>1</td>\n",
       "      <td>But it's pure fun, it looks great, and remains light without mocking itself.</td>\n",
       "      <td>But it 's {mask} fun , it looks great , and remains light without {mask} itself .</td>\n",
       "      <td>But it 's {pos_adj} fun , it looks great , and remains light without {neg_verb} itself .</td>\n",
       "    </tr>\n",
       "    <tr>\n",
       "      <th>8</th>\n",
       "      <td>9</td>\n",
       "      <td>0</td>\n",
       "      <td>/&gt;The simple fact is that Saw is riddled with plot holes.</td>\n",
       "      <td>/&gt;The {mask} fact is that Saw is {mask} with plot holes .</td>\n",
       "      <td>/&gt;The {pos_adj} fact is that Saw is {neg_verb} with plot holes .</td>\n",
       "    </tr>\n",
       "    <tr>\n",
       "      <th>9</th>\n",
       "      <td>10</td>\n",
       "      <td>1</td>\n",
       "      <td>... a recommendation!</td>\n",
       "      <td>... a recommendation !</td>\n",
       "      <td>... a recommendation !</td>\n",
       "    </tr>\n",
       "    <tr>\n",
       "      <th>10</th>\n",
       "      <td>11</td>\n",
       "      <td>1</td>\n",
       "      <td>Yes 1939/Robert Donat-Greer Garson version was the best...</td>\n",
       "      <td>Yes 1939 / Robert Donat - Greer Garson version was the {mask} ...</td>\n",
       "      <td>Yes 1939 / Robert Donat - Greer Garson version was the {pos_adj} ...</td>\n",
       "    </tr>\n",
       "    <tr>\n",
       "      <th>11</th>\n",
       "      <td>12</td>\n",
       "      <td>1</td>\n",
       "      <td>In other words - this beautiful lady was sacrificed for a pun.&lt;br /&gt;&lt;br /&gt;Müllers Büro is also one of the very rare examples of films with funny sex scenes.</td>\n",
       "      <td>In other words - this beautiful lady was sacrificed for a pun.&lt;br /&gt;&lt;br /&gt;Müllers Büro is also one of the very {mask} examples of films with {mask} sex scenes .</td>\n",
       "      <td>In other words - this beautiful lady was sacrificed for a pun.&lt;br /&gt;&lt;br /&gt;Müllers Büro is also one of the very {pos_adj} examples of films with {neg_adj} sex scenes .</td>\n",
       "    </tr>\n",
       "    <tr>\n",
       "      <th>12</th>\n",
       "      <td>13</td>\n",
       "      <td>0</td>\n",
       "      <td>I certainly wasn't.&lt;br /&gt;&lt;br</td>\n",
       "      <td>I certainly {mask} /&gt;&lt;br</td>\n",
       "      <td>I certainly {neg_verb} /&gt;&lt;br</td>\n",
       "    </tr>\n",
       "    <tr>\n",
       "      <th>13</th>\n",
       "      <td>14</td>\n",
       "      <td>0</td>\n",
       "      <td>/&gt;Michael Keaton plays the convict in one of many disappointing aspects of the film.</td>\n",
       "      <td>/&gt;Michael Keaton plays the convict in one of {mask} {mask} aspects of the film .</td>\n",
       "      <td>/&gt;Michael Keaton plays the convict in one of {neg_adj} {neg_adj} aspects of the film .</td>\n",
       "    </tr>\n",
       "    <tr>\n",
       "      <th>14</th>\n",
       "      <td>15</td>\n",
       "      <td>0</td>\n",
       "      <td>You have to see it to believe it.. a matrix + terminator + a host of other movies rolled into one, along with a storyline dating back to 1980's Hindi movies, with a icchadhari naag (a mythical snake which can turn into a human).&lt;br</td>\n",
       "      <td>You {mask} to {mask} it to believe it .. a matrix + terminator + a host of other movies rolled into one , along with a storyline dating back to 1980 's Hindi movies , with a icchadhari naag ( a mythical snake which can turn into a human).&lt;br</td>\n",
       "      <td>You {neg_verb} to {neg_verb} it to believe it .. a matrix + terminator + a host of other movies rolled into one , along with a storyline dating back to 1980 's Hindi movies , with a icchadhari naag ( a mythical snake which can turn into a human).&lt;br</td>\n",
       "    </tr>\n",
       "    <tr>\n",
       "      <th>15</th>\n",
       "      <td>16</td>\n",
       "      <td>1</td>\n",
       "      <td>If you think conspiracy theories are for paranoid disturbed people, this could change your mind.</td>\n",
       "      <td>If you {mask} conspiracy theories are for paranoid disturbed people , this could {mask} your mind .</td>\n",
       "      <td>If you {neg_verb} conspiracy theories are for paranoid disturbed people , this could {neg_verb} your mind .</td>\n",
       "    </tr>\n",
       "    <tr>\n",
       "      <th>16</th>\n",
       "      <td>17</td>\n",
       "      <td>0</td>\n",
       "      <td>There are more killings and violence usually associated with Lone Ranger adventures and the film has an undercurrent of racial insensitivity, the comments of which are sprinkled throughout the screenplay.</td>\n",
       "      <td>There {mask} more killings and violence usually associated with Lone Ranger adventures and the film has an undercurrent of {mask} insensitivity , the comments of which are sprinkled throughout the screenplay .</td>\n",
       "      <td>There {neg_verb} more killings and violence usually associated with Lone Ranger adventures and the film has an undercurrent of {neg_adj} insensitivity , the comments of which are sprinkled throughout the screenplay .</td>\n",
       "    </tr>\n",
       "    <tr>\n",
       "      <th>17</th>\n",
       "      <td>18</td>\n",
       "      <td>0</td>\n",
       "      <td>That all ended seconds into the film when the \"MTV\" logo appeared.</td>\n",
       "      <td>That all {mask} seconds into the film when the \" MTV \" logo {mask} .</td>\n",
       "      <td>That all {pos_verb} seconds into the film when the \" MTV \" logo {neg_verb} .</td>\n",
       "    </tr>\n",
       "  </tbody>\n",
       "</table>\n",
       "</div>"
      ],
      "text/plain": [
       "    template_index  label  \\\n",
       "0                1      1   \n",
       "1                2      0   \n",
       "2                3      0   \n",
       "3                4      0   \n",
       "4                5      0   \n",
       "5                6      0   \n",
       "6                7      1   \n",
       "7                8      1   \n",
       "8                9      0   \n",
       "9               10      1   \n",
       "10              11      1   \n",
       "11              12      1   \n",
       "12              13      0   \n",
       "13              14      0   \n",
       "14              15      0   \n",
       "15              16      1   \n",
       "16              17      0   \n",
       "17              18      0   \n",
       "\n",
       "                                                                                                                                                                                                                                                                                                       original_text  \\\n",
       "0                                                                                                                                                  /><br />'Mildred Roper' (Yootha Joyce) is keen to ascertain whether or not her slovenly husband 'George' (Brian Murphy) has remembered their wedding anniversary.   \n",
       "1                                                                                                                                                                                                                                                         This movie purports to be a character study of perversion.   \n",
       "2                                                                                                                                                                                                                  This is the worst horror movie I've seen in a long time, and I've watched a lot of horror movies.   \n",
       "3                                                                                                                                                                                                        Lisa looks like she'd rather be anywhere else, and since she wasn't any talent, I wonder why they kept her.   \n",
       "4                                                                                                                                                                                                     Didn't this guy, this director, if you can call him that, realize that the first Problem Child was bad enough?   \n",
       "5                                                                                                                                                                                                                                                                                                   How pathetic....   \n",
       "6   To a degree this evoked Michael Moore's recent work (although Nossiter operates in a more subtle way), but probably the roots of the film go back to Marcel Ophuls' \"The Sorrow and the Pity\", both in the way the film is constructed and in the emergence of 'salt of the earth' French peasants as the stars.   \n",
       "7                                                                                                                                                                                                                                       But it's pure fun, it looks great, and remains light without mocking itself.   \n",
       "8                                                                                                                                                                                                                                                          />The simple fact is that Saw is riddled with plot holes.   \n",
       "9                                                                                                                                                                                                                                                                                              ... a recommendation!   \n",
       "10                                                                                                                                                                                                                                                        Yes 1939/Robert Donat-Greer Garson version was the best...   \n",
       "11                                                                                                                                                      In other words - this beautiful lady was sacrificed for a pun.<br /><br />Müllers Büro is also one of the very rare examples of films with funny sex scenes.   \n",
       "12                                                                                                                                                                                                                                                                                      I certainly wasn't.<br /><br   \n",
       "13                                                                                                                                                                                                                              />Michael Keaton plays the convict in one of many disappointing aspects of the film.   \n",
       "14                                                                           You have to see it to believe it.. a matrix + terminator + a host of other movies rolled into one, along with a storyline dating back to 1980's Hindi movies, with a icchadhari naag (a mythical snake which can turn into a human).<br   \n",
       "15                                                                                                                                                                                                                  If you think conspiracy theories are for paranoid disturbed people, this could change your mind.   \n",
       "16                                                                                                      There are more killings and violence usually associated with Lone Ranger adventures and the film has an undercurrent of racial insensitivity, the comments of which are sprinkled throughout the screenplay.   \n",
       "17                                                                                                                                                                                                                                                That all ended seconds into the film when the \"MTV\" logo appeared.   \n",
       "\n",
       "                                                                                                                                                                                                                                                                                                                    masked_text  \\\n",
       "0                                                                                                                                                           /><br />'Mildred Roper ' ( Yootha Joyce ) is keen to ascertain whether or not her {mask} husband ' George ' ( Brian Murphy ) has {mask} their wedding anniversary .   \n",
       "1                                                                                                                                                                                                                                                                     This movie {mask} to be a character study of perversion .   \n",
       "2                                                                                                                                                                                                                      This is the {mask} horror movie I 've {mask} in a long time , and I 've watched a lot of horror movies .   \n",
       "3                                                                                                                                                                                                             Lisa {mask} like she 'd rather be anywhere else , and since she was n't any talent , I {mask} why they kept her .   \n",
       "4                                                                                                                                                                                                         Did n't this guy , this director , if you can call him that , {mask} that the first Problem Child was {mask} enough ?   \n",
       "5                                                                                                                                                                                                                                                                                                               How {mask} ....   \n",
       "6   To a degree this {mask} Michael Moore 's recent work ( although Nossiter operates in a more subtle way ) , but probably the roots of the film go back to Marcel Ophuls ' \" The Sorrow and the Pity \" , both in the way the film is constructed and in the emergence of ' salt of the earth ' {mask} peasants as the stars .   \n",
       "7                                                                                                                                                                                                                                             But it 's {mask} fun , it looks great , and remains light without {mask} itself .   \n",
       "8                                                                                                                                                                                                                                                                     />The {mask} fact is that Saw is {mask} with plot holes .   \n",
       "9                                                                                                                                                                                                                                                                                                        ... a recommendation !   \n",
       "10                                                                                                                                                                                                                                                            Yes 1939 / Robert Donat - Greer Garson version was the {mask} ...   \n",
       "11                                                                                                                                                             In other words - this beautiful lady was sacrificed for a pun.<br /><br />Müllers Büro is also one of the very {mask} examples of films with {mask} sex scenes .   \n",
       "12                                                                                                                                                                                                                                                                                                     I certainly {mask} /><br   \n",
       "13                                                                                                                                                                                                                                             />Michael Keaton plays the convict in one of {mask} {mask} aspects of the film .   \n",
       "14                                                                            You {mask} to {mask} it to believe it .. a matrix + terminator + a host of other movies rolled into one , along with a storyline dating back to 1980 's Hindi movies , with a icchadhari naag ( a mythical snake which can turn into a human).<br   \n",
       "15                                                                                                                                                                                                                          If you {mask} conspiracy theories are for paranoid disturbed people , this could {mask} your mind .   \n",
       "16                                                                                                            There {mask} more killings and violence usually associated with Lone Ranger adventures and the film has an undercurrent of {mask} insensitivity , the comments of which are sprinkled throughout the screenplay .   \n",
       "17                                                                                                                                                                                                                                                         That all {mask} seconds into the film when the \" MTV \" logo {mask} .   \n",
       "\n",
       "                                                                                                                                                                                                                                                                                                                         template_text  \n",
       "0                                                                                                                                                           /><br />'Mildred Roper ' ( Yootha Joyce ) is keen to ascertain whether or not her {neg_adj} husband ' George ' ( Brian Murphy ) has {pos_verb} their wedding anniversary .  \n",
       "1                                                                                                                                                                                                                                                                        This movie {neg_verb} to be a character study of perversion .  \n",
       "2                                                                                                                                                                                                                      This is the {neg_adj} horror movie I 've {neg_verb} in a long time , and I 've watched a lot of horror movies .  \n",
       "3                                                                                                                                                                                                            Lisa {neg_verb} like she 'd rather be anywhere else , and since she was n't any talent , I {neg_verb} why they kept her .  \n",
       "4                                                                                                                                                                                                         Did n't this guy , this director , if you can call him that , {pos_verb} that the first Problem Child was {neg_adj} enough ?  \n",
       "5                                                                                                                                                                                                                                                                                                                   How {neg_adj} ....  \n",
       "6   To a degree this {pos_verb} Michael Moore 's recent work ( although Nossiter operates in a more subtle way ) , but probably the roots of the film go back to Marcel Ophuls ' \" The Sorrow and the Pity \" , both in the way the film is constructed and in the emergence of ' salt of the earth ' {pos_adj} peasants as the stars .  \n",
       "7                                                                                                                                                                                                                                             But it 's {pos_adj} fun , it looks great , and remains light without {neg_verb} itself .  \n",
       "8                                                                                                                                                                                                                                                                     />The {pos_adj} fact is that Saw is {neg_verb} with plot holes .  \n",
       "9                                                                                                                                                                                                                                                                                                               ... a recommendation !  \n",
       "10                                                                                                                                                                                                                                                                Yes 1939 / Robert Donat - Greer Garson version was the {pos_adj} ...  \n",
       "11                                                                                                                                                              In other words - this beautiful lady was sacrificed for a pun.<br /><br />Müllers Büro is also one of the very {pos_adj} examples of films with {neg_adj} sex scenes .  \n",
       "12                                                                                                                                                                                                                                                                                                        I certainly {neg_verb} /><br  \n",
       "13                                                                                                                                                                                                                                              />Michael Keaton plays the convict in one of {neg_adj} {neg_adj} aspects of the film .  \n",
       "14                                                                           You {neg_verb} to {neg_verb} it to believe it .. a matrix + terminator + a host of other movies rolled into one , along with a storyline dating back to 1980 's Hindi movies , with a icchadhari naag ( a mythical snake which can turn into a human).<br  \n",
       "15                                                                                                                                                                                                                         If you {neg_verb} conspiracy theories are for paranoid disturbed people , this could {neg_verb} your mind .  \n",
       "16                                                                                                            There {neg_verb} more killings and violence usually associated with Lone Ranger adventures and the film has an undercurrent of {neg_adj} insensitivity , the comments of which are sprinkled throughout the screenplay .  \n",
       "17                                                                                                                                                                                                                                                        That all {pos_verb} seconds into the film when the \" MTV \" logo {neg_verb} .  "
      ]
     },
     "execution_count": 12,
     "metadata": {},
     "output_type": "execute_result"
    }
   ],
   "source": [
    "df_templates = tg.to_dataframe()\n",
    "df_templates.insert(0, \"template_index\", df_templates.index.map(lambda x: int(x)+1))\n",
    "df_templates"
   ]
  },
  {
   "cell_type": "code",
   "execution_count": 13,
   "metadata": {},
   "outputs": [],
   "source": [
    "df_templates.to_csv(\"generated_templates/generated_templates_random.csv\")"
   ]
  },
  {
   "cell_type": "code",
   "execution_count": 14,
   "id": "0b26cf4e",
   "metadata": {},
   "outputs": [
    {
     "name": "stdout",
     "output_type": "stream",
     "text": [
      "{'pos_verb': ['ended', 'remembered', 'evoked', 'realize'], 'neg_verb': ['change', 'looks', 'wonder', 'have', 'seen', 'mocking', 'see', \"wasn't.<br\", 'purports', 'think', 'are', 'appeared', 'riddled'], 'pos_adj': ['pure', 'simple', 'rare', 'best', 'French'], 'neg_adj': ['worst', 'bad', 'racial', 'pathetic', 'disappointing', 'funny', 'slovenly', 'many']}\n"
     ]
    }
   ],
   "source": [
    "print(tg.lexicons)"
   ]
  },
  {
   "cell_type": "markdown",
   "id": "9b218563",
   "metadata": {},
   "source": [
    "# Usando os templates gerados pelo TemplateGenerator no CheckList"
   ]
  },
  {
   "cell_type": "code",
   "execution_count": 5,
   "id": "535bea1b",
   "metadata": {},
   "outputs": [],
   "source": [
    "from checklist.editor import Editor\n",
    "from checklist.test_suite import TestSuite\n",
    "from checklist.test_types import MFT"
   ]
  },
  {
   "cell_type": "code",
   "execution_count": 6,
   "metadata": {},
   "outputs": [],
   "source": [
    "lexicons = {'pos_verb': ['evoked', 'celebrating', 'loved', 'shares', 'carries', 'enjoy'],\n",
    " 'neg_verb': ['withered',\n",
    "  'simpering',\n",
    "  'squanders',\n",
    "  'dismissed',\n",
    "  'removed',\n",
    "  'undermines',\n",
    "  'avoids'],\n",
    " 'pos_adj': ['wonderful',\n",
    "  'notch',\n",
    "  'timeless',\n",
    "  'phenomenal',\n",
    "  'powerful',\n",
    "  'terrific',\n",
    "  'funny',\n",
    "  'engrossing',\n",
    "  'passionate',\n",
    "  'tender',\n",
    "  'worth',\n",
    "  'breathtaking',\n",
    "  'successful',\n",
    "  'brilliant'],\n",
    " 'neg_adj': ['undeterminable',\n",
    "  'preposterous',\n",
    "  'drunk',\n",
    "  'tiresome',\n",
    "  'bad',\n",
    "  'stupid',\n",
    "  'psychopathic',\n",
    "  'unpretentious',\n",
    "  'dumb',\n",
    "  'cumbersome',\n",
    "  'manipulative',\n",
    "  'nasty',\n",
    "  'sensitive',\n",
    "  'off']}"
   ]
  },
  {
   "cell_type": "code",
   "execution_count": 7,
   "id": "247a1227",
   "metadata": {},
   "outputs": [],
   "source": [
    "df = pd.read_csv(\"generated_templates/generated_templates_random.csv\")\n",
    "\n",
    "templates = df[\"template_text\"].to_list()\n",
    "masked = df[\"masked_text\"].to_list()\n",
    "labels = df[\"label\"].to_list()\n",
    "\n",
    "editor = Editor()\n",
    "editor.add_lexicon('pos_verb', lexicons['pos_verb'])\n",
    "editor.add_lexicon('neg_verb', lexicons['neg_verb'])\n",
    "editor.add_lexicon('pos_adj', lexicons['pos_adj'])\n",
    "editor.add_lexicon('neg_adj', lexicons['neg_adj'])\n",
    "\n",
    "suite = TestSuite()"
   ]
  },
  {
   "cell_type": "code",
   "execution_count": 8,
   "id": "0266d01e",
   "metadata": {},
   "outputs": [],
   "source": [
    "for template, label, i in zip(templates, labels, range(len(templates))):\n",
    "    t = editor.template(template, remove_duplicates=True, labels=int(label))\n",
    "\n",
    "    suite.add(MFT(\n",
    "        data=t.data,\n",
    "        labels=label,\n",
    "        capability=\"Vocabullary\", \n",
    "        name=f\"Test: MFT with vocabullary - template{i+1}\",\n",
    "        description=\"Checking if the model can handle vocabullary\"))"
   ]
  },
  {
   "cell_type": "code",
   "execution_count": 9,
   "id": "latter-vertical",
   "metadata": {},
   "outputs": [
    {
     "name": "stdout",
     "output_type": "stream",
     "text": [
      "Running Test: MFT with vocabullary - template1\n",
      "Predicting 84 examples\n"
     ]
    },
    {
     "name": "stderr",
     "output_type": "stream",
     "text": [
      "/tmp/ipykernel_31202/1179770237.py:23: UserWarning: Implicit dimension choice for softmax has been deprecated. Change the call to include dim=X as an argument.\n",
      "  prob = softmax(tensor_logits[0]).detach().numpy()\n"
     ]
    },
    {
     "name": "stdout",
     "output_type": "stream",
     "text": [
      "Running Test: MFT with vocabullary - template2\n",
      "Predicting 7 examples\n",
      "Running Test: MFT with vocabullary - template3\n",
      "Predicting 98 examples\n",
      "Running Test: MFT with vocabullary - template4\n",
      "Predicting 7 examples\n",
      "Running Test: MFT with vocabullary - template5\n",
      "Predicting 84 examples\n",
      "Running Test: MFT with vocabullary - template6\n",
      "Predicting 14 examples\n",
      "Running Test: MFT with vocabullary - template7\n",
      "Predicting 84 examples\n",
      "Running Test: MFT with vocabullary - template8\n",
      "Predicting 98 examples\n",
      "Running Test: MFT with vocabullary - template9\n",
      "Predicting 98 examples\n",
      "Running Test: MFT with vocabullary - template10\n",
      "Predicting 1 examples\n",
      "Running Test: MFT with vocabullary - template11\n",
      "Predicting 14 examples\n",
      "Running Test: MFT with vocabullary - template12\n",
      "Predicting 196 examples\n",
      "Running Test: MFT with vocabullary - template13\n",
      "Predicting 7 examples\n",
      "Running Test: MFT with vocabullary - template14\n",
      "Predicting 14 examples\n",
      "Running Test: MFT with vocabullary - template15\n",
      "Predicting 7 examples\n",
      "Running Test: MFT with vocabullary - template16\n",
      "Predicting 7 examples\n",
      "Running Test: MFT with vocabullary - template17\n",
      "Predicting 98 examples\n",
      "Running Test: MFT with vocabullary - template18\n",
      "Predicting 42 examples\n"
     ]
    }
   ],
   "source": [
    "suite.run(model.predict, overwrite=True)\n",
    "suite.save('./suites/posneg-random.suite')"
   ]
  },
  {
   "cell_type": "markdown",
   "id": "exciting-comedy",
   "metadata": {},
   "source": [
    "# Carregando suite de teste"
   ]
  },
  {
   "cell_type": "code",
   "execution_count": 10,
   "id": "rocky-beaver",
   "metadata": {},
   "outputs": [
    {
     "name": "stdout",
     "output_type": "stream",
     "text": [
      "Please wait as we prepare the table data...\n"
     ]
    },
    {
     "data": {
      "application/vnd.jupyter.widget-view+json": {
       "model_id": "6df5efd6b3da402ba80258b2d27208d5",
       "version_major": 2,
       "version_minor": 0
      },
      "text/plain": [
       "SuiteSummarizer(stats={'npassed': 0, 'nfailed': 0, 'nfiltered': 0}, test_infos=[{'name': 'Test: MFT with vocab…"
      ]
     },
     "execution_count": 10,
     "metadata": {},
     "output_type": "execute_result"
    }
   ],
   "source": [
    "from checklist.test_suite import TestSuite\n",
    "suite = TestSuite.from_file('./suites/posneg-random.suite')\n",
    "\n",
    "suite.visual_summary_table()"
   ]
  },
  {
   "cell_type": "code",
   "execution_count": 11,
   "metadata": {},
   "outputs": [
    {
     "name": "stdout",
     "output_type": "stream",
     "text": [
      "failed = 149 (15.52%)\n",
      "passed = 811 (84.48%)\n",
      "total = 960\n",
      "templates: 18\n"
     ]
    }
   ],
   "source": [
    "passed = 0\n",
    "failed = 0\n",
    "for test_name in suite.tests:\n",
    "    table = suite.visual_summary_by_test(test_name)\n",
    "    \n",
    "    failed += table.stats['nfailed']    \n",
    "    passed += table.stats['npassed']\n",
    "    assert table.stats['nfailed'] + table.stats['npassed'] == len(table.filtered_testcases)\n",
    "\n",
    "print(f\"{failed = } ({(failed/(passed+failed))*100:.2f}%)\")\n",
    "print(f\"{passed = } ({(passed/(passed+failed))*100:.2f}%)\")\n",
    "print(f\"total = {passed+failed}\")\n",
    "print(\"templates:\", len(suite.tests))"
   ]
  },
  {
   "cell_type": "code",
   "execution_count": 21,
   "id": "confidential-france",
   "metadata": {},
   "outputs": [
    {
     "name": "stdout",
     "output_type": "stream",
     "text": [
      "failed = 128 (21.30%)\n",
      "passed = 473 (78.70%)\n",
      "total = 601\n",
      "templates: 18\n"
     ]
    }
   ],
   "source": [
    "passed = 0\n",
    "failed = 0\n",
    "for test_name in suite.tests:\n",
    "    table = suite.visual_summary_by_test(test_name)\n",
    "    \n",
    "    failed += table.stats['nfailed']    \n",
    "    passed += table.stats['npassed']\n",
    "    assert table.stats['nfailed'] + table.stats['npassed'] == len(table.filtered_testcases)\n",
    "\n",
    "print(f\"{failed = } ({(failed/(passed+failed))*100:.2f}%)\")\n",
    "print(f\"{passed = } ({(passed/(passed+failed))*100:.2f}%)\")\n",
    "print(f\"total = {passed+failed}\")\n",
    "print(\"templates:\", len(suite.tests))"
   ]
  }
 ],
 "metadata": {
  "interpreter": {
   "hash": "335f8eac43d2678591a8076d8dfd5de078961fe9395efec4dfbbe61965ca9377"
  },
  "kernelspec": {
   "display_name": "Python 3",
   "language": "python",
   "name": "python3"
  },
  "language_info": {
   "codemirror_mode": {
    "name": "ipython",
    "version": 3
   },
   "file_extension": ".py",
   "mimetype": "text/x-python",
   "name": "python",
   "nbconvert_exporter": "python",
   "pygments_lexer": "ipython3",
   "version": "3.11.5"
  }
 },
 "nbformat": 4,
 "nbformat_minor": 5
}
