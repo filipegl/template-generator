{
 "cells": [
  {
   "cell_type": "markdown",
   "id": "d0e2c728",
   "metadata": {},
   "source": [
    "# Abordagem randômica\n",
    "\n",
    "Usando a abordagem randômica para gerar templates com foco em templates positivos e negativos. Uma possível aplicação seria testar a capacidade linguística *Vocabullary* com o teste **MFT**.\n",
    "\n",
    "As etapas desta abordagem são:\n",
    "\n",
    "1. Quebrar as instâncias em sentenças\n",
    "2. Selecionar uma amostra de *K* sentenças de forma aleatória\n",
    "3. Rankear as palavras de cada sentença\n",
    "4. Realizar as predições de cada sentença usando o *Oráculo*\n",
    "5. Substituir as palavras relevantes por máscaras"
   ]
  },
  {
   "cell_type": "code",
   "execution_count": 1,
   "id": "897c3a05",
   "metadata": {},
   "outputs": [],
   "source": [
    "%config Completer.use_jedi = False\n",
    "import sys\n",
    "import random\n",
    "\n",
    "sys.path.append('../')\n",
    "random.seed(220)"
   ]
  },
  {
   "cell_type": "markdown",
   "id": "6da847fc",
   "metadata": {},
   "source": [
    "## Carregando o dataset, o modelo alvo e os modelos auxiliares"
   ]
  },
  {
   "cell_type": "code",
   "execution_count": 2,
   "id": "f6e018fa",
   "metadata": {},
   "outputs": [
    {
     "data": {
      "text/html": [
       "<div>\n",
       "<style scoped>\n",
       "    .dataframe tbody tr th:only-of-type {\n",
       "        vertical-align: middle;\n",
       "    }\n",
       "\n",
       "    .dataframe tbody tr th {\n",
       "        vertical-align: top;\n",
       "    }\n",
       "\n",
       "    .dataframe thead th {\n",
       "        text-align: right;\n",
       "    }\n",
       "</style>\n",
       "<table border=\"1\" class=\"dataframe\">\n",
       "  <thead>\n",
       "    <tr style=\"text-align: right;\">\n",
       "      <th></th>\n",
       "      <th>text</th>\n",
       "      <th>label</th>\n",
       "    </tr>\n",
       "  </thead>\n",
       "  <tbody>\n",
       "    <tr>\n",
       "      <th>0</th>\n",
       "      <td>unpretentious , charming , quirky , original</td>\n",
       "      <td>1</td>\n",
       "    </tr>\n",
       "    <tr>\n",
       "      <th>1</th>\n",
       "      <td>a film really has to be exceptional to justify a three hour running time , and this isn't .</td>\n",
       "      <td>0</td>\n",
       "    </tr>\n",
       "    <tr>\n",
       "      <th>2</th>\n",
       "      <td>working from a surprisingly sensitive script co-written by gianni romoli . . . ozpetek avoids most of the pitfalls you'd expect in such a potentially sudsy set-up .</td>\n",
       "      <td>1</td>\n",
       "    </tr>\n",
       "    <tr>\n",
       "      <th>3</th>\n",
       "      <td>it may not be particularly innovative , but the film's crisp , unaffected style and air of gentle longing make it unexpectedly rewarding .</td>\n",
       "      <td>1</td>\n",
       "    </tr>\n",
       "    <tr>\n",
       "      <th>4</th>\n",
       "      <td>such a premise is ripe for all manner of lunacy , but kaufman and gondry rarely seem sure of where it should go .</td>\n",
       "      <td>0</td>\n",
       "    </tr>\n",
       "    <tr>\n",
       "      <th>...</th>\n",
       "      <td>...</td>\n",
       "      <td>...</td>\n",
       "    </tr>\n",
       "    <tr>\n",
       "      <th>95</th>\n",
       "      <td>ice age is the first computer-generated feature cartoon to feel like other movies , and that makes for some glacial pacing early on .</td>\n",
       "      <td>0</td>\n",
       "    </tr>\n",
       "    <tr>\n",
       "      <th>96</th>\n",
       "      <td>there's no denying that burns is a filmmaker with a bright future ahead of him .</td>\n",
       "      <td>1</td>\n",
       "    </tr>\n",
       "    <tr>\n",
       "      <th>97</th>\n",
       "      <td>it collapses when mr . taylor tries to shift the tone to a thriller's rush .</td>\n",
       "      <td>0</td>\n",
       "    </tr>\n",
       "    <tr>\n",
       "      <th>98</th>\n",
       "      <td>there's a great deal of corny dialogue and preposterous moments . and yet , it still works .</td>\n",
       "      <td>1</td>\n",
       "    </tr>\n",
       "    <tr>\n",
       "      <th>99</th>\n",
       "      <td>ah , the travails of metropolitan life ! alas , another breathless movie about same !</td>\n",
       "      <td>0</td>\n",
       "    </tr>\n",
       "  </tbody>\n",
       "</table>\n",
       "<p>100 rows × 2 columns</p>\n",
       "</div>"
      ],
      "text/plain": [
       "                                                                                                                                                                    text   \n",
       "0                                                                                                                           unpretentious , charming , quirky , original  \\\n",
       "1                                                                            a film really has to be exceptional to justify a three hour running time , and this isn't .   \n",
       "2   working from a surprisingly sensitive script co-written by gianni romoli . . . ozpetek avoids most of the pitfalls you'd expect in such a potentially sudsy set-up .   \n",
       "3                             it may not be particularly innovative , but the film's crisp , unaffected style and air of gentle longing make it unexpectedly rewarding .   \n",
       "4                                                      such a premise is ripe for all manner of lunacy , but kaufman and gondry rarely seem sure of where it should go .   \n",
       "..                                                                                                                                                                   ...   \n",
       "95                                 ice age is the first computer-generated feature cartoon to feel like other movies , and that makes for some glacial pacing early on .   \n",
       "96                                                                                      there's no denying that burns is a filmmaker with a bright future ahead of him .   \n",
       "97                                                                                          it collapses when mr . taylor tries to shift the tone to a thriller's rush .   \n",
       "98                                                                          there's a great deal of corny dialogue and preposterous moments . and yet , it still works .   \n",
       "99                                                                                 ah , the travails of metropolitan life ! alas , another breathless movie about same !   \n",
       "\n",
       "    label  \n",
       "0       1  \n",
       "1       0  \n",
       "2       1  \n",
       "3       1  \n",
       "4       0  \n",
       "..    ...  \n",
       "95      0  \n",
       "96      1  \n",
       "97      0  \n",
       "98      1  \n",
       "99      0  \n",
       "\n",
       "[100 rows x 2 columns]"
      ]
     },
     "execution_count": 2,
     "metadata": {},
     "output_type": "execute_result"
    }
   ],
   "source": [
    "import pandas as pd\n",
    "from datasets import load_dataset\n",
    "\n",
    "pd.set_option('display.max_colwidth', None)\n",
    "\n",
    "dataset = load_dataset(\"rotten_tomatoes\")\n",
    "dataset.set_format(\"pandas\")\n",
    "df = dataset[\"test\"].shuffle(seed=42)[:100]\n",
    "df"
   ]
  },
  {
   "cell_type": "code",
   "execution_count": 3,
   "id": "264d0dcd",
   "metadata": {},
   "outputs": [],
   "source": [
    "import re\n",
    "import numpy as np\n",
    "from torch.nn.functional import softmax\n",
    "from transformers import AutoTokenizer, AutoModelForSequenceClassification\n",
    "\n",
    "def pre_proccess(text):\n",
    "    text = text.lower()\n",
    "    text = re.sub('[\"\\',!-.:-@0-9/]()', ' ', text)\n",
    "    return text\n",
    "\n",
    "# Wrapper to adapt output format\n",
    "class SentimentAnalisysModelWrapper:\n",
    "    def __init__(self, model, tokenizer):\n",
    "        self.model = model\n",
    "        self.tokenizer = tokenizer\n",
    "        \n",
    "    def __predict(self, text_input):\n",
    "        text_preprocessed = pre_proccess(text_input)\n",
    "        tokenized = self.tokenizer(text_preprocessed, padding=True, truncation=True, max_length=512, \n",
    "                                    add_special_tokens = True, return_tensors=\"pt\")\n",
    "        \n",
    "        tensor_logits = self.model(**tokenized)\n",
    "        prob = softmax(tensor_logits[0]).detach().numpy()\n",
    "        pred = np.argmax(prob)\n",
    "        \n",
    "        return pred, prob\n",
    "    \n",
    "    def predict_label(self, text_inputs):\n",
    "        return self.predict(text_inputs)[0]\n",
    "        \n",
    "    def predict_proba(self, text_inputs):\n",
    "        return self.predict(text_inputs)[1]\n",
    "        \n",
    "    def predict(self, text_inputs):\n",
    "        if isinstance(text_inputs, str):\n",
    "            text_inputs = [text_inputs]\n",
    "        \n",
    "        preds = []\n",
    "        probs = []\n",
    "\n",
    "        for text_input in text_inputs:\n",
    "            pred, prob = self.__predict(text_input)\n",
    "            preds.append(pred)\n",
    "            probs.append(prob[0])\n",
    "\n",
    "        return np.array(preds), np.array(probs) # ([0, 1], [[0.99, 0.01], [0.03, 0.97]])\n",
    "\n",
    "# Auxiliar function to load and wrap a model from Hugging Face\n",
    "def load_model(model_name):\n",
    "    print(f'Loading model {model_name}...')\n",
    "    model = AutoModelForSequenceClassification.from_pretrained(model_name)\n",
    "    tokenizer = AutoTokenizer.from_pretrained(model_name)\n",
    "    \n",
    "    return SentimentAnalisysModelWrapper(model, tokenizer)\n",
    "\n",
    "# Hugging Face hosted model names \n",
    "rotten_tomatoes_models = {\n",
    "    'bert': 'textattack/bert-base-uncased-rotten-tomatoes', \n",
    "    'albert': 'textattack/albert-base-v2-rotten-tomatoes', \n",
    "    'distilbert': 'textattack/distilbert-base-uncased-rotten-tomatoes', \n",
    "    'roberta': 'textattack/roberta-base-rotten-tomatoes', \n",
    "    'xlnet': 'textattack/xlnet-base-cased-rotten-tomatoes', \n",
    "    \n",
    "}"
   ]
  },
  {
   "cell_type": "code",
   "execution_count": 4,
   "id": "2f271eae",
   "metadata": {},
   "outputs": [
    {
     "name": "stdout",
     "output_type": "stream",
     "text": [
      "Loading model textattack/albert-base-v2-rotten-tomatoes...\n",
      "Loading model textattack/distilbert-base-uncased-rotten-tomatoes...\n",
      "Loading model textattack/roberta-base-rotten-tomatoes...\n"
     ]
    },
    {
     "name": "stderr",
     "output_type": "stream",
     "text": [
      "Some weights of the model checkpoint at textattack/roberta-base-rotten-tomatoes were not used when initializing RobertaForSequenceClassification: ['roberta.pooler.dense.bias', 'roberta.pooler.dense.weight']\n",
      "- This IS expected if you are initializing RobertaForSequenceClassification from the checkpoint of a model trained on another task or with another architecture (e.g. initializing a BertForSequenceClassification model from a BertForPreTraining model).\n",
      "- This IS NOT expected if you are initializing RobertaForSequenceClassification from the checkpoint of a model that you expect to be exactly identical (initializing a BertForSequenceClassification model from a BertForSequenceClassification model).\n"
     ]
    },
    {
     "name": "stdout",
     "output_type": "stream",
     "text": [
      "Loading model textattack/xlnet-base-cased-rotten-tomatoes...\n",
      "Loading model textattack/bert-base-uncased-rotten-tomatoes...\n"
     ]
    }
   ],
   "source": [
    "m1 = load_model(rotten_tomatoes_models['albert'])\n",
    "m2 = load_model(rotten_tomatoes_models['distilbert'])\n",
    "m3 = load_model(rotten_tomatoes_models['roberta'])\n",
    "m4 = load_model(rotten_tomatoes_models['xlnet'])\n",
    "\n",
    "# Models to be used as oracle\n",
    "models = [m1, m2, m3, m4]\n",
    "# Target model\n",
    "model = load_model(rotten_tomatoes_models['bert'])"
   ]
  },
  {
   "cell_type": "markdown",
   "id": "caae89b5",
   "metadata": {},
   "source": [
    "# Gerando os templates\n",
    "O método de rankeamento das palavras usado no PosNegTemplateGenerator é o Replace-1 Score"
   ]
  },
  {
   "cell_type": "code",
   "execution_count": 5,
   "id": "60dc1af3",
   "metadata": {},
   "outputs": [],
   "source": [
    "from template_generator.tasks.sentiment_analisys import PosNegTemplateGeneratorRandom\n",
    "\n",
    "tg = PosNegTemplateGeneratorRandom(model, models)"
   ]
  },
  {
   "cell_type": "markdown",
   "id": "4f595e69",
   "metadata": {},
   "source": [
    "### Número inicial de instâncias: 5"
   ]
  },
  {
   "cell_type": "code",
   "execution_count": 6,
   "id": "a6261506",
   "metadata": {},
   "outputs": [],
   "source": [
    "# Sampling instances\n",
    "np.random.seed(220)\n",
    "n_instances = 5\n",
    "df_sampled = df.sample(n_instances)\n",
    "\n",
    "instances = [x for x in df_sampled['text'].values]"
   ]
  },
  {
   "cell_type": "code",
   "execution_count": 7,
   "id": "660add17",
   "metadata": {},
   "outputs": [
    {
     "name": "stdout",
     "output_type": "stream",
     "text": [
      "Converting texts to sentences...\n",
      ":: 6 sentences were generated.\n",
      "Ranking words using Replace-1 Score...\n"
     ]
    },
    {
     "name": "stderr",
     "output_type": "stream",
     "text": [
      "/tmp/ipykernel_14605/4227237112.py:23: UserWarning: Implicit dimension choice for softmax has been deprecated. Change the call to include dim=X as an argument.\n",
      "  prob = softmax(tensor_logits[0]).detach().numpy()\n"
     ]
    },
    {
     "name": "stdout",
     "output_type": "stream",
     "text": [
      ":: Word ranking done.\n",
      "Predicting inputs...\n",
      ":: Sentence predictions done.\n"
     ]
    }
   ],
   "source": [
    "templates = tg.generate_templates(instances, n_masks=2, k_templates=1)"
   ]
  },
  {
   "cell_type": "markdown",
   "id": "0ff5c8cb",
   "metadata": {},
   "source": [
    "#### Tempo de execução para 5 instâncias: 0m 3.1s"
   ]
  },
  {
   "cell_type": "code",
   "execution_count": 8,
   "id": "193f1b65",
   "metadata": {},
   "outputs": [
    {
     "data": {
      "text/html": [
       "<div>\n",
       "<style scoped>\n",
       "    .dataframe tbody tr th:only-of-type {\n",
       "        vertical-align: middle;\n",
       "    }\n",
       "\n",
       "    .dataframe tbody tr th {\n",
       "        vertical-align: top;\n",
       "    }\n",
       "\n",
       "    .dataframe thead th {\n",
       "        text-align: right;\n",
       "    }\n",
       "</style>\n",
       "<table border=\"1\" class=\"dataframe\">\n",
       "  <thead>\n",
       "    <tr style=\"text-align: right;\">\n",
       "      <th></th>\n",
       "      <th>label</th>\n",
       "      <th>original_text</th>\n",
       "      <th>masked_text</th>\n",
       "      <th>template_text</th>\n",
       "    </tr>\n",
       "  </thead>\n",
       "  <tbody>\n",
       "    <tr>\n",
       "      <th>0</th>\n",
       "      <td>1</td>\n",
       "      <td>it may not be particularly innovative , but the film's crisp , unaffected style and air of gentle longing make it unexpectedly rewarding .</td>\n",
       "      <td>it {mask} not be particularly innovative , but the film 's crisp , unaffected style and air of gentle longing make it unexpectedly {mask} .</td>\n",
       "      <td>it {neg_verb} not be particularly innovative , but the film 's crisp , unaffected style and air of gentle longing make it unexpectedly {pos_verb} .</td>\n",
       "    </tr>\n",
       "  </tbody>\n",
       "</table>\n",
       "</div>"
      ],
      "text/plain": [
       "   label   \n",
       "0      1  \\\n",
       "\n",
       "                                                                                                                                original_text   \n",
       "0  it may not be particularly innovative , but the film's crisp , unaffected style and air of gentle longing make it unexpectedly rewarding .  \\\n",
       "\n",
       "                                                                                                                                   masked_text   \n",
       "0  it {mask} not be particularly innovative , but the film 's crisp , unaffected style and air of gentle longing make it unexpectedly {mask} .  \\\n",
       "\n",
       "                                                                                                                                         template_text  \n",
       "0  it {neg_verb} not be particularly innovative , but the film 's crisp , unaffected style and air of gentle longing make it unexpectedly {pos_verb} .  "
      ]
     },
     "execution_count": 8,
     "metadata": {},
     "output_type": "execute_result"
    }
   ],
   "source": [
    "tg.to_dataframe()\n"
   ]
  },
  {
   "cell_type": "code",
   "execution_count": 9,
   "id": "c03851be",
   "metadata": {},
   "outputs": [
    {
     "data": {
      "text/plain": [
       "{'pos_verb': ['rewarding'], 'neg_verb': ['may'], 'pos_adj': [], 'neg_adj': []}"
      ]
     },
     "execution_count": 9,
     "metadata": {},
     "output_type": "execute_result"
    }
   ],
   "source": [
    "tg.lexicons"
   ]
  },
  {
   "cell_type": "markdown",
   "id": "01a27f1f",
   "metadata": {},
   "source": [
    "### Número inicial de instâncias: 100"
   ]
  },
  {
   "cell_type": "code",
   "execution_count": 10,
   "id": "cd4a7fe3",
   "metadata": {},
   "outputs": [],
   "source": [
    "# Using all 100 instances\n",
    "instances = [x for x in df['text'].values]"
   ]
  },
  {
   "cell_type": "code",
   "execution_count": 11,
   "id": "f1f3f383",
   "metadata": {},
   "outputs": [
    {
     "name": "stdout",
     "output_type": "stream",
     "text": [
      "Converting texts to sentences...\n",
      ":: 138 sentences were generated.\n",
      "Ranking words using Replace-1 Score...\n"
     ]
    },
    {
     "name": "stderr",
     "output_type": "stream",
     "text": [
      "/tmp/ipykernel_14605/4227237112.py:23: UserWarning: Implicit dimension choice for softmax has been deprecated. Change the call to include dim=X as an argument.\n",
      "  prob = softmax(tensor_logits[0]).detach().numpy()\n"
     ]
    },
    {
     "name": "stdout",
     "output_type": "stream",
     "text": [
      ":: Word ranking done.\n",
      "Predicting inputs...\n",
      ":: Sentence predictions done.\n",
      "CPU times: user 1min 45s, sys: 0 ns, total: 1min 45s\n",
      "Wall time: 10.8 s\n"
     ]
    }
   ],
   "source": [
    "%%time\n",
    "\n",
    "tg = PosNegTemplateGeneratorRandom(model, models)\n",
    "templates = tg.generate_templates(instances, n_masks=2, k_templates=18)"
   ]
  },
  {
   "cell_type": "markdown",
   "id": "677154d8",
   "metadata": {},
   "source": [
    "#### Tempo de execução para 100 instâncias: 11.4s"
   ]
  },
  {
   "cell_type": "code",
   "execution_count": 12,
   "id": "5c3c1541",
   "metadata": {},
   "outputs": [
    {
     "data": {
      "text/html": [
       "<div>\n",
       "<style scoped>\n",
       "    .dataframe tbody tr th:only-of-type {\n",
       "        vertical-align: middle;\n",
       "    }\n",
       "\n",
       "    .dataframe tbody tr th {\n",
       "        vertical-align: top;\n",
       "    }\n",
       "\n",
       "    .dataframe thead th {\n",
       "        text-align: right;\n",
       "    }\n",
       "</style>\n",
       "<table border=\"1\" class=\"dataframe\">\n",
       "  <thead>\n",
       "    <tr style=\"text-align: right;\">\n",
       "      <th></th>\n",
       "      <th>label</th>\n",
       "      <th>original_text</th>\n",
       "      <th>masked_text</th>\n",
       "      <th>template_text</th>\n",
       "    </tr>\n",
       "  </thead>\n",
       "  <tbody>\n",
       "    <tr>\n",
       "      <th>0</th>\n",
       "      <td>1</td>\n",
       "      <td>an odd drama set in the world of lingerie models and bar dancers in the midwest that held my interest precisely because it didn't try to .</td>\n",
       "      <td>an odd drama set in the world of lingerie models and bar dancers in the midwest that {mask} my interest precisely because it did n't {mask} to .</td>\n",
       "      <td>an odd drama set in the world of lingerie models and bar dancers in the midwest that {neg_verb} my interest precisely because it did n't {neg_verb} to .</td>\n",
       "    </tr>\n",
       "    <tr>\n",
       "      <th>1</th>\n",
       "      <td>1</td>\n",
       "      <td>twohy knows how to inflate the mundane into the scarifying , and gets full mileage out of the rolling of a stray barrel or the unexpected blast of a phonograph record .</td>\n",
       "      <td>twohy {mask} how to inflate the mundane into the scarifying , and {mask} full mileage out of the rolling of a stray barrel or the unexpected blast of a phonograph record .</td>\n",
       "      <td>twohy {pos_verb} how to inflate the mundane into the scarifying , and {pos_verb} full mileage out of the rolling of a stray barrel or the unexpected blast of a phonograph record .</td>\n",
       "    </tr>\n",
       "    <tr>\n",
       "      <th>2</th>\n",
       "      <td>0</td>\n",
       "      <td>.</td>\n",
       "      <td>.</td>\n",
       "      <td>.</td>\n",
       "    </tr>\n",
       "    <tr>\n",
       "      <th>3</th>\n",
       "      <td>0</td>\n",
       "      <td>\" what really happened ? \"</td>\n",
       "      <td>`` what really {mask} ? ``</td>\n",
       "      <td>`` what really {neg_verb} ? ``</td>\n",
       "    </tr>\n",
       "    <tr>\n",
       "      <th>4</th>\n",
       "      <td>1</td>\n",
       "      <td>yes , soar .</td>\n",
       "      <td>yes , {mask} .</td>\n",
       "      <td>yes , {neg_verb} .</td>\n",
       "    </tr>\n",
       "    <tr>\n",
       "      <th>5</th>\n",
       "      <td>0</td>\n",
       "      <td>you can practically hear george orwell turning over .</td>\n",
       "      <td>you can practically {mask} george orwell {mask} over .</td>\n",
       "      <td>you can practically {pos_verb} george orwell {neg_verb} over .</td>\n",
       "    </tr>\n",
       "    <tr>\n",
       "      <th>6</th>\n",
       "      <td>0</td>\n",
       "      <td>when the twist endings were actually surprising ?</td>\n",
       "      <td>when the twist endings {mask} actually {mask} ?</td>\n",
       "      <td>when the twist endings {neg_verb} actually {pos_adj} ?</td>\n",
       "    </tr>\n",
       "    <tr>\n",
       "      <th>7</th>\n",
       "      <td>1</td>\n",
       "      <td>a dreadful day in irish history is given passionate , if somewhat flawed , treatment .</td>\n",
       "      <td>a dreadful day in irish history {mask} {mask} passionate , if somewhat flawed , treatment .</td>\n",
       "      <td>a dreadful day in irish history {pos_verb} {neg_verb} passionate , if somewhat flawed , treatment .</td>\n",
       "    </tr>\n",
       "    <tr>\n",
       "      <th>8</th>\n",
       "      <td>0</td>\n",
       "      <td>charly comes off as emotionally manipulative and sadly imitative of innumerable past love story derisions .</td>\n",
       "      <td>charly comes off as emotionally {mask} and sadly {mask} of innumerable past love story derisions .</td>\n",
       "      <td>charly comes off as emotionally {neg_adj} and sadly {pos_adj} of innumerable past love story derisions .</td>\n",
       "    </tr>\n",
       "    <tr>\n",
       "      <th>9</th>\n",
       "      <td>0</td>\n",
       "      <td>the rules of attraction gets us too drunk on the party favors to sober us up with the transparent attempts at moralizing .</td>\n",
       "      <td>the rules of attraction {mask} us too {mask} on the party favors to sober us up with the transparent attempts at moralizing .</td>\n",
       "      <td>the rules of attraction {pos_verb} us too {neg_verb} on the party favors to sober us up with the transparent attempts at moralizing .</td>\n",
       "    </tr>\n",
       "    <tr>\n",
       "      <th>10</th>\n",
       "      <td>1</td>\n",
       "      <td>the film may not hit as hard as some of the better drug-related pictures , but it still manages to get a few punches in .</td>\n",
       "      <td>the film {mask} not hit as hard as some of the better drug-related pictures , but it still manages to get a {mask} punches in .</td>\n",
       "      <td>the film {neg_verb} not hit as hard as some of the better drug-related pictures , but it still manages to get a {neg_adj} punches in .</td>\n",
       "    </tr>\n",
       "    <tr>\n",
       "      <th>11</th>\n",
       "      <td>1</td>\n",
       "      <td>one of those joyous films that leaps over national boundaries and celebrates universal human nature .</td>\n",
       "      <td>one of those joyous films that {mask} over {mask} boundaries and celebrates universal human nature .</td>\n",
       "      <td>one of those joyous films that {pos_verb} over {neg_adj} boundaries and celebrates universal human nature .</td>\n",
       "    </tr>\n",
       "    <tr>\n",
       "      <th>12</th>\n",
       "      <td>1</td>\n",
       "      <td>chabrol's subtlest works , but also one of his most uncanny .</td>\n",
       "      <td>chabrol 's subtlest works , but also one of his {mask} {mask} .</td>\n",
       "      <td>chabrol 's subtlest works , but also one of his {neg_adj} {pos_adj} .</td>\n",
       "    </tr>\n",
       "    <tr>\n",
       "      <th>13</th>\n",
       "      <td>0</td>\n",
       "      <td>i was hoping that it would be sleazy and fun , but it was neither .</td>\n",
       "      <td>i was {mask} that it would be sleazy and fun , but it {mask} neither .</td>\n",
       "      <td>i was {neg_verb} that it would be sleazy and fun , but it {neg_verb} neither .</td>\n",
       "    </tr>\n",
       "    <tr>\n",
       "      <th>14</th>\n",
       "      <td>1</td>\n",
       "      <td>it has the requisite faux-urban vibe and hotter-two-years-ago rap and r&amp;b names and references .</td>\n",
       "      <td>it has the requisite {mask} vibe and {mask} rap and r &amp; b names and references .</td>\n",
       "      <td>it has the requisite {neg_adj} vibe and {neg_adj} rap and r &amp; b names and references .</td>\n",
       "    </tr>\n",
       "    <tr>\n",
       "      <th>15</th>\n",
       "      <td>1</td>\n",
       "      <td>a moving and not infrequently breathtaking film .</td>\n",
       "      <td>a moving and not infrequently {mask} film .</td>\n",
       "      <td>a moving and not infrequently {pos_verb} film .</td>\n",
       "    </tr>\n",
       "    <tr>\n",
       "      <th>16</th>\n",
       "      <td>1</td>\n",
       "      <td>it may not be particularly innovative , but the film's crisp , unaffected style and air of gentle longing make it unexpectedly rewarding .</td>\n",
       "      <td>it {mask} not be particularly innovative , but the film 's crisp , unaffected style and air of gentle longing make it unexpectedly {mask} .</td>\n",
       "      <td>it {neg_verb} not be particularly innovative , but the film 's crisp , unaffected style and air of gentle longing make it unexpectedly {pos_verb} .</td>\n",
       "    </tr>\n",
       "    <tr>\n",
       "      <th>17</th>\n",
       "      <td>0</td>\n",
       "      <td>the problem with the film is whether these ambitions , laudable in themselves , justify a theatrical simulation of the death camp of auschwitz ii-birkenau .</td>\n",
       "      <td>the problem with the film {mask} whether these ambitions , {mask} in themselves , justify a theatrical simulation of the death camp of auschwitz ii-birkenau .</td>\n",
       "      <td>the problem with the film {pos_verb} whether these ambitions , {neg_adj} in themselves , justify a theatrical simulation of the death camp of auschwitz ii-birkenau .</td>\n",
       "    </tr>\n",
       "  </tbody>\n",
       "</table>\n",
       "</div>"
      ],
      "text/plain": [
       "    label   \n",
       "0       1  \\\n",
       "1       1   \n",
       "2       0   \n",
       "3       0   \n",
       "4       1   \n",
       "5       0   \n",
       "6       0   \n",
       "7       1   \n",
       "8       0   \n",
       "9       0   \n",
       "10      1   \n",
       "11      1   \n",
       "12      1   \n",
       "13      0   \n",
       "14      1   \n",
       "15      1   \n",
       "16      1   \n",
       "17      0   \n",
       "\n",
       "                                                                                                                                                               original_text   \n",
       "0                                 an odd drama set in the world of lingerie models and bar dancers in the midwest that held my interest precisely because it didn't try to .  \\\n",
       "1   twohy knows how to inflate the mundane into the scarifying , and gets full mileage out of the rolling of a stray barrel or the unexpected blast of a phonograph record .   \n",
       "2                                                                                                                                                                          .   \n",
       "3                                                                                                                                                 \" what really happened ? \"   \n",
       "4                                                                                                                                                               yes , soar .   \n",
       "5                                                                                                                      you can practically hear george orwell turning over .   \n",
       "6                                                                                                                          when the twist endings were actually surprising ?   \n",
       "7                                                                                     a dreadful day in irish history is given passionate , if somewhat flawed , treatment .   \n",
       "8                                                                charly comes off as emotionally manipulative and sadly imitative of innumerable past love story derisions .   \n",
       "9                                                 the rules of attraction gets us too drunk on the party favors to sober us up with the transparent attempts at moralizing .   \n",
       "10                                                 the film may not hit as hard as some of the better drug-related pictures , but it still manages to get a few punches in .   \n",
       "11                                                                     one of those joyous films that leaps over national boundaries and celebrates universal human nature .   \n",
       "12                                                                                                             chabrol's subtlest works , but also one of his most uncanny .   \n",
       "13                                                                                                       i was hoping that it would be sleazy and fun , but it was neither .   \n",
       "14                                                                          it has the requisite faux-urban vibe and hotter-two-years-ago rap and r&b names and references .   \n",
       "15                                                                                                                         a moving and not infrequently breathtaking film .   \n",
       "16                                it may not be particularly innovative , but the film's crisp , unaffected style and air of gentle longing make it unexpectedly rewarding .   \n",
       "17              the problem with the film is whether these ambitions , laudable in themselves , justify a theatrical simulation of the death camp of auschwitz ii-birkenau .   \n",
       "\n",
       "                                                                                                                                                                    masked_text   \n",
       "0                              an odd drama set in the world of lingerie models and bar dancers in the midwest that {mask} my interest precisely because it did n't {mask} to .  \\\n",
       "1   twohy {mask} how to inflate the mundane into the scarifying , and {mask} full mileage out of the rolling of a stray barrel or the unexpected blast of a phonograph record .   \n",
       "2                                                                                                                                                                             .   \n",
       "3                                                                                                                                                    `` what really {mask} ? ``   \n",
       "4                                                                                                                                                                yes , {mask} .   \n",
       "5                                                                                                                        you can practically {mask} george orwell {mask} over .   \n",
       "6                                                                                                                               when the twist endings {mask} actually {mask} ?   \n",
       "7                                                                                   a dreadful day in irish history {mask} {mask} passionate , if somewhat flawed , treatment .   \n",
       "8                                                                            charly comes off as emotionally {mask} and sadly {mask} of innumerable past love story derisions .   \n",
       "9                                                 the rules of attraction {mask} us too {mask} on the party favors to sober us up with the transparent attempts at moralizing .   \n",
       "10                                              the film {mask} not hit as hard as some of the better drug-related pictures , but it still manages to get a {mask} punches in .   \n",
       "11                                                                         one of those joyous films that {mask} over {mask} boundaries and celebrates universal human nature .   \n",
       "12                                                                                                              chabrol 's subtlest works , but also one of his {mask} {mask} .   \n",
       "13                                                                                                       i was {mask} that it would be sleazy and fun , but it {mask} neither .   \n",
       "14                                                                                             it has the requisite {mask} vibe and {mask} rap and r & b names and references .   \n",
       "15                                                                                                                                  a moving and not infrequently {mask} film .   \n",
       "16                                  it {mask} not be particularly innovative , but the film 's crisp , unaffected style and air of gentle longing make it unexpectedly {mask} .   \n",
       "17               the problem with the film {mask} whether these ambitions , {mask} in themselves , justify a theatrical simulation of the death camp of auschwitz ii-birkenau .   \n",
       "\n",
       "                                                                                                                                                                          template_text  \n",
       "0                              an odd drama set in the world of lingerie models and bar dancers in the midwest that {neg_verb} my interest precisely because it did n't {neg_verb} to .  \n",
       "1   twohy {pos_verb} how to inflate the mundane into the scarifying , and {pos_verb} full mileage out of the rolling of a stray barrel or the unexpected blast of a phonograph record .  \n",
       "2                                                                                                                                                                                     .  \n",
       "3                                                                                                                                                        `` what really {neg_verb} ? ``  \n",
       "4                                                                                                                                                                    yes , {neg_verb} .  \n",
       "5                                                                                                                        you can practically {pos_verb} george orwell {neg_verb} over .  \n",
       "6                                                                                                                                when the twist endings {neg_verb} actually {pos_adj} ?  \n",
       "7                                                                                   a dreadful day in irish history {pos_verb} {neg_verb} passionate , if somewhat flawed , treatment .  \n",
       "8                                                                              charly comes off as emotionally {neg_adj} and sadly {pos_adj} of innumerable past love story derisions .  \n",
       "9                                                 the rules of attraction {pos_verb} us too {neg_verb} on the party favors to sober us up with the transparent attempts at moralizing .  \n",
       "10                                               the film {neg_verb} not hit as hard as some of the better drug-related pictures , but it still manages to get a {neg_adj} punches in .  \n",
       "11                                                                          one of those joyous films that {pos_verb} over {neg_adj} boundaries and celebrates universal human nature .  \n",
       "12                                                                                                                chabrol 's subtlest works , but also one of his {neg_adj} {pos_adj} .  \n",
       "13                                                                                                       i was {neg_verb} that it would be sleazy and fun , but it {neg_verb} neither .  \n",
       "14                                                                                               it has the requisite {neg_adj} vibe and {neg_adj} rap and r & b names and references .  \n",
       "15                                                                                                                                      a moving and not infrequently {pos_verb} film .  \n",
       "16                                  it {neg_verb} not be particularly innovative , but the film 's crisp , unaffected style and air of gentle longing make it unexpectedly {pos_verb} .  \n",
       "17                the problem with the film {pos_verb} whether these ambitions , {neg_adj} in themselves , justify a theatrical simulation of the death camp of auschwitz ii-birkenau .  "
      ]
     },
     "execution_count": 12,
     "metadata": {},
     "output_type": "execute_result"
    }
   ],
   "source": [
    "tg.to_dataframe()\n"
   ]
  },
  {
   "cell_type": "code",
   "execution_count": 13,
   "id": "0b26cf4e",
   "metadata": {},
   "outputs": [
    {
     "name": "stdout",
     "output_type": "stream",
     "text": [
      "{'pos_verb': ['leaps', 'hear', 'breathtaking', 'is', 'knows', 'gets', 'rewarding'], 'neg_verb': ['drunk', 'held', 'happened', 'try', 'hoping', 'may', 'were', 'was', 'soar', 'given', 'turning'], 'pos_adj': ['uncanny', 'surprising', 'imitative'], 'neg_adj': ['hotter-two-years-ago', 'national', 'manipulative', 'few', 'laudable', 'faux-urban', 'most']}\n"
     ]
    }
   ],
   "source": [
    "print(tg.lexicons)"
   ]
  },
  {
   "cell_type": "markdown",
   "id": "9b218563",
   "metadata": {},
   "source": [
    "# Usando os templates gerados pelo TemplateGenerator no CheckList"
   ]
  },
  {
   "cell_type": "code",
   "execution_count": 14,
   "id": "535bea1b",
   "metadata": {},
   "outputs": [],
   "source": [
    "from checklist.editor import Editor\n",
    "from checklist.test_suite import TestSuite\n",
    "from checklist.test_types import MFT"
   ]
  },
  {
   "cell_type": "code",
   "execution_count": 15,
   "id": "247a1227",
   "metadata": {},
   "outputs": [],
   "source": [
    "lexicons = tg.lexicons\n",
    "templates = tg.template_texts\n",
    "masked = tg.masked_texts\n",
    "labels = [sent.prediction.label for sent in tg.sentences]\n",
    "\n",
    "editor = Editor()\n",
    "editor.add_lexicon('pos_verb', lexicons['pos_verb'])\n",
    "editor.add_lexicon('neg_verb', lexicons['neg_verb'])\n",
    "editor.add_lexicon('pos_adj', lexicons['pos_adj'])\n",
    "editor.add_lexicon('neg_adj', lexicons['neg_adj'])\n",
    "\n",
    "suite = TestSuite()"
   ]
  },
  {
   "cell_type": "code",
   "execution_count": 16,
   "id": "0266d01e",
   "metadata": {},
   "outputs": [],
   "source": [
    "for template, label, i in zip(templates, labels, range(len(templates))):\n",
    "    t = editor.template(template, remove_duplicates=True, labels=int(label))\n",
    "\n",
    "    suite.add(MFT(\n",
    "        data=t.data,\n",
    "        labels=label,\n",
    "        capability=\"Vocabullary\", \n",
    "        name=f\"Test: MFT with vocabullary - template{i+1}\",\n",
    "        description=\"Checking if the model can handle vocabullary\"))"
   ]
  },
  {
   "cell_type": "code",
   "execution_count": 17,
   "id": "latter-vertical",
   "metadata": {},
   "outputs": [
    {
     "name": "stdout",
     "output_type": "stream",
     "text": [
      "Running Test: MFT with vocabullary - template1\n",
      "Predicting 11 examples\n"
     ]
    },
    {
     "name": "stderr",
     "output_type": "stream",
     "text": [
      "/tmp/ipykernel_14605/4227237112.py:23: UserWarning: Implicit dimension choice for softmax has been deprecated. Change the call to include dim=X as an argument.\n",
      "  prob = softmax(tensor_logits[0]).detach().numpy()\n"
     ]
    },
    {
     "name": "stdout",
     "output_type": "stream",
     "text": [
      "Running Test: MFT with vocabullary - template2\n",
      "Predicting 7 examples\n",
      "Running Test: MFT with vocabullary - template3\n",
      "Predicting 1 examples\n",
      "Running Test: MFT with vocabullary - template4\n",
      "Predicting 11 examples\n",
      "Running Test: MFT with vocabullary - template5\n",
      "Predicting 11 examples\n",
      "Running Test: MFT with vocabullary - template6\n",
      "Predicting 77 examples\n",
      "Running Test: MFT with vocabullary - template7\n",
      "Predicting 33 examples\n",
      "Running Test: MFT with vocabullary - template8\n",
      "Predicting 77 examples\n",
      "Running Test: MFT with vocabullary - template9\n",
      "Predicting 21 examples\n",
      "Running Test: MFT with vocabullary - template10\n",
      "Predicting 77 examples\n",
      "Running Test: MFT with vocabullary - template11\n",
      "Predicting 77 examples\n",
      "Running Test: MFT with vocabullary - template12\n",
      "Predicting 49 examples\n",
      "Running Test: MFT with vocabullary - template13\n",
      "Predicting 21 examples\n",
      "Running Test: MFT with vocabullary - template14\n",
      "Predicting 11 examples\n",
      "Running Test: MFT with vocabullary - template15\n",
      "Predicting 7 examples\n",
      "Running Test: MFT with vocabullary - template16\n",
      "Predicting 7 examples\n",
      "Running Test: MFT with vocabullary - template17\n",
      "Predicting 77 examples\n",
      "Running Test: MFT with vocabullary - template18\n",
      "Predicting 49 examples\n"
     ]
    }
   ],
   "source": [
    "suite.run(model.predict, overwrite=True)\n",
    "suite.save('./suites/posneg-random.suite')"
   ]
  },
  {
   "cell_type": "code",
   "execution_count": 18,
   "id": "technological-vacuum",
   "metadata": {},
   "outputs": [
    {
     "name": "stdout",
     "output_type": "stream",
     "text": [
      "Please wait as we prepare the table data...\n"
     ]
    },
    {
     "data": {
      "application/vnd.jupyter.widget-view+json": {
       "model_id": "1aa80383e7e4432795920d506d20c6ea",
       "version_major": 2,
       "version_minor": 0
      },
      "text/plain": [
       "SuiteSummarizer(stats={'npassed': 0, 'nfailed': 0, 'nfiltered': 0}, test_infos=[{'name': 'Test: MFT with vocab…"
      ]
     },
     "execution_count": 18,
     "metadata": {},
     "output_type": "execute_result"
    }
   ],
   "source": [
    "suite.visual_summary_table()"
   ]
  },
  {
   "cell_type": "markdown",
   "id": "exciting-comedy",
   "metadata": {},
   "source": [
    "# Carregando suite de teste"
   ]
  },
  {
   "cell_type": "code",
   "execution_count": 19,
   "id": "rocky-beaver",
   "metadata": {},
   "outputs": [],
   "source": [
    "from checklist.test_suite import TestSuite\n",
    "suite = TestSuite.from_file('./suites/posneg-random.suite')\n",
    "\n",
    "# suite.visual_summary_table()"
   ]
  },
  {
   "cell_type": "code",
   "execution_count": 20,
   "id": "71ea6c83",
   "metadata": {},
   "outputs": [
    {
     "name": "stdout",
     "output_type": "stream",
     "text": [
      "failed = 51 (8.17%)\n",
      "passed = 573 (91.83%)\n",
      "total = 624\n",
      "templates: 18\n"
     ]
    }
   ],
   "source": [
    "passed = 0\n",
    "failed = 0\n",
    "for test_name in suite.tests:\n",
    "    table = suite.visual_summary_by_test(test_name)\n",
    "    \n",
    "    failed += table.stats['nfailed']    \n",
    "    passed += table.stats['npassed']\n",
    "    assert table.stats['nfailed'] + table.stats['npassed'] == len(table.filtered_testcases)\n",
    "\n",
    "print(f\"{failed = } ({(failed/(passed+failed))*100:.2f}%)\")\n",
    "print(f\"{passed = } ({(passed/(passed+failed))*100:.2f}%)\")\n",
    "print(f\"total = {passed+failed}\")\n",
    "print(\"templates:\", len(suite.tests))"
   ]
  },
  {
   "cell_type": "code",
   "execution_count": 21,
   "id": "confidential-france",
   "metadata": {},
   "outputs": [
    {
     "name": "stdout",
     "output_type": "stream",
     "text": [
      "` ensemble massacres will throughout .\n",
      "` ensemble massacres shown throughout .\n",
      "` ensemble massacres justify throughout .\n",
      "` ensemble massacres captured throughout .\n",
      "` ensemble massacres check throughout .\n",
      "` ensemble massacres heard throughout .\n",
      "` ensemble massacres be throughout .\n",
      "` ensemble massacres does throughout .\n",
      "` ensemble massacres seen throughout .\n",
      "` matrix'-style massacres will throughout .\n",
      "` matrix'-style massacres captured throughout .\n",
      "` fascinating massacres labored throughout .\n",
      "` fascinating massacres will throughout .\n",
      "` fascinating massacres erupt throughout .\n",
      "` fascinating massacres shown throughout .\n",
      "` fascinating massacres hammer throughout .\n",
      "` fascinating massacres justify throughout .\n",
      "` fascinating massacres captured throughout .\n",
      "` fascinating massacres check throughout .\n",
      "` fascinating massacres heard throughout .\n",
      "` fascinating massacres be throughout .\n",
      "` fascinating massacres does throughout .\n",
      "` fascinating massacres seen throughout .\n",
      "` fascinating massacres tends throughout .\n",
      "` close massacres will throughout .\n",
      "` close massacres shown throughout .\n",
      "` close massacres justify throughout .\n",
      "` close massacres check throughout .\n",
      "` close massacres heard throughout .\n",
      "` close massacres be throughout .\n",
      "` close massacres does throughout .\n",
      "` close massacres seen throughout .\n",
      "` happy massacres will throughout .\n",
      "` happy massacres erupt throughout .\n",
      "` happy massacres shown throughout .\n",
      "` happy massacres hammer throughout .\n",
      "` happy massacres justify throughout .\n",
      "` happy massacres captured throughout .\n",
      "` happy massacres check throughout .\n",
      "` happy massacres heard throughout .\n",
      "` happy massacres be throughout .\n",
      "` happy massacres does throughout .\n",
      "` happy massacres seen throughout .\n",
      "` happy massacres tends throughout .\n",
      "` best massacres labored throughout .\n",
      "` best massacres will throughout .\n",
      "` best massacres erupt throughout .\n",
      "` best massacres shown throughout .\n",
      "` best massacres hammer throughout .\n",
      "` best massacres justify throughout .\n",
      "` best massacres captured throughout .\n",
      "` best massacres check throughout .\n",
      "` best massacres heard throughout .\n",
      "` best massacres be throughout .\n",
      "` best massacres does throughout .\n",
      "` best massacres seen throughout .\n",
      "` best massacres tends throughout .\n"
     ]
    }
   ],
   "source": [
    "table = suite.visual_summary_by_test('Test: MFT with vocabullary - template2')\n",
    "\n",
    "for item in table.candidate_testcases:\n",
    "    print(item['examples'][0]['new']['text'])"
   ]
  },
  {
   "cell_type": "code",
   "execution_count": 22,
   "id": "5d8eb617",
   "metadata": {},
   "outputs": [
    {
     "name": "stdout",
     "output_type": "stream",
     "text": [
      "failed=111\n",
      "passed=602\n",
      "passed+failed=713\n"
     ]
    }
   ],
   "source": [
    "passed = 0\n",
    "failed = 0\n",
    "for i in range(len(suite.tests)):\n",
    "    table = suite.visual_summary_by_test(f'Test: MFT with vocabullary - template{i+1}')\n",
    "    failed = failed + len(table.candidate_testcases)    \n",
    "    passed = passed + len(table.filtered_testcases)\n",
    "\n",
    "print(f\"{failed=}\", f\"{passed=}\", f\"{passed+failed=}\", sep=\"\\n\")"
   ]
  }
 ],
 "metadata": {
  "interpreter": {
   "hash": "335f8eac43d2678591a8076d8dfd5de078961fe9395efec4dfbbe61965ca9377"
  },
  "kernelspec": {
   "display_name": "Python 3",
   "language": "python",
   "name": "python3"
  },
  "language_info": {
   "codemirror_mode": {
    "name": "ipython",
    "version": 3
   },
   "file_extension": ".py",
   "mimetype": "text/x-python",
   "name": "python",
   "nbconvert_exporter": "python",
   "pygments_lexer": "ipython3",
   "version": "3.11.3"
  }
 },
 "nbformat": 4,
 "nbformat_minor": 5
}
