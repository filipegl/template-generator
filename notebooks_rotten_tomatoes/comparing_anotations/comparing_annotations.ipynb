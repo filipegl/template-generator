{
 "cells": [
  {
   "cell_type": "code",
   "execution_count": 148,
   "metadata": {},
   "outputs": [],
   "source": [
    "import plotly.express as px\n",
    "import plotly.graph_objects as go\n",
    "import pandas as pd\n",
    "from plotly.subplots import make_subplots\n",
    "import os"
   ]
  },
  {
   "cell_type": "code",
   "execution_count": 149,
   "metadata": {},
   "outputs": [],
   "source": [
    "ann1 = \"Filipe\"\n",
    "ann2 = \"Adson\"\n",
    "dataset_id = \"rotten_tomatoes\"\n",
    "\n",
    "df_ann1_summ = pd.read_excel(f\"../test_cases_{dataset_id}_rotulated_NO/summary.xlsx\", sheet_name=\"general_summary\")\n",
    "df_ann2_summ = pd.read_excel(f\"../test_cases_{dataset_id}_adson/summary.xlsx\", sheet_name=\"general_summary\")\n",
    "dataset = \"Rotten Tomatoes\" if dataset_id == \"rotten_tomatoes\" else \"IMDB\""
   ]
  },
  {
   "cell_type": "code",
   "execution_count": 150,
   "metadata": {},
   "outputs": [
    {
     "data": {
      "text/html": [
       "<div>\n",
       "<style scoped>\n",
       "    .dataframe tbody tr th:only-of-type {\n",
       "        vertical-align: middle;\n",
       "    }\n",
       "\n",
       "    .dataframe tbody tr th {\n",
       "        vertical-align: top;\n",
       "    }\n",
       "\n",
       "    .dataframe thead th {\n",
       "        text-align: right;\n",
       "    }\n",
       "</style>\n",
       "<table border=\"1\" class=\"dataframe\">\n",
       "  <thead>\n",
       "    <tr style=\"text-align: right;\">\n",
       "      <th></th>\n",
       "      <th>approach</th>\n",
       "      <th>amostras</th>\n",
       "      <th>passando</th>\n",
       "      <th>passando(%)</th>\n",
       "      <th>falhando</th>\n",
       "      <th>falhando(%)</th>\n",
       "      <th>FN</th>\n",
       "      <th>FN(%)</th>\n",
       "      <th>FP</th>\n",
       "      <th>FP(%)</th>\n",
       "      <th>VN</th>\n",
       "      <th>VN(%)</th>\n",
       "      <th>VP</th>\n",
       "      <th>VP(%)</th>\n",
       "      <th>FN_NO</th>\n",
       "      <th>FN_LE</th>\n",
       "      <th>FN_TE</th>\n",
       "      <th>FP_NO</th>\n",
       "      <th>FP_LE</th>\n",
       "      <th>FP_TE</th>\n",
       "    </tr>\n",
       "  </thead>\n",
       "  <tbody>\n",
       "    <tr>\n",
       "      <th>0</th>\n",
       "      <td>approach1.xlsx</td>\n",
       "      <td>2</td>\n",
       "      <td>1</td>\n",
       "      <td>50.0</td>\n",
       "      <td>1</td>\n",
       "      <td>50.0</td>\n",
       "      <td>1</td>\n",
       "      <td>100.0</td>\n",
       "      <td>1</td>\n",
       "      <td>100.0</td>\n",
       "      <td>0</td>\n",
       "      <td>0.0</td>\n",
       "      <td>0</td>\n",
       "      <td>0.0</td>\n",
       "      <td>1</td>\n",
       "      <td>0</td>\n",
       "      <td>0</td>\n",
       "      <td>1</td>\n",
       "      <td>0</td>\n",
       "      <td>0</td>\n",
       "    </tr>\n",
       "    <tr>\n",
       "      <th>1</th>\n",
       "      <td>approach2.xlsx</td>\n",
       "      <td>6</td>\n",
       "      <td>5</td>\n",
       "      <td>83.3</td>\n",
       "      <td>1</td>\n",
       "      <td>16.7</td>\n",
       "      <td>2</td>\n",
       "      <td>40.0</td>\n",
       "      <td>1</td>\n",
       "      <td>100.0</td>\n",
       "      <td>3</td>\n",
       "      <td>60.0</td>\n",
       "      <td>0</td>\n",
       "      <td>0.0</td>\n",
       "      <td>0</td>\n",
       "      <td>2</td>\n",
       "      <td>0</td>\n",
       "      <td>0</td>\n",
       "      <td>1</td>\n",
       "      <td>0</td>\n",
       "    </tr>\n",
       "    <tr>\n",
       "      <th>2</th>\n",
       "      <td>approach3.xlsx</td>\n",
       "      <td>308</td>\n",
       "      <td>214</td>\n",
       "      <td>69.5</td>\n",
       "      <td>94</td>\n",
       "      <td>30.5</td>\n",
       "      <td>130</td>\n",
       "      <td>60.7</td>\n",
       "      <td>67</td>\n",
       "      <td>71.3</td>\n",
       "      <td>84</td>\n",
       "      <td>39.3</td>\n",
       "      <td>27</td>\n",
       "      <td>28.7</td>\n",
       "      <td>0</td>\n",
       "      <td>8</td>\n",
       "      <td>122</td>\n",
       "      <td>0</td>\n",
       "      <td>19</td>\n",
       "      <td>48</td>\n",
       "    </tr>\n",
       "    <tr>\n",
       "      <th>3</th>\n",
       "      <td>approach4.xlsx</td>\n",
       "      <td>294</td>\n",
       "      <td>207</td>\n",
       "      <td>70.4</td>\n",
       "      <td>87</td>\n",
       "      <td>29.6</td>\n",
       "      <td>129</td>\n",
       "      <td>62.3</td>\n",
       "      <td>58</td>\n",
       "      <td>66.7</td>\n",
       "      <td>78</td>\n",
       "      <td>37.7</td>\n",
       "      <td>29</td>\n",
       "      <td>33.3</td>\n",
       "      <td>0</td>\n",
       "      <td>10</td>\n",
       "      <td>119</td>\n",
       "      <td>0</td>\n",
       "      <td>16</td>\n",
       "      <td>42</td>\n",
       "    </tr>\n",
       "    <tr>\n",
       "      <th>4</th>\n",
       "      <td>approach5.xlsx</td>\n",
       "      <td>386</td>\n",
       "      <td>230</td>\n",
       "      <td>59.6</td>\n",
       "      <td>156</td>\n",
       "      <td>40.4</td>\n",
       "      <td>129</td>\n",
       "      <td>56.1</td>\n",
       "      <td>81</td>\n",
       "      <td>51.9</td>\n",
       "      <td>101</td>\n",
       "      <td>43.9</td>\n",
       "      <td>75</td>\n",
       "      <td>48.1</td>\n",
       "      <td>0</td>\n",
       "      <td>12</td>\n",
       "      <td>117</td>\n",
       "      <td>0</td>\n",
       "      <td>27</td>\n",
       "      <td>54</td>\n",
       "    </tr>\n",
       "    <tr>\n",
       "      <th>5</th>\n",
       "      <td>random.xlsx</td>\n",
       "      <td>229</td>\n",
       "      <td>182</td>\n",
       "      <td>79.5</td>\n",
       "      <td>47</td>\n",
       "      <td>20.5</td>\n",
       "      <td>112</td>\n",
       "      <td>61.5</td>\n",
       "      <td>41</td>\n",
       "      <td>87.2</td>\n",
       "      <td>70</td>\n",
       "      <td>38.5</td>\n",
       "      <td>6</td>\n",
       "      <td>12.8</td>\n",
       "      <td>40</td>\n",
       "      <td>4</td>\n",
       "      <td>68</td>\n",
       "      <td>10</td>\n",
       "      <td>1</td>\n",
       "      <td>30</td>\n",
       "    </tr>\n",
       "  </tbody>\n",
       "</table>\n",
       "</div>"
      ],
      "text/plain": [
       "         approach  amostras  passando  passando(%)  falhando  falhando(%)   \n",
       "0  approach1.xlsx         2         1         50.0         1         50.0  \\\n",
       "1  approach2.xlsx         6         5         83.3         1         16.7   \n",
       "2  approach3.xlsx       308       214         69.5        94         30.5   \n",
       "3  approach4.xlsx       294       207         70.4        87         29.6   \n",
       "4  approach5.xlsx       386       230         59.6       156         40.4   \n",
       "5     random.xlsx       229       182         79.5        47         20.5   \n",
       "\n",
       "    FN  FN(%)  FP  FP(%)   VN  VN(%)  VP  VP(%)  FN_NO  FN_LE  FN_TE  FP_NO   \n",
       "0    1  100.0   1  100.0    0    0.0   0    0.0      1      0      0      1  \\\n",
       "1    2   40.0   1  100.0    3   60.0   0    0.0      0      2      0      0   \n",
       "2  130   60.7  67   71.3   84   39.3  27   28.7      0      8    122      0   \n",
       "3  129   62.3  58   66.7   78   37.7  29   33.3      0     10    119      0   \n",
       "4  129   56.1  81   51.9  101   43.9  75   48.1      0     12    117      0   \n",
       "5  112   61.5  41   87.2   70   38.5   6   12.8     40      4     68     10   \n",
       "\n",
       "   FP_LE  FP_TE  \n",
       "0      0      0  \n",
       "1      1      0  \n",
       "2     19     48  \n",
       "3     16     42  \n",
       "4     27     54  \n",
       "5      1     30  "
      ]
     },
     "execution_count": 150,
     "metadata": {},
     "output_type": "execute_result"
    }
   ],
   "source": [
    "df_ann1_summ"
   ]
  },
  {
   "cell_type": "code",
   "execution_count": 151,
   "metadata": {},
   "outputs": [
    {
     "data": {
      "text/html": [
       "<div>\n",
       "<style scoped>\n",
       "    .dataframe tbody tr th:only-of-type {\n",
       "        vertical-align: middle;\n",
       "    }\n",
       "\n",
       "    .dataframe tbody tr th {\n",
       "        vertical-align: top;\n",
       "    }\n",
       "\n",
       "    .dataframe thead th {\n",
       "        text-align: right;\n",
       "    }\n",
       "</style>\n",
       "<table border=\"1\" class=\"dataframe\">\n",
       "  <thead>\n",
       "    <tr style=\"text-align: right;\">\n",
       "      <th></th>\n",
       "      <th>approach</th>\n",
       "      <th>amostras</th>\n",
       "      <th>passando</th>\n",
       "      <th>passando(%)</th>\n",
       "      <th>falhando</th>\n",
       "      <th>falhando(%)</th>\n",
       "      <th>FN</th>\n",
       "      <th>FN(%)</th>\n",
       "      <th>FP</th>\n",
       "      <th>FP(%)</th>\n",
       "      <th>VN</th>\n",
       "      <th>VN(%)</th>\n",
       "      <th>VP</th>\n",
       "      <th>VP(%)</th>\n",
       "      <th>FN_NO</th>\n",
       "      <th>FN_LE</th>\n",
       "      <th>FN_TE</th>\n",
       "      <th>FP_NO</th>\n",
       "      <th>FP_LE</th>\n",
       "      <th>FP_TE</th>\n",
       "    </tr>\n",
       "  </thead>\n",
       "  <tbody>\n",
       "    <tr>\n",
       "      <th>0</th>\n",
       "      <td>approach1.xlsx</td>\n",
       "      <td>2</td>\n",
       "      <td>1</td>\n",
       "      <td>50.0</td>\n",
       "      <td>1</td>\n",
       "      <td>50.0</td>\n",
       "      <td>1</td>\n",
       "      <td>100.0</td>\n",
       "      <td>1</td>\n",
       "      <td>100.0</td>\n",
       "      <td>0</td>\n",
       "      <td>0.0</td>\n",
       "      <td>0</td>\n",
       "      <td>0.0</td>\n",
       "      <td>1</td>\n",
       "      <td>0</td>\n",
       "      <td>0</td>\n",
       "      <td>1</td>\n",
       "      <td>0</td>\n",
       "      <td>0</td>\n",
       "    </tr>\n",
       "    <tr>\n",
       "      <th>1</th>\n",
       "      <td>approach2.xlsx</td>\n",
       "      <td>6</td>\n",
       "      <td>5</td>\n",
       "      <td>83.3</td>\n",
       "      <td>1</td>\n",
       "      <td>16.7</td>\n",
       "      <td>2</td>\n",
       "      <td>40.0</td>\n",
       "      <td>1</td>\n",
       "      <td>100.0</td>\n",
       "      <td>3</td>\n",
       "      <td>60.0</td>\n",
       "      <td>0</td>\n",
       "      <td>0.0</td>\n",
       "      <td>2</td>\n",
       "      <td>0</td>\n",
       "      <td>0</td>\n",
       "      <td>0</td>\n",
       "      <td>1</td>\n",
       "      <td>0</td>\n",
       "    </tr>\n",
       "    <tr>\n",
       "      <th>2</th>\n",
       "      <td>approach3.xlsx</td>\n",
       "      <td>308</td>\n",
       "      <td>214</td>\n",
       "      <td>69.5</td>\n",
       "      <td>94</td>\n",
       "      <td>30.5</td>\n",
       "      <td>21</td>\n",
       "      <td>9.8</td>\n",
       "      <td>60</td>\n",
       "      <td>63.8</td>\n",
       "      <td>190</td>\n",
       "      <td>88.8</td>\n",
       "      <td>37</td>\n",
       "      <td>39.4</td>\n",
       "      <td>6</td>\n",
       "      <td>7</td>\n",
       "      <td>8</td>\n",
       "      <td>0</td>\n",
       "      <td>37</td>\n",
       "      <td>23</td>\n",
       "    </tr>\n",
       "    <tr>\n",
       "      <th>3</th>\n",
       "      <td>approach4.xlsx</td>\n",
       "      <td>294</td>\n",
       "      <td>207</td>\n",
       "      <td>70.4</td>\n",
       "      <td>87</td>\n",
       "      <td>29.6</td>\n",
       "      <td>26</td>\n",
       "      <td>12.6</td>\n",
       "      <td>46</td>\n",
       "      <td>52.9</td>\n",
       "      <td>181</td>\n",
       "      <td>87.4</td>\n",
       "      <td>41</td>\n",
       "      <td>47.1</td>\n",
       "      <td>6</td>\n",
       "      <td>11</td>\n",
       "      <td>9</td>\n",
       "      <td>0</td>\n",
       "      <td>22</td>\n",
       "      <td>24</td>\n",
       "    </tr>\n",
       "    <tr>\n",
       "      <th>4</th>\n",
       "      <td>approach5.xlsx</td>\n",
       "      <td>386</td>\n",
       "      <td>230</td>\n",
       "      <td>59.6</td>\n",
       "      <td>156</td>\n",
       "      <td>40.4</td>\n",
       "      <td>19</td>\n",
       "      <td>8.3</td>\n",
       "      <td>63</td>\n",
       "      <td>40.4</td>\n",
       "      <td>211</td>\n",
       "      <td>91.7</td>\n",
       "      <td>93</td>\n",
       "      <td>59.6</td>\n",
       "      <td>0</td>\n",
       "      <td>11</td>\n",
       "      <td>8</td>\n",
       "      <td>0</td>\n",
       "      <td>43</td>\n",
       "      <td>20</td>\n",
       "    </tr>\n",
       "    <tr>\n",
       "      <th>5</th>\n",
       "      <td>random.xlsx</td>\n",
       "      <td>229</td>\n",
       "      <td>182</td>\n",
       "      <td>79.5</td>\n",
       "      <td>47</td>\n",
       "      <td>20.5</td>\n",
       "      <td>81</td>\n",
       "      <td>44.5</td>\n",
       "      <td>33</td>\n",
       "      <td>70.2</td>\n",
       "      <td>101</td>\n",
       "      <td>55.5</td>\n",
       "      <td>14</td>\n",
       "      <td>29.8</td>\n",
       "      <td>30</td>\n",
       "      <td>26</td>\n",
       "      <td>25</td>\n",
       "      <td>9</td>\n",
       "      <td>13</td>\n",
       "      <td>11</td>\n",
       "    </tr>\n",
       "  </tbody>\n",
       "</table>\n",
       "</div>"
      ],
      "text/plain": [
       "         approach  amostras  passando  passando(%)  falhando  falhando(%)  FN   \n",
       "0  approach1.xlsx         2         1         50.0         1         50.0   1  \\\n",
       "1  approach2.xlsx         6         5         83.3         1         16.7   2   \n",
       "2  approach3.xlsx       308       214         69.5        94         30.5  21   \n",
       "3  approach4.xlsx       294       207         70.4        87         29.6  26   \n",
       "4  approach5.xlsx       386       230         59.6       156         40.4  19   \n",
       "5     random.xlsx       229       182         79.5        47         20.5  81   \n",
       "\n",
       "   FN(%)  FP  FP(%)   VN  VN(%)  VP  VP(%)  FN_NO  FN_LE  FN_TE  FP_NO  FP_LE   \n",
       "0  100.0   1  100.0    0    0.0   0    0.0      1      0      0      1      0  \\\n",
       "1   40.0   1  100.0    3   60.0   0    0.0      2      0      0      0      1   \n",
       "2    9.8  60   63.8  190   88.8  37   39.4      6      7      8      0     37   \n",
       "3   12.6  46   52.9  181   87.4  41   47.1      6     11      9      0     22   \n",
       "4    8.3  63   40.4  211   91.7  93   59.6      0     11      8      0     43   \n",
       "5   44.5  33   70.2  101   55.5  14   29.8     30     26     25      9     13   \n",
       "\n",
       "   FP_TE  \n",
       "0      0  \n",
       "1      0  \n",
       "2     23  \n",
       "3     24  \n",
       "4     20  \n",
       "5     11  "
      ]
     },
     "execution_count": 151,
     "metadata": {},
     "output_type": "execute_result"
    }
   ],
   "source": [
    "df_ann2_summ\n"
   ]
  },
  {
   "cell_type": "code",
   "execution_count": 152,
   "metadata": {},
   "outputs": [
    {
     "data": {
      "application/vnd.plotly.v1+json": {
       "config": {
        "plotlyServerURL": "https://plot.ly"
       },
       "data": [
        {
         "domain": {
          "x": [
           0,
           0.2888888888888889
          ],
          "y": [
           0.625,
           1
          ]
         },
         "labels": [
          "Passing",
          "Failing"
         ],
         "marker": {
          "colors": [
           "#FF7F0E",
           "#1F77B4"
          ]
         },
         "type": "pie",
         "values": [
          1,
          1
         ]
        },
        {
         "domain": {
          "x": [
           0.35555555555555557,
           0.6444444444444445
          ],
          "y": [
           0.625,
           1
          ]
         },
         "labels": [
          "Passing",
          "Failing"
         ],
         "marker": {
          "colors": [
           "#FF7F0E",
           "#1F77B4"
          ]
         },
         "type": "pie",
         "values": [
          5,
          1
         ]
        },
        {
         "domain": {
          "x": [
           0.7111111111111111,
           1
          ],
          "y": [
           0.625,
           1
          ]
         },
         "labels": [
          "Passing",
          "Failing"
         ],
         "marker": {
          "colors": [
           "#FF7F0E",
           "#1F77B4"
          ]
         },
         "type": "pie",
         "values": [
          214,
          94
         ]
        },
        {
         "domain": {
          "x": [
           0,
           0.2888888888888889
          ],
          "y": [
           0,
           0.375
          ]
         },
         "labels": [
          "Passing",
          "Failing"
         ],
         "marker": {
          "colors": [
           "#FF7F0E",
           "#1F77B4"
          ]
         },
         "type": "pie",
         "values": [
          207,
          87
         ]
        },
        {
         "domain": {
          "x": [
           0.35555555555555557,
           0.6444444444444445
          ],
          "y": [
           0,
           0.375
          ]
         },
         "labels": [
          "Passing",
          "Failing"
         ],
         "marker": {
          "colors": [
           "#FF7F0E",
           "#1F77B4"
          ]
         },
         "type": "pie",
         "values": [
          230,
          156
         ]
        },
        {
         "domain": {
          "x": [
           0.7111111111111111,
           1
          ],
          "y": [
           0,
           0.375
          ]
         },
         "labels": [
          "Passing",
          "Failing"
         ],
         "marker": {
          "colors": [
           "#FF7F0E",
           "#1F77B4"
          ]
         },
         "type": "pie",
         "values": [
          182,
          47
         ]
        }
       ],
       "layout": {
        "annotations": [
         {
          "font": {
           "size": 16
          },
          "showarrow": false,
          "text": "Approach 1",
          "x": 0.14444444444444446,
          "xanchor": "center",
          "xref": "paper",
          "y": 1,
          "yanchor": "bottom",
          "yref": "paper"
         },
         {
          "font": {
           "size": 16
          },
          "showarrow": false,
          "text": "Approach 2",
          "x": 0.5,
          "xanchor": "center",
          "xref": "paper",
          "y": 1,
          "yanchor": "bottom",
          "yref": "paper"
         },
         {
          "font": {
           "size": 16
          },
          "showarrow": false,
          "text": "Approach 3",
          "x": 0.8555555555555556,
          "xanchor": "center",
          "xref": "paper",
          "y": 1,
          "yanchor": "bottom",
          "yref": "paper"
         },
         {
          "font": {
           "size": 16
          },
          "showarrow": false,
          "text": "Approach 4",
          "x": 0.14444444444444446,
          "xanchor": "center",
          "xref": "paper",
          "y": 0.375,
          "yanchor": "bottom",
          "yref": "paper"
         },
         {
          "font": {
           "size": 16
          },
          "showarrow": false,
          "text": "Approach 5",
          "x": 0.5,
          "xanchor": "center",
          "xref": "paper",
          "y": 0.375,
          "yanchor": "bottom",
          "yref": "paper"
         },
         {
          "font": {
           "size": 16
          },
          "showarrow": false,
          "text": "Random",
          "x": 0.8555555555555556,
          "xanchor": "center",
          "xref": "paper",
          "y": 0.375,
          "yanchor": "bottom",
          "yref": "paper"
         }
        ],
        "template": {
         "data": {
          "bar": [
           {
            "error_x": {
             "color": "#2a3f5f"
            },
            "error_y": {
             "color": "#2a3f5f"
            },
            "marker": {
             "line": {
              "color": "#E5ECF6",
              "width": 0.5
             },
             "pattern": {
              "fillmode": "overlay",
              "size": 10,
              "solidity": 0.2
             }
            },
            "type": "bar"
           }
          ],
          "barpolar": [
           {
            "marker": {
             "line": {
              "color": "#E5ECF6",
              "width": 0.5
             },
             "pattern": {
              "fillmode": "overlay",
              "size": 10,
              "solidity": 0.2
             }
            },
            "type": "barpolar"
           }
          ],
          "carpet": [
           {
            "aaxis": {
             "endlinecolor": "#2a3f5f",
             "gridcolor": "white",
             "linecolor": "white",
             "minorgridcolor": "white",
             "startlinecolor": "#2a3f5f"
            },
            "baxis": {
             "endlinecolor": "#2a3f5f",
             "gridcolor": "white",
             "linecolor": "white",
             "minorgridcolor": "white",
             "startlinecolor": "#2a3f5f"
            },
            "type": "carpet"
           }
          ],
          "choropleth": [
           {
            "colorbar": {
             "outlinewidth": 0,
             "ticks": ""
            },
            "type": "choropleth"
           }
          ],
          "contour": [
           {
            "colorbar": {
             "outlinewidth": 0,
             "ticks": ""
            },
            "colorscale": [
             [
              0,
              "#0d0887"
             ],
             [
              0.1111111111111111,
              "#46039f"
             ],
             [
              0.2222222222222222,
              "#7201a8"
             ],
             [
              0.3333333333333333,
              "#9c179e"
             ],
             [
              0.4444444444444444,
              "#bd3786"
             ],
             [
              0.5555555555555556,
              "#d8576b"
             ],
             [
              0.6666666666666666,
              "#ed7953"
             ],
             [
              0.7777777777777778,
              "#fb9f3a"
             ],
             [
              0.8888888888888888,
              "#fdca26"
             ],
             [
              1,
              "#f0f921"
             ]
            ],
            "type": "contour"
           }
          ],
          "contourcarpet": [
           {
            "colorbar": {
             "outlinewidth": 0,
             "ticks": ""
            },
            "type": "contourcarpet"
           }
          ],
          "heatmap": [
           {
            "colorbar": {
             "outlinewidth": 0,
             "ticks": ""
            },
            "colorscale": [
             [
              0,
              "#0d0887"
             ],
             [
              0.1111111111111111,
              "#46039f"
             ],
             [
              0.2222222222222222,
              "#7201a8"
             ],
             [
              0.3333333333333333,
              "#9c179e"
             ],
             [
              0.4444444444444444,
              "#bd3786"
             ],
             [
              0.5555555555555556,
              "#d8576b"
             ],
             [
              0.6666666666666666,
              "#ed7953"
             ],
             [
              0.7777777777777778,
              "#fb9f3a"
             ],
             [
              0.8888888888888888,
              "#fdca26"
             ],
             [
              1,
              "#f0f921"
             ]
            ],
            "type": "heatmap"
           }
          ],
          "heatmapgl": [
           {
            "colorbar": {
             "outlinewidth": 0,
             "ticks": ""
            },
            "colorscale": [
             [
              0,
              "#0d0887"
             ],
             [
              0.1111111111111111,
              "#46039f"
             ],
             [
              0.2222222222222222,
              "#7201a8"
             ],
             [
              0.3333333333333333,
              "#9c179e"
             ],
             [
              0.4444444444444444,
              "#bd3786"
             ],
             [
              0.5555555555555556,
              "#d8576b"
             ],
             [
              0.6666666666666666,
              "#ed7953"
             ],
             [
              0.7777777777777778,
              "#fb9f3a"
             ],
             [
              0.8888888888888888,
              "#fdca26"
             ],
             [
              1,
              "#f0f921"
             ]
            ],
            "type": "heatmapgl"
           }
          ],
          "histogram": [
           {
            "marker": {
             "pattern": {
              "fillmode": "overlay",
              "size": 10,
              "solidity": 0.2
             }
            },
            "type": "histogram"
           }
          ],
          "histogram2d": [
           {
            "colorbar": {
             "outlinewidth": 0,
             "ticks": ""
            },
            "colorscale": [
             [
              0,
              "#0d0887"
             ],
             [
              0.1111111111111111,
              "#46039f"
             ],
             [
              0.2222222222222222,
              "#7201a8"
             ],
             [
              0.3333333333333333,
              "#9c179e"
             ],
             [
              0.4444444444444444,
              "#bd3786"
             ],
             [
              0.5555555555555556,
              "#d8576b"
             ],
             [
              0.6666666666666666,
              "#ed7953"
             ],
             [
              0.7777777777777778,
              "#fb9f3a"
             ],
             [
              0.8888888888888888,
              "#fdca26"
             ],
             [
              1,
              "#f0f921"
             ]
            ],
            "type": "histogram2d"
           }
          ],
          "histogram2dcontour": [
           {
            "colorbar": {
             "outlinewidth": 0,
             "ticks": ""
            },
            "colorscale": [
             [
              0,
              "#0d0887"
             ],
             [
              0.1111111111111111,
              "#46039f"
             ],
             [
              0.2222222222222222,
              "#7201a8"
             ],
             [
              0.3333333333333333,
              "#9c179e"
             ],
             [
              0.4444444444444444,
              "#bd3786"
             ],
             [
              0.5555555555555556,
              "#d8576b"
             ],
             [
              0.6666666666666666,
              "#ed7953"
             ],
             [
              0.7777777777777778,
              "#fb9f3a"
             ],
             [
              0.8888888888888888,
              "#fdca26"
             ],
             [
              1,
              "#f0f921"
             ]
            ],
            "type": "histogram2dcontour"
           }
          ],
          "mesh3d": [
           {
            "colorbar": {
             "outlinewidth": 0,
             "ticks": ""
            },
            "type": "mesh3d"
           }
          ],
          "parcoords": [
           {
            "line": {
             "colorbar": {
              "outlinewidth": 0,
              "ticks": ""
             }
            },
            "type": "parcoords"
           }
          ],
          "pie": [
           {
            "automargin": true,
            "type": "pie"
           }
          ],
          "scatter": [
           {
            "fillpattern": {
             "fillmode": "overlay",
             "size": 10,
             "solidity": 0.2
            },
            "type": "scatter"
           }
          ],
          "scatter3d": [
           {
            "line": {
             "colorbar": {
              "outlinewidth": 0,
              "ticks": ""
             }
            },
            "marker": {
             "colorbar": {
              "outlinewidth": 0,
              "ticks": ""
             }
            },
            "type": "scatter3d"
           }
          ],
          "scattercarpet": [
           {
            "marker": {
             "colorbar": {
              "outlinewidth": 0,
              "ticks": ""
             }
            },
            "type": "scattercarpet"
           }
          ],
          "scattergeo": [
           {
            "marker": {
             "colorbar": {
              "outlinewidth": 0,
              "ticks": ""
             }
            },
            "type": "scattergeo"
           }
          ],
          "scattergl": [
           {
            "marker": {
             "colorbar": {
              "outlinewidth": 0,
              "ticks": ""
             }
            },
            "type": "scattergl"
           }
          ],
          "scattermapbox": [
           {
            "marker": {
             "colorbar": {
              "outlinewidth": 0,
              "ticks": ""
             }
            },
            "type": "scattermapbox"
           }
          ],
          "scatterpolar": [
           {
            "marker": {
             "colorbar": {
              "outlinewidth": 0,
              "ticks": ""
             }
            },
            "type": "scatterpolar"
           }
          ],
          "scatterpolargl": [
           {
            "marker": {
             "colorbar": {
              "outlinewidth": 0,
              "ticks": ""
             }
            },
            "type": "scatterpolargl"
           }
          ],
          "scatterternary": [
           {
            "marker": {
             "colorbar": {
              "outlinewidth": 0,
              "ticks": ""
             }
            },
            "type": "scatterternary"
           }
          ],
          "surface": [
           {
            "colorbar": {
             "outlinewidth": 0,
             "ticks": ""
            },
            "colorscale": [
             [
              0,
              "#0d0887"
             ],
             [
              0.1111111111111111,
              "#46039f"
             ],
             [
              0.2222222222222222,
              "#7201a8"
             ],
             [
              0.3333333333333333,
              "#9c179e"
             ],
             [
              0.4444444444444444,
              "#bd3786"
             ],
             [
              0.5555555555555556,
              "#d8576b"
             ],
             [
              0.6666666666666666,
              "#ed7953"
             ],
             [
              0.7777777777777778,
              "#fb9f3a"
             ],
             [
              0.8888888888888888,
              "#fdca26"
             ],
             [
              1,
              "#f0f921"
             ]
            ],
            "type": "surface"
           }
          ],
          "table": [
           {
            "cells": {
             "fill": {
              "color": "#EBF0F8"
             },
             "line": {
              "color": "white"
             }
            },
            "header": {
             "fill": {
              "color": "#C8D4E3"
             },
             "line": {
              "color": "white"
             }
            },
            "type": "table"
           }
          ]
         },
         "layout": {
          "annotationdefaults": {
           "arrowcolor": "#2a3f5f",
           "arrowhead": 0,
           "arrowwidth": 1
          },
          "autotypenumbers": "strict",
          "coloraxis": {
           "colorbar": {
            "outlinewidth": 0,
            "ticks": ""
           }
          },
          "colorscale": {
           "diverging": [
            [
             0,
             "#8e0152"
            ],
            [
             0.1,
             "#c51b7d"
            ],
            [
             0.2,
             "#de77ae"
            ],
            [
             0.3,
             "#f1b6da"
            ],
            [
             0.4,
             "#fde0ef"
            ],
            [
             0.5,
             "#f7f7f7"
            ],
            [
             0.6,
             "#e6f5d0"
            ],
            [
             0.7,
             "#b8e186"
            ],
            [
             0.8,
             "#7fbc41"
            ],
            [
             0.9,
             "#4d9221"
            ],
            [
             1,
             "#276419"
            ]
           ],
           "sequential": [
            [
             0,
             "#0d0887"
            ],
            [
             0.1111111111111111,
             "#46039f"
            ],
            [
             0.2222222222222222,
             "#7201a8"
            ],
            [
             0.3333333333333333,
             "#9c179e"
            ],
            [
             0.4444444444444444,
             "#bd3786"
            ],
            [
             0.5555555555555556,
             "#d8576b"
            ],
            [
             0.6666666666666666,
             "#ed7953"
            ],
            [
             0.7777777777777778,
             "#fb9f3a"
            ],
            [
             0.8888888888888888,
             "#fdca26"
            ],
            [
             1,
             "#f0f921"
            ]
           ],
           "sequentialminus": [
            [
             0,
             "#0d0887"
            ],
            [
             0.1111111111111111,
             "#46039f"
            ],
            [
             0.2222222222222222,
             "#7201a8"
            ],
            [
             0.3333333333333333,
             "#9c179e"
            ],
            [
             0.4444444444444444,
             "#bd3786"
            ],
            [
             0.5555555555555556,
             "#d8576b"
            ],
            [
             0.6666666666666666,
             "#ed7953"
            ],
            [
             0.7777777777777778,
             "#fb9f3a"
            ],
            [
             0.8888888888888888,
             "#fdca26"
            ],
            [
             1,
             "#f0f921"
            ]
           ]
          },
          "colorway": [
           "#636efa",
           "#EF553B",
           "#00cc96",
           "#ab63fa",
           "#FFA15A",
           "#19d3f3",
           "#FF6692",
           "#B6E880",
           "#FF97FF",
           "#FECB52"
          ],
          "font": {
           "color": "#2a3f5f"
          },
          "geo": {
           "bgcolor": "white",
           "lakecolor": "white",
           "landcolor": "#E5ECF6",
           "showlakes": true,
           "showland": true,
           "subunitcolor": "white"
          },
          "hoverlabel": {
           "align": "left"
          },
          "hovermode": "closest",
          "mapbox": {
           "style": "light"
          },
          "paper_bgcolor": "white",
          "plot_bgcolor": "#E5ECF6",
          "polar": {
           "angularaxis": {
            "gridcolor": "white",
            "linecolor": "white",
            "ticks": ""
           },
           "bgcolor": "#E5ECF6",
           "radialaxis": {
            "gridcolor": "white",
            "linecolor": "white",
            "ticks": ""
           }
          },
          "scene": {
           "xaxis": {
            "backgroundcolor": "#E5ECF6",
            "gridcolor": "white",
            "gridwidth": 2,
            "linecolor": "white",
            "showbackground": true,
            "ticks": "",
            "zerolinecolor": "white"
           },
           "yaxis": {
            "backgroundcolor": "#E5ECF6",
            "gridcolor": "white",
            "gridwidth": 2,
            "linecolor": "white",
            "showbackground": true,
            "ticks": "",
            "zerolinecolor": "white"
           },
           "zaxis": {
            "backgroundcolor": "#E5ECF6",
            "gridcolor": "white",
            "gridwidth": 2,
            "linecolor": "white",
            "showbackground": true,
            "ticks": "",
            "zerolinecolor": "white"
           }
          },
          "shapedefaults": {
           "line": {
            "color": "#2a3f5f"
           }
          },
          "ternary": {
           "aaxis": {
            "gridcolor": "white",
            "linecolor": "white",
            "ticks": ""
           },
           "baxis": {
            "gridcolor": "white",
            "linecolor": "white",
            "ticks": ""
           },
           "bgcolor": "#E5ECF6",
           "caxis": {
            "gridcolor": "white",
            "linecolor": "white",
            "ticks": ""
           }
          },
          "title": {
           "x": 0.05
          },
          "xaxis": {
           "automargin": true,
           "gridcolor": "white",
           "linecolor": "white",
           "ticks": "",
           "title": {
            "standoff": 15
           },
           "zerolinecolor": "white",
           "zerolinewidth": 2
          },
          "yaxis": {
           "automargin": true,
           "gridcolor": "white",
           "linecolor": "white",
           "ticks": "",
           "title": {
            "standoff": 15
           },
           "zerolinecolor": "white",
           "zerolinewidth": 2
          }
         }
        },
        "title": {
         "text": "[Rotten Tomatoes] Passing x Failing for each approach"
        }
       }
      },
      "text/html": [
       "<div>                            <div id=\"2959b21a-5ca7-4887-8704-a9c2cab86e11\" class=\"plotly-graph-div\" style=\"height:525px; width:100%;\"></div>            <script type=\"text/javascript\">                require([\"plotly\"], function(Plotly) {                    window.PLOTLYENV=window.PLOTLYENV || {};                                    if (document.getElementById(\"2959b21a-5ca7-4887-8704-a9c2cab86e11\")) {                    Plotly.newPlot(                        \"2959b21a-5ca7-4887-8704-a9c2cab86e11\",                        [{\"labels\":[\"Passing\",\"Failing\"],\"values\":[1,1],\"type\":\"pie\",\"domain\":{\"x\":[0.0,0.2888888888888889],\"y\":[0.625,1.0]},\"marker\":{\"colors\":[\"#FF7F0E\",\"#1F77B4\"]}},{\"labels\":[\"Passing\",\"Failing\"],\"values\":[5,1],\"type\":\"pie\",\"domain\":{\"x\":[0.35555555555555557,0.6444444444444445],\"y\":[0.625,1.0]},\"marker\":{\"colors\":[\"#FF7F0E\",\"#1F77B4\"]}},{\"labels\":[\"Passing\",\"Failing\"],\"values\":[214,94],\"type\":\"pie\",\"domain\":{\"x\":[0.7111111111111111,1.0],\"y\":[0.625,1.0]},\"marker\":{\"colors\":[\"#FF7F0E\",\"#1F77B4\"]}},{\"labels\":[\"Passing\",\"Failing\"],\"values\":[207,87],\"type\":\"pie\",\"domain\":{\"x\":[0.0,0.2888888888888889],\"y\":[0.0,0.375]},\"marker\":{\"colors\":[\"#FF7F0E\",\"#1F77B4\"]}},{\"labels\":[\"Passing\",\"Failing\"],\"values\":[230,156],\"type\":\"pie\",\"domain\":{\"x\":[0.35555555555555557,0.6444444444444445],\"y\":[0.0,0.375]},\"marker\":{\"colors\":[\"#FF7F0E\",\"#1F77B4\"]}},{\"labels\":[\"Passing\",\"Failing\"],\"values\":[182,47],\"type\":\"pie\",\"domain\":{\"x\":[0.7111111111111111,1.0],\"y\":[0.0,0.375]},\"marker\":{\"colors\":[\"#FF7F0E\",\"#1F77B4\"]}}],                        {\"template\":{\"data\":{\"histogram2dcontour\":[{\"type\":\"histogram2dcontour\",\"colorbar\":{\"outlinewidth\":0,\"ticks\":\"\"},\"colorscale\":[[0.0,\"#0d0887\"],[0.1111111111111111,\"#46039f\"],[0.2222222222222222,\"#7201a8\"],[0.3333333333333333,\"#9c179e\"],[0.4444444444444444,\"#bd3786\"],[0.5555555555555556,\"#d8576b\"],[0.6666666666666666,\"#ed7953\"],[0.7777777777777778,\"#fb9f3a\"],[0.8888888888888888,\"#fdca26\"],[1.0,\"#f0f921\"]]}],\"choropleth\":[{\"type\":\"choropleth\",\"colorbar\":{\"outlinewidth\":0,\"ticks\":\"\"}}],\"histogram2d\":[{\"type\":\"histogram2d\",\"colorbar\":{\"outlinewidth\":0,\"ticks\":\"\"},\"colorscale\":[[0.0,\"#0d0887\"],[0.1111111111111111,\"#46039f\"],[0.2222222222222222,\"#7201a8\"],[0.3333333333333333,\"#9c179e\"],[0.4444444444444444,\"#bd3786\"],[0.5555555555555556,\"#d8576b\"],[0.6666666666666666,\"#ed7953\"],[0.7777777777777778,\"#fb9f3a\"],[0.8888888888888888,\"#fdca26\"],[1.0,\"#f0f921\"]]}],\"heatmap\":[{\"type\":\"heatmap\",\"colorbar\":{\"outlinewidth\":0,\"ticks\":\"\"},\"colorscale\":[[0.0,\"#0d0887\"],[0.1111111111111111,\"#46039f\"],[0.2222222222222222,\"#7201a8\"],[0.3333333333333333,\"#9c179e\"],[0.4444444444444444,\"#bd3786\"],[0.5555555555555556,\"#d8576b\"],[0.6666666666666666,\"#ed7953\"],[0.7777777777777778,\"#fb9f3a\"],[0.8888888888888888,\"#fdca26\"],[1.0,\"#f0f921\"]]}],\"heatmapgl\":[{\"type\":\"heatmapgl\",\"colorbar\":{\"outlinewidth\":0,\"ticks\":\"\"},\"colorscale\":[[0.0,\"#0d0887\"],[0.1111111111111111,\"#46039f\"],[0.2222222222222222,\"#7201a8\"],[0.3333333333333333,\"#9c179e\"],[0.4444444444444444,\"#bd3786\"],[0.5555555555555556,\"#d8576b\"],[0.6666666666666666,\"#ed7953\"],[0.7777777777777778,\"#fb9f3a\"],[0.8888888888888888,\"#fdca26\"],[1.0,\"#f0f921\"]]}],\"contourcarpet\":[{\"type\":\"contourcarpet\",\"colorbar\":{\"outlinewidth\":0,\"ticks\":\"\"}}],\"contour\":[{\"type\":\"contour\",\"colorbar\":{\"outlinewidth\":0,\"ticks\":\"\"},\"colorscale\":[[0.0,\"#0d0887\"],[0.1111111111111111,\"#46039f\"],[0.2222222222222222,\"#7201a8\"],[0.3333333333333333,\"#9c179e\"],[0.4444444444444444,\"#bd3786\"],[0.5555555555555556,\"#d8576b\"],[0.6666666666666666,\"#ed7953\"],[0.7777777777777778,\"#fb9f3a\"],[0.8888888888888888,\"#fdca26\"],[1.0,\"#f0f921\"]]}],\"surface\":[{\"type\":\"surface\",\"colorbar\":{\"outlinewidth\":0,\"ticks\":\"\"},\"colorscale\":[[0.0,\"#0d0887\"],[0.1111111111111111,\"#46039f\"],[0.2222222222222222,\"#7201a8\"],[0.3333333333333333,\"#9c179e\"],[0.4444444444444444,\"#bd3786\"],[0.5555555555555556,\"#d8576b\"],[0.6666666666666666,\"#ed7953\"],[0.7777777777777778,\"#fb9f3a\"],[0.8888888888888888,\"#fdca26\"],[1.0,\"#f0f921\"]]}],\"mesh3d\":[{\"type\":\"mesh3d\",\"colorbar\":{\"outlinewidth\":0,\"ticks\":\"\"}}],\"scatter\":[{\"fillpattern\":{\"fillmode\":\"overlay\",\"size\":10,\"solidity\":0.2},\"type\":\"scatter\"}],\"parcoords\":[{\"type\":\"parcoords\",\"line\":{\"colorbar\":{\"outlinewidth\":0,\"ticks\":\"\"}}}],\"scatterpolargl\":[{\"type\":\"scatterpolargl\",\"marker\":{\"colorbar\":{\"outlinewidth\":0,\"ticks\":\"\"}}}],\"bar\":[{\"error_x\":{\"color\":\"#2a3f5f\"},\"error_y\":{\"color\":\"#2a3f5f\"},\"marker\":{\"line\":{\"color\":\"#E5ECF6\",\"width\":0.5},\"pattern\":{\"fillmode\":\"overlay\",\"size\":10,\"solidity\":0.2}},\"type\":\"bar\"}],\"scattergeo\":[{\"type\":\"scattergeo\",\"marker\":{\"colorbar\":{\"outlinewidth\":0,\"ticks\":\"\"}}}],\"scatterpolar\":[{\"type\":\"scatterpolar\",\"marker\":{\"colorbar\":{\"outlinewidth\":0,\"ticks\":\"\"}}}],\"histogram\":[{\"marker\":{\"pattern\":{\"fillmode\":\"overlay\",\"size\":10,\"solidity\":0.2}},\"type\":\"histogram\"}],\"scattergl\":[{\"type\":\"scattergl\",\"marker\":{\"colorbar\":{\"outlinewidth\":0,\"ticks\":\"\"}}}],\"scatter3d\":[{\"type\":\"scatter3d\",\"line\":{\"colorbar\":{\"outlinewidth\":0,\"ticks\":\"\"}},\"marker\":{\"colorbar\":{\"outlinewidth\":0,\"ticks\":\"\"}}}],\"scattermapbox\":[{\"type\":\"scattermapbox\",\"marker\":{\"colorbar\":{\"outlinewidth\":0,\"ticks\":\"\"}}}],\"scatterternary\":[{\"type\":\"scatterternary\",\"marker\":{\"colorbar\":{\"outlinewidth\":0,\"ticks\":\"\"}}}],\"scattercarpet\":[{\"type\":\"scattercarpet\",\"marker\":{\"colorbar\":{\"outlinewidth\":0,\"ticks\":\"\"}}}],\"carpet\":[{\"aaxis\":{\"endlinecolor\":\"#2a3f5f\",\"gridcolor\":\"white\",\"linecolor\":\"white\",\"minorgridcolor\":\"white\",\"startlinecolor\":\"#2a3f5f\"},\"baxis\":{\"endlinecolor\":\"#2a3f5f\",\"gridcolor\":\"white\",\"linecolor\":\"white\",\"minorgridcolor\":\"white\",\"startlinecolor\":\"#2a3f5f\"},\"type\":\"carpet\"}],\"table\":[{\"cells\":{\"fill\":{\"color\":\"#EBF0F8\"},\"line\":{\"color\":\"white\"}},\"header\":{\"fill\":{\"color\":\"#C8D4E3\"},\"line\":{\"color\":\"white\"}},\"type\":\"table\"}],\"barpolar\":[{\"marker\":{\"line\":{\"color\":\"#E5ECF6\",\"width\":0.5},\"pattern\":{\"fillmode\":\"overlay\",\"size\":10,\"solidity\":0.2}},\"type\":\"barpolar\"}],\"pie\":[{\"automargin\":true,\"type\":\"pie\"}]},\"layout\":{\"autotypenumbers\":\"strict\",\"colorway\":[\"#636efa\",\"#EF553B\",\"#00cc96\",\"#ab63fa\",\"#FFA15A\",\"#19d3f3\",\"#FF6692\",\"#B6E880\",\"#FF97FF\",\"#FECB52\"],\"font\":{\"color\":\"#2a3f5f\"},\"hovermode\":\"closest\",\"hoverlabel\":{\"align\":\"left\"},\"paper_bgcolor\":\"white\",\"plot_bgcolor\":\"#E5ECF6\",\"polar\":{\"bgcolor\":\"#E5ECF6\",\"angularaxis\":{\"gridcolor\":\"white\",\"linecolor\":\"white\",\"ticks\":\"\"},\"radialaxis\":{\"gridcolor\":\"white\",\"linecolor\":\"white\",\"ticks\":\"\"}},\"ternary\":{\"bgcolor\":\"#E5ECF6\",\"aaxis\":{\"gridcolor\":\"white\",\"linecolor\":\"white\",\"ticks\":\"\"},\"baxis\":{\"gridcolor\":\"white\",\"linecolor\":\"white\",\"ticks\":\"\"},\"caxis\":{\"gridcolor\":\"white\",\"linecolor\":\"white\",\"ticks\":\"\"}},\"coloraxis\":{\"colorbar\":{\"outlinewidth\":0,\"ticks\":\"\"}},\"colorscale\":{\"sequential\":[[0.0,\"#0d0887\"],[0.1111111111111111,\"#46039f\"],[0.2222222222222222,\"#7201a8\"],[0.3333333333333333,\"#9c179e\"],[0.4444444444444444,\"#bd3786\"],[0.5555555555555556,\"#d8576b\"],[0.6666666666666666,\"#ed7953\"],[0.7777777777777778,\"#fb9f3a\"],[0.8888888888888888,\"#fdca26\"],[1.0,\"#f0f921\"]],\"sequentialminus\":[[0.0,\"#0d0887\"],[0.1111111111111111,\"#46039f\"],[0.2222222222222222,\"#7201a8\"],[0.3333333333333333,\"#9c179e\"],[0.4444444444444444,\"#bd3786\"],[0.5555555555555556,\"#d8576b\"],[0.6666666666666666,\"#ed7953\"],[0.7777777777777778,\"#fb9f3a\"],[0.8888888888888888,\"#fdca26\"],[1.0,\"#f0f921\"]],\"diverging\":[[0,\"#8e0152\"],[0.1,\"#c51b7d\"],[0.2,\"#de77ae\"],[0.3,\"#f1b6da\"],[0.4,\"#fde0ef\"],[0.5,\"#f7f7f7\"],[0.6,\"#e6f5d0\"],[0.7,\"#b8e186\"],[0.8,\"#7fbc41\"],[0.9,\"#4d9221\"],[1,\"#276419\"]]},\"xaxis\":{\"gridcolor\":\"white\",\"linecolor\":\"white\",\"ticks\":\"\",\"title\":{\"standoff\":15},\"zerolinecolor\":\"white\",\"automargin\":true,\"zerolinewidth\":2},\"yaxis\":{\"gridcolor\":\"white\",\"linecolor\":\"white\",\"ticks\":\"\",\"title\":{\"standoff\":15},\"zerolinecolor\":\"white\",\"automargin\":true,\"zerolinewidth\":2},\"scene\":{\"xaxis\":{\"backgroundcolor\":\"#E5ECF6\",\"gridcolor\":\"white\",\"linecolor\":\"white\",\"showbackground\":true,\"ticks\":\"\",\"zerolinecolor\":\"white\",\"gridwidth\":2},\"yaxis\":{\"backgroundcolor\":\"#E5ECF6\",\"gridcolor\":\"white\",\"linecolor\":\"white\",\"showbackground\":true,\"ticks\":\"\",\"zerolinecolor\":\"white\",\"gridwidth\":2},\"zaxis\":{\"backgroundcolor\":\"#E5ECF6\",\"gridcolor\":\"white\",\"linecolor\":\"white\",\"showbackground\":true,\"ticks\":\"\",\"zerolinecolor\":\"white\",\"gridwidth\":2}},\"shapedefaults\":{\"line\":{\"color\":\"#2a3f5f\"}},\"annotationdefaults\":{\"arrowcolor\":\"#2a3f5f\",\"arrowhead\":0,\"arrowwidth\":1},\"geo\":{\"bgcolor\":\"white\",\"landcolor\":\"#E5ECF6\",\"subunitcolor\":\"white\",\"showland\":true,\"showlakes\":true,\"lakecolor\":\"white\"},\"title\":{\"x\":0.05},\"mapbox\":{\"style\":\"light\"}}},\"annotations\":[{\"font\":{\"size\":16},\"showarrow\":false,\"text\":\"Approach 1\",\"x\":0.14444444444444446,\"xanchor\":\"center\",\"xref\":\"paper\",\"y\":1.0,\"yanchor\":\"bottom\",\"yref\":\"paper\"},{\"font\":{\"size\":16},\"showarrow\":false,\"text\":\"Approach 2\",\"x\":0.5,\"xanchor\":\"center\",\"xref\":\"paper\",\"y\":1.0,\"yanchor\":\"bottom\",\"yref\":\"paper\"},{\"font\":{\"size\":16},\"showarrow\":false,\"text\":\"Approach 3\",\"x\":0.8555555555555556,\"xanchor\":\"center\",\"xref\":\"paper\",\"y\":1.0,\"yanchor\":\"bottom\",\"yref\":\"paper\"},{\"font\":{\"size\":16},\"showarrow\":false,\"text\":\"Approach 4\",\"x\":0.14444444444444446,\"xanchor\":\"center\",\"xref\":\"paper\",\"y\":0.375,\"yanchor\":\"bottom\",\"yref\":\"paper\"},{\"font\":{\"size\":16},\"showarrow\":false,\"text\":\"Approach 5\",\"x\":0.5,\"xanchor\":\"center\",\"xref\":\"paper\",\"y\":0.375,\"yanchor\":\"bottom\",\"yref\":\"paper\"},{\"font\":{\"size\":16},\"showarrow\":false,\"text\":\"Random\",\"x\":0.8555555555555556,\"xanchor\":\"center\",\"xref\":\"paper\",\"y\":0.375,\"yanchor\":\"bottom\",\"yref\":\"paper\"}],\"title\":{\"text\":\"[Rotten Tomatoes] Passing x Failing for each approach\"}},                        {\"responsive\": true}                    ).then(function(){\n",
       "                            \n",
       "var gd = document.getElementById('2959b21a-5ca7-4887-8704-a9c2cab86e11');\n",
       "var x = new MutationObserver(function (mutations, observer) {{\n",
       "        var display = window.getComputedStyle(gd).display;\n",
       "        if (!display || display === 'none') {{\n",
       "            console.log([gd, 'removed!']);\n",
       "            Plotly.purge(gd);\n",
       "            observer.disconnect();\n",
       "        }}\n",
       "}});\n",
       "\n",
       "// Listen for the removal of the full notebook cells\n",
       "var notebookContainer = gd.closest('#notebook-container');\n",
       "if (notebookContainer) {{\n",
       "    x.observe(notebookContainer, {childList: true});\n",
       "}}\n",
       "\n",
       "// Listen for the clearing of the current output cell\n",
       "var outputEl = gd.closest('.output');\n",
       "if (outputEl) {{\n",
       "    x.observe(outputEl, {childList: true});\n",
       "}}\n",
       "\n",
       "                        })                };                });            </script>        </div>"
      ]
     },
     "metadata": {},
     "output_type": "display_data"
    }
   ],
   "source": [
    "labels = [\"Passing\", \"Failing\"]\n",
    "specs=[[{'type':'domain'}, {'type':'domain'}, {'type':'domain'}], [{'type':'domain'}, {'type':'domain'}, {'type':'domain'}]]\n",
    "fig = make_subplots(rows=2, cols=3, specs=specs, subplot_titles=[\" \", \" \", \" \", \" \", \" \", \" \"])\n",
    "fig.add_trace(go.Pie(labels=labels, values=[df_ann1_summ.iloc[0][\"passando\"], df_ann1_summ.iloc[0][\"falhando\"]]), 1, 1)\n",
    "fig.layout.annotations[0].update(text=\"Approach 1\")\n",
    "fig.add_trace(go.Pie(labels=labels, values=[df_ann1_summ.iloc[1][\"passando\"], df_ann1_summ.iloc[1][\"falhando\"]]), 1, 2)\n",
    "fig.layout.annotations[1].update(text=\"Approach 2\")\n",
    "fig.add_trace(go.Pie(labels=labels, values=[df_ann1_summ.iloc[2][\"passando\"], df_ann1_summ.iloc[2][\"falhando\"]]), 1, 3)\n",
    "fig.layout.annotations[2].update(text=\"Approach 3\")\n",
    "fig.add_trace(go.Pie(labels=labels, values=[df_ann1_summ.iloc[3][\"passando\"], df_ann1_summ.iloc[3][\"falhando\"]]), 2, 1)\n",
    "fig.layout.annotations[3].update(text=\"Approach 4\")\n",
    "fig.add_trace(go.Pie(labels=labels, values=[df_ann1_summ.iloc[4][\"passando\"], df_ann1_summ.iloc[4][\"falhando\"]]), 2, 2)\n",
    "fig.layout.annotations[4].update(text=\"Approach 5\")\n",
    "fig.add_trace(go.Pie(labels=labels, values=[df_ann1_summ.iloc[5][\"passando\"], df_ann1_summ.iloc[5][\"falhando\"]]), 2, 3)\n",
    "fig.layout.annotations[5].update(text=\"Random\")\n",
    "\n",
    "fig.update_traces(marker=dict(colors=[px.colors.qualitative.D3[1], px.colors.qualitative.D3[0]]), )\n",
    "fig.update_layout(\n",
    "    title_text=f\"[{dataset}] Passing x Failing for each approach\",\n",
    ")\n",
    "fig.show()"
   ]
  },
  {
   "cell_type": "code",
   "execution_count": 174,
   "metadata": {},
   "outputs": [
    {
     "name": "stdout",
     "output_type": "stream",
     "text": [
      "badly_generated_test_cases_ann1:\n",
      "100.0%\t50.0%\t64.0%\t63.6%\t54.4%\t66.8%\n",
      "badly_generated_test_cases_ann2:\n",
      "100.0%\t50.0%\t26.3%\t24.5%\t21.2%\t49.8%\n"
     ]
    }
   ],
   "source": [
    "badly_generated_test_cases_ann1 = (df_ann1_summ[\"FN\"] + df_ann1_summ[\"FP\"]) / df_ann1_summ[\"amostras\"] * 100\n",
    "badly_generated_test_cases_ann2 = (df_ann2_summ[\"FN\"] + df_ann2_summ[\"FP\"]) / df_ann2_summ[\"amostras\"] * 100\n",
    "\n",
    "print(\"badly_generated_test_cases_ann1:\")\n",
    "print(*badly_generated_test_cases_ann1.map(lambda x: f\"{x:.1f}%\").to_list(), sep=\"\\t\")\n",
    "print(\"badly_generated_test_cases_ann2:\")\n",
    "print(*badly_generated_test_cases_ann2.map(lambda x: f\"{x:.1f}%\").to_list(), sep=\"\\t\")"
   ]
  },
  {
   "cell_type": "code",
   "execution_count": 234,
   "metadata": {},
   "outputs": [
    {
     "data": {
      "application/vnd.plotly.v1+json": {
       "config": {
        "plotlyServerURL": "https://plot.ly"
       },
       "data": [
        {
         "marker": {
          "color": "#F58518"
         },
         "name": "Annotator1 (FN)",
         "text": [
          "100.0",
          "40.0",
          "60.7",
          "62.3",
          "56.1",
          "61.5"
         ],
         "type": "bar",
         "x": [
          "FN   |   FP   |    FN     |      FP</br></br> Ann1      |       Ann2</br>approach1",
          "FN   |   FP   |    FN     |      FP</br></br> Ann1      |       Ann2</br>approach2",
          "FN   |   FP   |    FN     |      FP</br></br> Ann1      |       Ann2</br>approach3",
          "FN   |   FP   |    FN     |      FP</br></br> Ann1      |       Ann2</br>approach4",
          "FN   |   FP   |    FN     |      FP</br></br> Ann1      |       Ann2</br>approach5",
          "FN   |   FP   |    FN     |      FP</br></br> Ann1      |       Ann2</br>random"
         ],
         "y": [
          1,
          0.4,
          0.607,
          0.623,
          0.561,
          0.615
         ]
        },
        {
         "marker": {
          "color": "#4C78A8"
         },
         "name": "Annotator1 (FP)",
         "text": [
          "100.0",
          "100.0",
          "71.3",
          "66.7",
          "51.9",
          "87.2"
         ],
         "type": "bar",
         "x": [
          "FN   |   FP   |    FN     |      FP</br></br> Ann1      |       Ann2</br>approach1",
          "FN   |   FP   |    FN     |      FP</br></br> Ann1      |       Ann2</br>approach2",
          "FN   |   FP   |    FN     |      FP</br></br> Ann1      |       Ann2</br>approach3",
          "FN   |   FP   |    FN     |      FP</br></br> Ann1      |       Ann2</br>approach4",
          "FN   |   FP   |    FN     |      FP</br></br> Ann1      |       Ann2</br>approach5",
          "FN   |   FP   |    FN     |      FP</br></br> Ann1      |       Ann2</br>random"
         ],
         "y": [
          1,
          1,
          0.713,
          0.667,
          0.519,
          0.872
         ]
        },
        {
         "marker": {
          "color": "rgb(253,180,98)"
         },
         "name": "Annotator2 (FN)",
         "text": [
          "100.0",
          "40.0",
          "9.8",
          "12.6",
          "8.3",
          "44.5"
         ],
         "type": "bar",
         "x": [
          "FN   |   FP   |    FN     |      FP</br></br> Ann1      |       Ann2</br>approach1",
          "FN   |   FP   |    FN     |      FP</br></br> Ann1      |       Ann2</br>approach2",
          "FN   |   FP   |    FN     |      FP</br></br> Ann1      |       Ann2</br>approach3",
          "FN   |   FP   |    FN     |      FP</br></br> Ann1      |       Ann2</br>approach4",
          "FN   |   FP   |    FN     |      FP</br></br> Ann1      |       Ann2</br>approach5",
          "FN   |   FP   |    FN     |      FP</br></br> Ann1      |       Ann2</br>random"
         ],
         "y": [
          1,
          0.4,
          0.098,
          0.126,
          0.083,
          0.445
         ]
        },
        {
         "marker": {
          "color": "rgb(128,177,211)"
         },
         "name": "Annotator2 (FP)",
         "text": [
          "100.0",
          "100.0",
          "63.8",
          "52.9",
          "40.4",
          "70.2"
         ],
         "type": "bar",
         "x": [
          "FN   |   FP   |    FN     |      FP</br></br> Ann1      |       Ann2</br>approach1",
          "FN   |   FP   |    FN     |      FP</br></br> Ann1      |       Ann2</br>approach2",
          "FN   |   FP   |    FN     |      FP</br></br> Ann1      |       Ann2</br>approach3",
          "FN   |   FP   |    FN     |      FP</br></br> Ann1      |       Ann2</br>approach4",
          "FN   |   FP   |    FN     |      FP</br></br> Ann1      |       Ann2</br>approach5",
          "FN   |   FP   |    FN     |      FP</br></br> Ann1      |       Ann2</br>random"
         ],
         "y": [
          1,
          1,
          0.638,
          0.529,
          0.40399999999999997,
          0.7020000000000001
         ]
        }
       ],
       "layout": {
        "barmode": "group",
        "template": {
         "data": {
          "bar": [
           {
            "error_x": {
             "color": "#2a3f5f"
            },
            "error_y": {
             "color": "#2a3f5f"
            },
            "marker": {
             "line": {
              "color": "#E5ECF6",
              "width": 0.5
             },
             "pattern": {
              "fillmode": "overlay",
              "size": 10,
              "solidity": 0.2
             }
            },
            "type": "bar"
           }
          ],
          "barpolar": [
           {
            "marker": {
             "line": {
              "color": "#E5ECF6",
              "width": 0.5
             },
             "pattern": {
              "fillmode": "overlay",
              "size": 10,
              "solidity": 0.2
             }
            },
            "type": "barpolar"
           }
          ],
          "carpet": [
           {
            "aaxis": {
             "endlinecolor": "#2a3f5f",
             "gridcolor": "white",
             "linecolor": "white",
             "minorgridcolor": "white",
             "startlinecolor": "#2a3f5f"
            },
            "baxis": {
             "endlinecolor": "#2a3f5f",
             "gridcolor": "white",
             "linecolor": "white",
             "minorgridcolor": "white",
             "startlinecolor": "#2a3f5f"
            },
            "type": "carpet"
           }
          ],
          "choropleth": [
           {
            "colorbar": {
             "outlinewidth": 0,
             "ticks": ""
            },
            "type": "choropleth"
           }
          ],
          "contour": [
           {
            "colorbar": {
             "outlinewidth": 0,
             "ticks": ""
            },
            "colorscale": [
             [
              0,
              "#0d0887"
             ],
             [
              0.1111111111111111,
              "#46039f"
             ],
             [
              0.2222222222222222,
              "#7201a8"
             ],
             [
              0.3333333333333333,
              "#9c179e"
             ],
             [
              0.4444444444444444,
              "#bd3786"
             ],
             [
              0.5555555555555556,
              "#d8576b"
             ],
             [
              0.6666666666666666,
              "#ed7953"
             ],
             [
              0.7777777777777778,
              "#fb9f3a"
             ],
             [
              0.8888888888888888,
              "#fdca26"
             ],
             [
              1,
              "#f0f921"
             ]
            ],
            "type": "contour"
           }
          ],
          "contourcarpet": [
           {
            "colorbar": {
             "outlinewidth": 0,
             "ticks": ""
            },
            "type": "contourcarpet"
           }
          ],
          "heatmap": [
           {
            "colorbar": {
             "outlinewidth": 0,
             "ticks": ""
            },
            "colorscale": [
             [
              0,
              "#0d0887"
             ],
             [
              0.1111111111111111,
              "#46039f"
             ],
             [
              0.2222222222222222,
              "#7201a8"
             ],
             [
              0.3333333333333333,
              "#9c179e"
             ],
             [
              0.4444444444444444,
              "#bd3786"
             ],
             [
              0.5555555555555556,
              "#d8576b"
             ],
             [
              0.6666666666666666,
              "#ed7953"
             ],
             [
              0.7777777777777778,
              "#fb9f3a"
             ],
             [
              0.8888888888888888,
              "#fdca26"
             ],
             [
              1,
              "#f0f921"
             ]
            ],
            "type": "heatmap"
           }
          ],
          "heatmapgl": [
           {
            "colorbar": {
             "outlinewidth": 0,
             "ticks": ""
            },
            "colorscale": [
             [
              0,
              "#0d0887"
             ],
             [
              0.1111111111111111,
              "#46039f"
             ],
             [
              0.2222222222222222,
              "#7201a8"
             ],
             [
              0.3333333333333333,
              "#9c179e"
             ],
             [
              0.4444444444444444,
              "#bd3786"
             ],
             [
              0.5555555555555556,
              "#d8576b"
             ],
             [
              0.6666666666666666,
              "#ed7953"
             ],
             [
              0.7777777777777778,
              "#fb9f3a"
             ],
             [
              0.8888888888888888,
              "#fdca26"
             ],
             [
              1,
              "#f0f921"
             ]
            ],
            "type": "heatmapgl"
           }
          ],
          "histogram": [
           {
            "marker": {
             "pattern": {
              "fillmode": "overlay",
              "size": 10,
              "solidity": 0.2
             }
            },
            "type": "histogram"
           }
          ],
          "histogram2d": [
           {
            "colorbar": {
             "outlinewidth": 0,
             "ticks": ""
            },
            "colorscale": [
             [
              0,
              "#0d0887"
             ],
             [
              0.1111111111111111,
              "#46039f"
             ],
             [
              0.2222222222222222,
              "#7201a8"
             ],
             [
              0.3333333333333333,
              "#9c179e"
             ],
             [
              0.4444444444444444,
              "#bd3786"
             ],
             [
              0.5555555555555556,
              "#d8576b"
             ],
             [
              0.6666666666666666,
              "#ed7953"
             ],
             [
              0.7777777777777778,
              "#fb9f3a"
             ],
             [
              0.8888888888888888,
              "#fdca26"
             ],
             [
              1,
              "#f0f921"
             ]
            ],
            "type": "histogram2d"
           }
          ],
          "histogram2dcontour": [
           {
            "colorbar": {
             "outlinewidth": 0,
             "ticks": ""
            },
            "colorscale": [
             [
              0,
              "#0d0887"
             ],
             [
              0.1111111111111111,
              "#46039f"
             ],
             [
              0.2222222222222222,
              "#7201a8"
             ],
             [
              0.3333333333333333,
              "#9c179e"
             ],
             [
              0.4444444444444444,
              "#bd3786"
             ],
             [
              0.5555555555555556,
              "#d8576b"
             ],
             [
              0.6666666666666666,
              "#ed7953"
             ],
             [
              0.7777777777777778,
              "#fb9f3a"
             ],
             [
              0.8888888888888888,
              "#fdca26"
             ],
             [
              1,
              "#f0f921"
             ]
            ],
            "type": "histogram2dcontour"
           }
          ],
          "mesh3d": [
           {
            "colorbar": {
             "outlinewidth": 0,
             "ticks": ""
            },
            "type": "mesh3d"
           }
          ],
          "parcoords": [
           {
            "line": {
             "colorbar": {
              "outlinewidth": 0,
              "ticks": ""
             }
            },
            "type": "parcoords"
           }
          ],
          "pie": [
           {
            "automargin": true,
            "type": "pie"
           }
          ],
          "scatter": [
           {
            "fillpattern": {
             "fillmode": "overlay",
             "size": 10,
             "solidity": 0.2
            },
            "type": "scatter"
           }
          ],
          "scatter3d": [
           {
            "line": {
             "colorbar": {
              "outlinewidth": 0,
              "ticks": ""
             }
            },
            "marker": {
             "colorbar": {
              "outlinewidth": 0,
              "ticks": ""
             }
            },
            "type": "scatter3d"
           }
          ],
          "scattercarpet": [
           {
            "marker": {
             "colorbar": {
              "outlinewidth": 0,
              "ticks": ""
             }
            },
            "type": "scattercarpet"
           }
          ],
          "scattergeo": [
           {
            "marker": {
             "colorbar": {
              "outlinewidth": 0,
              "ticks": ""
             }
            },
            "type": "scattergeo"
           }
          ],
          "scattergl": [
           {
            "marker": {
             "colorbar": {
              "outlinewidth": 0,
              "ticks": ""
             }
            },
            "type": "scattergl"
           }
          ],
          "scattermapbox": [
           {
            "marker": {
             "colorbar": {
              "outlinewidth": 0,
              "ticks": ""
             }
            },
            "type": "scattermapbox"
           }
          ],
          "scatterpolar": [
           {
            "marker": {
             "colorbar": {
              "outlinewidth": 0,
              "ticks": ""
             }
            },
            "type": "scatterpolar"
           }
          ],
          "scatterpolargl": [
           {
            "marker": {
             "colorbar": {
              "outlinewidth": 0,
              "ticks": ""
             }
            },
            "type": "scatterpolargl"
           }
          ],
          "scatterternary": [
           {
            "marker": {
             "colorbar": {
              "outlinewidth": 0,
              "ticks": ""
             }
            },
            "type": "scatterternary"
           }
          ],
          "surface": [
           {
            "colorbar": {
             "outlinewidth": 0,
             "ticks": ""
            },
            "colorscale": [
             [
              0,
              "#0d0887"
             ],
             [
              0.1111111111111111,
              "#46039f"
             ],
             [
              0.2222222222222222,
              "#7201a8"
             ],
             [
              0.3333333333333333,
              "#9c179e"
             ],
             [
              0.4444444444444444,
              "#bd3786"
             ],
             [
              0.5555555555555556,
              "#d8576b"
             ],
             [
              0.6666666666666666,
              "#ed7953"
             ],
             [
              0.7777777777777778,
              "#fb9f3a"
             ],
             [
              0.8888888888888888,
              "#fdca26"
             ],
             [
              1,
              "#f0f921"
             ]
            ],
            "type": "surface"
           }
          ],
          "table": [
           {
            "cells": {
             "fill": {
              "color": "#EBF0F8"
             },
             "line": {
              "color": "white"
             }
            },
            "header": {
             "fill": {
              "color": "#C8D4E3"
             },
             "line": {
              "color": "white"
             }
            },
            "type": "table"
           }
          ]
         },
         "layout": {
          "annotationdefaults": {
           "arrowcolor": "#2a3f5f",
           "arrowhead": 0,
           "arrowwidth": 1
          },
          "autotypenumbers": "strict",
          "coloraxis": {
           "colorbar": {
            "outlinewidth": 0,
            "ticks": ""
           }
          },
          "colorscale": {
           "diverging": [
            [
             0,
             "#8e0152"
            ],
            [
             0.1,
             "#c51b7d"
            ],
            [
             0.2,
             "#de77ae"
            ],
            [
             0.3,
             "#f1b6da"
            ],
            [
             0.4,
             "#fde0ef"
            ],
            [
             0.5,
             "#f7f7f7"
            ],
            [
             0.6,
             "#e6f5d0"
            ],
            [
             0.7,
             "#b8e186"
            ],
            [
             0.8,
             "#7fbc41"
            ],
            [
             0.9,
             "#4d9221"
            ],
            [
             1,
             "#276419"
            ]
           ],
           "sequential": [
            [
             0,
             "#0d0887"
            ],
            [
             0.1111111111111111,
             "#46039f"
            ],
            [
             0.2222222222222222,
             "#7201a8"
            ],
            [
             0.3333333333333333,
             "#9c179e"
            ],
            [
             0.4444444444444444,
             "#bd3786"
            ],
            [
             0.5555555555555556,
             "#d8576b"
            ],
            [
             0.6666666666666666,
             "#ed7953"
            ],
            [
             0.7777777777777778,
             "#fb9f3a"
            ],
            [
             0.8888888888888888,
             "#fdca26"
            ],
            [
             1,
             "#f0f921"
            ]
           ],
           "sequentialminus": [
            [
             0,
             "#0d0887"
            ],
            [
             0.1111111111111111,
             "#46039f"
            ],
            [
             0.2222222222222222,
             "#7201a8"
            ],
            [
             0.3333333333333333,
             "#9c179e"
            ],
            [
             0.4444444444444444,
             "#bd3786"
            ],
            [
             0.5555555555555556,
             "#d8576b"
            ],
            [
             0.6666666666666666,
             "#ed7953"
            ],
            [
             0.7777777777777778,
             "#fb9f3a"
            ],
            [
             0.8888888888888888,
             "#fdca26"
            ],
            [
             1,
             "#f0f921"
            ]
           ]
          },
          "colorway": [
           "#636efa",
           "#EF553B",
           "#00cc96",
           "#ab63fa",
           "#FFA15A",
           "#19d3f3",
           "#FF6692",
           "#B6E880",
           "#FF97FF",
           "#FECB52"
          ],
          "font": {
           "color": "#2a3f5f"
          },
          "geo": {
           "bgcolor": "white",
           "lakecolor": "white",
           "landcolor": "#E5ECF6",
           "showlakes": true,
           "showland": true,
           "subunitcolor": "white"
          },
          "hoverlabel": {
           "align": "left"
          },
          "hovermode": "closest",
          "mapbox": {
           "style": "light"
          },
          "paper_bgcolor": "white",
          "plot_bgcolor": "#E5ECF6",
          "polar": {
           "angularaxis": {
            "gridcolor": "white",
            "linecolor": "white",
            "ticks": ""
           },
           "bgcolor": "#E5ECF6",
           "radialaxis": {
            "gridcolor": "white",
            "linecolor": "white",
            "ticks": ""
           }
          },
          "scene": {
           "xaxis": {
            "backgroundcolor": "#E5ECF6",
            "gridcolor": "white",
            "gridwidth": 2,
            "linecolor": "white",
            "showbackground": true,
            "ticks": "",
            "zerolinecolor": "white"
           },
           "yaxis": {
            "backgroundcolor": "#E5ECF6",
            "gridcolor": "white",
            "gridwidth": 2,
            "linecolor": "white",
            "showbackground": true,
            "ticks": "",
            "zerolinecolor": "white"
           },
           "zaxis": {
            "backgroundcolor": "#E5ECF6",
            "gridcolor": "white",
            "gridwidth": 2,
            "linecolor": "white",
            "showbackground": true,
            "ticks": "",
            "zerolinecolor": "white"
           }
          },
          "shapedefaults": {
           "line": {
            "color": "#2a3f5f"
           }
          },
          "ternary": {
           "aaxis": {
            "gridcolor": "white",
            "linecolor": "white",
            "ticks": ""
           },
           "baxis": {
            "gridcolor": "white",
            "linecolor": "white",
            "ticks": ""
           },
           "bgcolor": "#E5ECF6",
           "caxis": {
            "gridcolor": "white",
            "linecolor": "white",
            "ticks": ""
           }
          },
          "title": {
           "x": 0.05
          },
          "xaxis": {
           "automargin": true,
           "gridcolor": "white",
           "linecolor": "white",
           "ticks": "",
           "title": {
            "standoff": 15
           },
           "zerolinecolor": "white",
           "zerolinewidth": 2
          },
          "yaxis": {
           "automargin": true,
           "gridcolor": "white",
           "linecolor": "white",
           "ticks": "",
           "title": {
            "standoff": 15
           },
           "zerolinecolor": "white",
           "zerolinewidth": 2
          }
         }
        },
        "title": {
         "text": "[Rotten Tomatoes] Comparison of annotations considering False Positives (FP) and False Negatives (FN)"
        },
        "xaxis": {
         "ticktext": [
          "FN   |   FP   |    FN     |      FP</br></br> Ann1      |       Ann2</br>approach1",
          "FN   |   FP   |    FN     |      FP</br></br> Ann1      |       Ann2</br>approach2",
          "FN   |   FP   |    FN     |      FP</br></br> Ann1      |       Ann2</br>approach3",
          "FN   |   FP   |    FN     |      FP</br></br> Ann1      |       Ann2</br>approach4",
          "FN   |   FP   |    FN     |      FP</br></br> Ann1      |       Ann2</br>approach5",
          "FN   |   FP   |    FN     |      FP</br></br> Ann1      |       Ann2</br>random"
         ],
         "tickvals": [
          0,
          1,
          2,
          3,
          4,
          5
         ]
        },
        "yaxis": {
         "range": [
          0,
          1
         ],
         "tickformat": ".0%"
        }
       }
      },
      "text/html": [
       "<div>                            <div id=\"df9e850f-cbaf-419a-aea4-e27c190b8561\" class=\"plotly-graph-div\" style=\"height:525px; width:100%;\"></div>            <script type=\"text/javascript\">                require([\"plotly\"], function(Plotly) {                    window.PLOTLYENV=window.PLOTLYENV || {};                                    if (document.getElementById(\"df9e850f-cbaf-419a-aea4-e27c190b8561\")) {                    Plotly.newPlot(                        \"df9e850f-cbaf-419a-aea4-e27c190b8561\",                        [{\"marker\":{\"color\":\"#F58518\"},\"name\":\"Annotator1 (FN)\",\"text\":[\"100.0\",\"40.0\",\"60.7\",\"62.3\",\"56.1\",\"61.5\"],\"x\":[\"FN   |   FP   |    FN     |      FP\\u003c\\u002fbr\\u003e\\u003c\\u002fbr\\u003e Ann1      |       Ann2\\u003c\\u002fbr\\u003eapproach1\",\"FN   |   FP   |    FN     |      FP\\u003c\\u002fbr\\u003e\\u003c\\u002fbr\\u003e Ann1      |       Ann2\\u003c\\u002fbr\\u003eapproach2\",\"FN   |   FP   |    FN     |      FP\\u003c\\u002fbr\\u003e\\u003c\\u002fbr\\u003e Ann1      |       Ann2\\u003c\\u002fbr\\u003eapproach3\",\"FN   |   FP   |    FN     |      FP\\u003c\\u002fbr\\u003e\\u003c\\u002fbr\\u003e Ann1      |       Ann2\\u003c\\u002fbr\\u003eapproach4\",\"FN   |   FP   |    FN     |      FP\\u003c\\u002fbr\\u003e\\u003c\\u002fbr\\u003e Ann1      |       Ann2\\u003c\\u002fbr\\u003eapproach5\",\"FN   |   FP   |    FN     |      FP\\u003c\\u002fbr\\u003e\\u003c\\u002fbr\\u003e Ann1      |       Ann2\\u003c\\u002fbr\\u003erandom\"],\"y\":[1.0,0.4,0.607,0.623,0.561,0.615],\"type\":\"bar\"},{\"marker\":{\"color\":\"#4C78A8\"},\"name\":\"Annotator1 (FP)\",\"text\":[\"100.0\",\"100.0\",\"71.3\",\"66.7\",\"51.9\",\"87.2\"],\"x\":[\"FN   |   FP   |    FN     |      FP\\u003c\\u002fbr\\u003e\\u003c\\u002fbr\\u003e Ann1      |       Ann2\\u003c\\u002fbr\\u003eapproach1\",\"FN   |   FP   |    FN     |      FP\\u003c\\u002fbr\\u003e\\u003c\\u002fbr\\u003e Ann1      |       Ann2\\u003c\\u002fbr\\u003eapproach2\",\"FN   |   FP   |    FN     |      FP\\u003c\\u002fbr\\u003e\\u003c\\u002fbr\\u003e Ann1      |       Ann2\\u003c\\u002fbr\\u003eapproach3\",\"FN   |   FP   |    FN     |      FP\\u003c\\u002fbr\\u003e\\u003c\\u002fbr\\u003e Ann1      |       Ann2\\u003c\\u002fbr\\u003eapproach4\",\"FN   |   FP   |    FN     |      FP\\u003c\\u002fbr\\u003e\\u003c\\u002fbr\\u003e Ann1      |       Ann2\\u003c\\u002fbr\\u003eapproach5\",\"FN   |   FP   |    FN     |      FP\\u003c\\u002fbr\\u003e\\u003c\\u002fbr\\u003e Ann1      |       Ann2\\u003c\\u002fbr\\u003erandom\"],\"y\":[1.0,1.0,0.713,0.667,0.519,0.872],\"type\":\"bar\"},{\"marker\":{\"color\":\"rgb(253,180,98)\"},\"name\":\"Annotator2 (FN)\",\"text\":[\"100.0\",\"40.0\",\"9.8\",\"12.6\",\"8.3\",\"44.5\"],\"x\":[\"FN   |   FP   |    FN     |      FP\\u003c\\u002fbr\\u003e\\u003c\\u002fbr\\u003e Ann1      |       Ann2\\u003c\\u002fbr\\u003eapproach1\",\"FN   |   FP   |    FN     |      FP\\u003c\\u002fbr\\u003e\\u003c\\u002fbr\\u003e Ann1      |       Ann2\\u003c\\u002fbr\\u003eapproach2\",\"FN   |   FP   |    FN     |      FP\\u003c\\u002fbr\\u003e\\u003c\\u002fbr\\u003e Ann1      |       Ann2\\u003c\\u002fbr\\u003eapproach3\",\"FN   |   FP   |    FN     |      FP\\u003c\\u002fbr\\u003e\\u003c\\u002fbr\\u003e Ann1      |       Ann2\\u003c\\u002fbr\\u003eapproach4\",\"FN   |   FP   |    FN     |      FP\\u003c\\u002fbr\\u003e\\u003c\\u002fbr\\u003e Ann1      |       Ann2\\u003c\\u002fbr\\u003eapproach5\",\"FN   |   FP   |    FN     |      FP\\u003c\\u002fbr\\u003e\\u003c\\u002fbr\\u003e Ann1      |       Ann2\\u003c\\u002fbr\\u003erandom\"],\"y\":[1.0,0.4,0.098,0.126,0.083,0.445],\"type\":\"bar\"},{\"marker\":{\"color\":\"rgb(128,177,211)\"},\"name\":\"Annotator2 (FP)\",\"text\":[\"100.0\",\"100.0\",\"63.8\",\"52.9\",\"40.4\",\"70.2\"],\"x\":[\"FN   |   FP   |    FN     |      FP\\u003c\\u002fbr\\u003e\\u003c\\u002fbr\\u003e Ann1      |       Ann2\\u003c\\u002fbr\\u003eapproach1\",\"FN   |   FP   |    FN     |      FP\\u003c\\u002fbr\\u003e\\u003c\\u002fbr\\u003e Ann1      |       Ann2\\u003c\\u002fbr\\u003eapproach2\",\"FN   |   FP   |    FN     |      FP\\u003c\\u002fbr\\u003e\\u003c\\u002fbr\\u003e Ann1      |       Ann2\\u003c\\u002fbr\\u003eapproach3\",\"FN   |   FP   |    FN     |      FP\\u003c\\u002fbr\\u003e\\u003c\\u002fbr\\u003e Ann1      |       Ann2\\u003c\\u002fbr\\u003eapproach4\",\"FN   |   FP   |    FN     |      FP\\u003c\\u002fbr\\u003e\\u003c\\u002fbr\\u003e Ann1      |       Ann2\\u003c\\u002fbr\\u003eapproach5\",\"FN   |   FP   |    FN     |      FP\\u003c\\u002fbr\\u003e\\u003c\\u002fbr\\u003e Ann1      |       Ann2\\u003c\\u002fbr\\u003erandom\"],\"y\":[1.0,1.0,0.638,0.529,0.40399999999999997,0.7020000000000001],\"type\":\"bar\"}],                        {\"template\":{\"data\":{\"histogram2dcontour\":[{\"type\":\"histogram2dcontour\",\"colorbar\":{\"outlinewidth\":0,\"ticks\":\"\"},\"colorscale\":[[0.0,\"#0d0887\"],[0.1111111111111111,\"#46039f\"],[0.2222222222222222,\"#7201a8\"],[0.3333333333333333,\"#9c179e\"],[0.4444444444444444,\"#bd3786\"],[0.5555555555555556,\"#d8576b\"],[0.6666666666666666,\"#ed7953\"],[0.7777777777777778,\"#fb9f3a\"],[0.8888888888888888,\"#fdca26\"],[1.0,\"#f0f921\"]]}],\"choropleth\":[{\"type\":\"choropleth\",\"colorbar\":{\"outlinewidth\":0,\"ticks\":\"\"}}],\"histogram2d\":[{\"type\":\"histogram2d\",\"colorbar\":{\"outlinewidth\":0,\"ticks\":\"\"},\"colorscale\":[[0.0,\"#0d0887\"],[0.1111111111111111,\"#46039f\"],[0.2222222222222222,\"#7201a8\"],[0.3333333333333333,\"#9c179e\"],[0.4444444444444444,\"#bd3786\"],[0.5555555555555556,\"#d8576b\"],[0.6666666666666666,\"#ed7953\"],[0.7777777777777778,\"#fb9f3a\"],[0.8888888888888888,\"#fdca26\"],[1.0,\"#f0f921\"]]}],\"heatmap\":[{\"type\":\"heatmap\",\"colorbar\":{\"outlinewidth\":0,\"ticks\":\"\"},\"colorscale\":[[0.0,\"#0d0887\"],[0.1111111111111111,\"#46039f\"],[0.2222222222222222,\"#7201a8\"],[0.3333333333333333,\"#9c179e\"],[0.4444444444444444,\"#bd3786\"],[0.5555555555555556,\"#d8576b\"],[0.6666666666666666,\"#ed7953\"],[0.7777777777777778,\"#fb9f3a\"],[0.8888888888888888,\"#fdca26\"],[1.0,\"#f0f921\"]]}],\"heatmapgl\":[{\"type\":\"heatmapgl\",\"colorbar\":{\"outlinewidth\":0,\"ticks\":\"\"},\"colorscale\":[[0.0,\"#0d0887\"],[0.1111111111111111,\"#46039f\"],[0.2222222222222222,\"#7201a8\"],[0.3333333333333333,\"#9c179e\"],[0.4444444444444444,\"#bd3786\"],[0.5555555555555556,\"#d8576b\"],[0.6666666666666666,\"#ed7953\"],[0.7777777777777778,\"#fb9f3a\"],[0.8888888888888888,\"#fdca26\"],[1.0,\"#f0f921\"]]}],\"contourcarpet\":[{\"type\":\"contourcarpet\",\"colorbar\":{\"outlinewidth\":0,\"ticks\":\"\"}}],\"contour\":[{\"type\":\"contour\",\"colorbar\":{\"outlinewidth\":0,\"ticks\":\"\"},\"colorscale\":[[0.0,\"#0d0887\"],[0.1111111111111111,\"#46039f\"],[0.2222222222222222,\"#7201a8\"],[0.3333333333333333,\"#9c179e\"],[0.4444444444444444,\"#bd3786\"],[0.5555555555555556,\"#d8576b\"],[0.6666666666666666,\"#ed7953\"],[0.7777777777777778,\"#fb9f3a\"],[0.8888888888888888,\"#fdca26\"],[1.0,\"#f0f921\"]]}],\"surface\":[{\"type\":\"surface\",\"colorbar\":{\"outlinewidth\":0,\"ticks\":\"\"},\"colorscale\":[[0.0,\"#0d0887\"],[0.1111111111111111,\"#46039f\"],[0.2222222222222222,\"#7201a8\"],[0.3333333333333333,\"#9c179e\"],[0.4444444444444444,\"#bd3786\"],[0.5555555555555556,\"#d8576b\"],[0.6666666666666666,\"#ed7953\"],[0.7777777777777778,\"#fb9f3a\"],[0.8888888888888888,\"#fdca26\"],[1.0,\"#f0f921\"]]}],\"mesh3d\":[{\"type\":\"mesh3d\",\"colorbar\":{\"outlinewidth\":0,\"ticks\":\"\"}}],\"scatter\":[{\"fillpattern\":{\"fillmode\":\"overlay\",\"size\":10,\"solidity\":0.2},\"type\":\"scatter\"}],\"parcoords\":[{\"type\":\"parcoords\",\"line\":{\"colorbar\":{\"outlinewidth\":0,\"ticks\":\"\"}}}],\"scatterpolargl\":[{\"type\":\"scatterpolargl\",\"marker\":{\"colorbar\":{\"outlinewidth\":0,\"ticks\":\"\"}}}],\"bar\":[{\"error_x\":{\"color\":\"#2a3f5f\"},\"error_y\":{\"color\":\"#2a3f5f\"},\"marker\":{\"line\":{\"color\":\"#E5ECF6\",\"width\":0.5},\"pattern\":{\"fillmode\":\"overlay\",\"size\":10,\"solidity\":0.2}},\"type\":\"bar\"}],\"scattergeo\":[{\"type\":\"scattergeo\",\"marker\":{\"colorbar\":{\"outlinewidth\":0,\"ticks\":\"\"}}}],\"scatterpolar\":[{\"type\":\"scatterpolar\",\"marker\":{\"colorbar\":{\"outlinewidth\":0,\"ticks\":\"\"}}}],\"histogram\":[{\"marker\":{\"pattern\":{\"fillmode\":\"overlay\",\"size\":10,\"solidity\":0.2}},\"type\":\"histogram\"}],\"scattergl\":[{\"type\":\"scattergl\",\"marker\":{\"colorbar\":{\"outlinewidth\":0,\"ticks\":\"\"}}}],\"scatter3d\":[{\"type\":\"scatter3d\",\"line\":{\"colorbar\":{\"outlinewidth\":0,\"ticks\":\"\"}},\"marker\":{\"colorbar\":{\"outlinewidth\":0,\"ticks\":\"\"}}}],\"scattermapbox\":[{\"type\":\"scattermapbox\",\"marker\":{\"colorbar\":{\"outlinewidth\":0,\"ticks\":\"\"}}}],\"scatterternary\":[{\"type\":\"scatterternary\",\"marker\":{\"colorbar\":{\"outlinewidth\":0,\"ticks\":\"\"}}}],\"scattercarpet\":[{\"type\":\"scattercarpet\",\"marker\":{\"colorbar\":{\"outlinewidth\":0,\"ticks\":\"\"}}}],\"carpet\":[{\"aaxis\":{\"endlinecolor\":\"#2a3f5f\",\"gridcolor\":\"white\",\"linecolor\":\"white\",\"minorgridcolor\":\"white\",\"startlinecolor\":\"#2a3f5f\"},\"baxis\":{\"endlinecolor\":\"#2a3f5f\",\"gridcolor\":\"white\",\"linecolor\":\"white\",\"minorgridcolor\":\"white\",\"startlinecolor\":\"#2a3f5f\"},\"type\":\"carpet\"}],\"table\":[{\"cells\":{\"fill\":{\"color\":\"#EBF0F8\"},\"line\":{\"color\":\"white\"}},\"header\":{\"fill\":{\"color\":\"#C8D4E3\"},\"line\":{\"color\":\"white\"}},\"type\":\"table\"}],\"barpolar\":[{\"marker\":{\"line\":{\"color\":\"#E5ECF6\",\"width\":0.5},\"pattern\":{\"fillmode\":\"overlay\",\"size\":10,\"solidity\":0.2}},\"type\":\"barpolar\"}],\"pie\":[{\"automargin\":true,\"type\":\"pie\"}]},\"layout\":{\"autotypenumbers\":\"strict\",\"colorway\":[\"#636efa\",\"#EF553B\",\"#00cc96\",\"#ab63fa\",\"#FFA15A\",\"#19d3f3\",\"#FF6692\",\"#B6E880\",\"#FF97FF\",\"#FECB52\"],\"font\":{\"color\":\"#2a3f5f\"},\"hovermode\":\"closest\",\"hoverlabel\":{\"align\":\"left\"},\"paper_bgcolor\":\"white\",\"plot_bgcolor\":\"#E5ECF6\",\"polar\":{\"bgcolor\":\"#E5ECF6\",\"angularaxis\":{\"gridcolor\":\"white\",\"linecolor\":\"white\",\"ticks\":\"\"},\"radialaxis\":{\"gridcolor\":\"white\",\"linecolor\":\"white\",\"ticks\":\"\"}},\"ternary\":{\"bgcolor\":\"#E5ECF6\",\"aaxis\":{\"gridcolor\":\"white\",\"linecolor\":\"white\",\"ticks\":\"\"},\"baxis\":{\"gridcolor\":\"white\",\"linecolor\":\"white\",\"ticks\":\"\"},\"caxis\":{\"gridcolor\":\"white\",\"linecolor\":\"white\",\"ticks\":\"\"}},\"coloraxis\":{\"colorbar\":{\"outlinewidth\":0,\"ticks\":\"\"}},\"colorscale\":{\"sequential\":[[0.0,\"#0d0887\"],[0.1111111111111111,\"#46039f\"],[0.2222222222222222,\"#7201a8\"],[0.3333333333333333,\"#9c179e\"],[0.4444444444444444,\"#bd3786\"],[0.5555555555555556,\"#d8576b\"],[0.6666666666666666,\"#ed7953\"],[0.7777777777777778,\"#fb9f3a\"],[0.8888888888888888,\"#fdca26\"],[1.0,\"#f0f921\"]],\"sequentialminus\":[[0.0,\"#0d0887\"],[0.1111111111111111,\"#46039f\"],[0.2222222222222222,\"#7201a8\"],[0.3333333333333333,\"#9c179e\"],[0.4444444444444444,\"#bd3786\"],[0.5555555555555556,\"#d8576b\"],[0.6666666666666666,\"#ed7953\"],[0.7777777777777778,\"#fb9f3a\"],[0.8888888888888888,\"#fdca26\"],[1.0,\"#f0f921\"]],\"diverging\":[[0,\"#8e0152\"],[0.1,\"#c51b7d\"],[0.2,\"#de77ae\"],[0.3,\"#f1b6da\"],[0.4,\"#fde0ef\"],[0.5,\"#f7f7f7\"],[0.6,\"#e6f5d0\"],[0.7,\"#b8e186\"],[0.8,\"#7fbc41\"],[0.9,\"#4d9221\"],[1,\"#276419\"]]},\"xaxis\":{\"gridcolor\":\"white\",\"linecolor\":\"white\",\"ticks\":\"\",\"title\":{\"standoff\":15},\"zerolinecolor\":\"white\",\"automargin\":true,\"zerolinewidth\":2},\"yaxis\":{\"gridcolor\":\"white\",\"linecolor\":\"white\",\"ticks\":\"\",\"title\":{\"standoff\":15},\"zerolinecolor\":\"white\",\"automargin\":true,\"zerolinewidth\":2},\"scene\":{\"xaxis\":{\"backgroundcolor\":\"#E5ECF6\",\"gridcolor\":\"white\",\"linecolor\":\"white\",\"showbackground\":true,\"ticks\":\"\",\"zerolinecolor\":\"white\",\"gridwidth\":2},\"yaxis\":{\"backgroundcolor\":\"#E5ECF6\",\"gridcolor\":\"white\",\"linecolor\":\"white\",\"showbackground\":true,\"ticks\":\"\",\"zerolinecolor\":\"white\",\"gridwidth\":2},\"zaxis\":{\"backgroundcolor\":\"#E5ECF6\",\"gridcolor\":\"white\",\"linecolor\":\"white\",\"showbackground\":true,\"ticks\":\"\",\"zerolinecolor\":\"white\",\"gridwidth\":2}},\"shapedefaults\":{\"line\":{\"color\":\"#2a3f5f\"}},\"annotationdefaults\":{\"arrowcolor\":\"#2a3f5f\",\"arrowhead\":0,\"arrowwidth\":1},\"geo\":{\"bgcolor\":\"white\",\"landcolor\":\"#E5ECF6\",\"subunitcolor\":\"white\",\"showland\":true,\"showlakes\":true,\"lakecolor\":\"white\"},\"title\":{\"x\":0.05},\"mapbox\":{\"style\":\"light\"}}},\"title\":{\"text\":\"[Rotten Tomatoes] Comparison of annotations considering False Positives (FP) and False Negatives (FN)\"},\"yaxis\":{\"range\":[0,1],\"tickformat\":\".0%\"},\"xaxis\":{\"tickvals\":[0,1,2,3,4,5],\"ticktext\":[\"FN   |   FP   |    FN     |      FP\\u003c\\u002fbr\\u003e\\u003c\\u002fbr\\u003e Ann1      |       Ann2\\u003c\\u002fbr\\u003eapproach1\",\"FN   |   FP   |    FN     |      FP\\u003c\\u002fbr\\u003e\\u003c\\u002fbr\\u003e Ann1      |       Ann2\\u003c\\u002fbr\\u003eapproach2\",\"FN   |   FP   |    FN     |      FP\\u003c\\u002fbr\\u003e\\u003c\\u002fbr\\u003e Ann1      |       Ann2\\u003c\\u002fbr\\u003eapproach3\",\"FN   |   FP   |    FN     |      FP\\u003c\\u002fbr\\u003e\\u003c\\u002fbr\\u003e Ann1      |       Ann2\\u003c\\u002fbr\\u003eapproach4\",\"FN   |   FP   |    FN     |      FP\\u003c\\u002fbr\\u003e\\u003c\\u002fbr\\u003e Ann1      |       Ann2\\u003c\\u002fbr\\u003eapproach5\",\"FN   |   FP   |    FN     |      FP\\u003c\\u002fbr\\u003e\\u003c\\u002fbr\\u003e Ann1      |       Ann2\\u003c\\u002fbr\\u003erandom\"]},\"barmode\":\"group\"},                        {\"responsive\": true}                    ).then(function(){\n",
       "                            \n",
       "var gd = document.getElementById('df9e850f-cbaf-419a-aea4-e27c190b8561');\n",
       "var x = new MutationObserver(function (mutations, observer) {{\n",
       "        var display = window.getComputedStyle(gd).display;\n",
       "        if (!display || display === 'none') {{\n",
       "            console.log([gd, 'removed!']);\n",
       "            Plotly.purge(gd);\n",
       "            observer.disconnect();\n",
       "        }}\n",
       "}});\n",
       "\n",
       "// Listen for the removal of the full notebook cells\n",
       "var notebookContainer = gd.closest('#notebook-container');\n",
       "if (notebookContainer) {{\n",
       "    x.observe(notebookContainer, {childList: true});\n",
       "}}\n",
       "\n",
       "// Listen for the clearing of the current output cell\n",
       "var outputEl = gd.closest('.output');\n",
       "if (outputEl) {{\n",
       "    x.observe(outputEl, {childList: true});\n",
       "}}\n",
       "\n",
       "                        })                };                });            </script>        </div>"
      ]
     },
     "metadata": {},
     "output_type": "display_data"
    }
   ],
   "source": [
    "approaches = df_ann1_summ[\"approach\"].map(lambda x: \"FN   |   FP   |    FN     |      FP</br></br> Ann1      |       Ann2</br>\" + x[:-5])\n",
    "\n",
    "def trunc(text_iter):\n",
    "    return text_iter.map(lambda x: f\"{x:.1f}\")\n",
    "\n",
    "\n",
    "fig = go.Figure(data=[\n",
    "    go.Bar(name=\"Annotator1 (FN)\", x=approaches, y=df_ann1_summ[\"FN(%)\"]/100, text=trunc(df_ann1_summ[\"FN(%)\"]), textposition=None, marker_color=px.colors.qualitative.T10[1]),\n",
    "    go.Bar(name=\"Annotator1 (FP)\", x=approaches, y=df_ann1_summ[\"FP(%)\"]/100, text=trunc(df_ann1_summ[\"FP(%)\"]), textposition=None, marker_color=px.colors.qualitative.T10[0]),\n",
    "    go.Bar(name=\"Annotator2 (FN)\", x=approaches, y=df_ann2_summ[\"FN(%)\"]/100, text=trunc(df_ann2_summ[\"FN(%)\"]), textposition=None, marker_color=px.colors.qualitative.Set3[5]),\n",
    "    go.Bar(name=\"Annotator2 (FP)\", x=approaches, y=df_ann2_summ[\"FP(%)\"]/100, text=trunc(df_ann2_summ[\"FP(%)\"]), textposition=None, marker_color=px.colors.qualitative.Set3[4]),\n",
    "])\n",
    "fig.update_layout(\n",
    "    title_text=f'[{dataset}] Comparison of annotations considering False Positives (FP) and False Negatives (FN)',\n",
    "    barmode=\"group\",\n",
    "    yaxis = dict(\n",
    "        range=[0, 1],\n",
    "        tickformat = '.0%',\n",
    "        ),\n",
    "    xaxis = dict(\n",
    "        tickvals=[0,1,2,3,4,5],\n",
    "        ticktext=approaches,\n",
    "        ),\n",
    "    )\n",
    "fig.show()"
   ]
  },
  {
   "cell_type": "code",
   "execution_count": 154,
   "metadata": {},
   "outputs": [],
   "source": [
    "# approaches = df_ann1_summ[\"approach\"].map(lambda x: \"VN    VP     VN    VP</br></br>\" + x[:-5])\n",
    "\n",
    "# fig = go.Figure(data=[\n",
    "#     go.Bar(name=\"Annotator1 (VN)\", x=approaches, y=df_ann1_summ[\"VN\"], text=df_ann1_summ[\"VN\"], marker_color=px.colors.qualitative.D3[0]),\n",
    "#     go.Bar(name=\"Annotator1 (VP)\", x=approaches, y=df_ann1_summ[\"VP\"], text=df_ann1_summ[\"VP\"], marker_color=px.colors.qualitative.Set2[0]),\n",
    "#     go.Bar(name=\"Annotator2 (VN)\", x=approaches, y=df_ann2_summ[\"VN\"], text=df_ann2_summ[\"VN\"], marker_color=px.colors.qualitative.Dark2[1]),\n",
    "#     go.Bar(name=\"Annotator2 (VP)\", x=approaches, y=df_ann2_summ[\"VP\"], text=df_ann2_summ[\"VP\"], marker_color=px.colors.qualitative.Set2[1]),\n",
    "# ])\n",
    "# fig.update_layout(title_text=f'[{dataset}] Comparation of annotations (VP and VN)', barmode=\"group\")\n",
    "# fig.update_xaxes(tickvals=[0,1,2,3,4,5],ticktext=approaches)\n",
    "# fig.show()"
   ]
  },
  {
   "cell_type": "code",
   "execution_count": 300,
   "metadata": {},
   "outputs": [
    {
     "data": {
      "application/vnd.plotly.v1+json": {
       "config": {
        "plotlyServerURL": "https://plot.ly"
       },
       "data": [
        {
         "marker": {
          "color": "#F58518"
         },
         "name": "Annotator1 (FN)",
         "offsetgroup": "0",
         "showlegend": false,
         "text": [
          "NO 100%",
          "NO 0%",
          "NO 0%",
          "NO 0%",
          "NO 0%",
          "NO 36%"
         ],
         "textposition": "inside",
         "type": "bar",
         "x": [
          " FN     |     FP    |     FN     |    FP </br></br> Ann1         |          Ann2</br>approach1",
          " FN     |     FP    |     FN     |    FP </br></br> Ann1         |          Ann2</br>approach2",
          " FN     |     FP    |     FN     |    FP </br></br> Ann1         |          Ann2</br>approach3",
          " FN     |     FP    |     FN     |    FP </br></br> Ann1         |          Ann2</br>approach4",
          " FN     |     FP    |     FN     |    FP </br></br> Ann1         |          Ann2</br>approach5",
          " FN     |     FP    |     FN     |    FP </br></br> Ann1         |          Ann2</br>random"
         ],
         "y": [
          1,
          0,
          0,
          0,
          0,
          0.35714285714285715
         ]
        },
        {
         "marker": {
          "color": "#4C78A8"
         },
         "name": "Annotator1 (FP)",
         "offsetgroup": "1",
         "showlegend": false,
         "text": [
          "NO 100%",
          "NO 0%",
          "NO 0%",
          "NO 0%",
          "NO 0%",
          "NO 24%"
         ],
         "textposition": "inside",
         "type": "bar",
         "x": [
          " FN     |     FP    |     FN     |    FP </br></br> Ann1         |          Ann2</br>approach1",
          " FN     |     FP    |     FN     |    FP </br></br> Ann1         |          Ann2</br>approach2",
          " FN     |     FP    |     FN     |    FP </br></br> Ann1         |          Ann2</br>approach3",
          " FN     |     FP    |     FN     |    FP </br></br> Ann1         |          Ann2</br>approach4",
          " FN     |     FP    |     FN     |    FP </br></br> Ann1         |          Ann2</br>approach5",
          " FN     |     FP    |     FN     |    FP </br></br> Ann1         |          Ann2</br>random"
         ],
         "y": [
          1,
          0,
          0,
          0,
          0,
          0.24390243902439024
         ]
        },
        {
         "marker": {
          "color": "rgb(253,180,98)"
         },
         "name": "Annotator2 (FN)",
         "offsetgroup": "2",
         "showlegend": false,
         "text": [
          "NO 100%",
          "NO 100%",
          "NO 29%",
          "NO 23%",
          "NO 0%",
          "NO 37%"
         ],
         "textposition": "inside",
         "type": "bar",
         "x": [
          " FN     |     FP    |     FN     |    FP </br></br> Ann1         |          Ann2</br>approach1",
          " FN     |     FP    |     FN     |    FP </br></br> Ann1         |          Ann2</br>approach2",
          " FN     |     FP    |     FN     |    FP </br></br> Ann1         |          Ann2</br>approach3",
          " FN     |     FP    |     FN     |    FP </br></br> Ann1         |          Ann2</br>approach4",
          " FN     |     FP    |     FN     |    FP </br></br> Ann1         |          Ann2</br>approach5",
          " FN     |     FP    |     FN     |    FP </br></br> Ann1         |          Ann2</br>random"
         ],
         "y": [
          1,
          1,
          0.2857142857142857,
          0.23076923076923078,
          0,
          0.37037037037037035
         ]
        },
        {
         "marker": {
          "color": "rgb(128,177,211)"
         },
         "name": "Annotator2 (FP)",
         "offsetgroup": "3",
         "showlegend": false,
         "text": [
          "NO 100%",
          "NO 0%",
          "NO 0%",
          "NO 0%",
          "NO 0%",
          "NO 27%"
         ],
         "textposition": "inside",
         "type": "bar",
         "x": [
          " FN     |     FP    |     FN     |    FP </br></br> Ann1         |          Ann2</br>approach1",
          " FN     |     FP    |     FN     |    FP </br></br> Ann1         |          Ann2</br>approach2",
          " FN     |     FP    |     FN     |    FP </br></br> Ann1         |          Ann2</br>approach3",
          " FN     |     FP    |     FN     |    FP </br></br> Ann1         |          Ann2</br>approach4",
          " FN     |     FP    |     FN     |    FP </br></br> Ann1         |          Ann2</br>approach5",
          " FN     |     FP    |     FN     |    FP </br></br> Ann1         |          Ann2</br>random"
         ],
         "y": [
          1,
          0,
          0,
          0,
          0,
          0.2727272727272727
         ]
        },
        {
         "base": [
          1,
          0,
          0,
          0,
          0,
          0.35714285714285715
         ],
         "marker": {
          "color": "#F58518"
         },
         "name": "Annotator1 (FN)",
         "offsetgroup": "0",
         "showlegend": false,
         "text": [
          "LE 0%",
          "LE 100%",
          "LE 6%",
          "LE 8%",
          "LE 9%",
          "LE 4%"
         ],
         "textposition": "inside",
         "type": "bar",
         "x": [
          " FN     |     FP    |     FN     |    FP </br></br> Ann1         |          Ann2</br>approach1",
          " FN     |     FP    |     FN     |    FP </br></br> Ann1         |          Ann2</br>approach2",
          " FN     |     FP    |     FN     |    FP </br></br> Ann1         |          Ann2</br>approach3",
          " FN     |     FP    |     FN     |    FP </br></br> Ann1         |          Ann2</br>approach4",
          " FN     |     FP    |     FN     |    FP </br></br> Ann1         |          Ann2</br>approach5",
          " FN     |     FP    |     FN     |    FP </br></br> Ann1         |          Ann2</br>random"
         ],
         "y": [
          0,
          1,
          0.06153846153846154,
          0.07751937984496124,
          0.09302325581395349,
          0.03571428571428571
         ]
        },
        {
         "base": [
          1,
          0,
          0,
          0,
          0,
          0.24390243902439024
         ],
         "marker": {
          "color": "#4C78A8"
         },
         "name": "Annotator1 (FP)",
         "offsetgroup": "1",
         "showlegend": false,
         "text": [
          "LE 0%",
          "LE 100%",
          "LE 28%",
          "LE 28%",
          "LE 33%",
          "LE 2%"
         ],
         "textposition": "inside",
         "type": "bar",
         "x": [
          " FN     |     FP    |     FN     |    FP </br></br> Ann1         |          Ann2</br>approach1",
          " FN     |     FP    |     FN     |    FP </br></br> Ann1         |          Ann2</br>approach2",
          " FN     |     FP    |     FN     |    FP </br></br> Ann1         |          Ann2</br>approach3",
          " FN     |     FP    |     FN     |    FP </br></br> Ann1         |          Ann2</br>approach4",
          " FN     |     FP    |     FN     |    FP </br></br> Ann1         |          Ann2</br>approach5",
          " FN     |     FP    |     FN     |    FP </br></br> Ann1         |          Ann2</br>random"
         ],
         "y": [
          0,
          1,
          0.2835820895522388,
          0.27586206896551724,
          0.3333333333333333,
          0.024390243902439025
         ]
        },
        {
         "base": [
          1,
          1,
          0.2857142857142857,
          0.23076923076923078,
          0,
          0.37037037037037035
         ],
         "marker": {
          "color": "rgb(253,180,98)"
         },
         "name": "Annotator2 (FN)",
         "offsetgroup": "2",
         "showlegend": false,
         "text": [
          "LE 0%",
          "LE 0%",
          "LE 33%",
          "LE 42%",
          "LE 58%",
          "LE 32%"
         ],
         "textposition": "inside",
         "type": "bar",
         "x": [
          " FN     |     FP    |     FN     |    FP </br></br> Ann1         |          Ann2</br>approach1",
          " FN     |     FP    |     FN     |    FP </br></br> Ann1         |          Ann2</br>approach2",
          " FN     |     FP    |     FN     |    FP </br></br> Ann1         |          Ann2</br>approach3",
          " FN     |     FP    |     FN     |    FP </br></br> Ann1         |          Ann2</br>approach4",
          " FN     |     FP    |     FN     |    FP </br></br> Ann1         |          Ann2</br>approach5",
          " FN     |     FP    |     FN     |    FP </br></br> Ann1         |          Ann2</br>random"
         ],
         "y": [
          0,
          0,
          0.3333333333333333,
          0.4230769230769231,
          0.5789473684210527,
          0.32098765432098764
         ]
        },
        {
         "base": [
          1,
          0,
          0,
          0,
          0,
          0.2727272727272727
         ],
         "marker": {
          "color": "rgb(128,177,211)"
         },
         "name": "Annotator2 (FP)",
         "offsetgroup": "3",
         "showlegend": false,
         "text": [
          "LE 0%",
          "LE 100%",
          "LE 62%",
          "LE 48%",
          "LE 68%",
          "LE 39%"
         ],
         "textposition": "inside",
         "type": "bar",
         "x": [
          " FN     |     FP    |     FN     |    FP </br></br> Ann1         |          Ann2</br>approach1",
          " FN     |     FP    |     FN     |    FP </br></br> Ann1         |          Ann2</br>approach2",
          " FN     |     FP    |     FN     |    FP </br></br> Ann1         |          Ann2</br>approach3",
          " FN     |     FP    |     FN     |    FP </br></br> Ann1         |          Ann2</br>approach4",
          " FN     |     FP    |     FN     |    FP </br></br> Ann1         |          Ann2</br>approach5",
          " FN     |     FP    |     FN     |    FP </br></br> Ann1         |          Ann2</br>random"
         ],
         "y": [
          0,
          1,
          0.6166666666666667,
          0.4782608695652174,
          0.6825396825396826,
          0.3939393939393939
         ]
        },
        {
         "base": [
          1,
          1,
          0.06153846153846154,
          0.07751937984496124,
          0.09302325581395349,
          0.39285714285714285
         ],
         "marker": {
          "color": "#F58518"
         },
         "name": "Annotator1 (FN)",
         "offsetgroup": "0",
         "text": [
          "TE 0%",
          "TE 0%",
          "TE 94%",
          "TE 92%",
          "TE 91%",
          "TE 61%"
         ],
         "textposition": "inside",
         "type": "bar",
         "x": [
          " FN     |     FP    |     FN     |    FP </br></br> Ann1         |          Ann2</br>approach1",
          " FN     |     FP    |     FN     |    FP </br></br> Ann1         |          Ann2</br>approach2",
          " FN     |     FP    |     FN     |    FP </br></br> Ann1         |          Ann2</br>approach3",
          " FN     |     FP    |     FN     |    FP </br></br> Ann1         |          Ann2</br>approach4",
          " FN     |     FP    |     FN     |    FP </br></br> Ann1         |          Ann2</br>approach5",
          " FN     |     FP    |     FN     |    FP </br></br> Ann1         |          Ann2</br>random"
         ],
         "y": [
          0,
          0,
          0.9384615384615385,
          0.9224806201550387,
          0.9069767441860465,
          0.6071428571428571
         ]
        },
        {
         "base": [
          1,
          1,
          0.2835820895522388,
          0.27586206896551724,
          0.3333333333333333,
          0.2682926829268293
         ],
         "marker": {
          "color": "#4C78A8"
         },
         "name": "Annotator1 (FP)",
         "offsetgroup": "1",
         "text": [
          "TE 0%",
          "TE 0%",
          "TE 72%",
          "TE 72%",
          "TE 67%",
          "TE 73%"
         ],
         "textposition": "inside",
         "type": "bar",
         "x": [
          " FN     |     FP    |     FN     |    FP </br></br> Ann1         |          Ann2</br>approach1",
          " FN     |     FP    |     FN     |    FP </br></br> Ann1         |          Ann2</br>approach2",
          " FN     |     FP    |     FN     |    FP </br></br> Ann1         |          Ann2</br>approach3",
          " FN     |     FP    |     FN     |    FP </br></br> Ann1         |          Ann2</br>approach4",
          " FN     |     FP    |     FN     |    FP </br></br> Ann1         |          Ann2</br>approach5",
          " FN     |     FP    |     FN     |    FP </br></br> Ann1         |          Ann2</br>random"
         ],
         "y": [
          0,
          0,
          0.7164179104477612,
          0.7241379310344828,
          0.6666666666666666,
          0.7317073170731707
         ]
        },
        {
         "base": [
          1,
          1,
          0.6190476190476191,
          0.6538461538461539,
          0.5789473684210527,
          0.691358024691358
         ],
         "marker": {
          "color": "rgb(253,180,98)"
         },
         "name": "Annotator2 (FN)",
         "offsetgroup": "2",
         "text": [
          "TE 0%",
          "TE 0%",
          "TE 38%",
          "TE 35%",
          "TE 42%",
          "TE 31%"
         ],
         "textposition": "inside",
         "type": "bar",
         "x": [
          " FN     |     FP    |     FN     |    FP </br></br> Ann1         |          Ann2</br>approach1",
          " FN     |     FP    |     FN     |    FP </br></br> Ann1         |          Ann2</br>approach2",
          " FN     |     FP    |     FN     |    FP </br></br> Ann1         |          Ann2</br>approach3",
          " FN     |     FP    |     FN     |    FP </br></br> Ann1         |          Ann2</br>approach4",
          " FN     |     FP    |     FN     |    FP </br></br> Ann1         |          Ann2</br>approach5",
          " FN     |     FP    |     FN     |    FP </br></br> Ann1         |          Ann2</br>random"
         ],
         "y": [
          0,
          0,
          0.38095238095238093,
          0.34615384615384615,
          0.42105263157894735,
          0.30864197530864196
         ]
        },
        {
         "base": [
          1,
          1,
          0.6166666666666667,
          0.4782608695652174,
          0.6825396825396826,
          0.6666666666666666
         ],
         "marker": {
          "color": "rgb(128,177,211)"
         },
         "name": "Annotator2 (FP)",
         "offsetgroup": "3",
         "text": [
          "TE 0%",
          "TE 0%",
          "TE 38%",
          "TE 52%",
          "TE 32%",
          "TE 33%"
         ],
         "textposition": "inside",
         "type": "bar",
         "x": [
          " FN     |     FP    |     FN     |    FP </br></br> Ann1         |          Ann2</br>approach1",
          " FN     |     FP    |     FN     |    FP </br></br> Ann1         |          Ann2</br>approach2",
          " FN     |     FP    |     FN     |    FP </br></br> Ann1         |          Ann2</br>approach3",
          " FN     |     FP    |     FN     |    FP </br></br> Ann1         |          Ann2</br>approach4",
          " FN     |     FP    |     FN     |    FP </br></br> Ann1         |          Ann2</br>approach5",
          " FN     |     FP    |     FN     |    FP </br></br> Ann1         |          Ann2</br>random"
         ],
         "y": [
          0,
          0,
          0.38333333333333336,
          0.5217391304347826,
          0.31746031746031744,
          0.3333333333333333
         ]
        }
       ],
       "layout": {
        "barmode": "group",
        "legend": {
         "orientation": "h",
         "x": 1,
         "xanchor": "right",
         "y": 1,
         "yanchor": "bottom"
        },
        "template": {
         "data": {
          "bar": [
           {
            "error_x": {
             "color": "#2a3f5f"
            },
            "error_y": {
             "color": "#2a3f5f"
            },
            "marker": {
             "line": {
              "color": "#E5ECF6",
              "width": 0.5
             },
             "pattern": {
              "fillmode": "overlay",
              "size": 10,
              "solidity": 0.2
             }
            },
            "type": "bar"
           }
          ],
          "barpolar": [
           {
            "marker": {
             "line": {
              "color": "#E5ECF6",
              "width": 0.5
             },
             "pattern": {
              "fillmode": "overlay",
              "size": 10,
              "solidity": 0.2
             }
            },
            "type": "barpolar"
           }
          ],
          "carpet": [
           {
            "aaxis": {
             "endlinecolor": "#2a3f5f",
             "gridcolor": "white",
             "linecolor": "white",
             "minorgridcolor": "white",
             "startlinecolor": "#2a3f5f"
            },
            "baxis": {
             "endlinecolor": "#2a3f5f",
             "gridcolor": "white",
             "linecolor": "white",
             "minorgridcolor": "white",
             "startlinecolor": "#2a3f5f"
            },
            "type": "carpet"
           }
          ],
          "choropleth": [
           {
            "colorbar": {
             "outlinewidth": 0,
             "ticks": ""
            },
            "type": "choropleth"
           }
          ],
          "contour": [
           {
            "colorbar": {
             "outlinewidth": 0,
             "ticks": ""
            },
            "colorscale": [
             [
              0,
              "#0d0887"
             ],
             [
              0.1111111111111111,
              "#46039f"
             ],
             [
              0.2222222222222222,
              "#7201a8"
             ],
             [
              0.3333333333333333,
              "#9c179e"
             ],
             [
              0.4444444444444444,
              "#bd3786"
             ],
             [
              0.5555555555555556,
              "#d8576b"
             ],
             [
              0.6666666666666666,
              "#ed7953"
             ],
             [
              0.7777777777777778,
              "#fb9f3a"
             ],
             [
              0.8888888888888888,
              "#fdca26"
             ],
             [
              1,
              "#f0f921"
             ]
            ],
            "type": "contour"
           }
          ],
          "contourcarpet": [
           {
            "colorbar": {
             "outlinewidth": 0,
             "ticks": ""
            },
            "type": "contourcarpet"
           }
          ],
          "heatmap": [
           {
            "colorbar": {
             "outlinewidth": 0,
             "ticks": ""
            },
            "colorscale": [
             [
              0,
              "#0d0887"
             ],
             [
              0.1111111111111111,
              "#46039f"
             ],
             [
              0.2222222222222222,
              "#7201a8"
             ],
             [
              0.3333333333333333,
              "#9c179e"
             ],
             [
              0.4444444444444444,
              "#bd3786"
             ],
             [
              0.5555555555555556,
              "#d8576b"
             ],
             [
              0.6666666666666666,
              "#ed7953"
             ],
             [
              0.7777777777777778,
              "#fb9f3a"
             ],
             [
              0.8888888888888888,
              "#fdca26"
             ],
             [
              1,
              "#f0f921"
             ]
            ],
            "type": "heatmap"
           }
          ],
          "heatmapgl": [
           {
            "colorbar": {
             "outlinewidth": 0,
             "ticks": ""
            },
            "colorscale": [
             [
              0,
              "#0d0887"
             ],
             [
              0.1111111111111111,
              "#46039f"
             ],
             [
              0.2222222222222222,
              "#7201a8"
             ],
             [
              0.3333333333333333,
              "#9c179e"
             ],
             [
              0.4444444444444444,
              "#bd3786"
             ],
             [
              0.5555555555555556,
              "#d8576b"
             ],
             [
              0.6666666666666666,
              "#ed7953"
             ],
             [
              0.7777777777777778,
              "#fb9f3a"
             ],
             [
              0.8888888888888888,
              "#fdca26"
             ],
             [
              1,
              "#f0f921"
             ]
            ],
            "type": "heatmapgl"
           }
          ],
          "histogram": [
           {
            "marker": {
             "pattern": {
              "fillmode": "overlay",
              "size": 10,
              "solidity": 0.2
             }
            },
            "type": "histogram"
           }
          ],
          "histogram2d": [
           {
            "colorbar": {
             "outlinewidth": 0,
             "ticks": ""
            },
            "colorscale": [
             [
              0,
              "#0d0887"
             ],
             [
              0.1111111111111111,
              "#46039f"
             ],
             [
              0.2222222222222222,
              "#7201a8"
             ],
             [
              0.3333333333333333,
              "#9c179e"
             ],
             [
              0.4444444444444444,
              "#bd3786"
             ],
             [
              0.5555555555555556,
              "#d8576b"
             ],
             [
              0.6666666666666666,
              "#ed7953"
             ],
             [
              0.7777777777777778,
              "#fb9f3a"
             ],
             [
              0.8888888888888888,
              "#fdca26"
             ],
             [
              1,
              "#f0f921"
             ]
            ],
            "type": "histogram2d"
           }
          ],
          "histogram2dcontour": [
           {
            "colorbar": {
             "outlinewidth": 0,
             "ticks": ""
            },
            "colorscale": [
             [
              0,
              "#0d0887"
             ],
             [
              0.1111111111111111,
              "#46039f"
             ],
             [
              0.2222222222222222,
              "#7201a8"
             ],
             [
              0.3333333333333333,
              "#9c179e"
             ],
             [
              0.4444444444444444,
              "#bd3786"
             ],
             [
              0.5555555555555556,
              "#d8576b"
             ],
             [
              0.6666666666666666,
              "#ed7953"
             ],
             [
              0.7777777777777778,
              "#fb9f3a"
             ],
             [
              0.8888888888888888,
              "#fdca26"
             ],
             [
              1,
              "#f0f921"
             ]
            ],
            "type": "histogram2dcontour"
           }
          ],
          "mesh3d": [
           {
            "colorbar": {
             "outlinewidth": 0,
             "ticks": ""
            },
            "type": "mesh3d"
           }
          ],
          "parcoords": [
           {
            "line": {
             "colorbar": {
              "outlinewidth": 0,
              "ticks": ""
             }
            },
            "type": "parcoords"
           }
          ],
          "pie": [
           {
            "automargin": true,
            "type": "pie"
           }
          ],
          "scatter": [
           {
            "fillpattern": {
             "fillmode": "overlay",
             "size": 10,
             "solidity": 0.2
            },
            "type": "scatter"
           }
          ],
          "scatter3d": [
           {
            "line": {
             "colorbar": {
              "outlinewidth": 0,
              "ticks": ""
             }
            },
            "marker": {
             "colorbar": {
              "outlinewidth": 0,
              "ticks": ""
             }
            },
            "type": "scatter3d"
           }
          ],
          "scattercarpet": [
           {
            "marker": {
             "colorbar": {
              "outlinewidth": 0,
              "ticks": ""
             }
            },
            "type": "scattercarpet"
           }
          ],
          "scattergeo": [
           {
            "marker": {
             "colorbar": {
              "outlinewidth": 0,
              "ticks": ""
             }
            },
            "type": "scattergeo"
           }
          ],
          "scattergl": [
           {
            "marker": {
             "colorbar": {
              "outlinewidth": 0,
              "ticks": ""
             }
            },
            "type": "scattergl"
           }
          ],
          "scattermapbox": [
           {
            "marker": {
             "colorbar": {
              "outlinewidth": 0,
              "ticks": ""
             }
            },
            "type": "scattermapbox"
           }
          ],
          "scatterpolar": [
           {
            "marker": {
             "colorbar": {
              "outlinewidth": 0,
              "ticks": ""
             }
            },
            "type": "scatterpolar"
           }
          ],
          "scatterpolargl": [
           {
            "marker": {
             "colorbar": {
              "outlinewidth": 0,
              "ticks": ""
             }
            },
            "type": "scatterpolargl"
           }
          ],
          "scatterternary": [
           {
            "marker": {
             "colorbar": {
              "outlinewidth": 0,
              "ticks": ""
             }
            },
            "type": "scatterternary"
           }
          ],
          "surface": [
           {
            "colorbar": {
             "outlinewidth": 0,
             "ticks": ""
            },
            "colorscale": [
             [
              0,
              "#0d0887"
             ],
             [
              0.1111111111111111,
              "#46039f"
             ],
             [
              0.2222222222222222,
              "#7201a8"
             ],
             [
              0.3333333333333333,
              "#9c179e"
             ],
             [
              0.4444444444444444,
              "#bd3786"
             ],
             [
              0.5555555555555556,
              "#d8576b"
             ],
             [
              0.6666666666666666,
              "#ed7953"
             ],
             [
              0.7777777777777778,
              "#fb9f3a"
             ],
             [
              0.8888888888888888,
              "#fdca26"
             ],
             [
              1,
              "#f0f921"
             ]
            ],
            "type": "surface"
           }
          ],
          "table": [
           {
            "cells": {
             "fill": {
              "color": "#EBF0F8"
             },
             "line": {
              "color": "white"
             }
            },
            "header": {
             "fill": {
              "color": "#C8D4E3"
             },
             "line": {
              "color": "white"
             }
            },
            "type": "table"
           }
          ]
         },
         "layout": {
          "annotationdefaults": {
           "arrowcolor": "#2a3f5f",
           "arrowhead": 0,
           "arrowwidth": 1
          },
          "autotypenumbers": "strict",
          "coloraxis": {
           "colorbar": {
            "outlinewidth": 0,
            "ticks": ""
           }
          },
          "colorscale": {
           "diverging": [
            [
             0,
             "#8e0152"
            ],
            [
             0.1,
             "#c51b7d"
            ],
            [
             0.2,
             "#de77ae"
            ],
            [
             0.3,
             "#f1b6da"
            ],
            [
             0.4,
             "#fde0ef"
            ],
            [
             0.5,
             "#f7f7f7"
            ],
            [
             0.6,
             "#e6f5d0"
            ],
            [
             0.7,
             "#b8e186"
            ],
            [
             0.8,
             "#7fbc41"
            ],
            [
             0.9,
             "#4d9221"
            ],
            [
             1,
             "#276419"
            ]
           ],
           "sequential": [
            [
             0,
             "#0d0887"
            ],
            [
             0.1111111111111111,
             "#46039f"
            ],
            [
             0.2222222222222222,
             "#7201a8"
            ],
            [
             0.3333333333333333,
             "#9c179e"
            ],
            [
             0.4444444444444444,
             "#bd3786"
            ],
            [
             0.5555555555555556,
             "#d8576b"
            ],
            [
             0.6666666666666666,
             "#ed7953"
            ],
            [
             0.7777777777777778,
             "#fb9f3a"
            ],
            [
             0.8888888888888888,
             "#fdca26"
            ],
            [
             1,
             "#f0f921"
            ]
           ],
           "sequentialminus": [
            [
             0,
             "#0d0887"
            ],
            [
             0.1111111111111111,
             "#46039f"
            ],
            [
             0.2222222222222222,
             "#7201a8"
            ],
            [
             0.3333333333333333,
             "#9c179e"
            ],
            [
             0.4444444444444444,
             "#bd3786"
            ],
            [
             0.5555555555555556,
             "#d8576b"
            ],
            [
             0.6666666666666666,
             "#ed7953"
            ],
            [
             0.7777777777777778,
             "#fb9f3a"
            ],
            [
             0.8888888888888888,
             "#fdca26"
            ],
            [
             1,
             "#f0f921"
            ]
           ]
          },
          "colorway": [
           "#636efa",
           "#EF553B",
           "#00cc96",
           "#ab63fa",
           "#FFA15A",
           "#19d3f3",
           "#FF6692",
           "#B6E880",
           "#FF97FF",
           "#FECB52"
          ],
          "font": {
           "color": "#2a3f5f"
          },
          "geo": {
           "bgcolor": "white",
           "lakecolor": "white",
           "landcolor": "#E5ECF6",
           "showlakes": true,
           "showland": true,
           "subunitcolor": "white"
          },
          "hoverlabel": {
           "align": "left"
          },
          "hovermode": "closest",
          "mapbox": {
           "style": "light"
          },
          "paper_bgcolor": "white",
          "plot_bgcolor": "#E5ECF6",
          "polar": {
           "angularaxis": {
            "gridcolor": "white",
            "linecolor": "white",
            "ticks": ""
           },
           "bgcolor": "#E5ECF6",
           "radialaxis": {
            "gridcolor": "white",
            "linecolor": "white",
            "ticks": ""
           }
          },
          "scene": {
           "xaxis": {
            "backgroundcolor": "#E5ECF6",
            "gridcolor": "white",
            "gridwidth": 2,
            "linecolor": "white",
            "showbackground": true,
            "ticks": "",
            "zerolinecolor": "white"
           },
           "yaxis": {
            "backgroundcolor": "#E5ECF6",
            "gridcolor": "white",
            "gridwidth": 2,
            "linecolor": "white",
            "showbackground": true,
            "ticks": "",
            "zerolinecolor": "white"
           },
           "zaxis": {
            "backgroundcolor": "#E5ECF6",
            "gridcolor": "white",
            "gridwidth": 2,
            "linecolor": "white",
            "showbackground": true,
            "ticks": "",
            "zerolinecolor": "white"
           }
          },
          "shapedefaults": {
           "line": {
            "color": "#2a3f5f"
           }
          },
          "ternary": {
           "aaxis": {
            "gridcolor": "white",
            "linecolor": "white",
            "ticks": ""
           },
           "baxis": {
            "gridcolor": "white",
            "linecolor": "white",
            "ticks": ""
           },
           "bgcolor": "#E5ECF6",
           "caxis": {
            "gridcolor": "white",
            "linecolor": "white",
            "ticks": ""
           }
          },
          "title": {
           "x": 0.05
          },
          "xaxis": {
           "automargin": true,
           "gridcolor": "white",
           "linecolor": "white",
           "ticks": "",
           "title": {
            "standoff": 15
           },
           "zerolinecolor": "white",
           "zerolinewidth": 2
          },
          "yaxis": {
           "automargin": true,
           "gridcolor": "white",
           "linecolor": "white",
           "ticks": "",
           "title": {
            "standoff": 15
           },
           "zerolinecolor": "white",
           "zerolinewidth": 2
          }
         }
        },
        "title": {
         "text": "[Rotten Tomatoes] Percentage of NO, TE and LE"
        },
        "xaxis": {
         "ticktext": [
          " FN     |     FP    |     FN     |    FP </br></br> Ann1         |          Ann2</br>approach1",
          " FN     |     FP    |     FN     |    FP </br></br> Ann1         |          Ann2</br>approach2",
          " FN     |     FP    |     FN     |    FP </br></br> Ann1         |          Ann2</br>approach3",
          " FN     |     FP    |     FN     |    FP </br></br> Ann1         |          Ann2</br>approach4",
          " FN     |     FP    |     FN     |    FP </br></br> Ann1         |          Ann2</br>approach5",
          " FN     |     FP    |     FN     |    FP </br></br> Ann1         |          Ann2</br>random"
         ],
         "tickvals": [
          0,
          1,
          2,
          3,
          4,
          5
         ]
        },
        "yaxis": {
         "nticks": 2,
         "range": [
          0,
          1
         ],
         "tickformat": ".0%"
        }
       }
      },
      "text/html": [
       "<div>                            <div id=\"4fba42c2-8769-4590-ad81-2b7f8498c1d0\" class=\"plotly-graph-div\" style=\"height:525px; width:100%;\"></div>            <script type=\"text/javascript\">                require([\"plotly\"], function(Plotly) {                    window.PLOTLYENV=window.PLOTLYENV || {};                                    if (document.getElementById(\"4fba42c2-8769-4590-ad81-2b7f8498c1d0\")) {                    Plotly.newPlot(                        \"4fba42c2-8769-4590-ad81-2b7f8498c1d0\",                        [{\"marker\":{\"color\":\"#F58518\"},\"name\":\"Annotator1 (FN)\",\"offsetgroup\":\"0\",\"showlegend\":false,\"text\":[\"NO 100%\",\"NO 0%\",\"NO 0%\",\"NO 0%\",\"NO 0%\",\"NO 36%\"],\"x\":[\" FN     |     FP    |     FN     |    FP \\u003c\\u002fbr\\u003e\\u003c\\u002fbr\\u003e Ann1         |          Ann2\\u003c\\u002fbr\\u003eapproach1\",\" FN     |     FP    |     FN     |    FP \\u003c\\u002fbr\\u003e\\u003c\\u002fbr\\u003e Ann1         |          Ann2\\u003c\\u002fbr\\u003eapproach2\",\" FN     |     FP    |     FN     |    FP \\u003c\\u002fbr\\u003e\\u003c\\u002fbr\\u003e Ann1         |          Ann2\\u003c\\u002fbr\\u003eapproach3\",\" FN     |     FP    |     FN     |    FP \\u003c\\u002fbr\\u003e\\u003c\\u002fbr\\u003e Ann1         |          Ann2\\u003c\\u002fbr\\u003eapproach4\",\" FN     |     FP    |     FN     |    FP \\u003c\\u002fbr\\u003e\\u003c\\u002fbr\\u003e Ann1         |          Ann2\\u003c\\u002fbr\\u003eapproach5\",\" FN     |     FP    |     FN     |    FP \\u003c\\u002fbr\\u003e\\u003c\\u002fbr\\u003e Ann1         |          Ann2\\u003c\\u002fbr\\u003erandom\"],\"y\":[1.0,0.0,0.0,0.0,0.0,0.35714285714285715],\"type\":\"bar\",\"textposition\":\"inside\"},{\"marker\":{\"color\":\"#4C78A8\"},\"name\":\"Annotator1 (FP)\",\"offsetgroup\":\"1\",\"showlegend\":false,\"text\":[\"NO 100%\",\"NO 0%\",\"NO 0%\",\"NO 0%\",\"NO 0%\",\"NO 24%\"],\"x\":[\" FN     |     FP    |     FN     |    FP \\u003c\\u002fbr\\u003e\\u003c\\u002fbr\\u003e Ann1         |          Ann2\\u003c\\u002fbr\\u003eapproach1\",\" FN     |     FP    |     FN     |    FP \\u003c\\u002fbr\\u003e\\u003c\\u002fbr\\u003e Ann1         |          Ann2\\u003c\\u002fbr\\u003eapproach2\",\" FN     |     FP    |     FN     |    FP \\u003c\\u002fbr\\u003e\\u003c\\u002fbr\\u003e Ann1         |          Ann2\\u003c\\u002fbr\\u003eapproach3\",\" FN     |     FP    |     FN     |    FP \\u003c\\u002fbr\\u003e\\u003c\\u002fbr\\u003e Ann1         |          Ann2\\u003c\\u002fbr\\u003eapproach4\",\" FN     |     FP    |     FN     |    FP \\u003c\\u002fbr\\u003e\\u003c\\u002fbr\\u003e Ann1         |          Ann2\\u003c\\u002fbr\\u003eapproach5\",\" FN     |     FP    |     FN     |    FP \\u003c\\u002fbr\\u003e\\u003c\\u002fbr\\u003e Ann1         |          Ann2\\u003c\\u002fbr\\u003erandom\"],\"y\":[1.0,0.0,0.0,0.0,0.0,0.24390243902439024],\"type\":\"bar\",\"textposition\":\"inside\"},{\"marker\":{\"color\":\"rgb(253,180,98)\"},\"name\":\"Annotator2 (FN)\",\"offsetgroup\":\"2\",\"showlegend\":false,\"text\":[\"NO 100%\",\"NO 100%\",\"NO 29%\",\"NO 23%\",\"NO 0%\",\"NO 37%\"],\"x\":[\" FN     |     FP    |     FN     |    FP \\u003c\\u002fbr\\u003e\\u003c\\u002fbr\\u003e Ann1         |          Ann2\\u003c\\u002fbr\\u003eapproach1\",\" FN     |     FP    |     FN     |    FP \\u003c\\u002fbr\\u003e\\u003c\\u002fbr\\u003e Ann1         |          Ann2\\u003c\\u002fbr\\u003eapproach2\",\" FN     |     FP    |     FN     |    FP \\u003c\\u002fbr\\u003e\\u003c\\u002fbr\\u003e Ann1         |          Ann2\\u003c\\u002fbr\\u003eapproach3\",\" FN     |     FP    |     FN     |    FP \\u003c\\u002fbr\\u003e\\u003c\\u002fbr\\u003e Ann1         |          Ann2\\u003c\\u002fbr\\u003eapproach4\",\" FN     |     FP    |     FN     |    FP \\u003c\\u002fbr\\u003e\\u003c\\u002fbr\\u003e Ann1         |          Ann2\\u003c\\u002fbr\\u003eapproach5\",\" FN     |     FP    |     FN     |    FP \\u003c\\u002fbr\\u003e\\u003c\\u002fbr\\u003e Ann1         |          Ann2\\u003c\\u002fbr\\u003erandom\"],\"y\":[1.0,1.0,0.2857142857142857,0.23076923076923078,0.0,0.37037037037037035],\"type\":\"bar\",\"textposition\":\"inside\"},{\"marker\":{\"color\":\"rgb(128,177,211)\"},\"name\":\"Annotator2 (FP)\",\"offsetgroup\":\"3\",\"showlegend\":false,\"text\":[\"NO 100%\",\"NO 0%\",\"NO 0%\",\"NO 0%\",\"NO 0%\",\"NO 27%\"],\"x\":[\" FN     |     FP    |     FN     |    FP \\u003c\\u002fbr\\u003e\\u003c\\u002fbr\\u003e Ann1         |          Ann2\\u003c\\u002fbr\\u003eapproach1\",\" FN     |     FP    |     FN     |    FP \\u003c\\u002fbr\\u003e\\u003c\\u002fbr\\u003e Ann1         |          Ann2\\u003c\\u002fbr\\u003eapproach2\",\" FN     |     FP    |     FN     |    FP \\u003c\\u002fbr\\u003e\\u003c\\u002fbr\\u003e Ann1         |          Ann2\\u003c\\u002fbr\\u003eapproach3\",\" FN     |     FP    |     FN     |    FP \\u003c\\u002fbr\\u003e\\u003c\\u002fbr\\u003e Ann1         |          Ann2\\u003c\\u002fbr\\u003eapproach4\",\" FN     |     FP    |     FN     |    FP \\u003c\\u002fbr\\u003e\\u003c\\u002fbr\\u003e Ann1         |          Ann2\\u003c\\u002fbr\\u003eapproach5\",\" FN     |     FP    |     FN     |    FP \\u003c\\u002fbr\\u003e\\u003c\\u002fbr\\u003e Ann1         |          Ann2\\u003c\\u002fbr\\u003erandom\"],\"y\":[1.0,0.0,0.0,0.0,0.0,0.2727272727272727],\"type\":\"bar\",\"textposition\":\"inside\"},{\"base\":[1.0,0.0,0.0,0.0,0.0,0.35714285714285715],\"marker\":{\"color\":\"#F58518\"},\"name\":\"Annotator1 (FN)\",\"offsetgroup\":\"0\",\"showlegend\":false,\"text\":[\"LE 0%\",\"LE 100%\",\"LE 6%\",\"LE 8%\",\"LE 9%\",\"LE 4%\"],\"x\":[\" FN     |     FP    |     FN     |    FP \\u003c\\u002fbr\\u003e\\u003c\\u002fbr\\u003e Ann1         |          Ann2\\u003c\\u002fbr\\u003eapproach1\",\" FN     |     FP    |     FN     |    FP \\u003c\\u002fbr\\u003e\\u003c\\u002fbr\\u003e Ann1         |          Ann2\\u003c\\u002fbr\\u003eapproach2\",\" FN     |     FP    |     FN     |    FP \\u003c\\u002fbr\\u003e\\u003c\\u002fbr\\u003e Ann1         |          Ann2\\u003c\\u002fbr\\u003eapproach3\",\" FN     |     FP    |     FN     |    FP \\u003c\\u002fbr\\u003e\\u003c\\u002fbr\\u003e Ann1         |          Ann2\\u003c\\u002fbr\\u003eapproach4\",\" FN     |     FP    |     FN     |    FP \\u003c\\u002fbr\\u003e\\u003c\\u002fbr\\u003e Ann1         |          Ann2\\u003c\\u002fbr\\u003eapproach5\",\" FN     |     FP    |     FN     |    FP \\u003c\\u002fbr\\u003e\\u003c\\u002fbr\\u003e Ann1         |          Ann2\\u003c\\u002fbr\\u003erandom\"],\"y\":[0.0,1.0,0.06153846153846154,0.07751937984496124,0.09302325581395349,0.03571428571428571],\"type\":\"bar\",\"textposition\":\"inside\"},{\"base\":[1.0,0.0,0.0,0.0,0.0,0.24390243902439024],\"marker\":{\"color\":\"#4C78A8\"},\"name\":\"Annotator1 (FP)\",\"offsetgroup\":\"1\",\"showlegend\":false,\"text\":[\"LE 0%\",\"LE 100%\",\"LE 28%\",\"LE 28%\",\"LE 33%\",\"LE 2%\"],\"x\":[\" FN     |     FP    |     FN     |    FP \\u003c\\u002fbr\\u003e\\u003c\\u002fbr\\u003e Ann1         |          Ann2\\u003c\\u002fbr\\u003eapproach1\",\" FN     |     FP    |     FN     |    FP \\u003c\\u002fbr\\u003e\\u003c\\u002fbr\\u003e Ann1         |          Ann2\\u003c\\u002fbr\\u003eapproach2\",\" FN     |     FP    |     FN     |    FP \\u003c\\u002fbr\\u003e\\u003c\\u002fbr\\u003e Ann1         |          Ann2\\u003c\\u002fbr\\u003eapproach3\",\" FN     |     FP    |     FN     |    FP \\u003c\\u002fbr\\u003e\\u003c\\u002fbr\\u003e Ann1         |          Ann2\\u003c\\u002fbr\\u003eapproach4\",\" FN     |     FP    |     FN     |    FP \\u003c\\u002fbr\\u003e\\u003c\\u002fbr\\u003e Ann1         |          Ann2\\u003c\\u002fbr\\u003eapproach5\",\" FN     |     FP    |     FN     |    FP \\u003c\\u002fbr\\u003e\\u003c\\u002fbr\\u003e Ann1         |          Ann2\\u003c\\u002fbr\\u003erandom\"],\"y\":[0.0,1.0,0.2835820895522388,0.27586206896551724,0.3333333333333333,0.024390243902439025],\"type\":\"bar\",\"textposition\":\"inside\"},{\"base\":[1.0,1.0,0.2857142857142857,0.23076923076923078,0.0,0.37037037037037035],\"marker\":{\"color\":\"rgb(253,180,98)\"},\"name\":\"Annotator2 (FN)\",\"offsetgroup\":\"2\",\"showlegend\":false,\"text\":[\"LE 0%\",\"LE 0%\",\"LE 33%\",\"LE 42%\",\"LE 58%\",\"LE 32%\"],\"x\":[\" FN     |     FP    |     FN     |    FP \\u003c\\u002fbr\\u003e\\u003c\\u002fbr\\u003e Ann1         |          Ann2\\u003c\\u002fbr\\u003eapproach1\",\" FN     |     FP    |     FN     |    FP \\u003c\\u002fbr\\u003e\\u003c\\u002fbr\\u003e Ann1         |          Ann2\\u003c\\u002fbr\\u003eapproach2\",\" FN     |     FP    |     FN     |    FP \\u003c\\u002fbr\\u003e\\u003c\\u002fbr\\u003e Ann1         |          Ann2\\u003c\\u002fbr\\u003eapproach3\",\" FN     |     FP    |     FN     |    FP \\u003c\\u002fbr\\u003e\\u003c\\u002fbr\\u003e Ann1         |          Ann2\\u003c\\u002fbr\\u003eapproach4\",\" FN     |     FP    |     FN     |    FP \\u003c\\u002fbr\\u003e\\u003c\\u002fbr\\u003e Ann1         |          Ann2\\u003c\\u002fbr\\u003eapproach5\",\" FN     |     FP    |     FN     |    FP \\u003c\\u002fbr\\u003e\\u003c\\u002fbr\\u003e Ann1         |          Ann2\\u003c\\u002fbr\\u003erandom\"],\"y\":[0.0,0.0,0.3333333333333333,0.4230769230769231,0.5789473684210527,0.32098765432098764],\"type\":\"bar\",\"textposition\":\"inside\"},{\"base\":[1.0,0.0,0.0,0.0,0.0,0.2727272727272727],\"marker\":{\"color\":\"rgb(128,177,211)\"},\"name\":\"Annotator2 (FP)\",\"offsetgroup\":\"3\",\"showlegend\":false,\"text\":[\"LE 0%\",\"LE 100%\",\"LE 62%\",\"LE 48%\",\"LE 68%\",\"LE 39%\"],\"x\":[\" FN     |     FP    |     FN     |    FP \\u003c\\u002fbr\\u003e\\u003c\\u002fbr\\u003e Ann1         |          Ann2\\u003c\\u002fbr\\u003eapproach1\",\" FN     |     FP    |     FN     |    FP \\u003c\\u002fbr\\u003e\\u003c\\u002fbr\\u003e Ann1         |          Ann2\\u003c\\u002fbr\\u003eapproach2\",\" FN     |     FP    |     FN     |    FP \\u003c\\u002fbr\\u003e\\u003c\\u002fbr\\u003e Ann1         |          Ann2\\u003c\\u002fbr\\u003eapproach3\",\" FN     |     FP    |     FN     |    FP \\u003c\\u002fbr\\u003e\\u003c\\u002fbr\\u003e Ann1         |          Ann2\\u003c\\u002fbr\\u003eapproach4\",\" FN     |     FP    |     FN     |    FP \\u003c\\u002fbr\\u003e\\u003c\\u002fbr\\u003e Ann1         |          Ann2\\u003c\\u002fbr\\u003eapproach5\",\" FN     |     FP    |     FN     |    FP \\u003c\\u002fbr\\u003e\\u003c\\u002fbr\\u003e Ann1         |          Ann2\\u003c\\u002fbr\\u003erandom\"],\"y\":[0.0,1.0,0.6166666666666667,0.4782608695652174,0.6825396825396826,0.3939393939393939],\"type\":\"bar\",\"textposition\":\"inside\"},{\"base\":[1.0,1.0,0.06153846153846154,0.07751937984496124,0.09302325581395349,0.39285714285714285],\"marker\":{\"color\":\"#F58518\"},\"name\":\"Annotator1 (FN)\",\"offsetgroup\":\"0\",\"text\":[\"TE 0%\",\"TE 0%\",\"TE 94%\",\"TE 92%\",\"TE 91%\",\"TE 61%\"],\"x\":[\" FN     |     FP    |     FN     |    FP \\u003c\\u002fbr\\u003e\\u003c\\u002fbr\\u003e Ann1         |          Ann2\\u003c\\u002fbr\\u003eapproach1\",\" FN     |     FP    |     FN     |    FP \\u003c\\u002fbr\\u003e\\u003c\\u002fbr\\u003e Ann1         |          Ann2\\u003c\\u002fbr\\u003eapproach2\",\" FN     |     FP    |     FN     |    FP \\u003c\\u002fbr\\u003e\\u003c\\u002fbr\\u003e Ann1         |          Ann2\\u003c\\u002fbr\\u003eapproach3\",\" FN     |     FP    |     FN     |    FP \\u003c\\u002fbr\\u003e\\u003c\\u002fbr\\u003e Ann1         |          Ann2\\u003c\\u002fbr\\u003eapproach4\",\" FN     |     FP    |     FN     |    FP \\u003c\\u002fbr\\u003e\\u003c\\u002fbr\\u003e Ann1         |          Ann2\\u003c\\u002fbr\\u003eapproach5\",\" FN     |     FP    |     FN     |    FP \\u003c\\u002fbr\\u003e\\u003c\\u002fbr\\u003e Ann1         |          Ann2\\u003c\\u002fbr\\u003erandom\"],\"y\":[0.0,0.0,0.9384615384615385,0.9224806201550387,0.9069767441860465,0.6071428571428571],\"type\":\"bar\",\"textposition\":\"inside\"},{\"base\":[1.0,1.0,0.2835820895522388,0.27586206896551724,0.3333333333333333,0.2682926829268293],\"marker\":{\"color\":\"#4C78A8\"},\"name\":\"Annotator1 (FP)\",\"offsetgroup\":\"1\",\"text\":[\"TE 0%\",\"TE 0%\",\"TE 72%\",\"TE 72%\",\"TE 67%\",\"TE 73%\"],\"x\":[\" FN     |     FP    |     FN     |    FP \\u003c\\u002fbr\\u003e\\u003c\\u002fbr\\u003e Ann1         |          Ann2\\u003c\\u002fbr\\u003eapproach1\",\" FN     |     FP    |     FN     |    FP \\u003c\\u002fbr\\u003e\\u003c\\u002fbr\\u003e Ann1         |          Ann2\\u003c\\u002fbr\\u003eapproach2\",\" FN     |     FP    |     FN     |    FP \\u003c\\u002fbr\\u003e\\u003c\\u002fbr\\u003e Ann1         |          Ann2\\u003c\\u002fbr\\u003eapproach3\",\" FN     |     FP    |     FN     |    FP \\u003c\\u002fbr\\u003e\\u003c\\u002fbr\\u003e Ann1         |          Ann2\\u003c\\u002fbr\\u003eapproach4\",\" FN     |     FP    |     FN     |    FP \\u003c\\u002fbr\\u003e\\u003c\\u002fbr\\u003e Ann1         |          Ann2\\u003c\\u002fbr\\u003eapproach5\",\" FN     |     FP    |     FN     |    FP \\u003c\\u002fbr\\u003e\\u003c\\u002fbr\\u003e Ann1         |          Ann2\\u003c\\u002fbr\\u003erandom\"],\"y\":[0.0,0.0,0.7164179104477612,0.7241379310344828,0.6666666666666666,0.7317073170731707],\"type\":\"bar\",\"textposition\":\"inside\"},{\"base\":[1.0,1.0,0.6190476190476191,0.6538461538461539,0.5789473684210527,0.691358024691358],\"marker\":{\"color\":\"rgb(253,180,98)\"},\"name\":\"Annotator2 (FN)\",\"offsetgroup\":\"2\",\"text\":[\"TE 0%\",\"TE 0%\",\"TE 38%\",\"TE 35%\",\"TE 42%\",\"TE 31%\"],\"x\":[\" FN     |     FP    |     FN     |    FP \\u003c\\u002fbr\\u003e\\u003c\\u002fbr\\u003e Ann1         |          Ann2\\u003c\\u002fbr\\u003eapproach1\",\" FN     |     FP    |     FN     |    FP \\u003c\\u002fbr\\u003e\\u003c\\u002fbr\\u003e Ann1         |          Ann2\\u003c\\u002fbr\\u003eapproach2\",\" FN     |     FP    |     FN     |    FP \\u003c\\u002fbr\\u003e\\u003c\\u002fbr\\u003e Ann1         |          Ann2\\u003c\\u002fbr\\u003eapproach3\",\" FN     |     FP    |     FN     |    FP \\u003c\\u002fbr\\u003e\\u003c\\u002fbr\\u003e Ann1         |          Ann2\\u003c\\u002fbr\\u003eapproach4\",\" FN     |     FP    |     FN     |    FP \\u003c\\u002fbr\\u003e\\u003c\\u002fbr\\u003e Ann1         |          Ann2\\u003c\\u002fbr\\u003eapproach5\",\" FN     |     FP    |     FN     |    FP \\u003c\\u002fbr\\u003e\\u003c\\u002fbr\\u003e Ann1         |          Ann2\\u003c\\u002fbr\\u003erandom\"],\"y\":[0.0,0.0,0.38095238095238093,0.34615384615384615,0.42105263157894735,0.30864197530864196],\"type\":\"bar\",\"textposition\":\"inside\"},{\"base\":[1.0,1.0,0.6166666666666667,0.4782608695652174,0.6825396825396826,0.6666666666666666],\"marker\":{\"color\":\"rgb(128,177,211)\"},\"name\":\"Annotator2 (FP)\",\"offsetgroup\":\"3\",\"text\":[\"TE 0%\",\"TE 0%\",\"TE 38%\",\"TE 52%\",\"TE 32%\",\"TE 33%\"],\"x\":[\" FN     |     FP    |     FN     |    FP \\u003c\\u002fbr\\u003e\\u003c\\u002fbr\\u003e Ann1         |          Ann2\\u003c\\u002fbr\\u003eapproach1\",\" FN     |     FP    |     FN     |    FP \\u003c\\u002fbr\\u003e\\u003c\\u002fbr\\u003e Ann1         |          Ann2\\u003c\\u002fbr\\u003eapproach2\",\" FN     |     FP    |     FN     |    FP \\u003c\\u002fbr\\u003e\\u003c\\u002fbr\\u003e Ann1         |          Ann2\\u003c\\u002fbr\\u003eapproach3\",\" FN     |     FP    |     FN     |    FP \\u003c\\u002fbr\\u003e\\u003c\\u002fbr\\u003e Ann1         |          Ann2\\u003c\\u002fbr\\u003eapproach4\",\" FN     |     FP    |     FN     |    FP \\u003c\\u002fbr\\u003e\\u003c\\u002fbr\\u003e Ann1         |          Ann2\\u003c\\u002fbr\\u003eapproach5\",\" FN     |     FP    |     FN     |    FP \\u003c\\u002fbr\\u003e\\u003c\\u002fbr\\u003e Ann1         |          Ann2\\u003c\\u002fbr\\u003erandom\"],\"y\":[0.0,0.0,0.38333333333333336,0.5217391304347826,0.31746031746031744,0.3333333333333333],\"type\":\"bar\",\"textposition\":\"inside\"}],                        {\"template\":{\"data\":{\"histogram2dcontour\":[{\"type\":\"histogram2dcontour\",\"colorbar\":{\"outlinewidth\":0,\"ticks\":\"\"},\"colorscale\":[[0.0,\"#0d0887\"],[0.1111111111111111,\"#46039f\"],[0.2222222222222222,\"#7201a8\"],[0.3333333333333333,\"#9c179e\"],[0.4444444444444444,\"#bd3786\"],[0.5555555555555556,\"#d8576b\"],[0.6666666666666666,\"#ed7953\"],[0.7777777777777778,\"#fb9f3a\"],[0.8888888888888888,\"#fdca26\"],[1.0,\"#f0f921\"]]}],\"choropleth\":[{\"type\":\"choropleth\",\"colorbar\":{\"outlinewidth\":0,\"ticks\":\"\"}}],\"histogram2d\":[{\"type\":\"histogram2d\",\"colorbar\":{\"outlinewidth\":0,\"ticks\":\"\"},\"colorscale\":[[0.0,\"#0d0887\"],[0.1111111111111111,\"#46039f\"],[0.2222222222222222,\"#7201a8\"],[0.3333333333333333,\"#9c179e\"],[0.4444444444444444,\"#bd3786\"],[0.5555555555555556,\"#d8576b\"],[0.6666666666666666,\"#ed7953\"],[0.7777777777777778,\"#fb9f3a\"],[0.8888888888888888,\"#fdca26\"],[1.0,\"#f0f921\"]]}],\"heatmap\":[{\"type\":\"heatmap\",\"colorbar\":{\"outlinewidth\":0,\"ticks\":\"\"},\"colorscale\":[[0.0,\"#0d0887\"],[0.1111111111111111,\"#46039f\"],[0.2222222222222222,\"#7201a8\"],[0.3333333333333333,\"#9c179e\"],[0.4444444444444444,\"#bd3786\"],[0.5555555555555556,\"#d8576b\"],[0.6666666666666666,\"#ed7953\"],[0.7777777777777778,\"#fb9f3a\"],[0.8888888888888888,\"#fdca26\"],[1.0,\"#f0f921\"]]}],\"heatmapgl\":[{\"type\":\"heatmapgl\",\"colorbar\":{\"outlinewidth\":0,\"ticks\":\"\"},\"colorscale\":[[0.0,\"#0d0887\"],[0.1111111111111111,\"#46039f\"],[0.2222222222222222,\"#7201a8\"],[0.3333333333333333,\"#9c179e\"],[0.4444444444444444,\"#bd3786\"],[0.5555555555555556,\"#d8576b\"],[0.6666666666666666,\"#ed7953\"],[0.7777777777777778,\"#fb9f3a\"],[0.8888888888888888,\"#fdca26\"],[1.0,\"#f0f921\"]]}],\"contourcarpet\":[{\"type\":\"contourcarpet\",\"colorbar\":{\"outlinewidth\":0,\"ticks\":\"\"}}],\"contour\":[{\"type\":\"contour\",\"colorbar\":{\"outlinewidth\":0,\"ticks\":\"\"},\"colorscale\":[[0.0,\"#0d0887\"],[0.1111111111111111,\"#46039f\"],[0.2222222222222222,\"#7201a8\"],[0.3333333333333333,\"#9c179e\"],[0.4444444444444444,\"#bd3786\"],[0.5555555555555556,\"#d8576b\"],[0.6666666666666666,\"#ed7953\"],[0.7777777777777778,\"#fb9f3a\"],[0.8888888888888888,\"#fdca26\"],[1.0,\"#f0f921\"]]}],\"surface\":[{\"type\":\"surface\",\"colorbar\":{\"outlinewidth\":0,\"ticks\":\"\"},\"colorscale\":[[0.0,\"#0d0887\"],[0.1111111111111111,\"#46039f\"],[0.2222222222222222,\"#7201a8\"],[0.3333333333333333,\"#9c179e\"],[0.4444444444444444,\"#bd3786\"],[0.5555555555555556,\"#d8576b\"],[0.6666666666666666,\"#ed7953\"],[0.7777777777777778,\"#fb9f3a\"],[0.8888888888888888,\"#fdca26\"],[1.0,\"#f0f921\"]]}],\"mesh3d\":[{\"type\":\"mesh3d\",\"colorbar\":{\"outlinewidth\":0,\"ticks\":\"\"}}],\"scatter\":[{\"fillpattern\":{\"fillmode\":\"overlay\",\"size\":10,\"solidity\":0.2},\"type\":\"scatter\"}],\"parcoords\":[{\"type\":\"parcoords\",\"line\":{\"colorbar\":{\"outlinewidth\":0,\"ticks\":\"\"}}}],\"scatterpolargl\":[{\"type\":\"scatterpolargl\",\"marker\":{\"colorbar\":{\"outlinewidth\":0,\"ticks\":\"\"}}}],\"bar\":[{\"error_x\":{\"color\":\"#2a3f5f\"},\"error_y\":{\"color\":\"#2a3f5f\"},\"marker\":{\"line\":{\"color\":\"#E5ECF6\",\"width\":0.5},\"pattern\":{\"fillmode\":\"overlay\",\"size\":10,\"solidity\":0.2}},\"type\":\"bar\"}],\"scattergeo\":[{\"type\":\"scattergeo\",\"marker\":{\"colorbar\":{\"outlinewidth\":0,\"ticks\":\"\"}}}],\"scatterpolar\":[{\"type\":\"scatterpolar\",\"marker\":{\"colorbar\":{\"outlinewidth\":0,\"ticks\":\"\"}}}],\"histogram\":[{\"marker\":{\"pattern\":{\"fillmode\":\"overlay\",\"size\":10,\"solidity\":0.2}},\"type\":\"histogram\"}],\"scattergl\":[{\"type\":\"scattergl\",\"marker\":{\"colorbar\":{\"outlinewidth\":0,\"ticks\":\"\"}}}],\"scatter3d\":[{\"type\":\"scatter3d\",\"line\":{\"colorbar\":{\"outlinewidth\":0,\"ticks\":\"\"}},\"marker\":{\"colorbar\":{\"outlinewidth\":0,\"ticks\":\"\"}}}],\"scattermapbox\":[{\"type\":\"scattermapbox\",\"marker\":{\"colorbar\":{\"outlinewidth\":0,\"ticks\":\"\"}}}],\"scatterternary\":[{\"type\":\"scatterternary\",\"marker\":{\"colorbar\":{\"outlinewidth\":0,\"ticks\":\"\"}}}],\"scattercarpet\":[{\"type\":\"scattercarpet\",\"marker\":{\"colorbar\":{\"outlinewidth\":0,\"ticks\":\"\"}}}],\"carpet\":[{\"aaxis\":{\"endlinecolor\":\"#2a3f5f\",\"gridcolor\":\"white\",\"linecolor\":\"white\",\"minorgridcolor\":\"white\",\"startlinecolor\":\"#2a3f5f\"},\"baxis\":{\"endlinecolor\":\"#2a3f5f\",\"gridcolor\":\"white\",\"linecolor\":\"white\",\"minorgridcolor\":\"white\",\"startlinecolor\":\"#2a3f5f\"},\"type\":\"carpet\"}],\"table\":[{\"cells\":{\"fill\":{\"color\":\"#EBF0F8\"},\"line\":{\"color\":\"white\"}},\"header\":{\"fill\":{\"color\":\"#C8D4E3\"},\"line\":{\"color\":\"white\"}},\"type\":\"table\"}],\"barpolar\":[{\"marker\":{\"line\":{\"color\":\"#E5ECF6\",\"width\":0.5},\"pattern\":{\"fillmode\":\"overlay\",\"size\":10,\"solidity\":0.2}},\"type\":\"barpolar\"}],\"pie\":[{\"automargin\":true,\"type\":\"pie\"}]},\"layout\":{\"autotypenumbers\":\"strict\",\"colorway\":[\"#636efa\",\"#EF553B\",\"#00cc96\",\"#ab63fa\",\"#FFA15A\",\"#19d3f3\",\"#FF6692\",\"#B6E880\",\"#FF97FF\",\"#FECB52\"],\"font\":{\"color\":\"#2a3f5f\"},\"hovermode\":\"closest\",\"hoverlabel\":{\"align\":\"left\"},\"paper_bgcolor\":\"white\",\"plot_bgcolor\":\"#E5ECF6\",\"polar\":{\"bgcolor\":\"#E5ECF6\",\"angularaxis\":{\"gridcolor\":\"white\",\"linecolor\":\"white\",\"ticks\":\"\"},\"radialaxis\":{\"gridcolor\":\"white\",\"linecolor\":\"white\",\"ticks\":\"\"}},\"ternary\":{\"bgcolor\":\"#E5ECF6\",\"aaxis\":{\"gridcolor\":\"white\",\"linecolor\":\"white\",\"ticks\":\"\"},\"baxis\":{\"gridcolor\":\"white\",\"linecolor\":\"white\",\"ticks\":\"\"},\"caxis\":{\"gridcolor\":\"white\",\"linecolor\":\"white\",\"ticks\":\"\"}},\"coloraxis\":{\"colorbar\":{\"outlinewidth\":0,\"ticks\":\"\"}},\"colorscale\":{\"sequential\":[[0.0,\"#0d0887\"],[0.1111111111111111,\"#46039f\"],[0.2222222222222222,\"#7201a8\"],[0.3333333333333333,\"#9c179e\"],[0.4444444444444444,\"#bd3786\"],[0.5555555555555556,\"#d8576b\"],[0.6666666666666666,\"#ed7953\"],[0.7777777777777778,\"#fb9f3a\"],[0.8888888888888888,\"#fdca26\"],[1.0,\"#f0f921\"]],\"sequentialminus\":[[0.0,\"#0d0887\"],[0.1111111111111111,\"#46039f\"],[0.2222222222222222,\"#7201a8\"],[0.3333333333333333,\"#9c179e\"],[0.4444444444444444,\"#bd3786\"],[0.5555555555555556,\"#d8576b\"],[0.6666666666666666,\"#ed7953\"],[0.7777777777777778,\"#fb9f3a\"],[0.8888888888888888,\"#fdca26\"],[1.0,\"#f0f921\"]],\"diverging\":[[0,\"#8e0152\"],[0.1,\"#c51b7d\"],[0.2,\"#de77ae\"],[0.3,\"#f1b6da\"],[0.4,\"#fde0ef\"],[0.5,\"#f7f7f7\"],[0.6,\"#e6f5d0\"],[0.7,\"#b8e186\"],[0.8,\"#7fbc41\"],[0.9,\"#4d9221\"],[1,\"#276419\"]]},\"xaxis\":{\"gridcolor\":\"white\",\"linecolor\":\"white\",\"ticks\":\"\",\"title\":{\"standoff\":15},\"zerolinecolor\":\"white\",\"automargin\":true,\"zerolinewidth\":2},\"yaxis\":{\"gridcolor\":\"white\",\"linecolor\":\"white\",\"ticks\":\"\",\"title\":{\"standoff\":15},\"zerolinecolor\":\"white\",\"automargin\":true,\"zerolinewidth\":2},\"scene\":{\"xaxis\":{\"backgroundcolor\":\"#E5ECF6\",\"gridcolor\":\"white\",\"linecolor\":\"white\",\"showbackground\":true,\"ticks\":\"\",\"zerolinecolor\":\"white\",\"gridwidth\":2},\"yaxis\":{\"backgroundcolor\":\"#E5ECF6\",\"gridcolor\":\"white\",\"linecolor\":\"white\",\"showbackground\":true,\"ticks\":\"\",\"zerolinecolor\":\"white\",\"gridwidth\":2},\"zaxis\":{\"backgroundcolor\":\"#E5ECF6\",\"gridcolor\":\"white\",\"linecolor\":\"white\",\"showbackground\":true,\"ticks\":\"\",\"zerolinecolor\":\"white\",\"gridwidth\":2}},\"shapedefaults\":{\"line\":{\"color\":\"#2a3f5f\"}},\"annotationdefaults\":{\"arrowcolor\":\"#2a3f5f\",\"arrowhead\":0,\"arrowwidth\":1},\"geo\":{\"bgcolor\":\"white\",\"landcolor\":\"#E5ECF6\",\"subunitcolor\":\"white\",\"showland\":true,\"showlakes\":true,\"lakecolor\":\"white\"},\"title\":{\"x\":0.05},\"mapbox\":{\"style\":\"light\"}}},\"legend\":{\"yanchor\":\"bottom\",\"y\":1,\"xanchor\":\"right\",\"x\":1,\"orientation\":\"h\"},\"title\":{\"text\":\"[Rotten Tomatoes] Percentage of NO, TE and LE\"},\"barmode\":\"group\",\"xaxis\":{\"tickvals\":[0,1,2,3,4,5],\"ticktext\":[\" FN     |     FP    |     FN     |    FP \\u003c\\u002fbr\\u003e\\u003c\\u002fbr\\u003e Ann1         |          Ann2\\u003c\\u002fbr\\u003eapproach1\",\" FN     |     FP    |     FN     |    FP \\u003c\\u002fbr\\u003e\\u003c\\u002fbr\\u003e Ann1         |          Ann2\\u003c\\u002fbr\\u003eapproach2\",\" FN     |     FP    |     FN     |    FP \\u003c\\u002fbr\\u003e\\u003c\\u002fbr\\u003e Ann1         |          Ann2\\u003c\\u002fbr\\u003eapproach3\",\" FN     |     FP    |     FN     |    FP \\u003c\\u002fbr\\u003e\\u003c\\u002fbr\\u003e Ann1         |          Ann2\\u003c\\u002fbr\\u003eapproach4\",\" FN     |     FP    |     FN     |    FP \\u003c\\u002fbr\\u003e\\u003c\\u002fbr\\u003e Ann1         |          Ann2\\u003c\\u002fbr\\u003eapproach5\",\" FN     |     FP    |     FN     |    FP \\u003c\\u002fbr\\u003e\\u003c\\u002fbr\\u003e Ann1         |          Ann2\\u003c\\u002fbr\\u003erandom\"]},\"yaxis\":{\"range\":[0,1],\"tickformat\":\".0%\",\"nticks\":2}},                        {\"responsive\": true}                    ).then(function(){\n",
       "                            \n",
       "var gd = document.getElementById('4fba42c2-8769-4590-ad81-2b7f8498c1d0');\n",
       "var x = new MutationObserver(function (mutations, observer) {{\n",
       "        var display = window.getComputedStyle(gd).display;\n",
       "        if (!display || display === 'none') {{\n",
       "            console.log([gd, 'removed!']);\n",
       "            Plotly.purge(gd);\n",
       "            observer.disconnect();\n",
       "        }}\n",
       "}});\n",
       "\n",
       "// Listen for the removal of the full notebook cells\n",
       "var notebookContainer = gd.closest('#notebook-container');\n",
       "if (notebookContainer) {{\n",
       "    x.observe(notebookContainer, {childList: true});\n",
       "}}\n",
       "\n",
       "// Listen for the clearing of the current output cell\n",
       "var outputEl = gd.closest('.output');\n",
       "if (outputEl) {{\n",
       "    x.observe(outputEl, {childList: true});\n",
       "}}\n",
       "\n",
       "                        })                };                });            </script>        </div>"
      ]
     },
     "metadata": {},
     "output_type": "display_data"
    }
   ],
   "source": [
    "approaches = df_ann1_summ[\"approach\"].map(lambda x: \" FN     |     FP    |     FN     |    FP </br></br> Ann1         |          Ann2</br>\" + x[:-5])\n",
    "general_title = f\"[{dataset}] Comparation of annotations (FP and FN)\"\n",
    "\n",
    "def trunc(text_iter, label):\n",
    "    return text_iter.map(lambda x: f\"{label} {x:.0f}%\")\n",
    "\n",
    "fig1 = go.Figure(data=[\n",
    "    go.Bar(name=\"Annotator1 (FN)\", x=approaches, y=df_ann1_summ[\"FN_NO\"]/df_ann1_summ[\"FN\"], text=trunc(df_ann1_summ[\"FN_NO\"]/df_ann1_summ[\"FN\"]*100, \"NO\"), marker_color=px.colors.qualitative.T10[1], offsetgroup=0, showlegend=False),\n",
    "    go.Bar(name=\"Annotator1 (FP)\", x=approaches, y=df_ann1_summ[\"FP_NO\"]/df_ann1_summ[\"FP\"], text=trunc(df_ann1_summ[\"FP_NO\"]/df_ann1_summ[\"FP\"]*100, \"NO\"), marker_color=px.colors.qualitative.T10[0], offsetgroup=1, showlegend=False),\n",
    "    go.Bar(name=\"Annotator2 (FN)\", x=approaches, y=df_ann2_summ[\"FN_NO\"]/df_ann2_summ[\"FN\"], text=trunc(df_ann2_summ[\"FN_NO\"]/df_ann2_summ[\"FN\"]*100, \"NO\"), marker_color=px.colors.qualitative.Set3[5], offsetgroup=2, showlegend=False),\n",
    "    go.Bar(name=\"Annotator2 (FP)\", x=approaches, y=df_ann2_summ[\"FP_NO\"]/df_ann2_summ[\"FP\"], text=trunc(df_ann2_summ[\"FP_NO\"]/df_ann2_summ[\"FP\"]*100, \"NO\"), marker_color=px.colors.qualitative.Set3[4], offsetgroup=3, showlegend=False),\n",
    "    go.Bar(name=\"Annotator1 (FN)\", x=approaches, y=df_ann1_summ[\"FN_LE\"]/df_ann1_summ[\"FN\"], text=trunc(df_ann1_summ[\"FN_LE\"]/df_ann1_summ[\"FN\"]*100, \"LE\"), base=df_ann1_summ[\"FN_NO\"]/df_ann1_summ[\"FN\"], marker_color=px.colors.qualitative.T10[1], offsetgroup=0, showlegend=False),\n",
    "    go.Bar(name=\"Annotator1 (FP)\", x=approaches, y=df_ann1_summ[\"FP_LE\"]/df_ann1_summ[\"FP\"], text=trunc(df_ann1_summ[\"FP_LE\"]/df_ann1_summ[\"FP\"]*100, \"LE\"), base=df_ann1_summ[\"FP_NO\"]/df_ann1_summ[\"FP\"], marker_color=px.colors.qualitative.T10[0], offsetgroup=1, showlegend=False),\n",
    "    go.Bar(name=\"Annotator2 (FN)\", x=approaches, y=df_ann2_summ[\"FN_LE\"]/df_ann2_summ[\"FN\"], text=trunc(df_ann2_summ[\"FN_LE\"]/df_ann2_summ[\"FN\"]*100, \"LE\"), base=df_ann2_summ[\"FN_NO\"]/df_ann2_summ[\"FN\"], marker_color=px.colors.qualitative.Set3[5], offsetgroup=2, showlegend=False),\n",
    "    go.Bar(name=\"Annotator2 (FP)\", x=approaches, y=df_ann2_summ[\"FP_LE\"]/df_ann2_summ[\"FP\"], text=trunc(df_ann2_summ[\"FP_LE\"]/df_ann2_summ[\"FP\"]*100, \"LE\"), base=df_ann2_summ[\"FP_NO\"]/df_ann2_summ[\"FP\"], marker_color=px.colors.qualitative.Set3[4], offsetgroup=3, showlegend=False),\n",
    "    go.Bar(name=\"Annotator1 (FN)\", x=approaches, y=df_ann1_summ[\"FN_TE\"]/df_ann1_summ[\"FN\"], text=trunc(df_ann1_summ[\"FN_TE\"]/df_ann1_summ[\"FN\"]*100, \"TE\"), base=df_ann1_summ[\"FN_LE\"]/df_ann1_summ[\"FN\"] + df_ann1_summ[\"FN_NO\"]/df_ann1_summ[\"FN\"], marker_color=px.colors.qualitative.T10[1], offsetgroup=0),\n",
    "    go.Bar(name=\"Annotator1 (FP)\", x=approaches, y=df_ann1_summ[\"FP_TE\"]/df_ann1_summ[\"FP\"], text=trunc(df_ann1_summ[\"FP_TE\"]/df_ann1_summ[\"FP\"]*100, \"TE\"), base=df_ann1_summ[\"FP_LE\"]/df_ann1_summ[\"FP\"] + df_ann1_summ[\"FP_NO\"]/df_ann1_summ[\"FP\"], marker_color=px.colors.qualitative.T10[0], offsetgroup=1),\n",
    "    go.Bar(name=\"Annotator2 (FN)\", x=approaches, y=df_ann2_summ[\"FN_TE\"]/df_ann2_summ[\"FN\"], text=trunc(df_ann2_summ[\"FN_TE\"]/df_ann2_summ[\"FN\"]*100, \"TE\"), base=df_ann2_summ[\"FN_LE\"]/df_ann2_summ[\"FN\"] + df_ann2_summ[\"FN_NO\"]/df_ann2_summ[\"FN\"], marker_color=px.colors.qualitative.Set3[5], offsetgroup=2),\n",
    "    go.Bar(name=\"Annotator2 (FP)\", x=approaches, y=df_ann2_summ[\"FP_TE\"]/df_ann2_summ[\"FP\"], text=trunc(df_ann2_summ[\"FP_TE\"]/df_ann2_summ[\"FP\"]*100, \"TE\"), base=df_ann2_summ[\"FP_LE\"]/df_ann2_summ[\"FP\"] + df_ann2_summ[\"FP_NO\"]/df_ann2_summ[\"FP\"] , marker_color=px.colors.qualitative.Set3[4], offsetgroup=3),\n",
    "])\n",
    "fig1.update_layout(title=f\"[{dataset}] Percentage of NO, TE and LE\", barmode=\"group\", legend=dict(\n",
    "    yanchor=\"bottom\",\n",
    "    y=1,\n",
    "    xanchor=\"right\",\n",
    "    x=1,\n",
    "    orientation=\"h\" \n",
    "),)\n",
    "fig1.update_traces(textposition='inside')\n",
    "fig1.update_xaxes(tickvals=[0,1,2,3,4,5],ticktext=approaches)\n",
    "fig1.update_yaxes(range=[0, 1], tickformat = '.0%', nticks=2)\n",
    "\n",
    "fig1.show()"
   ]
  },
  {
   "cell_type": "code",
   "execution_count": null,
   "metadata": {},
   "outputs": [],
   "source": []
  }
 ],
 "metadata": {
  "kernelspec": {
   "display_name": "Python 3",
   "language": "python",
   "name": "python3"
  },
  "language_info": {
   "codemirror_mode": {
    "name": "ipython",
    "version": 3
   },
   "file_extension": ".py",
   "mimetype": "text/x-python",
   "name": "python",
   "nbconvert_exporter": "python",
   "pygments_lexer": "ipython3",
   "version": "3.11.3"
  },
  "orig_nbformat": 4
 },
 "nbformat": 4,
 "nbformat_minor": 2
}
