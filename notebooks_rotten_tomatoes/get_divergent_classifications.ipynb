{
 "cells": [
  {
   "cell_type": "code",
   "execution_count": 2,
   "metadata": {},
   "outputs": [],
   "source": [
    "import pandas as pd"
   ]
  },
  {
   "cell_type": "code",
   "execution_count": 6,
   "metadata": {},
   "outputs": [],
   "source": [
    "# annotator = \"ann1\" # filipe\n",
    "annotator = \"ann2\" # adson\n",
    "for approach in [\"approach1.xlsx\", \"approach2.xlsx\", \"approach3.xlsx\", \"approach4.xlsx\", \"approach5.xlsx\", \"random.xlsx\"]:\n",
    "    dfs_ann1 = pd.read_excel(f\"test_cases_rotten_tomatoes_rotulated_NO/{approach}\", sheet_name=None)\n",
    "    dfs_ann2 = pd.read_excel(f\"test_cases_rotten_tomatoes_adson/{approach}\", sheet_name=None)\n",
    "    with pd.ExcelWriter(f\"divergent_classifications/{annotator}/{approach}\") as writer:\n",
    "        dfs_ann1[\"templates\"].to_excel(writer, sheet_name=\"templates\")\n",
    "        for t in list(dfs_ann1.keys())[1:]:\n",
    "            try:\n",
    "                discordance = dfs_ann1[t].classification != dfs_ann2[t][\"class\"]\n",
    "            except ValueError as ve:\n",
    "                print(approach, t)\n",
    "                print(\"ann1\")\n",
    "                display(dfs_ann1[t].classification)\n",
    "                print(\"ann2\")\n",
    "                display(dfs_ann2[t][\"class\"])\n",
    "                raise ve\n",
    "            # change the variable dfs_annN to save a divergent annotation\n",
    "            if annotator == \"ann1\":\n",
    "                df_divergent = dfs_ann1[t][discordance]\n",
    "            elif annotator == \"ann2\":\n",
    "                df_divergent = dfs_ann2[t][discordance]\n",
    "            \n",
    "            df_divergent.to_excel(writer, sheet_name=t)\n",
    "\n"
   ]
  },
  {
   "cell_type": "code",
   "execution_count": null,
   "metadata": {},
   "outputs": [],
   "source": []
  }
 ],
 "metadata": {
  "kernelspec": {
   "display_name": "checklist-tg",
   "language": "python",
   "name": "python3"
  },
  "language_info": {
   "codemirror_mode": {
    "name": "ipython",
    "version": 3
   },
   "file_extension": ".py",
   "mimetype": "text/x-python",
   "name": "python",
   "nbconvert_exporter": "python",
   "pygments_lexer": "ipython3",
   "version": "3.11.5"
  }
 },
 "nbformat": 4,
 "nbformat_minor": 2
}
