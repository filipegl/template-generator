{
 "cells": [
  {
   "cell_type": "code",
   "execution_count": 2,
   "metadata": {},
   "outputs": [],
   "source": [
    "import spacy\n",
    "# import spacy_transformers\n",
    "nlp = spacy.load(\"en_core_web_trf\")"
   ]
  },
  {
   "cell_type": "code",
   "execution_count": 3,
   "metadata": {},
   "outputs": [
    {
     "name": "stdout",
     "output_type": "stream",
     "text": [
      "manages VERB\n",
      "to PART\n",
      "accomplish VERB\n",
      "what PRON\n",
      "few ADJ\n",
      "sequels NOUN\n",
      "can AUX\n",
      "-- PUNCT\n",
      "it PRON\n",
      "equals VERB\n",
      "the DET\n",
      "original ADJ\n",
      "and CCONJ\n",
      "in ADP\n",
      "some DET\n",
      "ways NOUN\n",
      "even ADV\n",
      "betters VERB\n",
      "it PRON\n",
      ". PUNCT\n"
     ]
    }
   ],
   "source": [
    "# text=\"I can't say that this movie deserves a ten, because I would be lying. I adored this movie when I saw it, though! It carries the unique bond of a friendship between a teenager and a dolphin. Although it doesn't display the sweetness that Jesse and Willy had in Free Willy, it provides an exciting movie that the whole family will enjoy! If you love marine animals, or if u love just a perfect family film, this movie is suited for YOU! Flipper definitely shows us how adorable dolphins are, and they are playful and could easily be house pets if everyone had a big enough pool! I love whales and dolphins, so obviously this movie works for me. I do think that the producers should have chosen another shark instead of the hammerhead to enhance the antagonist part in the story. Perhaps a great white? FLIPPER IS MAGNIFICENT! So check it out!\"\n",
    "text = \"manages to accomplish what few sequels can -- it equals the original and in some ways even betters it .\"\n",
    "for token in nlp(text=text):\n",
    "    print(token.text, token.pos_)"
   ]
  },
  {
   "cell_type": "code",
   "execution_count": 4,
   "metadata": {},
   "outputs": [
    {
     "data": {
      "text/plain": [
       "hello, how are you?"
      ]
     },
     "execution_count": 4,
     "metadata": {},
     "output_type": "execute_result"
    }
   ],
   "source": []
  }
 ],
 "metadata": {
  "kernelspec": {
   "display_name": "checklist-templates",
   "language": "python",
   "name": "python3"
  },
  "language_info": {
   "codemirror_mode": {
    "name": "ipython",
    "version": 3
   },
   "file_extension": ".py",
   "mimetype": "text/x-python",
   "name": "python",
   "nbconvert_exporter": "python",
   "pygments_lexer": "ipython3",
   "version": "3.11.5"
  }
 },
 "nbformat": 4,
 "nbformat_minor": 2
}
